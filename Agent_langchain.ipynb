{
  "nbformat": 4,
  "nbformat_minor": 0,
  "metadata": {
    "colab": {
      "provenance": [],
      "authorship_tag": "ABX9TyNS4WhzRCn8FBcXpd9RxODc",
      "include_colab_link": true
    },
    "kernelspec": {
      "name": "python3",
      "display_name": "Python 3"
    },
    "language_info": {
      "name": "python"
    }
  },
  "cells": [
    {
      "cell_type": "markdown",
      "metadata": {
        "id": "view-in-github",
        "colab_type": "text"
      },
      "source": [
        "<a href=\"https://colab.research.google.com/github/ahmeda335/Agent_Langchain/blob/main/Agent_langchain.ipynb\" target=\"_parent\"><img src=\"https://colab.research.google.com/assets/colab-badge.svg\" alt=\"Open In Colab\"/></a>"
      ]
    },
    {
      "cell_type": "code",
      "execution_count": null,
      "metadata": {
        "colab": {
          "base_uri": "https://localhost:8080/"
        },
        "id": "QXQBNZ0Mhswy",
        "outputId": "68131cde-a1ce-4656-993e-5a5c3b3c7b46"
      },
      "outputs": [
        {
          "output_type": "stream",
          "name": "stdout",
          "text": [
            "\u001b[2K   \u001b[90m━━━━━━━━━━━━━━━━━━━━━━━━━━━━━━━━━━━━━━━━\u001b[0m \u001b[32m2.4/2.4 MB\u001b[0m \u001b[31m15.5 MB/s\u001b[0m eta \u001b[36m0:00:00\u001b[0m\n",
            "\u001b[2K   \u001b[90m━━━━━━━━━━━━━━━━━━━━━━━━━━━━━━━━━━━━━━━━\u001b[0m \u001b[32m1.0/1.0 MB\u001b[0m \u001b[31m19.9 MB/s\u001b[0m eta \u001b[36m0:00:00\u001b[0m\n",
            "\u001b[2K   \u001b[90m━━━━━━━━━━━━━━━━━━━━━━━━━━━━━━━━━━━━━━━━\u001b[0m \u001b[32m409.5/409.5 kB\u001b[0m \u001b[31m7.7 MB/s\u001b[0m eta \u001b[36m0:00:00\u001b[0m\n",
            "\u001b[2K   \u001b[90m━━━━━━━━━━━━━━━━━━━━━━━━━━━━━━━━━━━━━━━━\u001b[0m \u001b[32m3.1/3.1 MB\u001b[0m \u001b[31m26.2 MB/s\u001b[0m eta \u001b[36m0:00:00\u001b[0m\n",
            "\u001b[2K   \u001b[90m━━━━━━━━━━━━━━━━━━━━━━━━━━━━━━━━━━━━━━━━\u001b[0m \u001b[32m49.5/49.5 kB\u001b[0m \u001b[31m2.1 MB/s\u001b[0m eta \u001b[36m0:00:00\u001b[0m\n",
            "\u001b[?25h"
          ]
        }
      ],
      "source": [
        "!pip install langchain -q\n",
        "!pip install langchain_community -q"
      ]
    },
    {
      "cell_type": "markdown",
      "source": [
        "# Document Loading"
      ],
      "metadata": {
        "id": "SjBrEUbVJJlk"
      }
    },
    {
      "cell_type": "markdown",
      "source": [
        "## Downloading PDF"
      ],
      "metadata": {
        "id": "PF9jphldnLOB"
      }
    },
    {
      "cell_type": "code",
      "source": [
        "!pip install pypdf"
      ],
      "metadata": {
        "id": "5TYA1tVJ-iLP",
        "colab": {
          "base_uri": "https://localhost:8080/"
        },
        "outputId": "89011b31-5ee5-4d01-a2c9-219420642fc3"
      },
      "execution_count": null,
      "outputs": [
        {
          "output_type": "stream",
          "name": "stdout",
          "text": [
            "Collecting pypdf\n",
            "  Downloading pypdf-5.1.0-py3-none-any.whl.metadata (7.2 kB)\n",
            "Requirement already satisfied: typing_extensions>=4.0 in /usr/local/lib/python3.10/dist-packages (from pypdf) (4.12.2)\n",
            "Downloading pypdf-5.1.0-py3-none-any.whl (297 kB)\n",
            "\u001b[2K   \u001b[90m━━━━━━━━━━━━━━━━━━━━━━━━━━━━━━━━━━━━━━━━\u001b[0m \u001b[32m298.0/298.0 kB\u001b[0m \u001b[31m5.3 MB/s\u001b[0m eta \u001b[36m0:00:00\u001b[0m\n",
            "\u001b[?25hInstalling collected packages: pypdf\n",
            "Successfully installed pypdf-5.1.0\n"
          ]
        }
      ]
    },
    {
      "cell_type": "code",
      "source": [
        "from langchain.document_loaders import PyPDFLoader"
      ],
      "metadata": {
        "id": "7gPVNkDwlJAG"
      },
      "execution_count": null,
      "outputs": []
    },
    {
      "cell_type": "code",
      "source": [
        "try:\n",
        "  pdf_loader = PyPDFLoader('/content/Our_Research.pdf')\n",
        "\n",
        "  pdf = pdf_loader.load()\n",
        "\n",
        "  display(len(pdf))\n",
        "\n",
        "  page = pdf[0]\n",
        "\n",
        "  print(\"MetaData: \", page.metadata)\n",
        "\n",
        "  display(page.__format__)\n",
        "\n",
        "  print(\"Content of the page:\\n \", page.page_content[:200])\n",
        "\n",
        "except:\n",
        "  print(\"url not found!\")"
      ],
      "metadata": {
        "id": "rzDyt7xjlWHX",
        "colab": {
          "base_uri": "https://localhost:8080/"
        },
        "outputId": "e2a59791-24b2-478b-ad4f-066cef81dba1"
      },
      "execution_count": null,
      "outputs": [
        {
          "output_type": "stream",
          "name": "stdout",
          "text": [
            "url not found!\n"
          ]
        }
      ]
    },
    {
      "cell_type": "markdown",
      "source": [
        "## Downloading Youtube Video"
      ],
      "metadata": {
        "id": "D3FexzTJnRSo"
      }
    },
    {
      "cell_type": "code",
      "source": [
        "from langchain.document_loaders.generic import GenericLoader  # This is the loader which will compine audio loader with parser.\n",
        "from langchain.document_loaders.parsers import OpenAIWhisperParser  # This uses the Whisper Parser from openai which is a 'speech to text' model which will translate audio to speech.\n",
        "from langchain.document_loaders.blob_loaders.youtube_audio import YoutubeAudioLoader  # This is the loader to load audio from youtube."
      ],
      "metadata": {
        "id": "ANIs1QVYnTn3"
      },
      "execution_count": null,
      "outputs": []
    },
    {
      "cell_type": "code",
      "source": [
        "! pip install yt_dlp -q\n",
        "! pip install pydub -q"
      ],
      "metadata": {
        "colab": {
          "base_uri": "https://localhost:8080/"
        },
        "id": "yWg3Xu0Bqqn8",
        "outputId": "a44c241f-57e3-4211-ee3b-3c6afaa06ae8"
      },
      "execution_count": null,
      "outputs": [
        {
          "output_type": "stream",
          "name": "stdout",
          "text": [
            "\u001b[?25l     \u001b[90m━━━━━━━━━━━━━━━━━━━━━━━━━━━━━━━━━━━━━━━━\u001b[0m \u001b[32m0.0/172.1 kB\u001b[0m \u001b[31m?\u001b[0m eta \u001b[36m-:--:--\u001b[0m\r\u001b[2K     \u001b[91m━━━━━━━━━━━━━━━━━━━━━━━━━━━━━━━━━━━━━━\u001b[0m\u001b[90m╺\u001b[0m\u001b[90m━\u001b[0m \u001b[32m163.8/172.1 kB\u001b[0m \u001b[31m5.4 MB/s\u001b[0m eta \u001b[36m0:00:01\u001b[0m\r\u001b[2K     \u001b[90m━━━━━━━━━━━━━━━━━━━━━━━━━━━━━━━━━━━━━━━━\u001b[0m \u001b[32m172.1/172.1 kB\u001b[0m \u001b[31m3.6 MB/s\u001b[0m eta \u001b[36m0:00:00\u001b[0m\n",
            "\u001b[?25h\u001b[?25l   \u001b[90m━━━━━━━━━━━━━━━━━━━━━━━━━━━━━━━━━━━━━━━━\u001b[0m \u001b[32m0.0/3.2 MB\u001b[0m \u001b[31m?\u001b[0m eta \u001b[36m-:--:--\u001b[0m\r\u001b[2K   \u001b[91m━━━━━━━━━━━━━━━━━━━━━━\u001b[0m\u001b[90m╺\u001b[0m\u001b[90m━━━━━━━━━━━━━━━━━\u001b[0m \u001b[32m1.8/3.2 MB\u001b[0m \u001b[31m53.4 MB/s\u001b[0m eta \u001b[36m0:00:01\u001b[0m\r\u001b[2K   \u001b[90m━━━━━━━━━━━━━━━━━━━━━━━━━━━━━━━━━━━━━━━━\u001b[0m \u001b[32m3.2/3.2 MB\u001b[0m \u001b[31m45.9 MB/s\u001b[0m eta \u001b[36m0:00:00\u001b[0m\n",
            "\u001b[?25h"
          ]
        }
      ]
    },
    {
      "cell_type": "code",
      "source": [
        "# url = 'https://www.youtube.com/watch?v=Q-ZAfCtJwh4&pp=ygUgaG93IHRvIHdyaXRlIHJlZmVyZW5jZXMgaW4gbGF0ZXg%3D'\n",
        "# save_loc = '/content/overleaf_references'\n",
        "\n",
        "# vid_loader = GenericLoader(\n",
        "#     YoutubeAudioLoader([url], save_loc),\n",
        "#     OpenAIWhisperParser(api_key = api)  # This is not free till now.\n",
        "# )"
      ],
      "metadata": {
        "id": "LLyS_KM1nrez"
      },
      "execution_count": null,
      "outputs": []
    },
    {
      "cell_type": "code",
      "source": [
        "# video = vid_loader.load()"
      ],
      "metadata": {
        "id": "XYivblIipJTT"
      },
      "execution_count": null,
      "outputs": []
    },
    {
      "cell_type": "markdown",
      "source": [
        "## Downloading Web page."
      ],
      "metadata": {
        "id": "TGkPZfVo4D0E"
      }
    },
    {
      "cell_type": "code",
      "source": [
        "from langchain.document_loaders import WebBaseLoader"
      ],
      "metadata": {
        "colab": {
          "base_uri": "https://localhost:8080/"
        },
        "id": "85amZoiwqlwC",
        "outputId": "dea68b92-0929-43f9-d634-c5088f2220db"
      },
      "execution_count": null,
      "outputs": [
        {
          "output_type": "stream",
          "name": "stderr",
          "text": [
            "WARNING:langchain_community.utils.user_agent:USER_AGENT environment variable not set, consider setting it to identify your requests.\n"
          ]
        }
      ]
    },
    {
      "cell_type": "code",
      "source": [
        "page_loader = WebBaseLoader('https://www.langchain.com/community')"
      ],
      "metadata": {
        "id": "UmCIBIF34RqI"
      },
      "execution_count": null,
      "outputs": []
    },
    {
      "cell_type": "code",
      "source": [
        "web_page = page_loader.load()"
      ],
      "metadata": {
        "id": "we8_SHf54bI8"
      },
      "execution_count": null,
      "outputs": []
    },
    {
      "cell_type": "code",
      "source": [
        "web_page"
      ],
      "metadata": {
        "colab": {
          "base_uri": "https://localhost:8080/"
        },
        "id": "PkhuE2_o4dpg",
        "outputId": "286de0ad-b888-464e-9dae-1f88ac9fe244"
      },
      "execution_count": null,
      "outputs": [
        {
          "output_type": "execute_result",
          "data": {
            "text/plain": [
              "[Document(metadata={'source': 'https://www.langchain.com/community', 'title': 'The LangChain Community', 'description': 'At LangChain, community is at the heart of what we do. Join us in sharing insights and driving the future of AI development together.', 'language': 'en'}, page_content=\"The LangChain Community\\n\\n\\n\\n\\n\\n\\n\\n\\n\\n\\n\\n\\n\\n\\n\\n\\n\\n\\n\\n\\n\\n\\n\\nProducts\\n\\nLangChainLangSmithLangGraphMethods\\n\\nRetrievalAgentsEvaluationResources\\n\\nBlogCase StudiesLangChain AcademyCommunityExpertsChangelogState of AI AgentsBreakout Agent StoriesDocs\\n\\nPythonLangChainLangSmithLangGraphJavaScriptLangChainLangSmithLangGraphCompany\\n\\nAboutCareersPricing\\n\\nLangSmithLangGraph PlatformGet a demoSign upConnect with theLangChain CommunityMeet new peers, ask for advice, and share your knowledge.The LangChain Community is where you learn to build the LLM apps of tomorrow.\\n\\n\\nMeet members of the communityand share your knowledge\\n\\n\\n\\nCommunity SlackJump into our Slack and hang out with the LangChain developer community. \\xa0Get real-time advice from fellow builders, swap tips on best practices, and stay on top of the latest.Sign up\\n\\n\\n\\n\\n\\n\\nEventsMeet IRL or virtually with fellow LangChain enthusiasts. Stay in the loop by subscribing to our calendar for all the latest meetups, events, and hands-on workshops.Visit calendar\\n\\n\\n\\n\\n\\n\\nContributeBe part of the future of LangChain! Contribute code, enhance docs, create integrations, and discuss the most pressing LangChain issues with the community.Start contributing\\n\\n\\nLangChain Community ChampionsBuilding LangChain is a team effort — over 3,500 amazing contributors have poured their time into making LangChain the vibrant ecosystem it is today.Our Community Champions are our MVPs — squashing bugs, tackling issues, adding new features, and crafting great docs. Not all heroes wear capes; some submit incredible PRs! And we’re here to celebrate them.Community Champions enjoy direct access to the LangChain team, influence the roadmap, get priority reviews, and, of course, score some company swag.cbornetLangChain PythonmarlenezwLangChain PythonsepiatoneLangChain PythonafirstenbergLangChain JSclemenspetersLangChain JSgbaian10LangGraph PythonInterested in becoming a Community Champion? \\xa0Start by contributing to our open source packages.Start contributing\\n\\n\\nLangChain AmbassadorsThe LangChain Ambassador Program brings together our most passionate community members from across the globe. Ambassadors aren’t just volunteers — they're the heart and soul of spreading the LangChain magic!Whether they’re hosting meetups, leading vibrant local or digital communities, or creating amazing educational content, they’re making LangChain accessible for everyone.And the best part? Ambassadors get special perks like sneak peeks at new products, grants to sponsor their events, and free access to LangSmith.ColinAustin, TXEdenTel Aviv, IsraelViratNew York, NYFranciscoBuenos Aires, ArgentinaRickPhoenix, AZDanielBucharest, RomaniaHarryShanghai, ChinaTomOrange County, CAGregSan Francisco, CAAndresMiami, FLYukiTokyo, JPMasahiroTokyo, JPShingoTokyo, JPKim Wee TehSingaporeReady to start shipping \\u2028reliable GenAI apps faster?Get started with LangChain, LangSmith, and LangGraph to enhance your LLM app development, from prototype to production.Sign up for our Community SlackProductsLangChainLangSmithLangGraphAgentsEvaluationRetrievalResourcesPython DocsJS/TS DocsGitHubIntegrationsChangelogLangSmith Trust PortalCompanyAboutBlogTwitterLinkedInYouTubeCommunityMarketing AssetsSign up for our newsletter to stay up to dateThank you! Your submission has been received!Oops! Something went wrong while submitting the form.All systems operationalPrivacy PolicyTerms of Service\\n\\n\\n\\n\\n\\n\\n\")]"
            ]
          },
          "metadata": {},
          "execution_count": 15
        }
      ]
    },
    {
      "cell_type": "code",
      "source": [
        "web_page1 = web_page[0]"
      ],
      "metadata": {
        "id": "qg9Xmlw84fHI"
      },
      "execution_count": null,
      "outputs": []
    },
    {
      "cell_type": "code",
      "source": [
        "web_page1.__format__"
      ],
      "metadata": {
        "colab": {
          "base_uri": "https://localhost:8080/"
        },
        "id": "w9layHDg4kZw",
        "outputId": "87e656f5-bf4b-4116-d025-bb9a83a3b13f"
      },
      "execution_count": null,
      "outputs": [
        {
          "output_type": "execute_result",
          "data": {
            "text/plain": [
              "<function Document.__format__(format_spec, /)>"
            ]
          },
          "metadata": {},
          "execution_count": 17
        }
      ]
    },
    {
      "cell_type": "code",
      "source": [
        "web_page1.page_content[0:200]"
      ],
      "metadata": {
        "colab": {
          "base_uri": "https://localhost:8080/"
        },
        "id": "eKD6Db8b5zhC",
        "outputId": "f65fa6b7-cd32-4837-8c12-5ee241122192"
      },
      "execution_count": null,
      "outputs": [
        {
          "output_type": "execute_result",
          "data": {
            "text/plain": [
              "'The LangChain Community\\n\\n\\n\\n\\n\\n\\n\\n\\n\\n\\n\\n\\n\\n\\n\\n\\n\\n\\n\\n\\n\\n\\n\\nProducts\\n\\nLangChainLangSmithLangGraphMethods\\n\\nRetrievalAgentsEvaluationResources\\n\\nBlogCase StudiesLangChain AcademyCommunityExpertsChangelogState of AI A'"
            ],
            "application/vnd.google.colaboratory.intrinsic+json": {
              "type": "string"
            }
          },
          "metadata": {},
          "execution_count": 18
        }
      ]
    },
    {
      "cell_type": "code",
      "source": [],
      "metadata": {
        "id": "SgtW6v9o52zK"
      },
      "execution_count": null,
      "outputs": []
    },
    {
      "cell_type": "markdown",
      "source": [
        "# Document Splitting"
      ],
      "metadata": {
        "id": "FNFe4XoOJQtb"
      }
    },
    {
      "cell_type": "markdown",
      "source": [
        "## RecursiveCharacterTextSplitter & CharacterTextSplitter"
      ],
      "metadata": {
        "id": "089x7nCVJTjj"
      }
    },
    {
      "cell_type": "code",
      "source": [
        "from langchain.text_splitter import RecursiveCharacterTextSplitter, CharacterTextSplitter"
      ],
      "metadata": {
        "id": "jKAJdKIgJhm7"
      },
      "execution_count": null,
      "outputs": []
    },
    {
      "cell_type": "code",
      "source": [
        "chunk_size = 26\n",
        "chunk_overlap = 4"
      ],
      "metadata": {
        "id": "axJ_9tGsKmbb"
      },
      "execution_count": null,
      "outputs": []
    },
    {
      "cell_type": "code",
      "source": [
        "#### RecursiveCharacterTextSplitter & CharacterTextSplitter ####\n",
        "\n",
        "# RecursiveCharacterTextSplitter ---> Splits text while maintaining context and relationships between text segments.\n",
        "#                                ---> Used when the keeping the meaning is important.\n",
        "#                                ---> More complex than CharacterTextSplitter, so it is more slower.\n",
        "#                                ---> More flexible, not like CharcterTextSplitter which gives equal chunk sizes.\n",
        "\n",
        "# CharacterTextSplitter ---> Splits text based solely on user-defined characters without considering the surrounding context.\n",
        "#                       ---> More faster than Recursive so it is used in larger context.\n",
        "#                       ---> It gives equal chunk sizes."
      ],
      "metadata": {
        "id": "loS-oC_1iU95"
      },
      "execution_count": null,
      "outputs": []
    },
    {
      "cell_type": "code",
      "source": [
        "r_splitter = RecursiveCharacterTextSplitter(\n",
        "    chunk_size = chunk_size,\n",
        "    chunk_overlap = chunk_overlap,\n",
        ")\n",
        "\n",
        "c_splitter = CharacterTextSplitter(\n",
        "    chunk_size = chunk_size,\n",
        "    chunk_overlap = chunk_overlap,\n",
        ")"
      ],
      "metadata": {
        "id": "4ywmWwU6Kqr0"
      },
      "execution_count": null,
      "outputs": []
    },
    {
      "cell_type": "code",
      "source": [
        "text1 = 'abcdefghijklmnopqrstuvwxyz'\n",
        "text2 = 'abcdefghijklmnopqrstuvwxyzabcdefghi'\n",
        "text3 = 'a b c d e f g h i j k l m n o p q r s t u v w x y z'"
      ],
      "metadata": {
        "id": "A0vxe8vHK1ON"
      },
      "execution_count": null,
      "outputs": []
    },
    {
      "cell_type": "code",
      "source": [
        "r_splitter.split_text(text1)"
      ],
      "metadata": {
        "colab": {
          "base_uri": "https://localhost:8080/"
        },
        "id": "rv0nCeocLCey",
        "outputId": "c206c0bc-93c5-49c5-80b5-b2eaf9c7b783"
      },
      "execution_count": null,
      "outputs": [
        {
          "output_type": "execute_result",
          "data": {
            "text/plain": [
              "['abcdefghijklmnopqrstuvwxyz']"
            ]
          },
          "metadata": {},
          "execution_count": 24
        }
      ]
    },
    {
      "cell_type": "code",
      "source": [
        "c_splitter.split_text(text1)"
      ],
      "metadata": {
        "colab": {
          "base_uri": "https://localhost:8080/"
        },
        "id": "VWuvwjpRLF4M",
        "outputId": "6e840636-5eae-44d6-bf4e-6fc33ce02654"
      },
      "execution_count": null,
      "outputs": [
        {
          "output_type": "execute_result",
          "data": {
            "text/plain": [
              "['abcdefghijklmnopqrstuvwxyz']"
            ]
          },
          "metadata": {},
          "execution_count": 25
        }
      ]
    },
    {
      "cell_type": "code",
      "source": [
        "display(r_splitter.split_text(text2))\n",
        "c_splitter.split_text(text2)  # It didn't split, as I didn't specify separators."
      ],
      "metadata": {
        "colab": {
          "base_uri": "https://localhost:8080/",
          "height": 52
        },
        "id": "Wz8AXJ3GLKOj",
        "outputId": "bbad5506-42bf-47fc-8e9c-83b14b57c38c"
      },
      "execution_count": null,
      "outputs": [
        {
          "output_type": "display_data",
          "data": {
            "text/plain": [
              "['abcdefghijklmnopqrstuvwxyz', 'wxyzabcdefghi']"
            ]
          },
          "metadata": {}
        },
        {
          "output_type": "execute_result",
          "data": {
            "text/plain": [
              "['abcdefghijklmnopqrstuvwxyzabcdefghi']"
            ]
          },
          "metadata": {},
          "execution_count": 26
        }
      ]
    },
    {
      "cell_type": "code",
      "source": [
        "display(r_splitter.split_text(text3))\n",
        "c_splitter.split_text(text3)"
      ],
      "metadata": {
        "colab": {
          "base_uri": "https://localhost:8080/",
          "height": 52
        },
        "id": "n4yBrBMPLRAK",
        "outputId": "1217f64c-1004-4cbb-e9b1-127b3377e9cc"
      },
      "execution_count": null,
      "outputs": [
        {
          "output_type": "display_data",
          "data": {
            "text/plain": [
              "['a b c d e f g h i j k l m', 'l m n o p q r s t u v w x', 'w x y z']"
            ]
          },
          "metadata": {}
        },
        {
          "output_type": "execute_result",
          "data": {
            "text/plain": [
              "['a b c d e f g h i j k l m n o p q r s t u v w x y z']"
            ]
          },
          "metadata": {},
          "execution_count": 27
        }
      ]
    },
    {
      "cell_type": "code",
      "source": [
        "c_splitter = CharacterTextSplitter(\n",
        "    chunk_size = chunk_size,\n",
        "    chunk_overlap = chunk_overlap,\n",
        "    separator = ''\n",
        ")"
      ],
      "metadata": {
        "id": "78gjO53_Loj5"
      },
      "execution_count": null,
      "outputs": []
    },
    {
      "cell_type": "code",
      "source": [
        "c_splitter.split_text(text2)"
      ],
      "metadata": {
        "colab": {
          "base_uri": "https://localhost:8080/"
        },
        "id": "yr6blhOoMMJw",
        "outputId": "6722a20a-9b7a-4174-c7dc-272b99bd759a"
      },
      "execution_count": null,
      "outputs": [
        {
          "output_type": "execute_result",
          "data": {
            "text/plain": [
              "['abcdefghijklmnopqrstuvwxyz', 'wxyzabcdefghi']"
            ]
          },
          "metadata": {},
          "execution_count": 29
        }
      ]
    },
    {
      "cell_type": "code",
      "source": [
        "c_splitter.split_text(text3)"
      ],
      "metadata": {
        "colab": {
          "base_uri": "https://localhost:8080/"
        },
        "id": "dxMsW5veMN4J",
        "outputId": "be1806ba-565c-4a4d-da73-5292a5ab4b63"
      },
      "execution_count": null,
      "outputs": [
        {
          "output_type": "execute_result",
          "data": {
            "text/plain": [
              "['a b c d e f g h i j k l m', 'l m n o p q r s t u v w x', 'w x y z']"
            ]
          },
          "metadata": {},
          "execution_count": 30
        }
      ]
    },
    {
      "cell_type": "code",
      "source": [
        "text4 = \"\"\"When writing documents, writers will use document structure to group content. \\\n",
        "This can convey to the reader, which idea's are related. For example, closely related ideas \\\n",
        "are in sentances. Similar ideas are in paragraphs. Paragraphs form a document. \\n\\n  \\\n",
        "Paragraphs are often delimited with a carriage return or two carriage returns. \\\n",
        "Carriage returns are the \"backslash n\" you see embedded in this string. \\\n",
        "Sentences have a period at the end, but also, have a space.\\\n",
        "and words are separated by space.\"\"\""
      ],
      "metadata": {
        "id": "3IYjyeHPMO2I"
      },
      "execution_count": null,
      "outputs": []
    },
    {
      "cell_type": "code",
      "source": [
        "len(text4)"
      ],
      "metadata": {
        "colab": {
          "base_uri": "https://localhost:8080/"
        },
        "id": "Vc2hrBx0Mrug",
        "outputId": "1a04fa6c-c226-4454-f509-19c426a0c0a1"
      },
      "execution_count": null,
      "outputs": [
        {
          "output_type": "execute_result",
          "data": {
            "text/plain": [
              "496"
            ]
          },
          "metadata": {},
          "execution_count": 32
        }
      ]
    },
    {
      "cell_type": "code",
      "source": [
        "c_splitter = CharacterTextSplitter(\n",
        "    chunk_size=450,\n",
        "    chunk_overlap=0,\n",
        "    separator = ' '\n",
        ")\n",
        "r_splitter = RecursiveCharacterTextSplitter(\n",
        "    chunk_size=450,\n",
        "    chunk_overlap=0,\n",
        "    separators=[\"\\n\\n\", \"\\n\", \" \", \"\"]  # It first separate the text on these separations.\n",
        ")"
      ],
      "metadata": {
        "id": "_yx5_rKfMc1X"
      },
      "execution_count": null,
      "outputs": []
    },
    {
      "cell_type": "code",
      "source": [
        "display(c_splitter.split_text(text4))\n"
      ],
      "metadata": {
        "colab": {
          "base_uri": "https://localhost:8080/",
          "height": 69
        },
        "id": "zbCNNAtfMffz",
        "outputId": "5b9d7cc2-9447-4297-f58d-53f7188811d7"
      },
      "execution_count": null,
      "outputs": [
        {
          "output_type": "display_data",
          "data": {
            "text/plain": [
              "['When writing documents, writers will use document structure to group content. This can convey to the reader, which idea\\'s are related. For example, closely related ideas are in sentances. Similar ideas are in paragraphs. Paragraphs form a document. \\n\\n Paragraphs are often delimited with a carriage return or two carriage returns. Carriage returns are the \"backslash n\" you see embedded in this string. Sentences have a period at the end, but also,',\n",
              " 'have a space.and words are separated by space.']"
            ]
          },
          "metadata": {}
        }
      ]
    },
    {
      "cell_type": "code",
      "source": [
        "r_splitter.split_text(text4)"
      ],
      "metadata": {
        "colab": {
          "base_uri": "https://localhost:8080/"
        },
        "id": "zz6mbyzOMnLe",
        "outputId": "a7688ffb-4955-4378-9c37-5788b83a9860"
      },
      "execution_count": null,
      "outputs": [
        {
          "output_type": "execute_result",
          "data": {
            "text/plain": [
              "[\"When writing documents, writers will use document structure to group content. This can convey to the reader, which idea's are related. For example, closely related ideas are in sentances. Similar ideas are in paragraphs. Paragraphs form a document.\",\n",
              " 'Paragraphs are often delimited with a carriage return or two carriage returns. Carriage returns are the \"backslash n\" you see embedded in this string. Sentences have a period at the end, but also, have a space.and words are separated by space.']"
            ]
          },
          "metadata": {},
          "execution_count": 35
        }
      ]
    },
    {
      "cell_type": "code",
      "source": [
        "r_splitter = RecursiveCharacterTextSplitter(\n",
        "    chunk_size=150,\n",
        "    chunk_overlap=0,\n",
        "    separators=[\"\\n\\n\", \"\\n\", \"\\. \", \" \", \"\"]  # It first separate the text on these separations.\n",
        ")\n",
        "r_splitter.split_text(text4)"
      ],
      "metadata": {
        "colab": {
          "base_uri": "https://localhost:8080/"
        },
        "id": "X_rujaDnMzQ_",
        "outputId": "0bc03428-743b-48e2-ddd1-41868c89cccb"
      },
      "execution_count": null,
      "outputs": [
        {
          "output_type": "execute_result",
          "data": {
            "text/plain": [
              "[\"When writing documents, writers will use document structure to group content. This can convey to the reader, which idea's are related. For example,\",\n",
              " 'closely related ideas are in sentances. Similar ideas are in paragraphs. Paragraphs form a document.',\n",
              " 'Paragraphs are often delimited with a carriage return or two carriage returns. Carriage returns are the \"backslash n\" you see embedded in this',\n",
              " 'string. Sentences have a period at the end, but also, have a space.and words are separated by space.']"
            ]
          },
          "metadata": {},
          "execution_count": 36
        }
      ]
    },
    {
      "cell_type": "code",
      "source": [
        "r_splitter = RecursiveCharacterTextSplitter(\n",
        "    chunk_size=150,\n",
        "    chunk_overlap=0,\n",
        "    separators=[\"\\n\\n\", \"\\n\", \"(?<=\\. )\", \" \", \"\"]  # Here regex is used to put the dot at the end of the phrase not the beginning.\n",
        ")\n",
        "r_splitter.split_text(text4)"
      ],
      "metadata": {
        "colab": {
          "base_uri": "https://localhost:8080/"
        },
        "id": "rqCO5AnYNEr-",
        "outputId": "3824368b-1fb0-4c99-f770-48583e133f59"
      },
      "execution_count": null,
      "outputs": [
        {
          "output_type": "execute_result",
          "data": {
            "text/plain": [
              "[\"When writing documents, writers will use document structure to group content. This can convey to the reader, which idea's are related. For example,\",\n",
              " 'closely related ideas are in sentances. Similar ideas are in paragraphs. Paragraphs form a document.',\n",
              " 'Paragraphs are often delimited with a carriage return or two carriage returns. Carriage returns are the \"backslash n\" you see embedded in this',\n",
              " 'string. Sentences have a period at the end, but also, have a space.and words are separated by space.']"
            ]
          },
          "metadata": {},
          "execution_count": 37
        }
      ]
    },
    {
      "cell_type": "code",
      "source": [
        "from langchain.document_loaders import PyPDFLoader\n",
        "\n",
        "try:\n",
        "  loader = PyPDFLoader(\"/content/Our_Research.pdf\")\n",
        "  pages = loader.load()\n",
        "\n",
        "  from langchain.text_splitter import CharacterTextSplitter\n",
        "  text_splitter = CharacterTextSplitter(\n",
        "      separator=\"\\n\",\n",
        "      chunk_size=1000,\n",
        "      chunk_overlap=150,\n",
        "      length_function=len\n",
        "  )\n",
        "\n",
        "\n",
        "  splitting = text_splitter.split_documents(pages)\n",
        "\n",
        "  print(\"Number of splitting is: \", len(splitting))  # len(splitting) is begger than len(pages).\n",
        "\n",
        "  print(\"Number of pages is: \", len(pages))\n",
        "except:\n",
        "  print(\"Url of pdf is not found!\")"
      ],
      "metadata": {
        "id": "z_R3vJE2NWXM",
        "colab": {
          "base_uri": "https://localhost:8080/"
        },
        "outputId": "edb9cea4-6b61-43e5-ca16-21b2e559ba76"
      },
      "execution_count": null,
      "outputs": [
        {
          "output_type": "stream",
          "name": "stdout",
          "text": [
            "Url of pdf is not found!\n"
          ]
        }
      ]
    },
    {
      "cell_type": "markdown",
      "source": [
        "## TokenTextSplitter"
      ],
      "metadata": {
        "id": "9dXkczxjPF6_"
      }
    },
    {
      "cell_type": "code",
      "source": [
        "from langchain.text_splitter import TokenTextSplitter"
      ],
      "metadata": {
        "id": "fETNbwS6OZkx"
      },
      "execution_count": null,
      "outputs": []
    },
    {
      "cell_type": "code",
      "source": [
        "!pip install tiktoken -q"
      ],
      "metadata": {
        "id": "LvLTRRrzP8Rt",
        "colab": {
          "base_uri": "https://localhost:8080/"
        },
        "outputId": "00bb83e5-b402-4999-fadf-df915373216c"
      },
      "execution_count": null,
      "outputs": [
        {
          "output_type": "stream",
          "name": "stdout",
          "text": [
            "\u001b[?25l   \u001b[90m━━━━━━━━━━━━━━━━━━━━━━━━━━━━━━━━━━━━━━━━\u001b[0m \u001b[32m0.0/1.2 MB\u001b[0m \u001b[31m?\u001b[0m eta \u001b[36m-:--:--\u001b[0m\r\u001b[2K   \u001b[91m━━━━\u001b[0m\u001b[90m╺\u001b[0m\u001b[90m━━━━━━━━━━━━━━━━━━━━━━━━━━━━━━━━━━━\u001b[0m \u001b[32m0.1/1.2 MB\u001b[0m \u001b[31m3.5 MB/s\u001b[0m eta \u001b[36m0:00:01\u001b[0m\r\u001b[2K   \u001b[91m━━━━━━━━━━━━━━━━━━━━━━━━━━━━━━━━━\u001b[0m\u001b[91m╸\u001b[0m\u001b[90m━━━━━━\u001b[0m \u001b[32m1.0/1.2 MB\u001b[0m \u001b[31m14.2 MB/s\u001b[0m eta \u001b[36m0:00:01\u001b[0m\r\u001b[2K   \u001b[90m━━━━━━━━━━━━━━━━━━━━━━━━━━━━━━━━━━━━━━━━\u001b[0m \u001b[32m1.2/1.2 MB\u001b[0m \u001b[31m12.6 MB/s\u001b[0m eta \u001b[36m0:00:00\u001b[0m\n",
            "\u001b[?25h"
          ]
        }
      ]
    },
    {
      "cell_type": "code",
      "source": [
        "t_splitter = TokenTextSplitter(\n",
        "    chunk_size = 1,\n",
        "    chunk_overlap = 0\n",
        ")"
      ],
      "metadata": {
        "id": "i37NlGfcPMUS"
      },
      "execution_count": null,
      "outputs": []
    },
    {
      "cell_type": "code",
      "source": [
        "text6 = \"foo bar bazzyfoo\""
      ],
      "metadata": {
        "id": "ft9zIU1TQH5e"
      },
      "execution_count": null,
      "outputs": []
    },
    {
      "cell_type": "code",
      "source": [
        "t_splitter.split_text(text6)"
      ],
      "metadata": {
        "colab": {
          "base_uri": "https://localhost:8080/"
        },
        "id": "rqZDDSysPVbm",
        "outputId": "e011baa6-7150-48e4-b3af-9825fbf637dd"
      },
      "execution_count": null,
      "outputs": [
        {
          "output_type": "execute_result",
          "data": {
            "text/plain": [
              "['foo', ' bar', ' b', 'az', 'zy', 'foo']"
            ]
          },
          "metadata": {},
          "execution_count": 44
        }
      ]
    },
    {
      "cell_type": "markdown",
      "source": [
        "## MarkDownHeaderTextSplitter."
      ],
      "metadata": {
        "id": "rE2SQ4Z7QlVl"
      }
    },
    {
      "cell_type": "code",
      "source": [
        "# Markdown is used to put headers in the metadata of the splitters\n",
        "from langchain.text_splitter import MarkdownHeaderTextSplitter"
      ],
      "metadata": {
        "id": "jIGTQNfMQQ1i"
      },
      "execution_count": null,
      "outputs": []
    },
    {
      "cell_type": "code",
      "source": [
        "markdown_document = \"\"\"# Title\\n\\n \\\n",
        "## Chapter 1\\n\\n \\\n",
        "Hi this is Jim\\n\\n Hi this is Joe\\n\\n \\\n",
        "### Section \\n\\n \\\n",
        "Hi this is Lance \\n\\n\n",
        "## Chapter 2\\n\\n \\\n",
        "Hi this is Molly\"\"\""
      ],
      "metadata": {
        "id": "Dl7K9hPWQ2d4"
      },
      "execution_count": null,
      "outputs": []
    },
    {
      "cell_type": "code",
      "source": [
        "on_marking = [\n",
        "    ('#', 'Header 1'),\n",
        "    ('##', 'Header 2'),\n",
        "    ('###', 'Header 3')\n",
        "]"
      ],
      "metadata": {
        "id": "8CJpVA1xRGrU"
      },
      "execution_count": null,
      "outputs": []
    },
    {
      "cell_type": "code",
      "source": [
        "MarkDown_Splitter = MarkdownHeaderTextSplitter(headers_to_split_on=on_marking)"
      ],
      "metadata": {
        "id": "zpA74zkERAtP"
      },
      "execution_count": null,
      "outputs": []
    },
    {
      "cell_type": "code",
      "source": [
        "split = MarkDown_Splitter.split_text(markdown_document)"
      ],
      "metadata": {
        "id": "V8fjBeS7REQh"
      },
      "execution_count": null,
      "outputs": []
    },
    {
      "cell_type": "code",
      "source": [
        "split"
      ],
      "metadata": {
        "colab": {
          "base_uri": "https://localhost:8080/"
        },
        "id": "ZqLoUJvhRtpV",
        "outputId": "297a80f2-85b8-41a4-fdae-3d0d3ceb2895"
      },
      "execution_count": null,
      "outputs": [
        {
          "output_type": "execute_result",
          "data": {
            "text/plain": [
              "[Document(metadata={'Header 1': 'Title', 'Header 2': 'Chapter 1'}, page_content='Hi this is Jim  \\nHi this is Joe'),\n",
              " Document(metadata={'Header 1': 'Title', 'Header 2': 'Chapter 1', 'Header 3': 'Section'}, page_content='Hi this is Lance'),\n",
              " Document(metadata={'Header 1': 'Title', 'Header 2': 'Chapter 2'}, page_content='Hi this is Molly')]"
            ]
          },
          "metadata": {},
          "execution_count": 50
        }
      ]
    },
    {
      "cell_type": "code",
      "source": [],
      "metadata": {
        "id": "Xom4vrWRRukb"
      },
      "execution_count": null,
      "outputs": []
    },
    {
      "cell_type": "markdown",
      "source": [
        "# Vector Stores and Embeddings"
      ],
      "metadata": {
        "id": "6r4mFYLYnGIT"
      }
    },
    {
      "cell_type": "code",
      "source": [
        "##### Embedding #####\n",
        "# Taking a part of text and converting it to a numerical values.\n",
        "# Text with semilar content have semilar vectors.\n",
        "# Text with near content have near vectors.\n",
        "# Then we can compare text and find the similarity between them using the similarity of vectors.\n",
        "\n",
        "\n",
        "##### Vector Store #####\n",
        "# It is a database which stores vectors.\n",
        "# We can lookup these vectors in any time.\n",
        "## In our case, we will use (Chroma)\n",
        "# To see other vector stores ----> https://python.langchain.com/docs/integrations/vectorstores/\n",
        "\n",
        "## --> What happens is that I have a question, I embed this question and then compare this\n",
        "##     embedding with the vectors at the vector store, then I choose the most relevant vectors\n",
        "##     and take it as external information to the model."
      ],
      "metadata": {
        "id": "hxa9t5uSnMcc"
      },
      "execution_count": null,
      "outputs": []
    },
    {
      "cell_type": "markdown",
      "source": [
        "## Initializing Embedding Model.\n",
        "\n"
      ],
      "metadata": {
        "id": "_a7WgirI2Q_k"
      }
    },
    {
      "cell_type": "markdown",
      "source": [
        "If You have a price plan for open-ai embedding model, you can use the cell bell to initialize you embedding model. I don't have a price plan, so I used 'embedding-001' model from gemini instead."
      ],
      "metadata": {
        "id": "G00M9V_fAjZl"
      }
    },
    {
      "cell_type": "code",
      "source": [
        "# import os\n",
        "# import openai\n",
        "\n",
        "# openai.api_key  = os.environ['OPENAI_API_KEY']\n",
        "\n",
        "# from langchain.embeddings.openai import OpenAIEmbeddings\n",
        "# embedding = OpenAIEmbeddings()"
      ],
      "metadata": {
        "id": "QOeFEvWtANTD"
      },
      "execution_count": null,
      "outputs": []
    },
    {
      "cell_type": "markdown",
      "source": [
        "In this section, we initialized 'embedding-001' from gemini as an embedding model and tried some examples to see how the difference in the sentences lead to differnece in the similarity of embedded vectors using dot product."
      ],
      "metadata": {
        "id": "tSbaW_UkAhm0"
      }
    },
    {
      "cell_type": "code",
      "source": [
        "import os\n",
        "import getpass\n",
        "from google.colab import userdata\n",
        "userdata.get('secretName')\n",
        "\n",
        "os.environ['GOOGLE_API_KEY'] = userdata.get('GEMINI-API-KEY')\n",
        "# os.environ['GOOGLE_API_KEY'] = getpass.getpass('Gemini Api Key: ')"
      ],
      "metadata": {
        "id": "pgwnXCwH2HpH"
      },
      "execution_count": null,
      "outputs": []
    },
    {
      "cell_type": "code",
      "source": [
        "!pip install langchain_google_genai -q"
      ],
      "metadata": {
        "collapsed": true,
        "colab": {
          "base_uri": "https://localhost:8080/"
        },
        "id": "-Hed-LmI3E7y",
        "outputId": "08469dea-e3f1-46fb-9573-53b86b090a51"
      },
      "execution_count": null,
      "outputs": [
        {
          "output_type": "stream",
          "name": "stdout",
          "text": [
            "\u001b[?25l   \u001b[90m━━━━━━━━━━━━━━━━━━━━━━━━━━━━━━━━━━━━━━━━\u001b[0m \u001b[32m0.0/41.3 kB\u001b[0m \u001b[31m?\u001b[0m eta \u001b[36m-:--:--\u001b[0m\r\u001b[2K   \u001b[90m━━━━━━━━━━━━━━━━━━━━━━━━━━━━━━━━━━━━━━━━\u001b[0m \u001b[32m41.3/41.3 kB\u001b[0m \u001b[31m1.6 MB/s\u001b[0m eta \u001b[36m0:00:00\u001b[0m\n",
            "\u001b[?25h"
          ]
        }
      ]
    },
    {
      "cell_type": "code",
      "source": [
        "from langchain_google_genai import GoogleGenerativeAIEmbeddings\n",
        "\n",
        "embedding_model = GoogleGenerativeAIEmbeddings(model=\"models/embedding-001\")"
      ],
      "metadata": {
        "id": "4CjPyRrf2-bq"
      },
      "execution_count": null,
      "outputs": []
    },
    {
      "cell_type": "code",
      "source": [
        "text1 = \"I love Programming\"\n",
        "text2 = \"I LOVE PROGRAMMING\"\n",
        "text3 = \"My father is an Engineer\"\n",
        "text4 = \"The biggest country in the world is Russia\"\n",
        "text5 = \"The world is not like your mother, you shout at her face in the morning and by the ending of the day she call you for the dinner. The world will let you starving.\""
      ],
      "metadata": {
        "id": "JZO5lqhP3Sf8"
      },
      "execution_count": null,
      "outputs": []
    },
    {
      "cell_type": "code",
      "source": [
        "embedding1 = embedding_model.embed_query(text1)\n",
        "embedding2 = embedding_model.embed_query(text2)\n",
        "embedding3 = embedding_model.embed_query(text3)\n",
        "embedding4 = embedding_model.embed_query(text4)\n",
        "embedding5 = embedding_model.embed_query(text5)"
      ],
      "metadata": {
        "id": "WxrUlhHJ3ubK"
      },
      "execution_count": null,
      "outputs": []
    },
    {
      "cell_type": "code",
      "source": [
        "import numpy as np"
      ],
      "metadata": {
        "id": "q1cdbLeT32Zl"
      },
      "execution_count": null,
      "outputs": []
    },
    {
      "cell_type": "markdown",
      "source": [
        "Showing the similarity between the vectors created from embedding."
      ],
      "metadata": {
        "id": "Br5UyCcV4Shy"
      }
    },
    {
      "cell_type": "code",
      "source": [
        "np.dot(embedding1, embedding2)"
      ],
      "metadata": {
        "colab": {
          "base_uri": "https://localhost:8080/"
        },
        "id": "BEllkE2s4Hri",
        "outputId": "5675fe61-edf2-4a83-ecce-138d6b025ca4"
      },
      "execution_count": null,
      "outputs": [
        {
          "output_type": "execute_result",
          "data": {
            "text/plain": [
              "0.9685723741824297"
            ]
          },
          "metadata": {},
          "execution_count": 59
        }
      ]
    },
    {
      "cell_type": "code",
      "source": [
        "np.dot(embedding1, embedding3)"
      ],
      "metadata": {
        "colab": {
          "base_uri": "https://localhost:8080/"
        },
        "id": "7PZ5nEoF4OZx",
        "outputId": "ed36ffb4-b471-4f5d-91cc-385c4db4425c"
      },
      "execution_count": null,
      "outputs": [
        {
          "output_type": "execute_result",
          "data": {
            "text/plain": [
              "0.6979330597856345"
            ]
          },
          "metadata": {},
          "execution_count": 60
        }
      ]
    },
    {
      "cell_type": "code",
      "source": [
        "np.dot(embedding1, embedding4)"
      ],
      "metadata": {
        "colab": {
          "base_uri": "https://localhost:8080/"
        },
        "id": "zO1qWuhe4Rsn",
        "outputId": "7c80a0c5-f7f4-4842-dfa2-f0bc3f6c754c"
      },
      "execution_count": null,
      "outputs": [
        {
          "output_type": "execute_result",
          "data": {
            "text/plain": [
              "0.6056521226434192"
            ]
          },
          "metadata": {},
          "execution_count": 61
        }
      ]
    },
    {
      "cell_type": "code",
      "source": [
        "np.dot(embedding1, embedding5)"
      ],
      "metadata": {
        "colab": {
          "base_uri": "https://localhost:8080/"
        },
        "id": "2UI7xHb24tgR",
        "outputId": "2606206c-e218-45ef-ffa4-ddf30abfe75f"
      },
      "execution_count": null,
      "outputs": [
        {
          "output_type": "execute_result",
          "data": {
            "text/plain": [
              "0.5386788382230284"
            ]
          },
          "metadata": {},
          "execution_count": 62
        }
      ]
    },
    {
      "cell_type": "code",
      "source": [
        "np.dot(embedding3, embedding4)"
      ],
      "metadata": {
        "colab": {
          "base_uri": "https://localhost:8080/"
        },
        "id": "WrYwO5Gi4Zft",
        "outputId": "28f124b0-fbd6-4f36-d987-b278df79565c"
      },
      "execution_count": null,
      "outputs": [
        {
          "output_type": "execute_result",
          "data": {
            "text/plain": [
              "0.5889138566872834"
            ]
          },
          "metadata": {},
          "execution_count": 63
        }
      ]
    },
    {
      "cell_type": "code",
      "source": [
        "np.dot(embedding3, embedding5)"
      ],
      "metadata": {
        "colab": {
          "base_uri": "https://localhost:8080/"
        },
        "id": "Z4T1qJLo4bxF",
        "outputId": "4b9f5347-63d7-4238-f3e9-def08e5d4b25"
      },
      "execution_count": null,
      "outputs": [
        {
          "output_type": "execute_result",
          "data": {
            "text/plain": [
              "0.5967143756157314"
            ]
          },
          "metadata": {},
          "execution_count": 64
        }
      ]
    },
    {
      "cell_type": "code",
      "source": [],
      "metadata": {
        "id": "QgCNIhr14xYu"
      },
      "execution_count": null,
      "outputs": []
    },
    {
      "cell_type": "markdown",
      "source": [
        "## Embedding in Chroma Vector Store"
      ],
      "metadata": {
        "id": "uvaIEdbf8Qoe"
      }
    },
    {
      "cell_type": "markdown",
      "source": [
        "### Loading webpages.\n",
        "I loaded webpages from wikipedia for (Egypt, US, Russia, and Saudi Arabia) countries."
      ],
      "metadata": {
        "id": "gT59vX3SCBWK"
      }
    },
    {
      "cell_type": "code",
      "source": [
        "loaders = [\n",
        "    WebBaseLoader('https://en.wikipedia.org/wiki/Egypt'),\n",
        "    WebBaseLoader('https://en.wikipedia.org/wiki/Egypt'),\n",
        "    WebBaseLoader('https://en.wikipedia.org/wiki/United_States'),\n",
        "    WebBaseLoader('https://en.wikipedia.org/wiki/Russia'),\n",
        "    WebBaseLoader('https://en.wikipedia.org/wiki/Saudi_Arabia')\n",
        "]\n",
        "\n",
        "docs = []\n",
        "for loader in loaders:\n",
        "  docs.extend(loader.load())"
      ],
      "metadata": {
        "id": "vNcpl0Q07TvC"
      },
      "execution_count": null,
      "outputs": []
    },
    {
      "cell_type": "code",
      "source": [
        "docs[0].page_content"
      ],
      "metadata": {
        "colab": {
          "base_uri": "https://localhost:8080/"
        },
        "collapsed": true,
        "id": "XRr3Tfy39a-f",
        "outputId": "fb30d2ad-4b96-46c6-8227-d2a52046ee8b"
      },
      "execution_count": null,
      "outputs": [
        {
          "output_type": "execute_result",
          "data": {
            "text/plain": [
              "'\\n\\n\\n\\nEgypt - Wikipedia\\n\\n\\n\\n\\n\\n\\n\\n\\n\\n\\n\\n\\n\\n\\n\\n\\n\\n\\n\\n\\n\\n\\n\\n\\n\\n\\n\\n\\n\\n\\n\\n\\n\\n\\n\\nJump to content\\n\\n\\n\\n\\n\\n\\n\\nMain menu\\n\\n\\n\\n\\n\\nMain menu\\nmove to sidebar\\nhide\\n\\n\\n\\n\\t\\tNavigation\\n\\t\\n\\n\\nMain pageContentsCurrent eventsRandom articleAbout WikipediaContact us\\n\\n\\n\\n\\n\\n\\t\\tContribute\\n\\t\\n\\n\\nHelpLearn to editCommunity portalRecent changesUpload file\\n\\n\\n\\n\\n\\n\\n\\n\\n\\n\\n\\n\\n\\n\\n\\n\\n\\n\\n\\nSearch\\n\\n\\n\\n\\n\\n\\n\\n\\n\\n\\n\\nSearch\\n\\n\\n\\n\\n\\n\\n\\n\\n\\n\\n\\n\\n\\n\\n\\n\\n\\n\\n\\n\\n\\n\\nAppearance\\n\\n\\n\\n\\n\\n\\n\\n\\n\\n\\n\\n\\n\\n\\n\\n\\nDonate\\n\\nCreate account\\n\\nLog in\\n\\n\\n\\n\\n\\n\\n\\n\\nPersonal tools\\n\\n\\n\\n\\n\\nDonate Create account Log in\\n\\n\\n\\n\\n\\n\\t\\tPages for logged out editors learn more\\n\\n\\n\\nContributionsTalk\\n\\n\\n\\n\\n\\n\\n\\n\\n\\n\\n\\n\\n\\n\\n\\n\\n\\n\\n\\n\\n\\n\\n\\n\\n\\n\\n\\n\\nContents\\nmove to sidebar\\nhide\\n\\n\\n\\n\\n(Top)\\n\\n\\n\\n\\n\\n1\\nNames\\n\\n\\n\\n\\n\\n\\n\\n\\n2\\nHistory\\n\\n\\n\\n\\nToggle History subsection\\n\\n\\n\\n\\n\\n2.1\\nPrehistory and Ancient Egypt\\n\\n\\n\\n\\n\\n\\n\\n\\n2.2\\nPtolemaic and Roman Egypt\\n\\n\\n\\n\\n\\n\\n\\n\\n2.3\\nMiddle Ages (7th century ‚Äì 1517)\\n\\n\\n\\n\\n\\n\\n\\n\\n2.4\\nEarly modern period: Ottoman Egypt (1517‚Äì1867)\\n\\n\\n\\n\\n\\n\\n\\n\\n2.5\\nSultanate and Kingdom of Egypt\\n\\n\\n\\n\\n\\n\\n\\n\\n2.6\\nRepublican Egypt under Nasser (1952‚Äì1970)\\n\\n\\n\\n\\n\\n\\n\\n\\n2.7\\nEgypt under Sadat and Mubarak (1971‚Äì2011)\\n\\n\\n\\n\\n\\n\\n\\n\\n2.8\\nRevolution, political crisis and transition (2011‚ÄìPresent)\\n\\n\\n\\n\\n\\n\\n\\n\\n\\n\\n3\\nGeography\\n\\n\\n\\n\\nToggle Geography subsection\\n\\n\\n\\n\\n\\n3.1\\nClimate\\n\\n\\n\\n\\n\\n\\n\\n\\n3.2\\nBiodiversity\\n\\n\\n\\n\\n\\n\\n\\n\\n\\n\\n4\\nGovernment\\n\\n\\n\\n\\nToggle Government subsection\\n\\n\\n\\n\\n\\n4.1\\nMilitary and foreign relations\\n\\n\\n\\n\\n\\n\\n\\n\\n4.2\\nLaw\\n\\n\\n\\n\\n\\n\\n4.2.1\\nHuman rights\\n\\n\\n\\n\\n\\n\\n\\n\\n4.2.2\\nFreedom of the press\\n\\n\\n\\n\\n\\n\\n\\n\\n\\n\\n4.3\\nAdministrative divisions\\n\\n\\n\\n\\n\\n\\n\\n\\n\\n\\n5\\nEconomy\\n\\n\\n\\n\\nToggle Economy subsection\\n\\n\\n\\n\\n\\n5.1\\nTourism\\n\\n\\n\\n\\n\\n\\n\\n\\n5.2\\nEnergy\\n\\n\\n\\n\\n\\n\\n\\n\\n5.3\\nTransport\\n\\n\\n\\n\\n\\n\\n\\n\\n5.4\\nWater supply and sanitation\\n\\n\\n\\n\\n\\n\\n\\n\\n\\n\\n6\\nDemographics\\n\\n\\n\\n\\nToggle Demographics subsection\\n\\n\\n\\n\\n\\n6.1\\nEthnic groups\\n\\n\\n\\n\\n\\n\\n\\n\\n6.2\\nLanguages\\n\\n\\n\\n\\n\\n\\n\\n\\n6.3\\nReligion\\n\\n\\n\\n\\n\\n\\n\\n\\n6.4\\nEducation\\n\\n\\n\\n\\n\\n\\n\\n\\n6.5\\nHealth\\n\\n\\n\\n\\n\\n\\n\\n\\n6.6\\nLargest cities\\n\\n\\n\\n\\n\\n\\n\\n\\n\\n\\n7\\nCulture\\n\\n\\n\\n\\nToggle Culture subsection\\n\\n\\n\\n\\n\\n7.1\\nArts\\n\\n\\n\\n\\n\\n\\n\\n\\n7.2\\nLiterature\\n\\n\\n\\n\\n\\n\\n\\n\\n7.3\\nMedia\\n\\n\\n\\n\\n\\n\\n\\n\\n7.4\\nCinema\\n\\n\\n\\n\\n\\n\\n\\n\\n7.5\\nMusic\\n\\n\\n\\n\\n\\n\\n\\n\\n7.6\\nDances\\n\\n\\n\\n\\n\\n\\n\\n\\n7.7\\nMuseums\\n\\n\\n\\n\\n\\n\\n\\n\\n7.8\\nFestivals\\n\\n\\n\\n\\n\\n\\n\\n\\n7.9\\nCuisine\\n\\n\\n\\n\\n\\n\\n\\n\\n7.10\\nSports\\n\\n\\n\\n\\n\\n\\n\\n\\n\\n\\n8\\nSee also\\n\\n\\n\\n\\n\\n\\n\\n\\n9\\nNotes\\n\\n\\n\\n\\n\\n\\n\\n\\n10\\nReferences\\n\\n\\n\\n\\n\\n\\n\\n\\n11\\nExternal links\\n\\n\\n\\n\\nToggle External links subsection\\n\\n\\n\\n\\n\\n11.1\\nGovernment\\n\\n\\n\\n\\n\\n\\n\\n\\n11.2\\nHistory\\n\\n\\n\\n\\n\\n\\n\\n\\n11.3\\nTourism\\n\\n\\n\\n\\n\\n\\n\\n\\n11.4\\nMaps\\n\\n\\n\\n\\n\\n\\n\\n\\n\\n\\n\\n\\n\\n\\n\\n\\n\\n\\n\\n\\nToggle the table of contents\\n\\n\\n\\n\\n\\n\\n\\nEgypt\\n\\n\\n\\n296 languages\\n\\n\\n\\n\\nAc√®h–ê–¥—ã–≥–∞–±–∑—çAfrikaansAlemannisch·ä†·àõ·à≠·äõAnar√¢≈°kiel√¢‡§Ö‡§Ç‡§ó‡§ø‡§ï‡§æ√Ünglisc–ê‘•—Å—à”ô–∞ÿßŸÑÿπÿ±ÿ®Ÿäÿ©Aragon√©s‹ê‹™‹°‹ù‹ê‘±÷Ä’•÷Ç’¥’ø’°’∞’°’µ’•÷Ä’ß’∂Arpetan‡¶Ö‡¶∏‡¶Æ‡ßÄ‡¶Ø‡¶º‡¶æAsturianuAva√±e\\'·∫Ω–ê–≤–∞—ÄAymar aruAz…ôrbaycancaÿ™€Üÿ±⁄©ÿ¨ŸáBasa BaliBamanankan‡¶¨‡¶æ‡¶Ç‡¶≤‡¶æBanjarÈñ©ÂçóË™û / B√¢n-l√¢m-g√∫Basa Banyumasan–ë–∞—à“°–æ—Ä—Ç—Å–∞–ë–µ–ª–∞—Ä—É—Å–∫–∞—è–ë–µ–ª–∞—Ä—É—Å–∫–∞—è (—Ç–∞—Ä–∞—à–∫–µ–≤—ñ—Ü–∞)‡§≠‡•ã‡§ú‡§™‡•Å‡§∞‡•ÄBikol CentralBislama–ë—ä–ª–≥–∞—Ä—Å–∫–∏Boarisch‡Ωñ‡Ωº‡Ωë‡ºã‡Ω°‡Ω≤‡ΩÇBosanskiBrezhoneg–ë—É—Ä—è–∞–¥Catal√†–ß”ë–≤–∞—à–ª–∞Cebuanoƒåe≈°tinaChamoruChavacano de ZamboangaChiShonaChiTumbukaCorsuCymraegDagbanliDanskÿßŸÑÿØÿßÿ±ÿ¨ÿ©Davvis√°megiellaDeutschﬁãﬁ®ﬁàﬁ¨ﬁÄﬁ®ﬁÑﬁ¶ﬁêﬁ∞Din√© bizaadDolnoserbski‡§°‡•ã‡§ü‡•á‡§≤‡•ÄEestiŒïŒªŒªŒ∑ŒΩŒπŒ∫Œ¨–≠—Ä–∑—è–Ω—åEspa√±olEsperantoEstreme√±uEuskaraE\\xa0ãegbeFarefareŸÅÿßÿ±ÿ≥€åFiji HindiF√∏roysktFran√ßaisFryskFulfuldeFurlanGaeilgeGaelgGagauzG√†idhligGalego–ì”Ä–∞–ª–≥”Ä–∞–πË¥õË™ûGƒ©k≈©y≈©‡™ó‡´Å‡™ú‡™∞‡™æ‡™§‡´Ä\\uf8ffêå≤\\uf8ffêåø\\uf8ffêçÑ\\uf8ffêåπ\\uf8ffêçÉ\\uf8ffêå∫‡§ó‡•ã‡§Ç‡§Ø‡§ö‡•Ä ‡§ï‡•ã‡§Ç‡§ï‡§£‡•Ä / G√µychi KonknniÂÆ¢ÂÆ∂Ë™û / Hak-k√¢-ng√ÆÌïúÍµ≠Ïñ¥HausaHawai\\xa0ªi’Ä’°’µ’•÷Ä’•’∂‡§π‡§ø‡§®‡•ç‡§¶‡•ÄHornjoserbsceHrvatskiBahasa HulontaloIdoIgboIlokano‡¶¨‡¶ø‡¶∑‡ßç‡¶£‡ßÅ‡¶™‡ßç‡¶∞‡¶ø‡¶Ø‡¶º‡¶æ ‡¶Æ‡¶£‡¶ø‡¶™‡ßÅ‡¶∞‡ßÄBahasa IndonesiaInterlinguaInterlingueI√±upiatun–ò—Ä–æ–ΩIsiZulu√çslenskaItaliano◊¢◊ë◊®◊ô◊™JawaKab…©y…õ‡≤ï‡≤®‡≥ç‡≤®‡≤°Kapampangan·É•·Éê·É†·Éó·É£·Éö·Éò‡§ï‡•â‡§∂‡•Å‡§∞ / ⁄©Ÿ≤ÿ¥Ÿèÿ±Kasz√´bsczi“ö–∞–∑–∞“õ—à–∞KernowekIkirundiKiswahili–ö–æ–º–∏KongoKotavaKrey√≤l ayisyenKriy√≤l gwiyannenKurd√Æ–ö—ã—Ä–≥—ã–∑—á–∞–ö—ã—Ä—ã–∫ –º–∞—Ä—ãLadinLadino–õ–∞–∫–∫—É‡∫•‡∫≤‡∫ßLatinaLatvie≈°uL√´tzebuergesch–õ–µ–∑–≥–∏Lietuvi≈≥Li NihaLigureLimburgsLing√°laLingua Franca NovaLivvinkarjalaLa .lojban.LugandaLombardMagyarMadhur√¢‡§Æ‡•à‡§•‡§ø‡§≤‡•Ä–ú–∞–∫–µ–¥–æ–Ω—Å–∫–∏Malagasy‡¥Æ‡¥≤‡¥Ø‡¥æ‡¥≥‡¥ÇMaltiMƒÅori‡§Æ‡§∞‡§æ‡§†‡•Ä·Éõ·Éê·É†·Éí·Éê·Éö·É£·É†·ÉòŸÖÿµÿ±ŸâŸÖÿßÿ≤Ÿêÿ±ŸàŸÜ€åBahasa MelayuÍØÉÍØ§ÍØáÍØ© ÍØÇÍØ£ÍØüMinangkabauÈñ©Êù±Ë™û / M√¨ng-dƒïÃ§ng-ng·π≥ÃÑMirand√©s–ú–æ–∫—à–µ–Ω—å–ú–æ–Ω–≥–æ–ª·Äô·Äº·Äî·Ä∫·Äô·Ä¨·Äò·Ä¨·Äû·Ä¨Naij√°Na Vosa VakavitiNederlandsNedersaksies‡§®‡•á‡§™‡§æ‡§≤‡•Ä‡§®‡•á‡§™‡§æ‡§≤ ‡§≠‡§æ‡§∑‡§æÊó•Êú¨Ë™ûNapulitanoﬂíﬂûﬂè–ù–æ—Ö—á–∏–π–ΩNordfriiskNorsk bokm√•lNorsk nynorskNouormandNovialOccitan–û–ª—ã–∫ –º–∞—Ä–∏–π‡¨ì‡¨°‡¨º‡¨ø‡¨ÜOromooO\\xa0ªzbekcha / —û–∑–±–µ–∫—á–∞‡®™‡©∞‡®ú‡®æ‡®¨‡©Ä‡§™‡§æ‡§≤‡§øPangcahŸæŸÜÿ¨ÿßÿ®€åPapiamentuŸæ⁄öÿ™ŸàPatois·ûó·û∂·ûü·û∂·ûÅ·üí·ûò·üÇ·ûöPicardPiemont√®isPinayuananTok PisinPlattd√º√ºtschPolskiŒ†ŒøŒΩœÑŒπŒ±Œ∫Œ¨Portugu√™sQaraqalpaqshaQƒ±rƒ±mtatarcaReo tahitiRom√¢nƒÉRomani ƒçhibRumantschRuna Simi–†—É—Å–∏–Ω—å—Å–∫—ã–π–†—É—Å—Å–∫–∏–π–°–∞—Ö–∞ —Ç—ã–ª–∞SakizayaGagana Samoa‡§∏‡§Ç‡§∏‡•ç‡§ï‡•É‡§§‡§Æ‡•çS√§ng√∂·±•·±ü·±±·±õ·±ü·±≤·±§ÿ≥ÿ±ÿßÿ¶€å⁄©€åSarduScotsSeediqSeelterskSesothoSesotho sa LeboaSetswanaShqipSicilianu‡∑É‡∑í‡∂Ç‡∑Ñ‡∂ΩSimple Englishÿ≥ŸÜ⁄åŸäSiSwatiSlovenƒçinaSloven≈°ƒçina–°–ª–æ–≤—£–Ω—å—Å–∫—ä / ‚∞î‚∞é‚∞ë‚∞Ç‚∞°‚∞ê‚∞†‚∞î‚∞ç‚∞ü≈öl≈ØnskiSoomaaliga⁄©Ÿàÿ±ÿØ€åSranantongo–°—Ä–ø—Å–∫–∏ / srpskiSrpskohrvatski / —Å—Ä–ø—Å–∫–æ—Ö—Ä–≤–∞—Ç—Å–∫–∏SundaSuomiSvenskaTagalog‡Æ§‡ÆÆ‡Æø‡Æ¥‡ØçTacl·∏•itTaqbaylitTarand√≠ne–¢–∞—Ç–∞—Ä—á–∞ / tatar√ßa·ÅΩ·ÇÉ·Çá·Äû·ÇÉ·Çá·Äê·ÇÜ·Ä∏ Tayal‡∞§‡±Ü‡∞≤‡±Å‡∞ó‡±ÅTetun‡πÑ‡∏ó‡∏¢·âµ·åç·à≠·äõ–¢–æ“∑–∏–∫”£Lea faka-Tonga·è£·é≥·é©Tsets√™hest√¢heseT√ºrk√ßeT√ºrkmen√ßeTwiTyap–¢—ã–≤–∞ –¥—ã–ª–£–¥–º—É—Ä—ÇBasa Ugi–£–∫—Ä–∞—ó–Ω—Å—å–∫–∞ÿßÿ±ÿØŸàÿ¶€áŸäÿ∫€áÿ±⁄Ü€ï / UyghurcheVahcuenghV√®netoVeps√§n kel‚ÄôTi·∫øng Vi·ªátVolap√ºkV√µroWalonÊñáË®ÄWest-VlamsWinarayWolofÂê¥ËØ≠Xitsonga◊ô◊ô÷¥◊ì◊ô◊©Yor√πb√°Á≤µË™ûZazakiZe√™uws≈Ωemaitƒó≈°ka‰∏≠ÊñáOboloBatak TobaBetawiBatak MandailingGhanaian PidginJaku IbanKumoringTolƒ±≈üi‚µú‚¥∞‚µé‚¥∞‚µ£‚µâ‚µñ‚µú ‚µú‚¥∞‚µè‚¥∞‚µ°‚¥∞‚µ¢‚µú\\n\\nEdit links\\n\\n\\n\\n\\n\\n\\n\\n\\n\\n\\n\\nArticleTalk\\n\\n\\n\\n\\n\\nEnglish\\n\\n\\n\\n\\n\\n\\n\\n\\n\\n\\n\\n\\n\\n\\n\\n\\n\\nReadView sourceView history\\n\\n\\n\\n\\n\\n\\n\\nTools\\n\\n\\n\\n\\n\\nTools\\nmove to sidebar\\nhide\\n\\n\\n\\n\\t\\tActions\\n\\t\\n\\n\\nReadView sourceView history\\n\\n\\n\\n\\n\\n\\t\\tGeneral\\n\\t\\n\\n\\nWhat links hereRelated changesUpload fileSpecial pagesPermanent linkPage informationCite this pageGet shortened URLDownload QR code\\n\\n\\n\\n\\n\\n\\t\\tPrint/export\\n\\t\\n\\n\\nDownload as PDFPrintable version\\n\\n\\n\\n\\n\\n\\t\\tIn other projects\\n\\t\\n\\n\\nWikimedia CommonsWikinewsWikiquoteWikivoyageWikidata item\\n\\n\\n\\n\\n\\n\\n\\n\\n\\n\\n\\n\\n\\n\\n\\n\\n\\n\\n\\n\\n\\nAppearance\\nmove to sidebar\\nhide\\n\\n\\n\\n\\n\\n\\n\\n\\n\\nCoordinates: 26¬∞N 30¬∞E\\ufeff / \\ufeff26¬∞N 30¬∞E\\ufeff / 26; 30\\n\\n\\nFrom Wikipedia, the free encyclopedia\\n\\n\\nCountry in Northeast Africa and Southwest Asia\\nFor other uses, see Egypt (disambiguation).\\n\\n\\nArab Republic of Egyptÿ¨ŸÖŸáŸàÿ±Ÿäÿ© ŸÖÿµÿ± ÿßŸÑÿπÿ±ÿ®Ÿäÿ©\\xa0(Arabic)Jumh≈´riyyat Mi·π£r al-\\xa0ªArabiyyah\\n\\n\\nFlag\\n\\n\\n\\n Coat of arms\\n\\nAnthem:\\xa0Bilady, Bilady, Bilady\"ÿ®ŸÑÿßÿØŸäÿå ÿ®ŸÑÿßÿØŸäÿå ÿ®ŸÑÿßÿØŸä\"(English: My country, my country, my country)Capitaland largest cityCairo30¬∞2‚Ä≤N 31¬∞13‚Ä≤E\\ufeff / \\ufeff30.033¬∞N 31.217¬∞E\\ufeff / 30.033; 31.217Official\\xa0languagesArabic[1]National languageEgyptian Arabic[a]Religion See Religion in Egypt[b]Demonym(s)EgyptianGovernmentUnitary semi-presidential republic under an authoritarian regime[6][7][8][9][10]‚Ä¢\\xa0President Abdel Fattah el-Sisi‚Ä¢\\xa0Prime Minister Mostafa Madbouly\\nLegislatureParliament‚Ä¢\\xa0Upper houseSenate‚Ä¢\\xa0Lower houseHouse of RepresentativesEstablishment‚Ä¢\\xa0Unification of Upper and Lower Egypt[11][12] c. 3150 BC‚Ä¢\\xa0Fall of Memphis 343 BC‚Ä¢\\xa0Arab conquest 639‚Äì642‚Ä¢\\xa0Ayyubid dynasty & Mamluk Sultanate 1171/4‚Äì1517‚Ä¢\\xa0Muhammad Ali dynasty inaugurated 9 July 1805[13]‚Ä¢\\xa0Independence fromUnited Kingdom 28 February 1922‚Ä¢\\xa0Revolution Day 23 July 1952‚Ä¢\\xa0Republic declared 18 June 1953‚Ä¢\\xa0Current constitution 18 January 2014\\nArea ‚Ä¢\\xa0Total1,010,408[14][15]\\xa0km2 (390,121\\xa0sq\\xa0mi) (30th)‚Ä¢\\xa0Water\\xa0(%)0.632Population‚Ä¢\\xa02024[16] estimate 107,304,000 (14th)‚Ä¢\\xa02017[17]\\xa0census 94,798,827‚Ä¢\\xa0Density106.20/km2 (275.1/sq\\xa0mi) (106th)GDP\\xa0(PPP)2024\\xa0estimate‚Ä¢\\xa0Total $2.232 trillion[16] (18th)‚Ä¢\\xa0Per capita $20,799[16] (87th)GDP\\xa0(nominal)2024\\xa0estimate‚Ä¢\\xa0Total $380.044 billion[16] (42nd)‚Ä¢\\xa0Per capita $3,542[16] (132nd)Gini\\xa0(2019)\\xa031.9[18]medium inequalityHDI\\xa0(2022)\\xa00.728[19]high\\xa0(105th)CurrencyEgyptian pound (LE/E¬£/¬£E) (EGP)Time zoneUTC+2 (EGY)‚Ä¢\\xa0Summer\\xa0(DST)UTC+3 (EEST[c])Drives onrightCalling code+20ISO 3166 codeEGInternet TLD.egŸÖÿµÿ±.\\nEgypt (Arabic: ŸÖÿµÿ± Mi·π£r [mesÀÅr], Egyptian Arabic pronunciation: [m…ësÀ§r]), officially the Arab Republic of Egypt, is a transcontinental country spanning the northeast corner of Africa and the Sinai Peninsula in the southwest corner of Asia. It is bordered by the Mediterranean Sea to the north, the Gaza Strip of Palestine and Israel to the northeast, the Red Sea to the east, Sudan to the south, and Libya to the west. The Gulf of Aqaba in the northeast separates Egypt from Jordan and Saudi Arabia. Cairo is the capital and largest city of Egypt, while Alexandria, the second-largest city, is an important industrial and tourist hub at the Mediterranean coast.[20] At approximately 110 million inhabitants, Egypt is the 14th-most populated country in the world, and the third-most populated in Africa.\\nEgypt has one of the longest histories of any country, tracing its heritage along the Nile Delta back to the 6th‚Äì4th millennia BCE. Considered a cradle of civilisation, the Ancient Egypt saw some of the earliest developments of writing, agriculture, urbanisation, organised religion and central government.[21] Egypt was an early and important centre of Christianity, later adopting Islam from the seventh century onwards. Cairo became the capital of the Fatimid Caliphate in the tenth century, and of the provincial capital of the Mamluk Sultanate in the 13th century. Egypt then became part of the Ottoman Empire in 1517, before its local ruler Muhammad Ali established modern Egypt as an autonomous Khedivate in 1867. \\nThe country was then occupied by the British Empire along with Sudan and gained independence in 1922 as a monarchy. Following the 1952 revolution, Egypt declared itself a republic. For a brief period between 1958 and 1961 Egypt merged with Syria to form the United Arab Republic. Egypt fought several armed conflicts with Israel in 1948, 1956, 1967 and 1973, and occupied the Gaza Strip intermittently until 1967. In 1978, Egypt signed the Camp David Accords, which recognised Israel in exchange for its withdrawal from the occupied Sinai. After the Arab Spring, which led to the 2011 Egyptian revolution and overthrow of Hosni Mubarak, the country faced a protracted period of political unrest; this included the election in 2012 of a brief, short-lived Muslim Brotherhood-aligned Islamist government spearheaded by Mohamed Morsi, and its subsequent overthrow after mass protests in 2013.\\nThe current government, a semi-presidential republic led by Abdel Fattah el-Sisi since he was elected in 2014, has been described by a number of watchdogs as authoritarian and responsible for perpetuating the country\\'s poor human rights record. Islam is the official religion and Arabic is official language. Egypt is considered to be a regional power in the Middle East, North Africa and the Muslim world, and a middle power worldwide. It is a developing country. Egypt is a founding member of the United Nations, the Non-Aligned Movement, the Arab League, the African Union, Organisation of Islamic Cooperation, World Youth Forum, and a member of BRICS.[1][22][16]\\n\\n\\nNames\\nThe English name \"Egypt\" is derived from the Ancient Greek \"A√≠gyptos\" (\"Œë·º¥Œ≥œÖœÄœÑŒøœÇ\"), via Middle French \"Egypte\" and Latin \"Aegyptus\". It is reflected in early Greek Linear B tablets as \"a-ku-pi-ti-yo\".[23] The adjective \"aig√Ωpti-\"/\"aig√Ωptios\" was borrowed into Coptic as \"gyptios\", and from there into Arabic as \"qub·π≠ƒ´\", back formed into \"ŸÇÿ®ÿ∑\" (\"qub·π≠\"), whence English \"Copt\". Prominent Ancient Greek historian and Geographer, Strabo, provided a folk etymology stating that \"Œë·º¥Œ≥œÖœÄœÑŒøœÇ\" (Aig√Ωptios) had originally evolved as a compound from \"[A·º∞Œ≥Œ±ŒØŒøœÖ ·ΩëœÄœÑŒØœâœÇ] Error: {{Transliteration}}: transliteration text not Latin script (pos 2) (help)\" Aegaeou hupti≈çs, meaning \"Below the Aegean\".[24]\\n\"Mi·π£r\" (Arabic pronunciation: [misÀ§…æ]; \"ŸÖŸêÿµÿ±\") is the Classical Quranic Arabic and modern official name of Egypt, while \"Ma·π£r\" (Egyptian Arabic pronunciation: [m…ësÀ§…æ]; ŸÖŸéÿµÿ±) is the local pronunciation in Egyptian Arabic.[25]  The current name of Egypt, Misr/Misir/Misru, stems from the Ancient Semitic name for it. The term originally connoted \"Civilization\" or \"Metropolis\".[26] Classical Arabic Mi·π£r (Egyptian Arabic Ma·π£r) is directly cognate with the Biblical Hebrew Mi·π£r√°yƒ´m (◊û÷¥◊¶÷∞◊®÷∑◊ô÷¥◊ù / ◊û÷¥◊¶÷∞◊®÷∏◊ô÷¥◊ù), meaning \"the two straits\", a reference to the predynastic separation of Upper and Lower Egypt. Also mentioned in several Semitic languages as Mesru, Misir and Masar.[26] The oldest attestation of this name for Egypt is the Akkadian \"mi-i·π£-ru\" (\"mi·π£ru\")[27][28] related to mi·π£ru/mi·π£irru/mi·π£aru, meaning \"border\" or \"frontier\".[29] The Neo-Assyrian Empire used the derived term , Mu-·π£ur.[30]\\n\\nThe ancient Egyptian name of the country was      (\\uf8ffìÜé \\uf8ffìÖì \\uf8ffìèè\\uf8ffìäñ) km.t, which means black land, likely referring to the fertile black soils of the Nile flood plains, distinct from the deshret (⟨d≈°·πõt⟩), or \"red land\" of the desert.[31][32] This name is commonly vocalised as Kemet, but was probably pronounced [kuÀêmat] in ancient Egyptian.[33] The name is realised as K(h)ƒìm…ô (Bohairic Coptic: ‚≤≠‚≤è‚≤ô‚≤ì, Sahidic Coptic: ‚≤ï‚≤è‚≤ô‚≤â) in the Coptic stage of the Egyptian language, and appeared in early Greek as ŒßŒ∑ŒºŒØŒ± (Khƒìm√≠a).[34][35] Another name was ⟨tÍú£-mry⟩ \"land of the riverbank\".[36] The names of Upper and Lower Egypt were Ta-Sheme\\'aw (⟨tÍú£-≈°mÍú•w⟩) \"sedgeland\" and Ta-Mehew (⟨tÍú£ m·∏•w⟩) \"northland\", respectively.\\nHistory\\nMain article: History of Egypt\\nThis section may contain an excessive amount of intricate detail that may interest only a particular audience. Please help by spinning off or relocating any relevant information, and removing excessive detail that may be against Wikipedia\\'s inclusion policy. (September 2023) (Learn how and when to remove this message)\\nPrehistory and Ancient Egypt\\nMain articles: Prehistoric Egypt and Ancient Egypt\\nTemple of Derr ruins in 1960\\nThere is evidence of rock carvings along the Nile terraces and in desert oases. In the 10th millennium BCE, a culture of hunter-gatherers and fishers was replaced by a grain-grinding culture. Climate changes or overgrazing around 8000 BCE began to desiccate the pastoral lands of Egypt, forming the Sahara. Early tribal peoples migrated to the Nile River where they developed a settled agricultural economy and more centralised society.[37]\\nBy about 6000 BCE, a Neolithic culture took root in the Nile Valley.[38] During the Neolithic era, several predynastic cultures developed independently in Upper and Lower Egypt. The Badarian culture and the successor Naqada series are generally regarded as precursors to dynastic Egypt. The earliest known Lower Egyptian site, Merimda, predates the Badarian by about seven hundred years. Contemporaneous Lower Egyptian communities coexisted with their southern counterparts for more than two thousand years, remaining culturally distinct, but maintaining frequent contact through trade. The earliest known evidence of Egyptian hieroglyphic inscriptions appeared during the predynastic period on Naqada III pottery vessels, dated to about 3200 BCE.[39]\\n\\nThe Giza Necropolis is the oldest of the ancient Wonders and the only one still in existence.\\nA unified kingdom was founded c.\\u20093150 BCE by King Menes, leading to a series of dynasties that ruled Egypt for the next three millennia. Egyptian culture flourished during this long period and remained distinctively Egyptian in its religion, arts, language and customs. The first two ruling dynasties of a unified Egypt set the stage for the Old Kingdom period, c.\\u20092700‚Äì2200 BCE, which constructed many pyramids, most notably the Third Dynasty pyramid of Djoser and the Fourth Dynasty Giza pyramids.\\nThe First Intermediate Period ushered in a time of political upheaval for about 150 years.[40] Stronger Nile floods and stabilisation of government, however, brought back renewed prosperity for the country in the Middle Kingdom c.\\u20092040 BCE, reaching a peak during the reign of Pharaoh Amenemhat III. A second period of disunity heralded the arrival of the first foreign ruling dynasty in Egypt, that of the Semitic Hyksos. The Hyksos invaders took over much of Lower Egypt around 1650 BCE and founded a new capital at Avaris. They were driven out by an Upper Egyptian force led by Ahmose I, who founded the Eighteenth Dynasty and relocated the capital from Memphis to Thebes.\\nThe New Kingdom c.\\u20091550‚Äì1070 BCE began with the Eighteenth Dynasty, marking the rise of Egypt as an international power that expanded during its greatest extension to an empire as far south as Tombos in Nubia, and included parts of the Levant in the east. This period is noted for some of the most well known Pharaohs, including Hatshepsut, Thutmose III, Akhenaten and his wife Nefertiti, Tutankhamun and Ramesses II. The first historically attested expression of monotheism came during this period as Atenism. Frequent contacts with other nations brought new ideas to the New Kingdom. The country was later invaded and conquered by Libyans, Nubians and Assyrians, but native Egyptians eventually drove them out and regained control of their country.[41]\\n\\nThe Weighing of the Heart from the Book of the Dead of Ani\\nIn 525\\xa0BCE, the Achaemenid Empire, led by Cambyses II, began their conquest of Egypt, eventually capturing the pharaoh Psamtik III at the battle of Pelusium. Cambyses II then assumed the formal title of pharaoh, but ruled Egypt from his home of Susa in Persia (modern Iran), leaving Egypt under the control of a satrapy. The entire Twenty-seventh Dynasty of Egypt, from 525 to 402 BCE, save for Petubastis III, was an entirely Achaemenid-ruled period, with the Achaemenid emperors all being granted the title of pharaoh. A few temporarily successful revolts against the Achaemenids marked the fifth century BCE, but Egypt was never able to permanently overthrow the Achaemenids.[42]\\nThe Thirtieth Dynasty was the last native ruling dynasty during the Pharaonic epoch. It fell to the Achaemenids again in 343 BCE after the last native Pharaoh, King Nectanebo II, was defeated in battle. This Thirty-first Dynasty of Egypt, however, did not last long, as the Achaemenids were toppled several decades later by Alexander the Great. The Macedonian Greek general of Alexander, Ptolemy I Soter, founded the Ptolemaic dynasty.[43]\\n\\nPtolemaic and Roman Egypt\\nMain articles: Ptolemaic Kingdom and Roman Egypt\\nThe Ptolemaic Queen Cleopatra VII and her son by Julius Caesar, Caesarion, at the Temple of Dendera\\nThe Ptolemaic Kingdom was a powerful Hellenistic state, extending from southern Syria in the east, to Cyrene to the west, and south to the frontier with Nubia. Alexandria became the capital city and a centre of Greek culture and trade. To gain recognition by the native Egyptian populace, they named themselves as the successors to the Pharaohs. The later Ptolemies took on Egyptian traditions, had themselves portrayed on public monuments in Egyptian style and dress, and participated in Egyptian religious life.[44][45]\\nThe last ruler from the Ptolemaic line was Cleopatra VII, who committed suicide following the burial of her lover Mark Antony, after Octavian had captured Alexandria and her mercenary forces had fled.\\nThe Ptolemies faced rebellions of native Egyptians and were involved in foreign and civil wars that led to the decline of the kingdom and its annexation by Rome.\\nChristianity was brought to Egypt by Saint Mark the Evangelist in the 1st century.[46] Diocletian\\'s reign (284‚Äì305 CE) marked the transition from the Roman to the Byzantine era in Egypt, when a great number of Egyptian Christians were persecuted. The New Testament had by then been translated into Egyptian. After the Council of Chalcedon in CE 451, a distinct Egyptian Coptic Church was firmly established.[47]\\n\\nMiddle Ages (7th century ‚Äì 1517)\\nMain article: Egypt in the Middle Ages\\nThe Amr ibn al-As mosque in Cairo, recognised as the oldest in Africa\\nThe Byzantines were able to regain control of the country after a brief Sasanid Persian invasion early in the 7th century amidst the Byzantine‚ÄìSasanian War of 602‚Äì628 during which they established a new short-lived province for ten years known as Sasanian Egypt, until 639‚Äì42, when Egypt was invaded and\\nconquered by the Islamic caliphate by the Muslim Arabs. When they defeated the Byzantine armies in Egypt, the Arabs brought Islam to the country. Some time during this period, Egyptians began to blend in their new faith with indigenous beliefs and practices, leading to various Sufi orders that have flourished to this day.[46] These earlier rites had survived the period of Coptic Christianity.[48]\\nIn 639 an army was sent in Egypt by the second caliph, Umar, under the command of Amr ibn al-As. They defeated a Roman army at the battle of Heliopolis. Amr next proceeded in the direction of Alexandria, which surrendered to him by a treaty signed on 8 November 641. Alexandria was regained for the Byzantine Empire in 645 but was retaken by Amr in 646. In 654 an invasion fleet sent by Constans II was repulsed.\\n\\nThe Arabs founded the capital of Egypt called Fustat, which was later burned down during the Crusades. Cairo was later built in the year 986 to grow to become the largest and richest city in the Arab caliphate, second only to Baghdad.The Ibn Tulun Mosque in Cairo, of Ahmad Ibn Tulun\\nThe Abbasid period was marked by new taxations, and the Copts revolted again in the fourth year of Abbasid rule. At the beginning of the 9th century the practice of ruling Egypt through a governor was resumed under Abdallah ibn Tahir, who decided to reside at Baghdad, sending a deputy to Egypt to govern for him. In 828 another Egyptian revolt broke out, and in 831 the Copts joined with native Muslims against the government. Eventually the power loss of the Abbasids in Baghdad led for general upon general to take over rule of Egypt, yet being under Abbasid allegiance, the Tulunid dynasty (868‚Äì905) and Ikhshidid dynasty (935‚Äì969) were among the most successful to defy the Abbasid Caliph.The Al-Hakim Mosque in Cairo, of Al-Hakim bi-Amr Allah, the sixth caliph, as renovated by Dawoodi Bohra \\nMuslim rulers remained in control of Egypt for the next six centuries, with Cairo as the seat of the Fatimid Caliphate. With the end of the Ayyubid dynasty, the Mamluks, a Turco-Circassian military caste, took control about 1250. By the late 13th century, Egypt linked the Red Sea, India, Malaya, and East Indies.[49] The mid-14th-century Black Death killed about 40% of the country\\'s population.[50]\\n\\nEarly modern period: Ottoman Egypt (1517‚Äì1867)\\nMain article: Egypt Eyalet\\nNapoleon defeated the Mamluk troops in the Battle of the Pyramids, 21 July 1798, painted by Lejeune.\\nEgypt was conquered by the Ottoman Turks in 1517, after which it became a province of the Ottoman Empire. The defensive militarisation damaged its civil society and economic institutions.[49] The weakening of the economic system combined with the effects of plague left Egypt vulnerable to foreign invasion. Portuguese traders took over their trade.[49] Between 1687 and 1731, Egypt experienced six famines.[51] The 1784 famine cost it roughly one-sixth of its population.[52] Egypt was always a difficult province for the Ottoman Sultans to control, due in part to the continuing power and influence of the Mamluks, the Egyptian military caste who had ruled the country for centuries. Egypt remained semi-autonomous under the Mamluks until it was invaded by the French forces of Napoleon Bonaparte in 1798. After the French were defeated by the British, a three-way power struggle ensued between the Ottoman Turks, Egyptian Mamluks who had ruled Egypt for centuries, and Albanian mercenaries in the service of the Ottomans. \\n\\nMuhammad Ali was the founder of the Muhammad Ali dynasty and the first Khedive of Egypt and Sudan.\\nAfter the French were expelled, power was seized in 1805 by Muhammad Ali Pasha, an Albanian military commander of the Ottoman army in Egypt. Muhammad Ali massacred the Mamluks and established a dynasty that was to rule Egypt until the revolution of 1952. The introduction in 1820 of long-staple cotton transformed its agriculture into a cash-crop monoculture before the end of the century, concentrating land ownership and shifting production towards international markets.[53] Muhammad Ali annexed Northern Sudan (1820‚Äì1824), Syria (1833), and parts of Arabia and Anatolia; but in 1841 the European powers, fearful lest he topple the Ottoman Empire itself, forced him to return most of his conquests to the Ottomans. His military ambition required him to modernise the country: he built industries, a system of canals for irrigation and transport, and reformed the civil service.[53] He constructed a military state with around four percent of the populace serving the army to raise Egypt to a powerful positioning in the Ottoman Empire in a way showing various similarities to the Soviet strategies (without communism) conducted in the 20th century.[54]\\n\\nEgypt under Muhammad Ali dynasty\\nMuhammad Ali Pasha evolved the military from one that convened under the tradition of the corv√©e to a great modernised army. He introduced conscription of the male peasantry in 19th century Egypt, and took a novel approach to create his great army, strengthening it with numbers and in skill. Education and training of the new soldiers became mandatory; the new concepts were furthermore enforced by isolation. The men were held in barracks to avoid distraction of their growth as a military unit to be reckoned with. The resentment for the military way of life eventually faded from the men and a new ideology took hold, one of nationalism and pride. It was with the help of this newly reborn martial unit that Muhammad Ali imposed his rule over Egypt.[55] The policy that Mohammad Ali Pasha followed during his reign explains partly why the numeracy in Egypt compared to other North-African and Middle-Eastern countries increased only at a remarkably small rate, as investment in further education only took place in the military and industrial sector.[56] Muhammad Ali was succeeded briefly by his son Ibrahim (in September 1848), then by a grandson Abbas I (in November 1848), then by Said (in 1854), and Isma\\'il (in 1863) who encouraged science and agriculture and banned slavery in Egypt.[54]\\nEgypt under the Muhammad Ali dynasty remained nominally an Ottoman province. It was granted the status of an autonomous vassal state or Khedivate (1867‚Äì1914) in 1867. The Suez Canal, built in partnership with the French, was completed in 1869. Its construction was financed by European banks. Large sums also went to patronage and corruption. New taxes caused popular discontent. In 1875 Isma\\'il avoided bankruptcy by selling all Egypt\\'s shares in the canal to the British government. Within three years this led to the imposition of British and French controllers who sat in the Egyptian cabinet, and, \"with the financial power of the bondholders behind them, were the real power in the Government.\"[57] Other circumstances like epidemic diseases (cattle disease in the 1880s), floods and wars drove the economic downturn and increased Egypt\\'s dependency on foreign debt even further.[58]\\n\\nThe battle of Tel el-Kebir in 1882 during the Anglo-Egyptian War\\nLocal dissatisfaction with the Khedive and with European intrusion led to the formation of the first nationalist groupings in 1879, with Ahmed \\xa0ªUrabi a prominent figure. After increasing tensions and nationalist revolts, the United Kingdom invaded Egypt in 1882, crushing the Egyptian army at the Battle of Tell El Kebir and militarily occupying the country.[59] Following this, the Khedivate became a de facto British protectorate under nominal Ottoman sovereignty.[60] In 1899 the Anglo-Egyptian Condominium Agreement was signed: the Agreement stated that Sudan would be jointly governed by the Khedivate of Egypt and the United Kingdom. However, actual control of Sudan was in British hands only. In 1906, the Denshawai incident prompted many neutral Egyptians to join the nationalist movement.\\n\\nSultanate and Kingdom of Egypt\\nMain articles:  Sultanate of Egypt (1914‚Äì1922) and Kingdom of Egypt (1922‚Äì1953)Fuad I of Egypt with Edward, Prince of Wales, 1932 British infantry near El Alamein, 17 July 1942\\nIn 1914 the Ottoman Empire entered World War I in alliance with the Central Empires; Khedive Abbas II (who had grown increasingly hostile to the British in preceding years) decided to support the motherland in war. Following such decision, the British forcibly removed him from power and replaced him with his brother Hussein Kamel.[61][62] Hussein Kamel declared Egypt\\'s independence from the Ottoman Empire, assuming the title of Sultan of Egypt. Shortly following independence, Egypt was declared a protectorate of the United Kingdom.Female nationalists demonstrating in Cairo, 1919\\nAfter World War I, Saad Zaghlul and the Wafd Party led the Egyptian nationalist movement to a majority at the local Legislative Assembly. When the British exiled Zaghlul and his associates to Malta on 8 March 1919, the country arose in its first modern revolution. The revolt led the UK government to issue a unilateral declaration of Egypt\\'s independence on 22 February 1922.[63] Following independence from the United Kingdom, Sultan Fuad I assumed the title of King of Egypt; despite being nominally independent, the Kingdom was still under British military occupation and the UK still had great influence over the state. The new government drafted and implemented a constitution in 1923 based on a parliamentary system. The nationalist Wafd Party won a landslide victory in the 1923‚Äì1924 election and Saad Zaghloul was appointed as the new prime minister. In 1936, the Anglo-Egyptian Treaty was concluded and British troops withdrew from Egypt, except for the Suez Canal. The treaty did not resolve the question of Sudan, which, under the terms of the existing Anglo-Egyptian Condominium Agreement of 1899, stated that Sudan should be jointly governed by Egypt and Britain, but with real power remaining in British hands.[64]\\nBritain used Egypt as a base for Allied operations throughout the region, especially the battles in North Africa against Italy and Germany. Its highest priorities were control of the Eastern Mediterranean, and especially keeping the Suez Canal open for merchant ships and for military connections with India and Australia. When the war began in September 1939, Egypt declared martial law and broke off diplomatic relations with Germany. It broke diplomatic relations with Italy in 1940, but never declared war, even when the Italian army invaded Egypt. The Egyptian army did no fighting. In June 1940 the King dismissed Prime Minister Aly Maher, who got on poorly with the British. A new coalition Government was formed with the Independent Hassan Pasha Sabri as prime minister.\\nFollowing a ministerial crisis in February 1942, the ambassador Sir Miles Lampson, pressed Farouk to have a Wafd or Wafd-coalition government replace Hussein Sirri Pasha\\'s government. On the night of 4 February 1942, British troops and tanks surrounded Abdeen Palace in Cairo and Lampson presented Farouk with an ultimatum. Farouk capitulated, and Nahhas formed a government shortly thereafter.\\nMost British troops were withdrawn to the Suez Canal area in 1947 (although the British army maintained a military base in the area), but nationalist, anti-British feelings continued to grow after the War. Anti-monarchy sentiments further increased following the disastrous performance of the Kingdom in the First Arab-Israeli War. The 1950 election saw a landslide victory of the nationalist Wafd Party and the King was forced to appoint Mostafa El-Nahas as new prime minister. In 1951 Egypt unilaterally withdrew from the Anglo-Egyptian Treaty of 1936 and ordered all remaining British troops to leave the Suez Canal.\\nAs the British refused to leave their base around the Suez Canal, the Egyptian government cut off the water and refused to allow food into the Suez Canal base, announced a boycott of British goods, forbade Egyptian workers from entering the base and sponsored guerrilla attacks. On 24 January 1952, Egyptian guerrillas staged a fierce attack on the British forces around the Suez Canal, during which the Egyptian Auxiliary Police were observed helping the guerrillas. In response, on 25 January, General George Erskine sent out British tanks and infantry to surround the auxiliary police station in Ismailia. The police commander called the Interior Minister, Fouad Serageddin, Nahas\\'s right-hand man, to ask if he should surrender or fight. Serageddin ordered the police to fight \"to the last man and the last bullet\". The resulting battle saw the police station levelled and 43 Egyptian policemen killed together with 3 British soldiers. The Ismailia incident outraged Egypt. The next day, 26 January 1952 was \"Black Saturday\", as the anti-British riot was known, that saw much of downtown Cairo which the Khedive Ismail the Magnificent had rebuilt in the style of Paris, burned down. Farouk blamed the Wafd for the Black Saturday riot, and dismissed Nahas as prime minister the next day. He was replaced by Aly Maher Pasha.[65]\\nOn 22‚Äì23 July 1952, the Free Officers Movement, led by Muhammad Naguib and Gamal Abdel Nasser, launched a coup d\\'√©tat (Egyptian Revolution of 1952) against the king. Farouk I abdicated the throne to his son Fouad II, who was, at the time, a seven-month-old baby. The Royal Family left Egypt some days later and the Council of Regency, led by Prince Muhammad Abdel Moneim was formed. The council, however, held only nominal authority and the real power was actually in the hands of the Revolutionary Command Council, led by Naguib and Nasser. Popular expectations for immediate reforms led to the workers\\' riots in Kafr Dawar on 12 August 1952. Following a brief experiment with civilian rule, the Free Officers abrogated the monarchy and the 1923 constitution and declared Egypt a republic on 18 June 1953. Naguib was proclaimed as president, while Nasser was appointed as the new prime minister.\\n\\nRepublican Egypt under Nasser (1952‚Äì1970)\\nMain articles: History of republican Egypt and History of Egypt under Gamal Abdel Nasser\\nFollowing the 1952 Revolution by the Free Officers Movement, the rule of Egypt passed to military hands and all political parties were banned. On 18 June 1953, the Egyptian Republic was declared, with General Muhammad Naguib as the first President of the Republic, serving in that capacity for a little under one and a half years. Republic of Egypt (1953‚Äì1958) was declared.Egyptian President Gamal Abdel Nasser in Mansoura, 1960\\nNaguib was forced to resign in 1954 by Gamal Abdel Nasser\\xa0– a Pan-Arabist and the real architect of the 1952 movement\\xa0– and was later put under house arrest. After Naguib\\'s resignation, the position of president was vacant until the election of Nasser in 1956.[66] In October 1954, Egypt and the United Kingdom agreed to abolish the Anglo-Egyptian Condominium Agreement of 1899 and grant Sudan independence; the agreement came into force on 1 January 1956. Nasser assumed power as president in June 1956 and began dominating the history of modern Egypt. British forces completed their withdrawal from the occupied Suez Canal Zone on 13 June 1956. He nationalised the Suez Canal on 26 July 1956; his hostile approach towards Israel and economic nationalism prompted the beginning of the Second Arab-Israeli War (Suez Crisis), in which Israel (with support from France and the United Kingdom) occupied the Sinai peninsula and the Canal. The war came to an end because of US and USSR diplomatic intervention and the status quo was restored.Smoke rises from oil tanks beside the Suez Canal hit during the initial Anglo-French assault on Egypt, 5 November 1956.\\nIn 1958, Egypt and Syria formed a sovereign union known as the United Arab Republic. The union was short-lived, ending in 1961 when Syria seceded. During most of its existence, the United Arab Republic was also in a loose confederation with North Yemen (or the Mutawakkilite Kingdom of Yemen), known as the United Arab States. In the early 1960s, Egypt became fully involved in the North Yemen Civil War. Despite several military moves and peace conferences, the war sank into a stalemate.[67] In mid May 1967, the Soviet Union issued warnings to Nasser of an impending Israeli attack on Syria. Although the chief of staff Mohamed Fawzi verified them as \"baseless\",[68][69] Nasser took three successive steps that made the war virtually inevitable: on 14 May he deployed his troops in Sinai near the border with Israel, on 19 May he expelled the UN peacekeepers stationed in the Sinai Peninsula border with Israel, and on 23 May he closed the Straits of Tiran to Israeli shipping.[70] On 26 May Nasser declared, \"The battle will be a general one and our basic objective will be to destroy Israel\".[71]\\nThis prompted the beginning of the Third Arab Israeli War (Six-Day War) in which Israel attacked Egypt, and occupied Sinai Peninsula and the Gaza Strip, which Egypt had occupied since the 1948 Arab‚ÄìIsraeli War. During the 1967 war, an Emergency Law was enacted, and remained in effect until 2012, with the exception of an 18-month break in 1980/81.[72] Under this law, police powers were extended, constitutional rights suspended and censorship legalised.[73] At the time of the fall of the Egyptian monarchy in the early 1950s, less than half a million Egyptians were considered upper class and rich, four million middle class and 17 million lower class and poor.[74] Fewer than half of all primary-school-age children attended school, most of them being boys. Nasser\\'s policies changed this. Land reform and distribution, the dramatic growth in university education, and government support to national industries greatly improved social mobility and flattened the social curve. From academic year 1953‚Äì54 through 1965‚Äì66, overall public school enrolments more than doubled. Millions of previously poor Egyptians, through education and jobs in the public sector, joined the middle class. Doctors, engineers, teachers, lawyers, journalists, constituted the bulk of the swelling middle class in Egypt under Nasser.[74] During the 1960s, the Egyptian economy went from sluggish to the verge of collapse, the society became less free, and Nasser\\'s appeal waned considerably.[75]\\n\\nEgypt under Sadat and Mubarak (1971‚Äì2011)\\nMain articles: History of Egypt under Anwar Sadat and History of Egypt under Hosni Mubarak\\nEgyptian tanks advancing in the Sinai desert during the Yom Kippur War, 1973 Celebrating the signing of the 1978 Camp David Accords: Menachem Begin, Jimmy Carter, Anwar SadatIn 1970, President Nasser died and was succeeded by Anwar Sadat. During his period, Sadat switched Egypt\\'s Cold War allegiance from the Soviet Union to the United States, expelling the Soviet advisors in 1972. Egypt was renamed as Arab Republic of Egypt in 1971. Sadat launched the Infitah economic reform policy, while clamping down on religious and secular opposition. In 1973, Egypt, along with Syria, launched the Fourth Arab-Israeli War (Yom Kippur War), a surprise attack to regain part of the Sinai territory Israel had captured 6 years earlier. In 1975, Sadat shifted Nasser\\'s economic policies and sought to use his popularity to reduce government regulations and encourage foreign investment through his programme of Infitah. Through this policy, incentives such as reduced taxes and import tariffs attracted some investors, but investments were mainly directed at low risk and profitable ventures like tourism and construction, abandoning Egypt\\'s infant industries.[76] Because of the elimination of subsidies on basic foodstuffs, it led to the 1977 Egyptian Bread Riots. Sadat made a historic visit to Israel in 1977, which led to the 1979 Egypt-Israel peace treaty in exchange for Israeli withdrawal from Sinai. In return, Egypt recognised Israel as a legitimate sovereign state. Sadat\\'s initiative sparked enormous controversy in the Arab world and led to Egypt\\'s expulsion from the Arab League, but it was supported by most Egyptians.[77] Sadat was assassinated by an Islamic extremist in October 1981. Hosni Mubarak ‚Äî president of Egypt from 1981 to 2011\\nHosni Mubarak came to power after the assassination of Sadat in a referendum in which he was the only candidate.[78] He became another leader to dominate the Egyptian history. Hosni Mubarak reaffirmed Egypt\\'s relationship with Israel yet eased the tensions with Egypt\\'s Arab neighbours. Domestically, Mubarak faced serious problems. Mass poverty and unemployment led rural families to stream into cities like Cairo where they ended up in crowded slums, barely managing to survive. On 25 February 1986, the Security Police started rioting, protesting against reports that their term of duty was to be extended from 3 to 4 years. Hotels, nightclubs, restaurants and casinos were attacked in Cairo and there were riots in other cities. A day time curfew was imposed. It took the army 3 days to restore order. 107 people were killed.[79]\\n\\nCairo grew into a metropolitan area with a population of over 20 million.\\nIn the 1980s, 1990s, and 2000s, terrorist attacks in Egypt became numerous and severe, and began to target Christian Copts, foreign tourists and government officials.[80] In the 1990s an Islamist group, Al-Gama\\'a al-Islamiyya, engaged in an extended campaign of violence, from the murders and attempted murders of prominent writers and intellectuals, to the repeated targeting of tourists and foreigners. Serious damage was done to the largest sector of Egypt\\'s economy‚Äîtourism[81]‚Äîand in turn to the government, but it also devastated the livelihoods of many of the people on whom the group depended for support.[82] During Mubarak\\'s reign, the political scene was dominated by the National Democratic Party, which was created by Sadat in 1978. It passed the 1993 Syndicates Law, 1995 Press Law, and 1999 Nongovernmental Associations Law which hampered freedoms of association and expression by imposing new regulations and draconian penalties on violations.[83] As a result, by the late 1990s parliamentary politics had become virtually irrelevant and alternative avenues for political expression were curtailed as well.[84] Cairo grew into a metropolitan area with a population of over 20 million.\\nOn 17 November 1997, 62 people, mostly tourists, were massacred near Luxor. In late February 2005, Mubarak announced a reform of the presidential election law, paving the way for multi-candidate polls for the first time since the 1952 movement.[85] However, the new law placed restrictions on the candidates, and led to Mubarak\\'s easy re-election victory.[86] Voter turnout was less than 25%.[87] Election observers also alleged government interference in the election process.[88] After the election, Mubarak imprisoned Ayman Nour, the runner-up.[89]\\nHuman Rights Watch\\'s 2006 report on Egypt detailed serious human rights violations under Mubarak\\'s rule, including routine torture, arbitrary detentions and trials before military and state security courts.[90] In 2007, Amnesty International released a report alleging that Egypt had become an international centre for torture, where other nations send suspects for interrogation, often as part of the War on Terror.[91] Egypt\\'s foreign ministry quickly issued a rebuttal to this report.[92] Constitutional changes voted on 19 March 2007 prohibited parties from using religion as a basis for political activity, allowed the drafting of a new anti-terrorism law, authorised broad police powers of arrest and surveillance, and gave the president power to dissolve parliament and end judicial election monitoring.[93] In 2009, Dr. Ali El Deen Hilal Dessouki, Media Secretary of the National Democratic Party (NDP), described Egypt as a \"pharaonic\" political system, and democracy as a \"long-term goal\". Dessouki also stated that \"the real center of power in Egypt is the military\".[citation needed]\\n\\nRevolution, political crisis and transition (2011‚ÄìPresent)\\nMain articles: 2011 Egyptian revolution, 2011 Egyptian parliamentary election, Egyptian Crisis (2011‚Äì2014), 2012 Egyptian presidential election, 2013 Egyptian protests, 2013 Egyptian coup d\\'√©tat, and 2014 Egyptian presidential election\\nTop: celebrations in Tahrir Square after the announcement of Hosni Mubarak\\'s resignation.Bottom: protests in Tahrir Square against President Morsi on 27 November 2012.\\nOn 25 January 2011, widespread protests began against Mubarak\\'s government. On 11 February 2011, Mubarak resigned and fled Cairo. Jubilant celebrations broke out in Cairo\\'s Tahrir Square at the news.[94] The Egyptian military then assumed the power to govern.[95][96] Mohamed Hussein Tantawi, chairman of the Supreme Council of the Armed Forces, became the de facto interim head of state.[97][98] On 13 February 2011, the military dissolved the parliament and suspended the constitution.[99]\\nA constitutional referendum was held on 19 March 2011.[100] On 28 November 2011, Egypt held its first parliamentary election since the previous regime had been in power. Turnout was high and there were no reports of major irregularities or violence.[101]\\nMohamed Morsi, who was affiliated with the Muslim Brotherhood, was elected president on 24 June 2012.[102] On 30 June 2012, Mohamed Morsi was sworn in as Egypt\\'s president.[103] On 2 August 2012, Egypt\\'s Prime Minister Hisham Qandil announced his 35-member cabinet comprising 28 newcomers, including four from the Muslim Brotherhood.[104] Liberal and secular groups walked out of the constituent assembly because they believed that it would impose strict Islamic practices, while Muslim Brotherhood backers threw their support behind Morsi.[105] On 22 November 2012, President Morsi issued a temporary declaration immunising his decrees from challenge and seeking to protect the work of the constituent assembly.[106]\\nThe move led to massive protests and violent action throughout Egypt.[107] On 5 December 2012, tens of thousands of supporters and opponents of President Morsi clashed, in what was described as the largest violent battle between Islamists and their foes since the country\\'s revolution.[108] Mohamed Morsi offered a \"national dialogue\" with opposition leaders but refused to cancel the December 2012 constitutional referendum.[109] On 3 July 2013, after a wave of public discontent with autocratic excesses of Morsi\\'s Muslim Brotherhood government,[110] the military removed Morsi from office, dissolved the Shura Council and installed a temporary interim government.[111]\\n\\nAlexandria in 2017\\nOn 4 July 2013, 68-year-old Chief Justice of the Supreme Constitutional Court of Egypt Adly Mansour was sworn in as acting president over the new government following the removal of Morsi.[112] The new Egyptian authorities cracked down on the Muslim Brotherhood and its supporters, jailing thousands and forcefully dispersing pro-Morsi and pro-Brotherhood protests.[113][114] Many of the Muslim Brotherhood leaders and activists have either been sentenced to death or life imprisonment in a series of mass trials.[115][116][117] On 18 January 2014, the interim government instituted a new constitution following a referendum approved by an overwhelming majority of voters (98.1%). 38.6% of registered voters participated in the referendum[118] a higher number than the 33% who voted in a referendum during Morsi\\'s tenure.[119]\\nIn the elections of June 2014 El-Sisi won with a percentage of 96.1%.[120] On 8 June 2014, Abdel Fatah el-Sisi was officially sworn in as Egypt\\'s new president.[121] Under President el-Sisi, Egypt has implemented a rigorous policy of controlling the border to the Gaza Strip, including the dismantling of tunnels between the Gaza strip and Sinai.[122] In April 2018, El-Sisi was re-elected by a landslide in election with no real opposition.[123] In April 2019, Egypt\\'s parliament extended presidential terms from four to six years. President Abdel Fattah al-Sisi was also allowed to run for a third term in the next election in 2024.[124]\\nUnder El-Sisi Egypt is said to have returned to authoritarianism. New constitutional reforms have been implemented, meaning strengthening the role of military and limiting the political opposition.[125] The constitutional changes were accepted in a referendum in April 2019.[126] In December 2020, final results of the parliamentary election confirmed a clear majority of the seats for Egypt\\'s Mostaqbal Watan (Nation\\'s Future) Party, which strongly supports president El-Sisi. The party even increased its majority, partly because of new electoral rules.[127]\\n\\nGeography\\nMain article: Geography of Egypt\\nEgypt\\'s topography\\nEgypt lies primarily between latitudes 22¬∞ and 32¬∞N, and longitudes 25¬∞ and 35¬∞E. At 1,001,450 square kilometres (386,660\\xa0sq\\xa0mi), it is the world\\'s 30th-largest country.[128] Due to the extreme aridity of Egypt\\'s climate, population centres are concentrated along the narrow Nile Valley and Delta, meaning that about 99% of the population uses about 5.5% of the total land area.[129] 98% of Egyptians live on 3% of the territory.[130]\\nEgypt is bordered by Libya to the west, the Sudan to the south, and the Gaza Strip and Israel to the east. A transcontinental nation, it possesses a land bridge (the Isthmus of Suez) between Africa and Asia, traversed by a navigable waterway (the Suez Canal) that connects the Mediterranean Sea with the Indian Ocean by way of the Red Sea.\\n\\nEgypt is the eighth most water stressed country in the world.\\nApart from the Nile Valley, the majority of Egypt\\'s landscape is desert, with a few oases scattered about. Winds create prolific sand dunes that peak at more than 30 metres (100\\xa0ft) high. Egypt includes parts of the Sahara desert and of the Libyan Desert.\\nSinai peninsula hosts the highest mountain in Egypt, Mount Catherine at 2,642 metres. The Red Sea Riviera, on the east of the peninsula, is renowned for its wealth of coral reefs and marine life.\\nTowns and cities include Alexandria, the second largest city; Aswan; Asyut; Cairo, the modern Egyptian capital and largest city; El Mahalla El Kubra; Giza, the site of the Pyramid of Khufu; Hurghada; Luxor; Kom Ombo; Port Safaga; Port Said; Sharm El Sheikh; Suez, where the south end of the Suez Canal is located; Zagazig; and Minya. Oases include Bahariya, Dakhla, Farafra, Kharga and Siwa. Protectorates include Ras Mohamed National Park, Zaranik Protectorate and Siwa.\\nOn 13 March 2015, plans for a proposed new capital of Egypt were announced.[131]\\n\\nClimate\\nMain article: Climate of Egypt\\nThe Qattara Depression in Egypt\\'s north west\\nMost of Egypt\\'s rain falls in the winter months.[132] South of Cairo, rainfall averages only around 2 to 5\\xa0mm (0.1 to 0.2\\xa0in) per year and at intervals of many years. On a very thin strip of the northern coast the rainfall can be as high as 410\\xa0mm (16.1\\xa0in),[133] mostly between October and March. Snow falls on Sinai\\'s mountains and some of the north coastal cities such as Damietta, Baltim and Sidi Barrani, and rarely in Alexandria. A very small amount of snow fell on Cairo on 13 December 2013, the first time in many decades.[134] Frost is also known in mid-Sinai and mid-Egypt.\\nEgypt has an unusually hot, sunny and dry climate. Average high temperatures are high in the north but very to extremely high in the rest of the country during summer. The cooler Mediterranean winds consistently blow over the northern sea coast, which helps to get more moderated temperatures, especially at the height of the summertime. The Khamaseen is a hot, dry wind that originates from the vast deserts in the south and blows in the spring or in the early summer. It brings scorching sand and dust particles, and usually brings daytime temperatures over 40\\xa0¬∞C (104\\xa0¬∞F) and sometimes over 50\\xa0¬∞C (122\\xa0¬∞F) in the interior, while the relative humidity can drop to 5% or even less.\\nPrior to the construction of the Aswan Dam, the Nile flooded annually, replenishing Egypt\\'s soil. This gave Egypt a consistent harvest throughout the years.\\nThe potential rise in sea levels due to global warming could threaten Egypt\\'s densely populated coastal strip and have grave consequences for the country\\'s economy, agriculture and industry. Combined with growing demographic pressures, a significant rise in sea levels could turn millions of Egyptians into environmental refugees by the end of the 21st century, according to some climate experts.[135][136]\\n\\nBiodiversity\\nMain article: Wildlife of Egypt\\nThe Eastern Imperial Eagle is the national animal of Egypt.\\nEgypt signed the Rio Convention on Biological Diversity on 9 June 1992, and became a party to the convention on 2 June 1994.[137] It has subsequently produced a National Biodiversity Strategy and Action Plan, which was received by the convention on 31 July 1998.[138] Where many CBD National Biodiversity Strategy and Action Plans neglect biological kingdoms apart from animals and plants,[139]\\nThe plan stated that the following numbers of species of different groups had been recorded from Egypt: algae (1483 species), animals (about 15,000 species of which more than 10,000 were insects), fungi (more than 627 species), monera (319 species), plants (2426 species), protozoans (371 species). For some major groups, for example lichen-forming fungi and nematode worms, the number was not known. Apart from small and well-studied groups like amphibians, birds, fish, mammals and reptiles, the many of those numbers are likely to increase as further species are recorded from Egypt. For the fungi, including lichen-forming species, for example, subsequent work has shown that over 2200 species have been recorded from Egypt, and the final figure of all fungi actually occurring in the country is expected to be much higher.[140] For the grasses, 284 native and naturalised species have been identified and recorded in Egypt.[141]\\n\\nGovernment\\nMain article: Politics of Egypt\\nAbdel Fattah el-Sisi is the current President of Egypt.\\nThe House of Representatives, whose members are elected to serve five-year terms, specialises in legislation. Elections were held between November 2011 and January 2012, which were later dissolved.\\nAfter a wave of public discontent with the autocratic excesses[clarification needed] of the Muslim Brotherhood government of President Mohamed Morsi,[110] on 3 July 2013 then-General Abdel Fattah el-Sisi announced the removal of Morsi from office and the suspension of the constitution. A 50-member constitution committee was formed for modifying the constitution, which was later published for public voting and was adopted on 18 January 2014.[142]\\nThe next parliamentary election was announced to be held within 6 months of the constitution\\'s ratification on 18 January 2014, and were held in two phases, from 17 October to 2 December 2015.[143] Originally, the parliament was to be formed before the president was elected, but interim president Adly Mansour pushed the date.[144] The 2014 Egyptian presidential election took place on 26‚Äì28 May. Official figures showed a turnout of 25,578,233 or 47.5%, with Abdel Fattah el-Sisi winning with 23.78 million votes, or 96.9% compared to 757,511 (3.1%) for Hamdeen Sabahi.[145]\\nIn 2024, as part of its Freedom in the World report, Freedom House rated political rights in Egypt at 6 (with 40 representing the most free and 0 the least), and civil liberties at 12 (with 60 being the highest score and 0 the lowest), which gave it the freedom rating of \"Not Free\".[146] According to the 2023 V-Dem Democracy indices Egypt is the eighth least democratic country in Africa.[147] The 2023 edition of The Economist Democracy Index categorises Egypt as an \"authoritarian regime\", with a score of 2.93.[148]\\nEgyptian nationalism predates its Arab counterpart by many decades, having roots in the 19th century and becoming the dominant mode of expression of Egyptian anti-colonial activists and intellectuals until the early 20th century.[149] The ideology espoused by Islamists such as the Muslim Brotherhood is mostly supported by the lower-middle strata of Egyptian society.[150]\\nEgypt has the oldest continuous parliamentary tradition in the Arab world.[151] The first popular assembly was established in 1866. It was disbanded as a result of the British occupation of 1882, and the British allowed only a consultative body to sit. In 1923, however, after the country\\'s independence was declared, a new constitution provided for a parliamentary monarchy.[151]\\n\\nMilitary and foreign relations\\nMain articles: Egyptian Armed Forces and Foreign relations of Egypt\\nEgyptian honour guard soldiers during a visit of U.S. Navy Adm. Mike Mullen\\nThe military is influential in the political and economic life of Egypt and exempts itself from laws that apply to other sectors. It enjoys considerable power, prestige and independence within the state and has been widely considered part of the Egyptian \"deep state\".[78][152][153]\\nEgypt is speculated by Israel to be the second country in the region with a spy satellite, EgyptSat 1[154] in addition to EgyptSat 2 launched on 16 April 2014.[155]\\n\\nTop: Former President Hosni Mubarak with former US President George W. Bush at Camp David in 2002.Bottom: President Abdel Fattah el-Sisi and Russian President Vladimir Putin in Sochi, August 2014.\\nThe United States provides Egypt with annual military assistance, which in 2015 amounted to US$1.3 billion.[156] In 1989, Egypt was designated as a major non-NATO ally of the United States.[157] Nevertheless, ties between the two countries have partially soured since the July 2013 overthrow of Islamist president Mohamed Morsi,[158] with the Obama administration denouncing Egypt over its crackdown on the Muslim Brotherhood, and cancelling future military exercises involving the two countries.[159] There have been recent attempts, however, to normalise relations between the two, with both governments frequently calling for mutual support in the fight against regional and international terrorism.[160][161][162] However, following the election of Republican Donald Trump as the President of the United States, the two countries were looking to improve the Egyptian-American relations. On 3 April 2017 al-Sisi met with Trump at the White House, marking the first visit of an Egyptian president to Washington in 8 years. Trump praised al-Sisi in what was reported as a public relations victory for the Egyptian president, and signaled it was time for a normalisation of the relations between Egypt and the US.[163]\\nRelations with Russia have improved significantly following Mohamed Morsi\\'s removal[164] and both countries have worked since then to strengthen military[165] and trade ties[166] among other aspects of bilateral co-operation. Relations with China have also improved considerably. In 2014, Egypt and China established a bilateral \"comprehensive strategic partnership\".[167]\\nThe permanent headquarters of the Arab League are located in Cairo and the body\\'s secretary general has traditionally been Egyptian. This position is currently held by former foreign minister Ahmed Aboul Gheit. The Arab League briefly moved from Egypt to Tunis in 1978 to protest the Egypt‚ÄìIsrael peace treaty, but it later returned to Cairo in 1989. Gulf monarchies, including the United Arab Emirates[168] and Saudi Arabia,[169] have pledged billions of dollars to help Egypt overcome its economic difficulties since the overthrow of Morsi.[170]\\n\\nPresident el-Sisi with US President Joe Biden, 11 November 2022\\nFollowing the 1973 war and the subsequent peace treaty, Egypt became the first Arab nation to establish diplomatic relations with Israel. Despite that, Israel is still widely considered as a hostile state by the majority of Egyptians.[171] Egypt has played a historical role as a mediator in resolving various disputes in the Middle East, most notably its handling of the Israeli‚ÄìPalestinian conflict and the peace process.[172] Egypt\\'s ceasefire and truce brokering efforts in Gaza have hardly been challenged following Israel\\'s evacuation of its settlements from the strip in 2005, despite increasing animosity towards the Hamas government in Gaza following the ouster of Mohamed Morsi,[173] and despite recent attempts by countries like Turkey and Qatar to take over this role.[174]\\nTies between Egypt and other non-Arab Middle Eastern nations, including Iran and Turkey, have often been strained. Tensions with Iran are mostly due to Egypt\\'s peace treaty with Israel and Iran\\'s rivalry with traditional Egyptian allies in the Gulf.[175] Turkey\\'s recent support for the now-banned Muslim Brotherhood in Egypt and its alleged involvement in Libya also made both countries bitter regional rivals.[176]\\nEgypt is a founding member of the Non-Aligned Movement and the United Nations. It is also a member of the Organisation internationale de la francophonie, since 1983. Former Egyptian Deputy Prime Minister Boutros Boutros-Ghali served as Secretary-General of the United Nations from 1991 to 1996.\\nIn 2008, Egypt was estimated to have two million African refugees, including over 20,000 Sudanese nationals registered with UNHCR as refugees fleeing armed conflict or asylum seekers. Egypt adopted \"harsh, sometimes lethal\" methods of border control.[177]\\n\\nLaw\\nMain article: Egyptian Civil Code\\nThe High Court of Justice in Downtown Cairo\\nThe legal system is based on Islamic and civil law (particularly Napoleonic codes); and judicial review by a Supreme Court, which accepts compulsory International Court of Justice jurisdiction only with reservations.[65]\\nIslamic jurisprudence is the principal source of legislation. Sharia courts and qadis are run and licensed by the Ministry of Justice.[178] The personal status law that regulates matters such as marriage, divorce and child custody is governed by Sharia. In a family court, a woman\\'s testimony is worth half of a man\\'s testimony.[179]\\nOn 26 December 2012, the Muslim Brotherhood attempted to institutionalise a controversial new constitution. It was approved by the public in a referendum held 15‚Äì22 December 2012 with 64% support, but with only 33% electorate participation.[180] It replaced the 2011 Provisional Constitution of Egypt, adopted following the revolution.\\nThe Penal code was unique as it contains a \"Blasphemy Law.\"[181] The present court system allows a death penalty including against an absent individual tried in absentia. Several Americans and Canadians were sentenced to death in 2012.[182]\\nOn 18 January 2014, the interim government successfully institutionalised a more secular constitution.[183] The president is elected to a four-year term and may serve 2 terms.[183] The parliament may impeach the president.[183] Under the constitution, there is a guarantee of gender equality and absolute freedom of thought.[183] The military retains the ability to appoint the national Minister of Defence for the next two full presidential terms since the constitution took effect.[183] Under the constitution, political parties may not be based on \"religion, race, gender or geography\".[183]\\n\\nHuman rights\\nMain article: Human rights in Egypt\\nSee also: Sudanese refugees in Egypt, August 2013 Rabaa massacre, and Persecution of Copts\\nIn 2003, the government established the National Council for Human Rights.[184] Shortly after its foundation, the council came under heavy criticism by local activists, who contend it was a propaganda tool for the government to excuse its own violations[185] and to give legitimacy to repressive laws such as the Emergency Law.[186]\\n\\nProtesters from the Third Square movement, which supported neither the former Morsi government nor the Armed Forces, 31 July 2013\\nThe Pew Forum on Religion & Public Life ranks Egypt as the fifth worst country in the world for religious freedom.[187][188] The United States Commission on International Religious Freedom, a bipartisan independent agency of the US government, has placed Egypt on its watch list of countries that require close monitoring due to the nature and extent of violations of religious freedom engaged in or tolerated by the government.[189] According to a 2010 Pew Global Attitudes survey, 84% of Egyptians polled supported the death penalty for those who leave Islam; 77% supported whippings and cutting off of hands for theft and robbery; and 82% support stoning a person who commits adultery.[190]\\nCoptic Christians face discrimination at multiple levels of the government, ranging from underrepresentation in government ministries to laws that limit their ability to build or repair churches.[191] Intolerance towards followers of the Bah√°\\xa0º√≠ Faith, and those of the non-orthodox Muslim sects, such as Sufis, Shi\\'a and Ahmadis, also remains a problem.[90] When the government moved to computerise identification cards, members of religious minorities, such as Bah√°\\xa0º√≠s, could not obtain identification documents.[192] An Egyptian court ruled in early 2008 that members of other faiths may obtain identity cards without listing their faiths, and without becoming officially recognised.[193]\\nClashes continued between police and supporters of former president Mohamed Morsi. During violent clashes that ensued as part of the August 2013 sit-in dispersal, 595 protesters were killed[194] with 14 August 2013 becoming the single deadliest day in Egypt\\'s modern history.[195]\\nEgypt actively practices capital punishment. Egypt\\'s authorities do not release figures on death sentences and executions, despite repeated requests over the years by human rights organisations.[196] The United Nations human rights office[197] and various NGOs[196][198] expressed \"deep alarm\" after an Egyptian Minya Criminal Court sentenced 529 people to death in a single hearing on 25 March 2014. Sentenced supporters of former president Mohamed Morsi were to be executed for their alleged role in violence following his removal in July 2013. The judgement was condemned as a violation of international law.[199] By May 2014, approximately 16,000 people (and as high as more than 40,000 by one independent count, according to The Economist),[200] mostly Brotherhood members or supporters, have been imprisoned after Morsi\\'s removal[201] after the Muslim Brotherhood was labelled as terrorist organisation by the post-Morsi interim Egyptian government.[202] According to human rights groups there are some 60,000 political prisoners in Egypt.[203][204]\\n\\nProminent Egyptian dissident Alaa Abd El-Fattah was sentenced to five years of imprisonment in December 2021.[205]\\nHomosexuality is illegal in Egypt.[206] According to a 2013 survey by the Pew Research Center, 95% of Egyptians believe that homosexuality should not be accepted by society.[207]\\nIn 2017, Cairo was voted the most dangerous megacity for women with more than 10 million inhabitants in a poll by Thomson Reuters Foundation. Sexual harassment was described as occurring on a daily basis.[208]\\n\\nFreedom of the press\\nReporters Without Borders ranked Egypt in their 2017 World Press Freedom Index at No. 160 out of 180 nations. At least 18 journalists were imprisoned in Egypt, as of August\\xa02015[update]. A new anti-terror law was enacted in August 2015 that threatens members of the media with fines ranging from about US$25,000 to $60,000 for the distribution of wrong information on acts of terror inside the country \"that differ from official declarations of the Egyptian Department of Defense\".[209]\\nSome critics of the government have been arrested for allegedly spreading false information about the COVID-19 pandemic in Egypt.[210][211]\\n\\nAdministrative divisions\\nMain articles: Governorates of Egypt and Subdivisions of Egypt\\nEgypt is divided into 27 governorates. The governorates are further divided into regions. The regions contain towns and villages. Each governorate has a capital, sometimes carrying the same name as the governorate.[212]\\n\\n Governorates of Egypt 1. Matrouh 2. Alexandria 3. Beheira 4. Kafr El Sheikh 5. Dakahlia 6. Damietta 7. Port Said 8. North Sinai 9. Gharbia 10. Monufia 11. Qalyubia 12. Sharqia 13. Ismailia 14. Giza 15. Faiyum 16. Cairo 17. Suez 18. South Sinai 19. Beni Suef 20. Minya 21. New Valley 22. Asyut 23. Red Sea 24. Sohag 25. Qena 26. Luxor 27. Aswan  \\nEconomy\\nMain article: Economy of Egypt\\nChange in per capita GDP of Egypt, 1820‚Äì2018. Figures are inflation-adjusted to 2011 International dollars.\\nEgypt\\'s economy depends mainly on agriculture, media, petroleum exports, natural gas, and tourism. There are also more than three million Egyptians working abroad, mainly in Libya, Saudi Arabia, the Persian Gulf and Europe. The completion of the Aswan High Dam in 1970 and the resultant Lake Nasser have altered the time-honoured place of the Nile River in the agriculture and ecology of Egypt. A rapidly growing population, limited arable land, and dependence on the Nile all continue to overtax resources and stress the economy. A diversified economy, which is the second largest in Africa, the 42nd-largest economy by nominal GDP and 132nd by nominal GDP per capita.\\nThe government has invested in communications and physical infrastructure. Egypt has received United States foreign aid since 1979 (an average of $2.2 billion per year) and is the third-largest recipient of such funds from the United States following the Iraq war. Egypt\\'s economy mainly relies on these sources of income: tourism, remittances from Egyptians working abroad and revenues from the Suez Canal.[213]\\nIn recent years, the Egyptian army has expanded its economic influence, dominating sectors such as petrol stations, fish-farming, car manufacturing, media, infrastructure including roads and bridges, and cement production. This hold on various industries has resulted in a suppression of competition, deterring private investment, and leading to adverse effects for ordinary Egyptians, including slower growth, higher prices, and limited opportunities.[214] The military-owned National Service Products Organization (NSPO) continues its expansion by establishing new factories dedicated to producing fertilisers, irrigation equipment, and veterinary vaccines. Businesses operated by the military, such as Wataniya and Safi, which manage petrol stations and bottled water, respectively, remain under government ownership.[215] In 2022, the Egyptian economy entered an ongoing crisis, the Egyptian pound was one of the worst performing currencies,[216] inflation. reached 32.6% and core inflation reached nearly 40% in March.[217]\\nEconomic conditions have started to improve considerably, after a period of stagnation, due to the adoption of more liberal economic policies by the government as well as increased revenues from tourism and a booming stock market. In its annual report, the International Monetary Fund (IMF) has rated Egypt as one of the top countries in the world undertaking economic reforms.[218] Some major economic reforms undertaken by the government since 2003 include a dramatic slashing of customs and tariffs. A new taxation law implemented in 2005 decreased corporate taxes from 40% to the current 20%, resulting in a stated 100% increase in tax revenue by 2006.\\n\\nSmart Village, a business district established in 2001 to facilitate the growth of high-tech businesses\\nAlthough one of the main obstacles still facing the Egyptian economy is the limited trickle down of wealth to the average population, many Egyptians criticise their government for higher prices of basic goods while their standards of living or purchasing power remains relatively stagnant. Corruption is often cited by Egyptians as the main impediment to further economic growth.[219][220] The government promised major reconstruction of the country\\'s infrastructure, using money paid for the newly acquired third mobile license ($3 billion) by Etisalat in 2006.[221] In the Corruption Perceptions Index 2013, Egypt was ranked 114 out of 177.[222]\\n\\nThe Suez Canal\\nAn estimated 2.7 million Egyptians abroad contribute actively to the development of their country through remittances (US$7.8 billion in 2009), as well as circulation of human and social capital and investment.[223] Remittances, money earned by Egyptians living abroad and sent home, reached a record US$21 billion in 2012, according to the World Bank.[224]\\nEgyptian society is moderately unequal in terms of income distribution, with an estimated 35‚Äì40% of Egypt\\'s population earning less than the equivalent of $2 a day, while only around 2‚Äì3% may be considered wealthy.[225]\\n\\nTourism\\nMain article: Tourism in Egypt\\nTourists riding an Arabian camel in front of Pyramid of Khafre. The Giza Necropolis is one of Egypt\\'s main tourist attractions.\\nTourism is one of the most important sectors in Egypt\\'s economy. More than 12.8 million tourists visited Egypt in 2008, providing revenues of nearly $11 billion. The tourism sector employs about 12% of Egypt\\'s workforce.[226] Tourism Minister Hisham Zaazou told industry professionals and reporters that tourism generated some $9.4 billion in 2012, a slight increase over the $9 billion seen in 2011.[227]\\nThe Giza Necropolis is one of Egypt\\'s best-known tourist attractions; it is the only one of the Seven Wonders of the Ancient World still in existence.\\nEgypt\\'s beaches on the Mediterranean and the Red Sea, which extend to over 3,000 kilometres (1,900 miles), are also popular tourist destinations; the Gulf of Aqaba beaches, Safaga, Sharm el-Sheikh, Hurghada, Luxor, Dahab, Ras Sidr and Marsa Alam are popular sites.\\n\\nEnergy\\nMain article: Energy in Egypt\\nAn offshore platform in the Darfeel Gas Field\\nEgypt has a developed energy market based on coal, oil, natural gas, and hydro power. Substantial coal deposits in the northeast Sinai are mined at the rate of about 600,000 tonnes (590,000 long tons; 660,000 short tons) per year. Oil and gas are produced in the western desert regions, the Gulf of Suez, and the Nile Delta. Egypt has huge reserves of gas, estimated at 2,180 cubic kilometres (520\\xa0cu\\xa0mi),[228] and LNG up to 2012 exported to many countries. In 2013, the Egyptian General Petroleum Co (EGPC) said the country will cut exports of natural gas and tell major industries to slow output this summer to avoid an energy crisis and stave off political unrest, Reuters has reported. Egypt is counting on top liquid natural gas (LNG) exporter Qatar to obtain additional gas volumes in summer, while encouraging factories to plan their annual maintenance for those months of peak demand, said EGPC chairman, Tarek El Barkatawy. Egypt produces its own energy, but has been a net oil importer since 2008 and is rapidly becoming a net importer of natural gas.[229]\\nEgypt produced 691,000\\xa0bbl/d of oil and 2,141.05\\xa0Tcf of natural gas in 2013, making the country the largest non-OPEC producer of oil and the second-largest dry natural gas producer in Africa. In 2013, Egypt was the largest consumer of oil and natural gas in Africa, as more than 20% of total oil consumption and more than 40% of total dry natural gas consumption in Africa. Also, Egypt possesses the largest oil refinery capacity in Africa 726,000\\xa0bbl/d (in 2012).[228]\\nEgypt is currently building its first nuclear power plant in El Dabaa, in the northern part of the country, with $25 billion in Russian financing.[230]\\n\\nTransport\\nMain article: Transport in Egypt\\nTransport in Egypt is centred around Cairo and largely follows the pattern of settlement along the Nile. The main line of the nation\\'s 40,800-kilometre (25,400\\xa0mi) railway network runs from Alexandria to Aswan and is operated by Egyptian National Railways. The vehicle road network has expanded rapidly to over 34,000\\xa0km (21,000\\xa0mi), consisting of 28 lines, 796 stations, 1800 trains covering the Nile Valley and Nile Delta, the Mediterranean and Red Sea coasts, the Sinai, and the Western oases.\\n\\nThe Cairo Metro (line 2) The Cairo Metro consists of three operational lines with a fourth line expected in the future.\\nEgyptAir, which is now the country\\'s flag carrier and largest airline, was founded in 1932 by Egyptian industrialist Talaat Harb, today owned by the Egyptian government. The airline is based at Cairo International Airport, its main hub, operating scheduled passenger and freight services to more than 75 destinations in the Middle East, Europe, Africa, Asia, and the Americas. The Current EgyptAir fleet includes 80 aeroplanes.The Suez Canal Bridge\\nThe Suez Canal is an artificial sea-level waterway in Egypt, connecting the Mediterranean Sea and the Red Sea. Opened in November 1869 after 10 years of construction work, it allows ship transport between Europe and Asia without navigation around Africa. The northern terminus is Port Said and the southern terminus is Port Tawfiq at the city of Suez. Ismailia lies on its west bank, 3 kilometres (1+7⁄8 miles) from the half-way point.\\nThe canal is 193.30\\xa0km (120+1⁄8\\xa0mi) long, 24 metres (79 feet) deep and 205\\xa0m (673\\xa0ft) wide as of 2010[update]. It consists of the northern access channel of 22\\xa0km (14\\xa0mi), the canal itself of 162.25\\xa0km (100+7⁄8\\xa0mi) and the southern access channel of 9\\xa0km (5+1⁄2\\xa0mi). The canal is a single lane with passing places in the Ballah By-Pass and the Great Bitter Lake. It contains no locks; seawater flows freely through the canal. On 26 August 2014 a proposal was made for opening a New Suez Canal. Work on the New Suez Canal was completed in July 2015.[231][232] The channel was officially inaugurated with a ceremony attended by foreign leaders and featuring military flyovers on 6 August 2015, in accordance with the budgets laid out for the project.[233][234]\\n\\nWater supply and sanitation\\nMain article: Water supply and sanitation in Egypt\\nGreen irrigated land along the Nile amidst the desert and in the delta\\nThe piped water supply in Egypt increased between 1990 and 2010 from 89% to 100% in urban areas and from 39% to 93% in rural areas despite rapid population growth. Over that period, Egypt achieved the elimination of open defecation in rural areas and invested in infrastructure. Access to an improved water source in Egypt is now practically universal with a rate of 99%. About one half of the population is connected to sanitary sewers.[235]\\nPartly because of low sanitation coverage about 17,000 children die each year because of diarrhoea.[236] Another challenge is low cost recovery due to water tariffs that are among the lowest in the world. This in turn requires government subsidies even for operating costs, a situation that has been aggravated by salary increases without tariff increases after the Arab Spring. Poor operation of facilities, such as water and wastewater treatment plants, as well as limited government accountability and transparency, are also issues.\\nDue to the absence of appreciable rainfall, Egypt\\'s agriculture depends entirely on irrigation. The main source of irrigation water is the river Nile of which the flow is controlled by the high dam at Aswan. It releases, on average, 55 cubic kilometres (45,000,000 acre¬∑ft) water per year, of which some 46 cubic kilometres (37,000,000 acre¬∑ft) are diverted into the irrigation canals.[237]\\nIn the Nile valley and delta, almost 33,600 square kilometres (13,000 sq mi) of land benefit from these irrigation waters producing on average 1.8 crops per year.[237]\\n\\nDemographics\\nMain articles: Demographics of Egypt and Egyptians\\nEgypt\\'s population density (people per km2)\\nEgypt is the most populated country in the Arab world and the third most populous on the African continent, with about 95 million inhabitants as of 2017[update].[238] Its population grew rapidly from 1970 to 2010 due to medical advances and increases in agricultural productivity[239] enabled by the Green Revolution.[240] Egypt\\'s population was estimated at 3 million when Napoleon invaded the country in 1798.[241] The great majority of its people live near the banks of the Nile River, an area of about 40,000 square kilometres (15,000\\xa0sq\\xa0mi), where the only arable land is found. The large regions of the Sahara desert, which constitute most of Egypt\\'s territory, are sparsely inhabited. About 43% of Egypt\\'s residents live across the country\\'s urban areas,[242] with most spread across the densely populated centres of greater Cairo, Alexandria and other major cities in the Nile Delta.\\nEgypt\\'s people are highly urbanised, being concentrated along the Nile (notably Cairo and Alexandria), in the Delta and near the Suez Canal. Egyptians are divided demographically into those who live in the major urban centres and the fellahin, or farmers, that reside in rural villages. The total inhabited area constitutes only 77,041 km¬≤, putting the physiological density at over 1,200 people per km2, similar to Bangladesh.\\nWhile emigration was restricted under Nasser, thousands of Egyptian professionals were dispatched abroad in the context of the Arab Cold War.[243] Egyptian emigration was liberalised in 1971, under President Sadat, reaching record numbers after the 1973 oil crisis.[244] An estimated 2.7 million Egyptians live abroad. Approximately 70% of Egyptian migrants live in Arab countries (923,600 in Saudi Arabia, 332,600 in Libya, 226,850 in Jordan, 190,550 in Kuwait with the rest elsewhere in the region) and the remaining 30% reside mostly in Europe and North America (318,000 in the United States, 110,000 in Canada and 90,000 in Italy).[223] The process of emigrating to non-Arab states has been ongoing since the 1950s.[245]\\n\\nEthnic groups\\nEthnic Egyptians are by far the largest ethnic group in the country, constituting 99.7% of the total population.[65] Ethnic minorities include the Abazas, Turks, Greeks, Bedouin Arab tribes living in the eastern deserts and the Sinai Peninsula, the Berber-speaking Siwis (Amazigh) of the Siwa Oasis, and the Nubian communities clustered along the Nile. There are also tribal Beja communities concentrated in the southeasternmost corner of the country, and a number of Dom clans mostly in the Nile Delta and Faiyum who are progressively becoming assimilated as urbanisation increases.\\nSome 5 million immigrants live in Egypt, mostly Sudanese, \"some of whom have lived in Egypt for generations\".[246] Smaller numbers of immigrants come from Iraq, Ethiopia, Somalia, South Sudan, and Eritrea.[246]\\nThe Office of the United Nations High Commissioner for Refugees estimated that the total number of \"people of concern\" (refugees, asylum seekers, and stateless people) was about 250,000. In 2015, the number of registered Syrian refugees in Egypt was 117,000, a decrease from the previous year.[246] Egyptian government claims that a half-million Syrian refugees live in Egypt are thought to be exaggerated.[246] There are 28,000 registered Sudanese refugees in Egypt.[246]\\nJewish communities in Egypt have almost disappeared. Several important Jewish archaeological and historical sites are found in Cairo, Alexandria and other cities.\\n\\nLanguages\\nMain article: Languages of Egypt\\nThe official language of Egypt is Literary Arabic.[247] The spoken languages are: Egyptian Arabic (68%), Sa\\'idi Arabic (29%), Eastern Egyptian Bedawi Arabic (1.6%), Sudanese Arabic (0.6%), Domari (0.3%), Nobiin (0.3%), Beja (0.1%), Siwi and others.[citation needed] Additionally, Greek, Armenian and Italian, and more recently, African languages like Amharic and Tigrigna are the main languages of immigrants.\\nThe main foreign languages taught in schools, by order of popularity, are English, French, German and Italian.\\nHistorically Egyptian was spoken, the latest stage of which is Coptic Egyptian. Spoken Coptic was mostly extinct by the 17th century but may have survived in isolated pockets in Upper Egypt as late as the 19th century. It remains in use as the liturgical language of the Coptic Orthodox Church of Alexandria.[248][249] It forms a separate branch among the family of Afroasiatic languages.\\n\\nReligion\\nMain article: Religion in Egypt\\nMadrasa-Mosque of Sultan Hassan\\nIslam is the state religion of Egypt, and the country has the largest Muslim population in the Arab world and the world\\'s sixth largest Muslim population, accounting for five percent of all Muslims worldwide.[250] Egypt also has the largest Christian population in the Middle East and North Africa.[251] Official data about religion is lacking due to social and political sensitivities.[252] An estimated 85‚Äì90% are identified as Muslim, 10‚Äì15% as Coptic Christians, and 1% as other Christian denominations; other estimates place the Christian population as high as 15‚Äì20%.[d]\\nEgypt was an early and leading center of Christianity into late antiquity; the Coptic Orthodox Church of Alexandria was founded in the first century and remains the largest church in the country. With the arrival of Islam in the seventh century, the country was gradually Islamised into a majority-Muslim country.[258][259] It is unknown when Muslims reached a majority, variously estimated from c.\\u20091000 CE to as late as the 14th century. Egypt emerged as a centre of politics and culture in the Muslim world. Under Anwar Sadat, Islam became the official state religion and Sharia the main source of law.[260]\\n\\nSt. Mark Coptic Cathedral in Alexandria\\nThe majority of Egyptian Muslims adhere to the Sunni branch of Islam. Nondenominational Muslims form roughly 12% of the population.[4][261] There is also a Shi\\'a minority. The Jerusalem Center for Public Affairs estimates the Shia population at 1 to 2.2 million[262] and could measure as much as 3 million.[263] The Ahmadiyya population is estimated at less than 50,000,[264] whereas the Salafi (ultra-conservative Sunni) population is estimated at five to six million.[265] Cairo is famous for its numerous mosque minarets and has been dubbed \"The City of 1,000 Minarets\".[266] The city also hosts Al-Azhar University, which is considered the preeminent institution of Islamic higher learning and jurisprudence;[267] founded in the late tenth century, it is by some measures the second oldest continuously operating university in the world.[268] It is estimated that 15 million Egyptians follow native Sufi orders,[269][270][271] with Sufi leadership asserting that the numbers are much greater, as many Egyptian Sufis are not officially registered with a Sufi order.[270] At least 305 people were killed during a November 2017 attack on a Sufi mosque in Sinai.[272]\\nOf the Christian population in Egypt over 90% belong to the native Coptic Orthodox Church of Alexandria, an Oriental Orthodox Christian Church.[273] Other native Egyptian Christians are adherents of the Coptic Catholic Church, the Evangelical Church of Egypt and various other Protestant denominations. Non-native Christian communities are largely found in the urban regions of Cairo and Alexandria, such as the Syro-Lebanese, who belong to Greek Catholic, Greek Orthodox, and Maronite Catholic denominations.[274]\\nThe Egyptian government recognises only three religions: Islam, Christianity, and Judaism. Other faiths and minority Muslim sects, such as the small Bah√°\\xa0º√≠ Faith and Ahmadiyya communities, are not recognised by the state and face persecution by the government, which labels these groups a threat to Egypt\\'s national security.[275][276] Individuals, particularly Bah√°\\xa0º√≠s and atheists, wishing to include their religion (or lack thereof) on their mandatory state issued identification cards are denied this ability, and were put in the position of either not obtaining required identification or lying about their faith. A 2008 court ruling allowed members of unrecognised faiths to obtain identification and leave the religion field blank.[192][193]\\n\\nEducation\\nMain article: Education in Egypt\\nEgyptian literacy rate among the population aged 15 years and older by UNESCO Institute of Statistics\\nIn 2022, Egypt\\'s adult literacy rate was 74.5%, compared to 71.1% in 2017.[277] Literacy is lowest among those over 60 years of age, at 35.1%, and highest among youth between 15 and 24 years of age, at 92.2%.[278]Cairo UniversityA European-style education system was first introduced in Egypt by the Ottomans in the early 19th century to nurture a class of loyal bureaucrats and army officers.[279] Under British occupation, investment in education was curbed drastically, and secular public schools, which had previously been free, began to charge fees.[279]\\nIn the 1950s, President Nasser phased in free education for all Egyptians.[279] The Egyptian curriculum influenced other Arab education systems, which often employed Egyptian-trained teachers.[279] Demand soon outstripped the level of available state resources, causing the quality of public education to deteriorate.[279] Today this trend has culminated in poor teacher‚Äìstudent ratios (often around one to fifty) and persistent gender inequality.[279]\\nBasic education, which includes six years of primary and three years of preparatory school, is a right for Egyptian children from the age of six.[280] After grade 9, students are tracked into one of two strands of secondary education: general or technical schools. General secondary education prepares students for further education, and graduates of this track normally join higher education institutes based on the results of the Thanaweya Amma, the leaving exam.[280]\\nTechnical secondary education has two strands, one lasting three years and a more advanced education lasting five. Graduates of these schools may have access to higher education based on their results on the final exam, but this is generally uncommon.[280]\\nCairo University is Egypt\\'s premier public university. The country is currently opening new research institutes with the aim of modernising scientific research and development; the most recent example is Zewail City of Science and Technology. Egypt was ranked 86th in the Global Innovation Index in 2024.[281]\\n\\nHealth\\nMain article: Health in Egypt\\nChildren\\'s Cancer Hospital Egypt\\nEgyptian life expectancy at birth was 73.20 years in 2011, or 71.30 years for males and 75.20 years for females. Egypt spends 3.7 percent of its gross domestic product on health including treatment costs 22 percent incurred by citizens and the rest by the state.[282] In 2010, spending on healthcare accounted for 4.66% of the country\\'s GDP. In 2009, there were 16.04 physicians and 33.80 nurses per 10,000 inhabitants.[283]\\nAs a result of modernisation efforts over the years, Egypt\\'s healthcare system has made great strides forward. Access to healthcare in both urban and rural areas greatly improved and immunisation programmes are now able to cover 98% of the population. Life expectancy increased from 44.8 years during the 1960s to 72.12 years in 2009. There was a noticeable decline of the infant mortality rate (during the 1970s to the 1980s the infant mortality rate was 101‚Äì132/1000 live births, in 2000 the rate was 50‚Äì60/1000, and in 2008 it was 28‚Äì30/1000).[284]\\nAccording to the World Health Organization in 2008, an estimated 91.1% of Egypt\\'s girls and women aged 15 to 49 have been subjected to genital mutilation,[285] despite being illegal in the country. In 2016 the law was amended to impose tougher penalties on those convicted of performing the procedure, pegging the highest jail term at 15 years. Those who escort victims to the procedure can also face jail terms up to 3 years.[286]\\nThe total number of Egyptians with health insurance reached 37 million in 2009, of which 11 million are minors, providing an insurance coverage of approximately 52 percent of Egypt\\'s population.[287]\\n\\nLargest cities\\nSee also: List of cities and towns in Egypt\\n\\n\\n\\n\\n\\xa0\\xa0 Largest cities or towns in Egypt2023 estimate\\n\\n\\n\\nRank\\n\\nName\\n\\nGovernorate\\n\\nPop.\\n\\nRank\\n\\nName\\n\\nGovernorate\\n\\nPop.\\n\\n\\n\\nCairoAlexandria\\n\\n1\\nCairo\\nCairo\\n9,801,536\\n11\\nFaiyum\\nFaiyum\\n531,861\\n\\nGizaShubra El Kheima\\n\\n\\n2\\nAlexandria\\nAlexandria\\n5,362,517\\n12\\nKhusus\\nQalyubia\\n502,864\\n\\n\\n3\\nGiza\\nGiza\\n4,458,135\\n13\\nZagazig\\n Sharqia\\n460,501\\n\\n\\n4\\nShubra El Kheima\\nQalyubia\\n1,275,700\\n14\\nIsmailia\\nIsmailia\\n450,388\\n\\n\\n5\\nPort Said\\nPort Said\\n791,749\\n15\\nAswan\\nAswan\\n401,890\\n\\n\\n6\\nSuez\\nSuez\\n716,458\\n16\\n 6 October\\nGiza\\n376,302\\n\\n\\n7\\nMansoura\\nDakahlia\\n632,330\\n17\\nDamanhur\\nBeheira\\n329,572\\n\\n\\n8\\nEl Mahalla El Kubra\\nGharbia\\n614,202\\n18\\nNew Cairo\\nCairo\\n319,488\\n\\n\\n9\\nTanta\\nGharbia\\n597,694\\n19\\nDamietta\\nDamietta\\n312,863\\n\\n\\n10\\nAsyut\\nAsyut\\n562,061\\n20\\nMinya\\nMinya\\n298,021\\n\\n\\nCulture\\nMain article: Culture of Egypt\\nEgypt is a recognised cultural trendsetter of the Arabic-speaking world. Contemporary Arabic and Middle-Eastern culture is heavily influenced by Egyptian literature, music, film and television. Egypt gained a regional leadership role during the 1950s and 1960s, giving a further enduring boost to the standing of Egyptian culture in the Arabic-speaking world.[288]\\n\\nAl-Azhar Park is listed as one of the world\\'s sixty great public spaces by the Project for Public Spaces.\\nEgyptian identity evolved in the span of a long period of occupation to accommodate Islam, Christianity and Judaism; and a new language, Arabic, and its spoken descendant, Egyptian Arabic which is also based on many Ancient Egyptian words.[289]\\nThe work of early 19th century scholar Rifa\\'a al-Tahtawi renewed interest in Egyptian antiquity and exposed Egyptian society to Enlightenment principles. Tahtawi co-founded with education reformer Ali Mubarak a native Egyptology school that looked for inspiration to medieval Egyptian scholars, such as Suyuti and Maqrizi, who themselves studied the history, language and antiquities of Egypt.[290]\\nEgypt\\'s renaissance peaked in the late 19th and early 20th centuries through the work of people like Muhammad Abduh, Ahmed Lutfi el-Sayed, Muhammad Loutfi Goumah, Tawfiq el-Hakim, Louis Awad, Qasim Amin, Salama Moussa, Taha Hussein and Mahmoud Mokhtar. They forged a liberal path for Egypt expressed as a commitment to personal freedom, secularism and faith in science to bring progress.[291]\\n\\nArts\\nThe \"weighing of the heart\" scene from the Book of the DeadSee also: Architecture of Egypt\\nThe Egyptians were one of the first major civilisations to codify design elements in art and architecture. Egyptian blue, also known as calcium copper silicate, is a pigment used by Egyptians for thousands of years. It is considered to be the first synthetic pigment. The wall paintings done in the service of the Pharaohs followed a rigid code of visual rules and meanings. Egyptian civilisation is renowned for its colossal pyramids, temples and monumental tombs.\\nWell-known examples are the Pyramid of Djoser designed by ancient architect and engineer Imhotep, the Sphinx, and the temple of Abu Simbel. Modern and contemporary Egyptian art can be as diverse as any works in the world art scene, from the vernacular architecture of Hassan Fathy and Ramses Wissa Wassef, to Mahmoud Mokhtar\\'s sculptures, to the distinctive Coptic iconography of Isaac Fanous. The Cairo Opera House serves as the main performing arts venue in the Egyptian capital.\\n\\nLiterature\\nMain article: Egyptian literature\\nNaguib Mahfouz, the first Arabic-language writer to win the Nobel Prize in Literature\\nEgyptian literature traces its beginnings to ancient Egypt and is some of the earliest known literature. Indeed, the Egyptians were the first culture to develop literature as we know it today, that is, the book.[292] It is an important cultural element in the life of Egypt. Egyptian novelists and poets were among the first to experiment with modern styles of Arabic literature, and the forms they developed have been widely imitated throughout the Arab world.[293] The first modern Egyptian novel Zaynab by Muhammad Husayn Haykal was published in 1913 in the Egyptian vernacular.[294] Egyptian novelist Naguib Mahfouz was the first Arabic-language writer to win the Nobel Prize in Literature. Egyptian women writers include Nawal El Saadawi, well known for her feminist activism, and Alifa Rifaat who also writes about women and tradition.\\nVernacular poetry is perhaps the most popular literary genre among Egyptians, represented by the works of Ahmed Fouad Negm (Fagumi), Salah Jaheen and Abdel Rahman el-Abnudi.[295]\\n\\nMedia\\nMain article: Media of Egypt\\nEgyptian media are highly influential throughout the Arab World, attributed to large audiences and increasing freedom from government control.[296][297] Freedom of the media is guaranteed in the constitution; however, many laws still restrict this right.[296][298]\\n\\nCinema\\nMain article: Cinema of Egypt\\nSalah Zulfikar, film star\\nSoad Hosny, film star\\nEgyptian cinema became a regional force with the coming of sound. In 1936, Studio Misr, financed by industrialist Talaat Harb, emerged as the leading Egyptian studio, a role the company retained for three decades.[299] For over 100 years, more than 4000 films have been produced in Egypt, three quarters of the total Arab production.[300][301] Egypt is considered the leading country in the field of cinema in the Arab world.[302] Actors from all over the Arab world seek to appear in the Egyptian cinema for the sake of fame. The Cairo International Film Festival has been rated as one of 11 festivals with a top class rating worldwide by the International Federation of Film Producers\\' Associations.[303]\\nThe number of cinemas increased with the emergence of talking films, and reached 395 in 1958. This number began to decline after the establishment of television in 1960 and the establishment of the public sector in cinemas in 1962, and reached 297 in 1965, then to 141 in 1995 due to the circulation of films through video equipment though the boom of the film industry in this period. Due to laws and procedures that encouraged investment in the establishment of private cinemas, they increased again, especially in commercial centres, until their number reached 200 in 2001 and 400 in 2009. Over a period of more than a hundred years, Egyptian cinema has presented more than four thousand films.[304][305]\\n\\nMusic\\nMain article: Music of Egypt\\nAncient Egyptians playing music\\nEgyptian music is a rich mixture of indigenous, Mediterranean, African and Western elements. It has been an integral part of Egyptian culture since antiquity. The ancient Egyptians credited one of their gods Hathor with the invention of music, which Osiris in turn used as part of his effort to civilise the world. Egyptians used music instruments since then.[306]\\nContemporary Egyptian music traces its beginnings to the creative work of people such as Abdu al-Hamuli, Almaz and Mahmoud Osman, who influenced the later work of Sayed Darwish, Umm Kulthum, Mohammed Abdel Wahab and Abdel Halim Hafez. Prominent contemporary Egyptian pop singers include Amr Diab and Mohamed Mounir.\\n\\nDances\\nTanoura dancers performing in Wekalet El Ghoury, Cairo\\nToday, Egypt is often considered the home of belly dance. Egyptian belly dance has two main styles ‚Äì raqs baladi and raqs sharqi. There are also numerous folkloric and character dances that may be part of an Egyptian-style belly dancer\\'s repertoire, as well as the modern shaabi street dance which shares some elements with raqs baladi.\\n\\nMuseums\\nMain article: List of museums in Egypt\\nThe Egyptian Museum of Cairo\\nEgypt has one of the oldest civilisations in the world. It has been in contact with many other civilisations and nations and has been through so many eras, starting from prehistoric age to the modern age, passing through so many ages such as Pharonic, Roman, Greek, Islamic and many other ages. At least 60 museums may be found in Egypt.\\n\\nTutankhamun\\'s burial mask is one of the major attractions of the Egyptian Museum of Cairo.\\nThe three main museums in Egypt are The Egyptian Museum which has more than 120,000 items, the Egyptian National Military Museum and the 6th of October Panorama.\\nThe Grand Egyptian Museum (GEM), also known as the Giza Museum, is an under construction museum that will house the largest collection of ancient Egyptian artifacts in the world, it has been described as the world\\'s largest archaeological museum.[307] The museum was scheduled to open in 2015 and will be sited on 50 hectares (120 acres) of land approximately two kilometres (1.2 miles) from the Giza Necropolis and is part of a new master plan for the plateau. The Minister of Antiquities Mamdouh al-Damaty announced in May 2015 that the museum will be partially opened in May 2018.[308]\\n\\nFestivals\\nEgypt celebrates many festivals and religious carnivals, also known as mulid. They are usually associated with a particular Coptic or Sufi saint, but are often celebrated by Egyptians irrespective of creed or religion.\\nThe ancient spring festival of Sham en Nisim (Coptic: œ¨‚≤±‚≤ô‚Äò‚≤õ‚≤õ‚≤ì‚≤•‚≤ì‚≤ô shom en nisim) has been celebrated by Egyptians for thousands of years, typically between the Egyptian months of Paremoude (April) and Pashons (May), following Easter Sunday.\\n\\nCuisine\\nMain article: Egyptian cuisine\\nKushari, one of Egypt\\'s national dishes\\nEgyptian cuisine relies heavily on legume and vegetable dishes. Although food in Alexandria and the coast of Egypt tends to use a great deal of fish and other seafood, for the most part Egyptian cuisine is based on foods that grow out of the ground. Meat has been very expensive for most Egyptians throughout history, so a great number of vegetarian dishes have been developed.\\nSome consider kushari (a mixture of rice, lentils, and macaroni) to be the national dish. In addition, ful medames (mashed fava beans) is one of the most popular dishes. Fava bean is also used in making falafel (also known as \"ta\\'miya\"), which may have originated in Egypt and spread to other parts of the Middle East. Garlic fried with coriander is added to molokhiya, a popular green soup made from finely chopped jute leaves, sometimes with chicken or rabbit.\\n\\nSports\\nA crowd at Cairo Stadium watching the Egypt national football team\\nFootball is the most popular national sport of Egypt. The Cairo Derby is one of the fiercest derbies in Africa, and the BBC picked it as one of the 7 toughest derbies in the world.[309] Al Ahly is the most successful club of the 20th century in the African continent according to CAF, closely followed by their rivals Zamalek SC. They are known as the \"African Club of the Century\". With twenty titles, Al Ahly is currently the world\\'s most successful club in terms of international trophies, surpassing Italy\\'s A.C. Milan and Argentina\\'s Boca Juniors, both having eighteen.[310]\\nThe Egyptian national football team, known as the Pharaohs, won the African Cup of Nations seven times, including three times in a row in 2006, 2008, and 2010. Considered the most successful African national team and one which has reached the top 10 of the FIFA world rankings, Egypt has qualified for the FIFA World Cup three times. Two goals from star player Mohamed Salah in their last qualifying game took Egypt through to the 2018 FIFA World Cup.[311] The Egyptian Youth National team Young Pharaohs won the Bronze Medal of the 2001 FIFA youth world cup in Argentina. Egypt was 4th place in the football tournament in the 1928 and the 1964 Olympics.\\nSquash and tennis are other popular sports in Egypt. The Egyptian squash team has been competitive in international championships since the 1930s. Amr Shabana, Ali Farag and Ramy Ashour are Egypt\\'s best players and all were ranked the world\\'s number one squash player. Egypt has won the Squash World Championships five times, with the last title being in 2019.\\nIn 1999, Egypt hosted the IHF World Men\\'s Handball Championship, and hosted it again in 2021. In 2001, the national handball team achieved its best result in the tournament by reaching fourth place. Egypt has won in the African Men\\'s Handball Championship five times, being the best team in Africa. In addition to that, it also championed the Mediterranean Games in 2013, the Beach Handball World Championships in 2004 and the Summer Youth Olympics in 2010.\\nAmong all African nations, the Egypt national basketball team holds the record for best performance at the Basketball World Cup and at the Summer Olympics.[312][313] Further, the team has won a record number of 16 medals at the African Championship.\\nEgypt has taken part in the Summer Olympic Games since 1912 and has hosted several other international competitions including the first Mediterranean Games in 1951, the 1991 All-Africa Games, the 2009 FIFA U-20 World Cup and the 1953, 1965 and 2007 editions of the Pan Arab Games.\\nEgypt featured a national team in beach volleyball that competed at the 2018‚Äì2020 CAVB Beach Volleyball Continental Cup in both the women\\'s and the men\\'s section.[314]\\n\\nSee also\\nIndex of Egypt-related articles\\nOutline of ancient Egypt\\nOutline of Egypt\\nNotes\\n\\n\\n^ Literary Arabic is the sole official language.[2] Egyptian Arabic is the spoken language. Other dialects and minority languages are spoken regionally.\\n\\n^ While Islam is the majority and official religion of the country, the size of the country\\'s historic Christian minority is highly controversial and disputed by various entities and groups. Estimates range from as low as 5% to as high as 20%. Since 2006, religion has been omitted from censuses after widespread claims that the figures had been distorted.[3][4][5]\\n\\n^ See Daylight saving time in Egypt.\\n\\n^ The population of Egypt is estimated as being 90% Muslim, 9% Coptic Christian and 1% other Christian, though estimates vary.[253][254][255] Microsoft Encarta Online similarly estimates the Sunni population at 90% of the total.[256] The Pew Forum on Religion and Public Life gave a higher estimate of the Muslim population, at 94.6%.[257] In 2017, the government-owned newspaper Al Ahram estimated the percentage of Christians at 10 to 15%.[4]\\n\\n\\nReferences\\n\\n\\n^ a b \"Constitution of The Arab Republic of Egypt 2014\" (PDF). sis.gov.eg. Archived (PDF) from the original on 18 July 2015. Retrieved 13 April 2017.\\n\\n^ \"Constitutional Declaration: A New Stage in the History of the Great Egyptian People\". Egypt State Information Service. 30 March 2011. Archived from the original on 27 April 2011. Retrieved 15 April 2011.\\n\\n^ \"How many Christians are there in Egypt?\". Pew Research Center. 16 February 2011. Archived from the original on 2 October 2019. Retrieved 19 March 2018.\\n\\n^ a b c Alhram Online (19 November 2017). \"Egypt\\'s Sisi meets world Evangelical churches delegation in Cairo\". Al Ahram. Archived from the original on 4 May 2018. Retrieved 26 April 2018.\\n\\n^ \"Egyptian Copts reject population estimate ‚Äì Politics\". english.ahram.org.eg. Archived from the original on 29 October 2020. Retrieved 28 February 2018.\\n\\n^ Truex, Rory; Tavana, Daniel L. (July 2019). \"Implicit Attitudes toward an Authoritarian Regime\". The Journal of Politics. 81 (3): 1014‚Äì1027. doi:10.1086/703209. ISSN\\xa00022-3816. S2CID\\xa0203513334.\\n\\n^ Cambanis, Thanassis (22 May 2015). \"Egypt\\'s Sisi Is Getting Pretty Good ‚Ä¶ at Being a Dictator\". Foreign Policy. Archived from the original on 10 February 2021. Retrieved 25 July 2017.\\n\\n^ \"Egypt: A Move to Enhance Authoritarian Rule\". Human Rights Watch. 2019. Archived from the original on 13 July 2019. Retrieved 4 January 2024.\\n\\n^ Raghavan, Sudarsan (9 July 2020). \"Egypt tries to silence its critics in the United States by jailing their relatives\". The Washington Post. Archived from the original on 9 January 2021. Retrieved 22 November 2022.\\n\\n^ Al-Arian, Abdullah (27 February 2020). \"Hosni Mubarak\\'s legacy is Abdel Fattah el-Sisi\". Al Jazeera. Archived from the original on 19 October 2020. Retrieved 2 November 2021.\\n\\n^ Goldschmidt, Arthur (1988). Modern Egypt: The Formation of a Nation-State. Boulder, CO: Westview Press. p.\\xa05. ISBN\\xa0978-0-86531-182-4. Archived from the original on 17 December 2020. Retrieved 20 June 2015. Among the peoples of the ancient Near East, only the Egyptians have stayed where they were and remained what they were, although they have changed their language once and their religion twice. In a sense, they constitute the world\\'s oldest nation. For most of their history, Egypt has been a state, but only in recent years has it been truly a nation-state, with a government claiming the allegiance of its subjects on the basis of a common identity.\\n\\n^ \"Background Note: Egypt\". United States Department of State Bureau of Near Eastern Affairs. 10 November 2010. Archived from the original on 4 June 2019. Retrieved 5 March 2011.\\n\\n^ Pierre Crabit√®s (1935). Ibrahim of Egypt. Routledge. p.\\xa01. ISBN\\xa0978-0-415-81121-7. Archived from the original on 9 May 2013. Retrieved 10 February 2013. ...\\xa0on July 9, 1805, Constantinople conferred upon Muhammad Ali the pashalik of Cairo\\xa0...\\n\\n^ \"Density By Governorate 1/7/2020 ‚Äì Area km2 (Theme: Population ‚Äì pg.14)\". Capmas.gov.eg. Archived from the original on 2 November 2018. Retrieved 8 July 2021.\\n\\n^ \"Total area km2, pg.15\" (PDF). Capmas.Gov ‚Äì Arab Republic of Egypt. Archived from the original (PDF) on 21 March 2015. Retrieved 8 May 2015.\\n\\n^ a b c d e f \"Report for Selected Countries and Subjects\". IMF. Retrieved 24 October 2024.\\n\\n^ \"ÿßŸÑÿ¨Ÿáÿßÿ≤ ÿßŸÑŸÖÿ±ŸÉÿ≤Ÿä ŸÑŸÑÿ™ÿπÿ®ÿ¶ÿ© ÿßŸÑÿπÿßŸÖÿ© ŸàÿßŸÑÿ•ÿ≠ÿµÿßÿ°\" (PDF). www.capmas.gov.eg. Archived (PDF) from the original on 13 October 2017. Retrieved 13 October 2017.\\n\\n^ \"Gini Index coefficient\". The World Factbook. Retrieved 24 September 2024.\\n\\n^ \"Human Development Report 2023/24\" (PDF). United Nations Development Programme. 13 March 2024. Archived (PDF) from the original on 13 March 2024. Retrieved 13 March 2024.\\n\\n^ Map, Egypt\\'s Projects. \"ŸÖÿ≠ÿßŸÅÿ∏ÿ© ÿßŸÑÿ£ÿ≥ŸÉŸÜÿØÿ±Ÿäÿ©\". www.egy-map.com. Archived from the original on 25 May 2023. Retrieved 13 May 2022.\\n\\n^ Midant-Reynes, B√©atrix. The Prehistory of Egypt: From the First Egyptians to the First Kings. Oxford: Blackwell Publishers.\\n\\n^ \"Lessons from/for BRICSAM about south‚Äìnorth Relations at the Start of the 21st Century: Economic Size Trumps All Else?\". International Studies Review. 9.\\n\\n^ Breyer, Fr. A. K. \"Morgenl√§ndische W√∂rter im Deutschen: Die √§gyptischen Lehnw√∂rter Archived 9 April 2024 at the Wayback Machine\". In: W. Raunig/St. Wenig. Afrikas Horn: Akten der Ersten Internatio-nalen Littmann-Konferenz 2. bis 5. Mai 2002 in M√ºnchen. Meroitica 22. Wiesbaden: Otto Harrassowitz Verlag, 2005. p. 381. ISBN\\xa09783447051750.\\n\\n^ √Öke Engsheden (2018), \"An etymological safari to Aigyptos\", Studien zur Alt√§gyptischen Kultur, 47: 1‚Äì30, JSTOR\\xa026863322, retrieved 31 July 2024\\n\\n^ Z., T. (1928). \"Il-Belt (Valletta)\" (PDF). Il-Malti (in Maltese). 2 (1) (2\\xa0ed.). Il-Ghaqda tal-Kittieba tal-Malti: 35. Archived from the original (PDF) on 17 April 2016.\\n\\n^ a b Dallmayr, Fred; Akif Kayapƒ±nar, M.; Yaylacƒ±, ƒ∞smail (24 September 2014), Civilizations and World Order, Lexington Books, ISBN\\xa09780739186077, retrieved 31 July 2024\\n\\n^ The ending of the Hebrew form is either a dual or an ending identical to the dual in form (perhaps a locative), and this has sometimes been taken as referring to the two kingdoms of Upper and Lower Egypt. However, the application of the (possibly) \"dual\" ending to some toponyms and other words, a development peculiar to Hebrew, does not in fact imply any \"two-ness\" about the place. The ending is found, for example, in the Hebrew words for such single entities as \"water\" (\"◊û÷∑◊ô÷¥◊ù\"), \"noon\" (\"◊¶÷∏◊î÷≥◊®÷∑◊ô÷¥◊ù\"), \"sky/heaven\" (\"◊©÷∏◊Å◊û÷∑◊ô÷¥◊ù\"), and in the qere ‚Äì but not the original \"ketiv\" ‚Äì of \"Jerusalem\" (\"◊ô◊®◊ï◊©◊ú[◊ô]◊ù\"). It should also be noted that the dual ending ‚Äì which may or may not be what the -√°yim in \"Mitzr√°yim\" actually represents ‚Äì was available to other Semitic languages, such as Arabic, but was not applied to Egypt. See inter alia Aaron Demsky (\"Hebrew Names in the Dual Form and the Toponym Yerushalayim\" in Demsky (ed.) These Are the Names: Studies in Jewish Onomastics, Vol. 3 (Ramat Gan, 2002), pp. 11‚Äì20), Avi Hurvitz (A Concise Lexicon of Late Biblical Hebrew: Linguistic Innovations in the Writings of the Second Temple Period (Brill, 2014), p. 128) and Nadav Na\\'aman (\"Shaaraim ‚Äì The Gateway to the Kingdom of Judah\" in The Journal of Hebrew Scriptures, Vol. 8 (2008), article no. 24 Archived 17 October 2014 at the Wayback Machine, pp. 2‚Äì3).\\n\\n^ Izre&#39, Shlomo. \"On the So-Called Ventive Morpheme in the Akkadian Texts of Amurru\". www.academia.edu: 84. Archived from the original on 18 January 2016. Retrieved 18 November 2015.{{cite journal}}:  CS1 maint: numeric names: authors list (link)\\n\\n^ Black, Jeremy A.; George, Andrew; Postgate, J.N. (2000). A Concise Dictionary of Akkadian. Otto Harrassowitz Verlag. ISBN\\xa0978-3-447-04264-2.\\n\\n^ As in inscriptions such as the Rassam cylinder of Ashurbanipal. For transcription, the word being written Mu-s,ur [1] Archived 13 June 2020 at the Wayback Machine\\n\\n^ Rosalie, David (1997). Pyramid Builders of Ancient Egypt: A Modern Investigation of Pharaoh\\'s Workforce. Routledge. p.\\xa018.\\n\\n^ Mu·∏•ammad JamƒÅl al-Dƒ´n MukhtƒÅr (1990). Ancient Civilizations of Africa. Currey. p.\\xa043. ISBN\\xa0978-0-85255-092-2. Archived from the original on 31 January 2017. Retrieved 28 May 2016.\\n\\n^ Antonio Loprieno, \"Egyptian and Coptic Phonology\", in Phonologies of Asia and Africa (including the Caucasus). Vol 1 of 2. Ed: Alan S Kaye. Winona Lake, Indiana: Eisenbrauns, 1997: p. 449\\n\\n^ \"Henry George Liddell, Robert Scott, A Greek-English Lexicon, Œß œá, œáŒµœÉŒπ^œÜœâŒΩŒ≠œâ, ŒßŒ∑ŒºŒØŒ±\". www.perseus.tufts.edu. Archived from the original on 19 April 2023. Retrieved 9 April 2023.\\n\\n^ \"A Brief History of Alchemy\". University of Bristol School of Chemistry. Archived from the original on 5 October 2008. Retrieved 21 August 2008.\\n\\n^ Breasted, James Henry; Peter A. Piccione (2001). Ancient Records of Egypt. University of Illinois Press. pp.\\xa076, 40. ISBN\\xa0978-0-252-06975-8.\\n\\n^ Midant-Reynes, B√©atrix. The Prehistory of Egypt: From the First Egyptians to the First Kings. Oxford: Blackwell Publishers.\\n\\n^ \"The Nile Valley 6000‚Äì4000 BCE Neolithic\". The British Museum. 2005. Archived from the original on 14 February 2009. Retrieved 21 August 2008.\\n\\n^ Shaw, Ian, ed. (2003). The Oxford History of Ancient Egypt. Oxford: Oxford University Press. p.\\xa069. ISBN\\xa00-19-280458-8.\\n\\n^ \"The Fall of the Egyptian Old Kingdom\". BBC. 17 February 2011. Archived from the original on 17 November 2011. Retrieved 3 November 2011.\\n\\n^ \"The Kushite Conquest of Egypt\". Ancientsudan.org. Archived from the original on 1 February 2011. Retrieved 25 August 2010.{{cite web}}:  CS1 maint: unfit URL (link)\\n\\n^ Shaw, Ian, ed. (2003). The Oxford History of Ancient Egypt. Oxford: Oxford University Press. p.\\xa0383. ISBN\\xa00-19-280458-8.\\n\\n^ Jones, Prudence J. (2006). Cleopatra: A Sourcebook. Norman: University of Oklahoma Press. p.\\xa014. ISBN\\xa0978-0806137414. They were members of the Ptolemaic dynasty of Macedonian Greeks, who ruled Egypt after the death of its conqueror, Alexander the Great.\\n\\n^ Bowman, Alan K (1996). Egypt after the Pharaohs 332 BC ‚Äì AD 642 (2nd\\xa0ed.). Berkeley: University of California Press. pp.\\xa025‚Äì26. ISBN\\xa00-520-20531-6.\\n\\n^ Stanwick, Paul Edmond (2003). Portraits of the Ptolemies: Greek kings as Egyptian pharaohs. Austin: University of Texas Press. ISBN\\xa00-292-77772-8.\\n\\n^ a b \"Egypt\". Berkley Center for Religion, Peace, and World Affairs. Archived from the original on 20 December 2011. Retrieved 14 December 2011. See drop-down essay on \"Islamic Conquest and the Ottoman Empire\"\\n\\n^ Kamil, Jill. Coptic Egypt: History and Guide. Cairo: American University in Cairo, 1997. p. 39\\n\\n^ El-Daly, Okasha (2005). Egyptology: The Missing Millennium. London: UCL Press. p.\\xa0140.\\n\\n^ a b c Abu-Lughod, Janet L. (1991) [1989]. \"The Mideast Heartland\". Before European Hegemony: The World System A.D. 1250‚Äì1350. New York: Oxford University Press. pp.\\xa0243‚Äì244. ISBN\\xa0978-0-19-506774-3.\\n\\n^ \"Egypt ‚Äì Major Cities\". Countrystudies.us. Archived from the original on 17 January 2013. Retrieved 8 February 2013.\\n\\n^ Donald Quataert (2005). The Ottoman Empire, 1700‚Äì1922. Cambridge University Press. p.\\xa0115. ISBN\\xa0978-1-139-44591-7. Archived from the original on 13 February 2014. Retrieved 21 June 2013.\\n\\n^ \"Icelandic Volcano Caused Historic Famine In Egypt, Study Shows\". ScienceDaily. 22 November 2006. Archived from the original on 17 January 2013. Retrieved 8 February 2013.\\n\\n^ a b Izzeddin, Nejla M. Abu (1981). Nasser of the Arabs: an Arab assessment. Third World Centre for Research and Publishing. p.\\xa02. ISBN\\xa0978-0-86199-012-2.\\n\\n^ a b Baten, J√∂rg (2016). A History of the Global Economy. From 1500 to the Present. Cambridge University Press. p.\\xa0217. ISBN\\xa0978-1-107-50718-0.\\n\\n^ Fahmy, Khaled (1997). All the Pasha\\'s Men: Mehmed Ali, his army and the making of modern Egypt. Cambridge Middle East Studies. Vol.\\xa08. Cambridge University Press. pp.\\xa0119‚Äì147. ISBN\\xa0978-0-521-56007-8. Archived from the original on 24 April 2023. Retrieved 22 February 2023.\\n\\n^ Baten, J√∂rg (2016). A History of the Global Economy. From 1500 to the Present. Cambridge University Press. p.\\xa0220, Figure 7.4 \"Numeracy in selected Middle Eastern countries\", based on Prayon and Baten (2013). ISBN\\xa0978-1-107-50718-0.\\n\\n^ Nejla M. Abu Izzeddin, Nasser of the Arabs, p. 2.\\n\\n^ Baten, J√∂rg (2016). A History of the Global Economy. From 1500 to the Present. Cambridge University Press. pp.\\xa0217, 224 Figure 7.6: \"Height development in the Middle East and the world (male)\" and 225. ISBN\\xa0978-1-107-50718-0.\\n\\n^ Anglo French motivation: Derek Hopwood, Egypt: Politics and Society 1945‚Äì1981. London, 1982, George Allen & Unwin. p. 11.\\n\\n^ De facto protectorate: Joan Wucher King, Historical Dictionary of Egypt. Metuchen, NJ; 1984; Scarecrow. p. 17.\\n\\n^ Jankowski, James. Egypt, A Short History. p.\\xa0111.\\n\\n^ \"Treaty of Lausanne ‚Äì World War I Document Archive\". wwi.lib.byu.edu. Archived from the original on 13 June 2018. Retrieved 29 January 2020.\\n\\n^ Jankowski, James. Egypt, A Short History. p.\\xa0112.\\n\\n^ Collins, Robert O.; Collins, Professor of History Robert O. (29 May 2008). A History of Modern Sudan. Cambridge University Press. ISBN\\xa0978-0-521-85820-5. Archived from the original on 18 May 2024. Retrieved 10 November 2020.\\n\\n^ a b c \"Egypt\". The World Factbook. CIA. Archived from the original on 9 October 2021. Retrieved 2 February 2011.\\n\\n^ \"ÿ∞ÿßŸÉÿ±ÿ© ŸÖÿµÿ± ÿßŸÑŸÖÿπÿßÿµÿ± ‚Äì ÿßŸÑÿ≥Ÿäÿ±ÿ© ÿßŸÑÿ∞ÿßÿ™Ÿäÿ©\". modernegypt.bibalex.org. Archived from the original on 26 December 2018. Retrieved 24 September 2018.\\n\\n^ Orkaby, Asher Aviad. (2014). \"The International History of the Yemen Civil War, 1962-1968\" (PDF). Doctoral Dissertation, Harvard University. Archived (PDF) from the original on 29 April 2023. Retrieved 20 November 2023.\\n\\n^ Aburish, Said K. (2004). Nasser, the Last Arab. New York City: St. Martin\\'s Press. p.\\xa0252. ISBN\\xa0978-0-312-28683-5.\\n\\n^ Kandil, Hazem (2012). Soldiers, Spies and Statesmen: Egypt\\'s Road to Revolt. Brooklyn: Verso Books. p.\\xa076. ISBN\\xa0978-1-84467-962-1.\\n\\n^ Shlaim, Rogan, 2012 pp. 7, 106\\n\\n^ Samir A. Mutawi (2002). Jordan in the 1967 War. Cambridge University Press. p.\\xa095. ISBN\\xa0978-0-521-52858-0. Archived from the original on 6 September 2015. Retrieved 20 June 2015.\\n\\n^ \"The Emergency Law in Egypt\". International Federation for Human Rights. Archived from the original on 1 February 2011. Retrieved 2 February 2011.\\n\\n^ \"Egypt ‚Äì Emergency Law No. 162/1958\". www.ilo.org. Archived from the original on 10 May 2022. Retrieved 7 May 2022.\\n\\n^ a b Egypt on the Brink by Tarek Osman, Yale University Press, 2010, p. 120\\n\\n^ Jesse Ferris (2013). Nasser\\'s Gamble: How Intervention in Yemen Caused the Six-Day War and the Decline of Egyptian Power. Princeton University Press. p.\\xa02. ISBN\\xa0978-0-691-15514-2. Archived from the original on 6 September 2015. Retrieved 20 June 2015.\\n\\n^ Amin, Galal. Egypt\\'s Economic Predicament: A Study in the Interaction of External Pressure, Political Folly, and Social Tension in Egypt, 1960‚Äì1990, 1995\\n\\n^ Vatikiotis, P.J. (1991). The History of Modern Egypt: From Muhammad Ali to Mubarak (4.\\xa0ed.). London: Weidenfeld and Nicolson. p.\\xa0443. ISBN\\xa0978-0-297-82034-5.\\n\\n^ a b Cambanis, Thanassis (11 September 2010). \"Succession Gives Army a Stiff Test in Egypt\". The New York Times. Egypt. Archived from the original on 27 October 2011. Retrieved 3 November 2011.\\n\\n^ Middle East International No 270, 7 March 1986, Publishers Lord Mayhew, Dennis Walters. Simon Ingram p. 8, Per Gahrton p.20\\n\\n^ Murphy, Caryle Passion for Islam: Shaping the Modern Middle East: the Egyptian Experience, Scribner, 2002, p. 4\\n\\n^ \"Solidly ahead of oil, Suez Canal revenues, and remittances, tourism is Egypt\\'s main hard currency earner at $6.5 billion per year.\" (in 2005) ... concerns over tourism\\'s future Archived 24 September 2013 at the Wayback Machine. Retrieved 27 September 2007.\\n\\n^ Kepel, Gilles (2002). Jihad: The Trail of Political Islam. Harvard University Press. p.\\xa0[page\\xa0needed]. ISBN\\xa0978-0-674-01090-1. Archived from the original on 18 May 2024. Retrieved 11 December 2018.\\n\\n^ \"Evaluating Egyptian REfoRm\" (PDF). Carnegie P a P e R S.\\n\\n^ Dunne, Michele (January 2006). \"Evaluating Egyptian Reform\". Carnegie Papers: Middle East Series (66): 4.\\n\\n^ \"Mubarak throws presidential race wide open\". Business Today Egypt. 10 March 2005. Archived from the original on 10 March 2005. Retrieved 8 February 2013.\\n\\n^ \"Democracy on the Nile: The story of Ayman Nour and Egypt\\'s problematic attempt at free elections\". Weeklystandard.com. 27 March 2006. Archived from the original on 7 January 2012. Retrieved 3 November 2011.\\n\\n^ Gomez, Edward M (12 September 2005). \"Hosni Mubarak\\'s pretend democratic election\". San Francisco Chronicle. Archived from the original on 15 September 2005. Retrieved 8 February 2013.\\n\\n^ \"Egyptian vote marred by violence\". Christian Science Monitor. 26 May 2005. Archived from the original on 8 February 2013. Retrieved 8 February 2013.\\n\\n^ \"United States \"Deeply Troubled\" by Sentencing of Egypt\\'s Nour\". U.S. Department of State. 24 December 2005. Archived from the original on 21 October 2011. Retrieved 8 February 2013.\\n\\n^ a b \"Egypt: Events of 2005\". Egypt: Overview of human rights issues in Egypt. Human Rights Watch. 5 January 2006. Archived from the original on 14 November 2008. Retrieved 8 February 2013.\\n\\n^ \"Egypt torture centre, report says\". BBC News. 11 April 2007. Archived from the original on 26 November 2011. Retrieved 3 November 2011.\\n\\n^ \"Egypt rejects torture criticism\". BBC News. 13 April 2007. Archived from the original on 31 March 2012. Retrieved 3 November 2011.\\n\\n^ \"Anger over Egypt vote timetable\". BBC News. 20 March 2007. Archived from the original on 29 November 2011. Retrieved 3 November 2011.\\n\\n^ \"Mubarak Resigns As Egypt\\'s President, Armed Forces To Take Control\". Huffington Post. 11 February 2011. Archived from the original on 22 March 2013. Retrieved 8 February 2013.\\n\\n^ Kirkpatrick, David D. (11 February 2010). \"Mubarak Steps Down, Ceding Power to Military\". The New York Times. Archived from the original on 11 February 2011. Retrieved 11 February 2011.\\n\\n^ \"Egypt crisis: President Hosni Mubarak resigns as leader\". BBC. 11 February 2010. Archived from the original on 11 February 2011. Retrieved 11 February 2011.\\n\\n^ Hope, Christopher; Swinford, Steven (15 February 2011). \"WikiLeaks: Egypt\\'s new man at the top \\'was against reform\\'\". The Daily Telegraph. Archived from the original on 10 March 2011. Retrieved 5 March 2011.\\n\\n^ \"The Supreme Council of the Armed Forces: Constitutional Proclamation\". Egypt State Information Service. 13 February 2011. Archived from the original on 27 April 2011. Retrieved 5 March 2011. The Chairman of the Supreme Council of the Armed Forces shall represent it internally and externally.\\n\\n^ \"Egyptian Parliament dissolved, constitution suspended\". BBC. 13 February 2011. Archived from the original on 14 February 2011. Retrieved 13 February 2011.\\n\\n^ Harris, Marty. \"The Egyptian constitutional referendum of March 2011 a new beginning\". www.aph.gov.au. Archived from the original on 21 November 2022. Retrieved 21 November 2022.\\n\\n^ Memmott, Mark (28 November 2011). \"Egypt\\'s Historic Day Proceeds Peacefully, Turnout High For Elections\". NPR. Npr.org. Archived from the original on 2 December 2012. Retrieved 8 February 2013.\\n\\n^ \"Egypt\\'s new president moves into his offices, begins choosing a Cabinet\". CNN. 25 June 2012. Archived from the original on 12 May 2013. Retrieved 13 February 2013.\\n\\n^ \"Mohamed Morsi sworn in as Egypt\\'s president\". www.aljazeera.com. Archived from the original on 20 August 2023. Retrieved 2 September 2023.\\n\\n^ \"Egypt unveils new cabinet, Tantawi keeps defence post\". 3 August 2012.\\n\\n^ \"Rallies for, against Egypt president\\'s new powers\". Associated Press. 23 November 2012. Archived from the original on 29 November 2012. Retrieved 23 November 2012.\\n\\n^ \"Egypt\\'s President Mursi assumes sweeping powers\". BBC News. 22 November 2012. Archived from the original on 22 November 2012. Retrieved 23 November 2012.\\n\\n^ Spencer, Richard (23 November 2012). \"Violence breaks out across Egypt as protesters decry Mohammed Morsi\\'s constitutional \\'coup\\'\". The Daily Telegraph. London. Archived from the original on 27 November 2012. Retrieved 23 November 2012.\\n\\n^ \"Egypt Sees Largest Clash Since Revolution\". Wall Street Journal. 6 December 2012. Archived from the original on 21 April 2015. Retrieved 8 December 2012.\\n\\n^ Fleishman, Jeffrey (6 December 2012). \"Morsi refuses to cancel Egypt\\'s vote on constitution\". Los Angeles Times. Archived from the original on 8 December 2012. Retrieved 8 December 2012.\\n\\n^ a b \"Think Again: The Muslim Brotherhood\". Al-Monitor. 28 January 2013. Archived from the original on 2 February 2017. Retrieved 7 December 2016.\\n\\n^ Kirkpatrick, David D. (3 July 2013). \"Army Ousts Egypt\\'s President; Morsi Denounces \\'Military Coup\\'\". The New York Times. Archived from the original on 4 July 2013. Retrieved 3 July 2013.\\n\\n^ Holpuch, Amanda; Siddique, Haroon; Weaver, Matthew (4 July 2013). \"Egypt\\'s interim president sworn in - Thursday 4 July\". The Guardian. Archived from the original on 18 May 2024. Retrieved 21 November 2022.\\n\\n^ \"Egypt protests: Hundreds killed after police storm pro-Morsi camps\". ABC News. Australian Broadcasting Corporation. 15 August 2013. Archived from the original on 4 August 2014. Retrieved 29 July 2014.\\n\\n^ \"Abuse claims rife as Egypt admits jailing 16,000 Islamists in eight months\". The Independent. 16 March 2014. Archived from the original on 4 September 2014. Retrieved 29 July 2014.\\n\\n^ \"Egypt sentences 683 to death in latest mass trial of dissidents\". The Washington Post. 28 April 2014. Archived from the original on 20 June 2014. Retrieved 29 July 2014.\\n\\n^ \"Egyptian court sentences 529 people to death\". The Washington Post. 24 March 2014. Archived from the original on 5 August 2014. Retrieved 29 July 2014.\\n\\n^ \"Egyptian court sentences Muslim Brotherhood leader to life in prison\". Reuters. 4 July 2014. Archived from the original on 29 July 2014. Retrieved 29 July 2014.\\n\\n^ \"Egypt constitution \\'approved by 98.1 percent\\'\". Al Jazeera English. 18 January 2014. Archived from the original on 19 January 2014. Retrieved 18 January 2014.\\n\\n^ \"Egypt\\'s new constitution gets 98% \\'yes\\' vote\". the Guardian. 18 January 2014. Archived from the original on 18 May 2024. Retrieved 25 November 2022.\\n\\n^ \"El-Sisi wins Egypt\\'s presidential race with 96.91%\". English.Ahram.org. Ahram Online. Retrieved 3 June 2014.\\n\\n^ \"Egypt\\'s Sisi sworn in as president\". the Guardian. 8 June 2014.\\n\\n^ \"Egypt\\'s War against the Gaza Tunnels\". Israel Defense. 4 February 2018.\\n\\n^ \"Egypt\\'s Sisi wins 97 percent in election with no real opposition\". Reuters. 2 April 2018.\\n\\n^ \"Egypt parliament extends presidential term to six years\". www.aa.com.tr.\\n\\n^ Mehmood, Ashna (31 March 2021). \"Egypt\\'s Return to Authoritarianism\". Modern Diplomacy.\\n\\n^ \"Sisi wins snap Egyptian referendum amid vote-buying claims\". the Guardian. 23 April 2019.\\n\\n^ \"Pro-Sisi party wins majority in Egypt\\'s parliamentary polls\". Reuters. 14 December 2020.\\n\\n^ \"World Factbook area rank order\". Cia.gov. Archived from the original on 9 February 2014. Retrieved 1 February 2011.\\n\\n^ \"Land use and Coastal Management in the Third Countries: Egypt as a case\" (PDF). Archived (PDF) from the original on 24 March 2009. Retrieved 3 November 2011.\\n\\n^ Fouberg, Erin H.; Murphy, Alexander B.; de Blij (2009). Human Geography: People, Place, and Culture. John Wiley & Sons. p.\\xa091. ISBN\\xa0978-0-470-57647-2. Archived from the original on 9 May 2013. Retrieved 10 February 2013.\\n\\n^ \"Egypt to build new administrative and business capital\". BBC News. 13 March 2015. Archived from the original on 16 December 2018. Retrieved 20 June 2018.\\n\\n^ Soliman, KH. Rainfall over Egypt. Quarterly Journal of the Royal Meteorological Society, vol. 80, issue 343, p. 104.\\n\\n^ \"Marsa Matruh, Egypt\". Weatherbase.com. Archived from the original on 4 November 2011. Retrieved 3 November 2011.\\n\\n^ Samenow, Jason (13 December 2013). \"Biblical snowstorm: Rare flakes in Cairo, Jerusalem paralyzed by over a foot\". The Washington Post. Archived from the original on 3 September 2015. Retrieved 26 August 2017.\\n\\n^ \"Contingency planning for rising sea levels in Egypt | IRIN News, March 2008\". Irinnews.org. 12 March 2008. Archived from the original on 27 August 2010. Retrieved 25 August 2010.\\n\\n^ El Deeb and Keath, Sarah and Lee. \"Islamist claims victory in Egypt president vote\". Associated Press. Archived from the original on 20 June 2012. Retrieved 18 June 2012.\\n\\n^ \"List of Parties\". Archived from the original on 24 January 2011. Retrieved 8 December 2012.\\n\\n^ \"Egypt: National Strategy and Action Plan for Biodiversity Conservation\" (PDF). Archived (PDF) from the original on 17 January 2013. Retrieved 9 December 2012.\\n\\n^ \"The Micheli Guide to Fungal Conservation\". Archived from the original on 19 February 2015. Retrieved 9 December 2012.\\n\\n^ A.M. Abdel-Azeem, The History, Fungal Biodiversity, Conservation, and Future Perspectives for Mycology in Egypt IMA Fungus 1 (2): 123‚Äì142 (2010).\\n\\n^ Ibrahim, Kamal M.; Hosni, Hasnaa A.; Peterson, Paul M. (2016). Grasses of Egypt. Washington, D.C.: Smithsonian Institution Scholarly Press. Archived from the original on 18 May 2024. Retrieved 16 April 2016.\\n\\n^ \"Who\\'s Who: Members of Egypt\\'s 50-member constitution committee\". Al-Ahram. Archived from the original on 3 September 2013. Retrieved 1 September 2013.\\n\\n^ \"Timetable for Egypt\\'s parliamentary elections announced; voting to start 17 Oct\". Ahram Online. 30 August 2015. Archived from the original on 4 September 2015. Retrieved 11 September 2015.\\n\\n^ \"Egypt to Hold Presidential Polls First: Interim President\". Ahram Online. 26 January 2014. Archived from the original on 7 April 2014. Retrieved 2 April 2014.\\n\\n^ \"El-Sisi wins Egypt\\'s presidential race with 96.91%\". English.Ahram.org. Ahram Online. Archived from the original on 31 July 2014. Retrieved 28 July 2014.\\n\\n^ \"Egypt\". Freedom in the World 2024. Freedom House. Archived from the original on 2 March 2024. Retrieved 3 March 2024.\\n\\n^ V-Dem Institute (2023). \"The V-Dem Dataset\". Archived from the original on 8 December 2022. Retrieved 14 October 2023.\\n\\n^ \"Democracy Index 2023: Age of conflict\" (PDF). Economist Intelligence Unit. 2024. p.\\xa03. Archived (PDF) from the original on 20 March 2024. Retrieved 3 March 2024.\\n\\n^ Jankowski, James. \"Egypt and Early Arab Nationalism\" in Rashid Khalidi, ed. The Origins of Arab Nationalism. New York: Columbia University Press, 1990, pp. 244‚Äì45\\n\\n^ Dawisha, Adeed (2003). Arab Nationalism in the Twentieth Century. Princeton: Princeton University Press. pp.\\xa0264‚Äì265, 267.\\n\\n^ a b Brown, Nathan J. \"Mechanisms of Accountability in Arab Governance: The Present and Future of Judiciaries and Parliaments in the Arab World\". Programme on Governance in the Arab Region. Archived from the original on 5 June 2012.\\n\\n^ Cambanis, Thanassis (11 September 2010). \"Succession Gives Army a Stiff Test in Egypt\". The New York Times. Archived from the original on 3 May 2011. Retrieved 11 September 2010.\\n\\n^ Marshall, Shana (15 April 2015). \"The Egyptian Armed Forces and the Remaking of an Economic Empire\". Carnegie Endowment for International Peace. Archived from the original on 9 July 2015. Retrieved 23 June 2015.\\n\\n^ Katz, Yaacov (15 January 2007). \"Egypt to launch first spy satellite\". The Jerusalem Post.\\n\\n^ Stephen Clark (16 April 2014). \"Egyptian reconnaissance satellite launched by Soyuz\". Spaceflight Now. Archived from the original on 19 April 2014. Retrieved 18 April 2014.\\n\\n^ \"Obama restores US military aid to Egypt over Islamic State concerns\". The Guardian. 31 March 2015. Archived from the original on 14 December 2016. Retrieved 14 December 2016.\\n\\n^ \"The U.S. gives Egypt $1.5 billion a year in aid. Here\\'s what it does\". The Washington Post. 9 July 2013. Archived from the original on 15 July 2015. Retrieved 26 August 2017.\\n\\n^ Sharp, Jeremy M. (5 June 2014). \"Egypt: Background and U.S. Relations\" (PDF). Congressional Research Service. Archived (PDF) from the original on 9 September 2014. Retrieved 8 October 2014.\\n\\n^ Holland, Steve; Mason, Jeff (15 August 2013). \"Obama cancels military exercises, condemns violence in Egypt\". Reuters. Archived from the original on 14 October 2014. Retrieved 8 October 2014.\\n\\n^ Iqbal, Jawad (7 May 2015). \"Business as usual for Egypt and the West\". BBC. Archived from the original on 1 August 2015. Retrieved 23 June 2015.\\n\\n^ \"Egypt \\'has key role\\' in fight against Islamic State ‚Äì Kerry\". BBC. 13 September 2014. Archived from the original on 4 October 2014. Retrieved 18 October 2014.\\n\\n^ Adler, Stephen; Mably, Richard (15 May 2014). \"Exclusive: Egypt\\'s Sisi asks for U.S. help in fighting terrorism\". Reuters. Archived from the original on 23 October 2014. Retrieved 18 October 2014.\\n\\n^ Baker, Peter; Walsh, Declan (3 April 2017). \"Trump Shifts Course on Egypt, Praising Its Authoritarian Leader\". The New York Times. ISSN\\xa00362-4331. Archived from the original on 15 February 2019. Retrieved 10 February 2019.\\n\\n^ Naumkin, Vitaly (13 August 2014). \"Russia, Egypt draw closer\". Al-Monitor. Archived from the original on 17 August 2014. Retrieved 8 October 2014.\\n\\n^ \"Russia, Egypt seal preliminary arms deal worth $3.5 billion: agency\". Reuters. 17 September 2014. Archived from the original on 14 October 2014. Retrieved 8 October 2014.\\n\\n^ Anishchuk, Alexei (12 August 2014). \"Russia to boost trade with Egypt after Western food ban\". Yahoo News. Archived from the original on 14 October 2014. Retrieved 8 October 2014.\\n\\n^ \"China\\'s Egypt Opportunity Archived 27 September 2015 at the Wayback Machine\". The Diplomat. 24 December 2014\\n\\n^ Wilson, Nigel (13 October 2014). \"Saudi Arabia and UAE to Prop Up Egypt With $5bn Aid Boost\". International Business Times. Archived from the original on 19 October 2014. Retrieved 17 October 2014.\\n\\n^ Knickmeyer, Ellen (18 August 2013). \"Saudi King Offers Support to Egyptian Military\". The Wall Street Journal. Archived from the original on 11 April 2015. Retrieved 17 October 2014.\\n\\n^ \"Saudi King Abdullah visits Egypt\\'s Sisi Archived 7 February 2015 at the Wayback Machine\". Al-Jazeera. 20 June 2014.\\n\\n^ \"Massive Israel protests hit universities\" (Egyptian Mail, 16 March 2010) \"According to most Egyptians, almost 31 years after a peace treaty was signed between Egypt and Israel, having normal ties between the two countries is still a potent accusation and Israel is largely considered to be an enemy country\"\\n\\n^ Maddy-Weitzmann, Bruce (1997). Middle East Contemporary Survey: 1995, Volume 19; Volume 1995. Moshe Dayan Center. p.\\xa0265. ISBN\\xa0978-0-8133-3411-0.\\n\\n^ \"This time, Gaza fighting is \\'proxy war\\' for entire Mideast Archived 16 October 2014 at the Wayback Machine\". CNN News. 1 August 2014.\\n\\n^ Hanna, Michael W. (13 August 2014). \"The Sisi Doctrine\". Foreign Policy. Archived from the original on 13 October 2014. Retrieved 8 October 2014.\\n\\n^ Shama, Nael (2013). Egyptian Foreign Policy: Against the National Interest. Routledge. pp.\\xa0129‚Äì131.\\n\\n^ Cagaptay, Soner; Sievers, Marc (8 March 2015). \"Turkey and Egypt\\'s Great Game in the Middle East\". Foreign Affairs. Archived from the original on 23 June 2015. Retrieved 23 June 2015.\\n\\n^ Soussi, Alasdair (9 November 2008). \"Desperate on the Border\". Jerusalem Report. Archived from the original on 31 October 2012. Retrieved 30 September 2012.\\n\\n^ \"Incorporating Sharia into legal systems\". BBC News. 8 February 2008. Archived from the original on 25 April 2013. Retrieved 18 February 2013.\\n\\n^ \"Egypt Gender Equality Profile\" (PDF). UNICEF. Archived (PDF) from the original on 19 October 2018. Retrieved 20 February 2013.\\n\\n^ \"Egyptian constitution \\'approved\\' in referendum\". BBC News. 23 December 2012. Archived from the original on 23 December 2012. Retrieved 23 December 2012.\\n\\n^ \"Legislation Egypt\". Lexadin.nl. Archived from the original on 17 January 2013. Retrieved 8 February 2013.\\n\\n^ \"7 Egyptian Christians, Florida pastor sentenced to death for anti-Islam film\". Fox News. 28 November 2012. Archived from the original on 5 November 2018. Retrieved 8 February 2013.\\n\\n^ a b c d e f BBC (18 January 2014). \"BBC News ‚Äì Egypt referendum: \\'98% back new constitution\\'\". BBC Online. Archived from the original on 18 January 2014. Retrieved 19 January 2014.\\n\\n^ \"Law No. 94 of 2003 Promulgating The National Council for Human Rights\". Nchregypt.org. 16 February 2010. Archived from the original on 17 January 2013. Retrieved 8 February 2013.\\n\\n^ \"Egyptian National Council for Human Rights Against Human Rights NGOs\". EOHR. 3 June 2003. Archived from the original on 1 July 2003. Retrieved 8 February 2013.\\n\\n^ \"The Egyptian Human Rights Council: The Apple Falls Close to the Tree\". ANHRI. Archived from the original on 5 January 2015. Retrieved 8 February 2013.\\n\\n^ \"Religion: Few States Enjoy Freedom of Faith, Report Says\". Ipsnews.net. 17 December 2009. Archived from the original on 12 January 2012. Retrieved 1 February 2011.\\n\\n^ \"Global Restrictions on Religion\" (PDF). Pew Forum on Religion & Public Life. 17 December 2009. Archived from the original (PDF) on 6 February 2011. Retrieved 1 February 2011.\\n\\n^ \"USCIRF Watch List ‚Äì USCIRF\". Uscirf.gov. Archived from the original on 14 November 2010. Retrieved 1 February 2011.\\n\\n^ \"Muslim Publics Divided on Hamas and Hezbollah\". Pew Global Attitudes Project. 2 December 2010. Archived from the original on 13 May 2013. Retrieved 8 February 2013.\\n\\n^ \"Christianity\\'s Modern-Day Martyrs: Victims of Radical Islam ‚Äì Rising Islamic Extremism Is Putting Pressure on Christians in Muslim Nations\". Abcnews.go.com. 1 March 2010. Archived from the original on 30 April 2011. Retrieved 1 February 2011.\\n\\n^ a b \"Egypt, International Religious Freedom Report 2008\". Bureau of Democracy, Human Rights, and Labor. 19 September 2008. Archived from the original on 16 April 2016. Retrieved 24 June 2017.\\n\\n^ a b Johnston, Cynthia (29 January 2008). \"Egypt Baha\\'is win court fight over identity papers\". Reuters. Archived from the original on 15 February 2008. Retrieved 30 January 2008.\\n\\n^ Mohsen, Manar (16 August 2013). \"Health Ministry raises death toll of Wednesday\\'s clashes to 638\". Daily News Egypt. Archived from the original on 21 August 2013. Retrieved 19 August 2013.\\n\\n^ \"Memory of a Mass Killing Becomes Another Casualty of Egyptian Protests Archived 25 March 2017 at the Wayback Machine\". The New York Times. 13 November 2013.\\n\\n^ a b \"Egypt: More than 500 sentenced to death in \\'grotesque\\' ruling ‚Äì Amnesty International\". amnesty.org. 24 March 2014. Archived from the original on 11 November 2014.\\n\\n^ Cumming-Bruce, Nick (25 March 2014). \"U.N. Expresses Alarm Over Egyptian Death Sentences\". The New York Times. Archived from the original on 18 July 2017. Retrieved 24 February 2017.\\n\\n^ \"Egypt: Shocking Death Sentences Follow Sham Trial ‚Äì Human Rights Watch\". hrw.org. 24 March 2014. Archived from the original on 12 January 2017. Retrieved 4 December 2016.\\n\\n^ \"Egyptian court sentences nearly 530 to death\". Washington Post. 24 March 2014. Archived from the original on 25 March 2014.\\n\\n^ A coronation flop: President Abdel Fattah al-Sisi fails to bring enough voters to the ballot box Archived 5 September 2017 at the Wayback Machine, economist.com.\\n\\n^ \"Egypt sentences to death 529 supporters of Mohamed Morsi Archived 25 February 2017 at the Wayback Machine\". The Guardian. 24 March 2014.\\n\\n^ \"Egypt\\'s interim Cabinet officially labels Muslim Brotherhood a terrorist group\". CNN. Archived from the original on 26 July 2014. Retrieved 30 July 2014.\\n\\n^ \"My brother is one of Egypt\\'s 60,000 political prisoners ‚Äì and Trump is happy to let him rot in jail\". The Independent. 17 January 2020. Archived from the original on 27 November 2020. Retrieved 5 December 2020.\\n\\n^ \"No political prisoners freed as Egypt pardons thousands on Eid\". Al-Jazeera. 24 May 2020. Archived from the original on 15 November 2020. Retrieved 5 December 2020.\\n\\n^ \"Alaa Abdel Fattah: Leading Egyptian activist jailed for five years\". BBC News. 20 December 2021.\\n\\n^ \"Here are the 10 countries where homosexuality may be punished by death\". The Washington Post. 16 June 2016. Archived from the original on 11 November 2016. Retrieved 13 May 2017.\\n\\n^ \"The Global Divide on Homosexuality.\" Archived 3 November 2013 at the Wayback Machine pewglobal. 4 June 2013. 4 June 2013.\\n\\n^ \"The world\\'s most dangerous megacities for women 2017\". poll2017.trust.org. Thomson Reuters Foundation. Archived from the original on 25 October 2017. Retrieved 24 October 2017.\\n\\n^ Gehlen, M. (2015) Al-Dschasira-Journalisten zu drei Jahren Haft verurteilt Archived 30 August 2015 at the Wayback Machine, Zeit Online, 29 August 2015\\n\\n^ \"Reporting on the coronavirus: Egypt muzzles critical journalists\". Deutsche Welle. 3 April 2020. Archived from the original on 13 May 2020. Retrieved 10 May 2020.\\n\\n^ \"Egypt is more concerned with controlling information than containing the coronavirus\". The Globe and Mail. 3 April 2020. Archived from the original on 9 April 2020. Retrieved 10 May 2020.\\n\\n^ Pierre Beckouche (2017). Europe\\'s Mediterranean Neighbourhood. Edward Elgar Publishing. p.\\xa0121. ISBN\\xa0978-1-78643-149-3.\\n\\n^ Egypt Country Profile Archived 1 June 2013 at the Wayback Machine. Undp.org.eg (11 February 2011). Retrieved 29 July 2013.\\n\\n^ \"To save Egypt\\'s economy, get the army out of it\". The Economist. 26 January 2023. ISSN\\xa00013-0613. Archived from the original on 24 January 2024. Retrieved 1 February 2024.\\n\\n^ \"Egypt\\'s army seems to want to make pasta as well as war\". The Economist. 13 April 2023. ISSN\\xa00013-0613. Retrieved 1 February 2024.\\n\\n^ Shan, Lee Ying (5 April 2023). \"Egypt\\'s pound is among the worst performing currencies in 2023. And it\\'s expected to plummet further\". CNBC. Archived from the original on 15 May 2023. Retrieved 11 April 2023.\\n\\n^ \"Egypt\\'s annual core inflation records 39.5% in March 2023: CBE - Dailynewsegypt\". 11 April 2023. Archived from the original on 8 June 2023. Retrieved 11 April 2023.\\n\\n^ Enders, Klaus. \"Egypt: Reforms Trigger Economic Growth\". International Monetary Fund. Archived from the original on 4 February 2011. Retrieved 2 February 2011. In its most recent review of Egypt\\'s economy, the IMF has said the expansion has broadened from energy, construction, and telecommunications to labor-intensive sectors such as agriculture and manufacturing.\\n\\n^ \"IRIN Middle East | Egypt: Corruption hampering development, says opposition report | Breaking News\". Irinnews.org. 5 July 2006. Archived from the original on 14 May 2011. Retrieved 25 August 2010.\\n\\n^ Rania Al Malky. \"et\\xa0‚Äî Full Story\". Egypttoday.com. Archived from the original on 8 February 2009. Retrieved 25 August 2010.\\n\\n^ Fatima El Saadani (August 2006). \"Etisalat Wins Third License\". Business Today. Archived from the original on 20 August 2006. Retrieved 21 August 2008.\\n\\n^ \"Egypt ranks 114th on corruption scale\". 3 December 2013. Archived from the original on 7 December 2013. Retrieved 8 December 2013.\\n\\n^ a b \"Migration and Development in Egypt: Facts and Figures\" (PDF). International Organization for Migration. 2010. Archived from the original (PDF) on 5 February 2011. Retrieved 21 July 2010.\\n\\n^ Saifur Rahman (April 2013). \"Global remittance flow grows 10.77% to $514 billion in 2012: World Bank\". Gulf News. Archived from the original on 23 April 2013. Retrieved 18 June 2013.\\n\\n^ Lauren E. Bohn; Sarah Lynch (8 February 2011). \"Egypt Over the Brink, interview with Tarek Osman\". Foreignpolicy.com. Archived from the original on 22 May 2013. Retrieved 8 February 2013.\\n\\n^ Dziadosz, Alexander (20 October 2009). \"Egypt tourism numbers to fall less than feared\". Reuters Africa. Archived from the original on 10 June 2012. Retrieved 8 February 2013.\\n\\n^ Farouk, Dalia (27 December 2012). \"Egypt tourism shows little recovery in 2012\". Ahram Online. Archived from the original on 13 July 2013. Retrieved 18 June 2013.\\n\\n^ a b \"Egypt\". U.S. Energy Information Administration. 14 August 2014. Archived from the original on 18 February 2015. Retrieved 24 February 2015.\\n\\n^ \"Egypt to reduce natural gas exports to avoid energy crisis\". AMEinfo.com. Archived from the original on 3 August 2013. Retrieved 6 July 2013.\\n\\n^ \"Russia to lend Egypt $25 billion to build nuclear power plant\". Reuters. 19 May 2016. Archived from the original on 16 May 2017. Retrieved 1 July 2017.\\n\\n^ \"Egypt Says Work Finished on New Suez Canal\". Voice of America. 29 July 2015. Archived from the original on 3 August 2015. Retrieved 24 August 2015.\\n\\n^ \"Egypt\\'s New Suez Canal to Be Completed for Aug. 6 Ceremony\". The New York Times. 30 June 2015. Archived from the original on 16 June 2015. Retrieved 1 August 2015.\\n\\n^ \"Egypt launches Suez Canal expansion\". BBC News. 6 August 2015. Archived from the original on 6 August 2015. Retrieved 6 August 2015.\\n\\n^ Tadros, Sherine (6 August 2015). \"Egypt Opens New ¬£6bn Suez Canal\". Sky News. Archived from the original on 6 August 2015. Retrieved 6 August 2015.\\n\\n^ As per the 2006 census\\n\\n^ National Water Research Center, Ministry of Water Resources and Irrigation (2007): Actualizing the Right to Water: An Egyptian Perspective for an Action Plan, Shaden Abdel-Gawad. Retrieved 30 April 2012.\\n\\n^ a b Egyptian Water Use Management Project (EWUP), 1984. Improving Egypt\\'s Irrigation System in the Old Lands, Final Report. Colorado State University and Ministry of Public Works and Water Resources.\\n\\n^ \"Population Clock\". Central Agency for Public Mobilization and Statistics. 27 April 2013. Archived from the original on 17 January 2013. Retrieved 27 April 2013.\\n\\n^ \"The limits of a Green Revolution?\". BBC News. 29 March 2007. Archived from the original on 28 July 2011. Retrieved 25 August 2010.\\n\\n^ admin (8 April 2000). \"Food First/Institute for Food and Development Policy\". Foodfirst.org. Archived from the original on 14 July 2009. Retrieved 25 August 2010.\\n\\n^ \"Egypt ‚Äì Population\". Countrystudies.us. Archived from the original on 17 January 2013. Retrieved 8 February 2013.\\n\\n^ \"Urban population (% of total population) - Egypt, Arab Rep\". World Bank. Archived from the original on 14 March 2024. Retrieved 1 August 2022.\\n\\n^ Tsourapas, Gerasimos (2 July 2016). \"Nasser\\'s Educators and Agitators across al-Watan al-\\'Arabi: Tracing the Foreign Policy Importance of Egyptian Regional Migration, 1952‚Äì1967\" (PDF). British Journal of Middle Eastern Studies. 43 (3): 324‚Äì341. doi:10.1080/13530194.2015.1102708. ISSN\\xa01353-0194. S2CID\\xa0159943632. Archived from the original (PDF) on 20 July 2018. Retrieved 7 July 2019.\\n\\n^ Tsourapas, Gerasimos (10 November 2015). \"Why Do States Develop Multi-tier Emigrant Policies? Evidence from Egypt\" (PDF). Journal of Ethnic and Migration Studies. 41 (13): 2192‚Äì2214. doi:10.1080/1369183X.2015.1049940. ISSN\\xa01369-183X. S2CID\\xa073675854.[permanent dead link\\u200d]\\n\\n^ Simona., Talani, Leila (1 January 2010). From Egypt to Europe\\xa0: globalisation and migration across the Mediterranean. Tauris Academic Studies. OCLC\\xa0650606660.{{cite book}}:  CS1 maint: multiple names: authors list (link)\\n\\n^ a b c d e Omer Karasapan, Who are the 5 million refugees and immigrants in Egypt? Archived 6 July 2017 at the Wayback Machine, Brookings Institution (4 October 2016).\\n\\n^ \"Constitutional Declaration 2011\". Egyptian Government Services. Archived from the original on 1 December 2017. Retrieved 1 December 2017.\\n\\n^ The language may have survived in isolated pockets in Upper Egypt as late as the 19th century, according to James Edward Quibell, \"When did Coptic become extinct?\" in Zeitschrift f√ºr √§gyptische Sprache und Altertumskunde, 39 (1901), p. 87.\\n\\n^ \"Daily News Egypt ‚Äì Full Article\". 21 July 2011. Archived from the original on 21 July 2011.\\n\\n^ \"The Global Religious Landscape\". Pew Research Center. December 2012. Archived from the original on 17 January 2018. Retrieved 5 November 2018.\\n\\n^ Analysis (19 December 2011). \"Global Christianity\". Pew Research Center. Archived from the original on 26 December 2018. Retrieved 17 August 2012.\\n\\n^ Hackett, Conrad (16 February 2011). \"How many Christians are there in Egypt?\". Pew Research Center. Retrieved 7 July 2024.\\n\\n^ \"Background Note: Egypt\". US Department of State. 10 November 2010. Archived from the original on 22 July 2019. Retrieved 5 March 2011.\\n\\n^ \"Egypt\". CIA. 4 September 2008. Archived from the original on 9 October 2021. Retrieved 15 May 2007.\\n\\n^ \"Egypt\". UK Foreign and Commonwealth Office. 27 January 2008. Archived from the original on 12 December 2012. Retrieved 16 February 2016.\\n\\n^ Egypt. Microsoft Encarta Online. 30 September 2008. Archived from the original on 21 October 2009.\\n\\n^ \"Mapping The Global Muslim Population\" (PDF). Pew Forum on Religion and Public Life. p.\\xa08. Archived from the original (PDF) on 10 October 2009. Retrieved 25 July 2011.\\n\\n^ \"Encyclopedia Coptica: The Christian Coptic Orthodox Church Of Egypt\". www.coptic.net. Archived from the original on 31 August 2005. Retrieved 6 January 2016.\\n\\n^ Butler, Alfred J. (1978). The Arab Conquest of Egypt. Oxford University Press. ISBN\\xa0978-0-19-821678-0.\\n\\n^ \"Egypt\". Berkley Center for Religion, Peace, and World Affairs. Archived from the original on 20 December 2011. Retrieved 14 December 2011.\\n\\n^ Chapter 1: Religious Affiliation Archived 26 December 2016 at the Wayback Machine retrieved 4 September 2013\\n\\n^ Col. (ret.) Jacques Neriah (23 September 2012). \"Egypt\\'s Shiite Minority: Between the Egyptian Hammer and the Iranian Anvil\". Jerusalem Center for Public Affairs. Archived from the original on 9 September 2013. Retrieved 6 July 2013.\\n\\n^ Tim Marshall (25 June 2013). \"Egypt: Attack On Shia Comes At Dangerous Time\". Sky News. Archived from the original on 30 June 2013. Retrieved 6 July 2013.\\n\\n^ Mohammad Hassan Khalil (2013). Between Heaven and Hell: Islam, Salvation, and the Fate of Others. Oxford University Press. p.\\xa0297. ISBN\\xa0978-0-19-994541-2.\\n\\n^ Venetia Rainey (20 April 2011). \"What is Salafism and should we be worried?\". Theweek.co.uk. Archived from the original on 11 July 2013. Retrieved 6 July 2013.\\n\\n^ Robin Barton (19 February 2001). \"Cairo: Welcome to the city of 1,000 minarets\". The Independent. London. Archived from the original on 25 September 2015. Retrieved 26 August 2017.\\n\\n^ \"Egypt - Arabic, Coptic, Nubian | Britannica\". www.britannica.com. 6 July 2024. Retrieved 7 July 2024.\\n\\n^ Indira Falk Gesink, Islamic Reform and Conservatism: Al-Azhar and the Evolution of Modern Sunni Islam (I.B.Tauris, 2014), p. 2.\\n\\n^ Kristin Deasy (October 2012). \"The Sufis\\' Choice: Egypt\\'s Political Wild Card\". World Affairs Journal. Archived from the original on 24 July 2013. Retrieved 6 July 2013.{{cite web}}:  CS1 maint: unfit URL (link)\\n\\n^ a b Hassan Ammar (14 June 2013). \"Sufis In Egypt Thrive With More Than 15 Million Despite Attacks By Islamist Hardliners\". Huffington Post. Archived from the original on 8 July 2013. Retrieved 6 July 2013.\\n\\n^ Hoffman, Valerie J. (1995). Sufism, Mystics, and Saints in Modern Egypt. University of South Carolina Press.\\n\\n^ Walsh, Declan, and Youssef, Nour, Militants Kill 305 at Sufi Mosque in Egypt\\'s Deadliest Terrorist Attack Archived 26 November 2017 at the Wayback Machine, The New York Times, 24 November 2017\\n\\n^ Who are the Christians in the Middle East?. Betty Jane Bailey. 2009. ISBN\\xa0978-0-8028-1020-5.\\n\\n^ \"Catholics in Egypt Reflect Church\\'s Rich and Varied Traditions\". L\\'Osservatore Romano. 1 March 2000. pp.\\xa06‚Äì7. Archived from the original on 25 January 2014. Retrieved 23 May 2013.\\n\\n^ al-Shahat, Abdel Moneim (18 February 2012). \"Shahat: Baha\\'is threaten Egypt\\'s national security\". Egypt Independent. Archived from the original on 20 February 2012. Retrieved 25 February 2012.\\n\\n^ \"Egypt Ahmadis detained under emergency law: rights group\". 14 May 2010. Archived from the original on 6 June 2014. Retrieved 4 June 2014.\\n\\n^ \"Egypt - Literacy rate 2022\". Statista. Retrieved 7 July 2024.\\n\\n^ \"Egypt: youth literacy rate\". Statista. Retrieved 7 July 2024.\\n\\n^ a b c d e f \"Education in Egypt: Key Challenges\" (PDF). Chatham House. March 2012. Archived from the original (PDF) on 24 December 2012.\\n\\n^ a b c Higher education in Egypt (2010\\xa0ed.). OECD. 2010. p.\\xa060. ISBN\\xa0978-92-64-08434-6. Archived from the original on 25 January 2014. Retrieved 16 February 2013.\\n\\n^ \"Global Innovation Index 2024\\xa0: Unlocking the Promise of Social Entrepreneurship\". www.wipo.int. Retrieved 29 November 2024.\\n\\n^ \"Demography\". SESRIC. Archived from the original on 22 June 2013. Retrieved 8 February 2013.\\n\\n^ \"Health\". SESRIC. Archived from the original on 22 June 2013. Retrieved 8 February 2013.\\n\\n^ \"Egypt Health Insurance\". globalsurance.com. Archived from the original on 5 September 2015. Retrieved 25 August 2015.\\n\\n^ \"Female genital mutilation and other harmful practices\". WHO. 2011. Archived from the original on 23 April 2011. Retrieved 28 January 2011.\\n\\n^ \"Egypt\\'s parliament passes bill designating FGM a felony, imposes stricter penalties\". Ahram Online. Archived from the original on 2 December 2016. Retrieved 1 December 2016.\\n\\n^ \"SIS\". State Information Service. Archived from the original on 13 November 2013. Retrieved 28 November 2013.\\n\\n^ \"Mideast: Egypt Makes Cultural Clout Count (IPS, Oct.\\xa029,\\xa02009)\". Ipsnews.net. 29 October 2009. Archived from the original on 27 April 2011. Retrieved 25 August 2010.\\n\\n^ Raymon Kondos (15 February 2004). \"The Egyptian Identity: Pharaohs, Moslems, Arabs, Africans, Middle Easterners or Mediterranean People?\". Archived from the original on 29 August 2008. Retrieved 21 August 2008.\\n\\n^ El-Daly, Okasha (2005). Egyptology: The Missing Millennium. London: UCL Press. p.\\xa029.\\n\\n^ Jankowski, James. Egypt, A Short History. p.\\xa0130.\\n\\n^ Edwards, Amelia, The Literature and Religion of Ancient Egypt, archived from the original on 20 October 2007, retrieved 30 September 2007\\n\\n^ \"Global influence of Egyptian culture\". Egypt State Information Service. 4 February 2006. Archived from the original on 24 November 2007. Retrieved 21 August 2008.\\n\\n^ Vatikiotis, P.J. (1991). The history of modern Egypt: from Muhammad Ali to Mubarak (4\\xa0ed.). London: Weidenfeld and Nicolson. p.\\xa0486. ISBN\\xa0978-0-297-82034-5.\\n\\n^ \"Culture of Egypt\". www.chinadaily.com.cn. Retrieved 9 May 2022.\\n\\n^ a b \"Country profiles: Egypt\". BBC News. 15 January 2013. Archived from the original on 21 April 2009. Retrieved 8 February 2013.\\n\\n^ \"Plus ca Change: The Role of the Media in Egypt\\'s First Contested Presidential Elections\". Tbsjournal.com. Archived from the original on 16 August 2006. Retrieved 8 February 2013.\\n\\n^ \"Freedom House 2007 report\". Freedomhouse.org. 10 May 2004. Archived from the original on 27 December 2010. Retrieved 25 August 2010.\\n\\n^ Darwish, Mustafa (1998). Dream Makers on the Nile: A Portrait of Egyptian Cinema. Cairo: American University in Cairo Press. pp.\\xa012‚Äì13.\\n\\n^ Houissa, Ali. \"LibGuides: Middle Eastern & North African Cinema & Film: Egyptian Cinema & Film\". guides.library.cornell.edu. Retrieved 4 October 2021.\\n\\n^ Dajani, Karen Finlon (1 May 1980). \"Cairo: the Hollywood of the Arab World\". Gazette (Leiden, Netherlands). 26 (2): 89‚Äì98. doi:10.1177/001654928002600202. ISSN\\xa00016-5492. S2CID\\xa0144015456.\\n\\n^ \"The golden age of Egyptian cinema - Focus\". Ahram Online. Retrieved 4 February 2022.\\n\\n^ \"Cairo International Film Festival information\". UKHotMovies. 1 December 2005. Archived from the original on 5 January 2020. Retrieved 17 February 2018.\\n\\n^ ÿ≥ÿπÿØ, ÿπÿ®ÿØÿßŸÑŸÖŸÜÿπŸÖ (1976). ŸÖŸàÿ¨ÿ≤ ÿ™ÿßÿ±ŸäÿÆ ÿßŸÑÿ≥ŸäŸÜŸÖÿß ÿßŸÑŸÖÿµÿ±Ÿäÿ© (in Arabic). ŸÖÿ∑ÿßÿ®ÿπ ÿßŸÑÿ£Ÿáÿ±ÿßŸÖ ÿßŸÑÿ™ÿ¨ÿßÿ±Ÿäÿ©.\\n\\n^ Shafik, Viola (2007). Popular Egyptian Cinema: Gender, Class, and Nation. Oxford University Press. ISBN\\xa0978-977-416-053-0.\\n\\n^ Music of Ancient Egypt Archived 13 October 2015 at the Wayback Machine, Kelsey Museum of Archaeology, University of Michigan.\\n\\n^ Nancy Farghalli (25 July 2006). \"Marketplace: Egypt\\'s next big thing\". Marketplace. American Public Media. Archived from the original on 15 May 2008. Retrieved 31 May 2011.\\n\\n^ \"Great Museum to be inaugurated in May 2018 ‚Äì Egypt Independent\". 10 May 2015. Archived from the original on 9 July 2015. Retrieved 14 December 2016.\\n\\n^ \"BBC Sport Academy | Al-Ahly v Zamalek\". BBC News. 5 August 2002. Archived from the original on 11 May 2011. Retrieved 25 August 2010.\\n\\n^ \"Al-Ahly ‚Äì master of the world\". Daily News Egypt. 11 December 2014. Archived from the original on 11 December 2014. Retrieved 22 December 2014.\\n\\n^ \"Mo Salah\\'s late penalty gives Egypt first World Cup qualification since 1990\". The Guardian. 8 October 2017. Archived from the original on 6 December 2017. Retrieved 22 March 2018.\\n\\n^ \"1950 World Championship for Men\". FIBA. 9 June 2012. Archived from the original on 13 November 2012. Retrieved 9 June 2012.\\n\\n^ \"Egypt ‚Äì 1952 Olympic Games; Tournament for Men\". FIBA. 9 June 2012. Archived from the original on 11 August 2012. Retrieved 9 June 2012.\\n\\n^ \"Continental Cup Finals start in Africa\". FIVB. 22 June 2021. Retrieved 7 August 2021.\\n\\n\\nExternal links\\n\\n\\nLibrary resources about  Egypt \\n\\nResources in your library\\nResources in other libraries\\n\\n\\nKey Development Forecasts for Egypt from International Futures\\nGovernment\\nInformation Portal ‚Äì Official Egypt Information Portal\\nInformation and Decision ‚Äì Egypt Information and Decision Support Center\\nInformation Services ‚Äì official website of Egypt State Information Services\\nPresidency ‚Äì official website of the president of Egypt\\nPrime Minister ‚Äì official website of the prime minister of Egypt\\nHouse of Representatives\\xa0‚Äì official website of Egypt House of Representatives\\nSupreme Constitutional Court ‚Äì official website of the Supreme Constitutional Court of Egypt\\nMobilization and Statistics ‚Äì official website of Central Agency for Public Mobilization and Statistics\\nHistory\\n\"History\" ‚Äì Egyptian history at Egypt Information Portal\\n\"Description de l\\'Egypte\" ‚Äì Ancient, modern and natural history of Egypt at The Bibliotheca Alexandrina\\n\"Modern Egypt\" ‚Äì website from the Bibliotheca Alexandrina\\nTourism\\nExperience Egypt ‚Äì Egypt\\'s official tourism portal\\nMaps\\n Wikimedia Atlas of Egypt\\n Geographic data related to Egypt at OpenStreetMap\\nvteEgypt topicsHistoryChronology\\nPrehistoric\\nAncient\\ntopics\\nAchaemenid\\n27th Dynasty\\n31st Dynasty\\nPtolemaic\\nBattle of Actium\\nLighthouse of Alexandria\\nRoman\\nDiocese of Egypt\\nLibrary of Alexandria\\nChristian\\nSassanid\\nMuslim\\nRashidun Caliphate\\nFustat\\nIslamization\\nTulunid dynasty\\nIkhshidid dynasty\\nFatimid Caliphate\\nCrusader invasions\\nAyyubid dynasty\\nMamluk Sultanate\\nMamluk\\nOttoman\\nOttoman Egypt\\nKhedivate and Kingdom of Egypt\\nMuhammad Ali dynasty\\nNahda\\nKhedivate\\nEgyptian‚ÄìEthiopian War\\nUrabi revolt\\nModern\\nFrench occupation\\nRevolt of Cairo\\nBritish occupation\\n1919 revolution\\nSultanate\\nWorld War II\\nKingdom\\n1948 Arab‚ÄìIsraeli War\\nRepublic\\nNasser era\\n1952 Egyptian revolution\\nLand reform\\nSuez Crisis\\nUnited Arab Republic\\nSix-Day War\\nSadat era\\nYom Kippur War\\nEgyptian‚ÄìLibyan War\\nAssassination of Anwar Sadat\\nMubarak era\\n2010s Crisis\\n2011 Egyptian revolution\\n2013 Rabaa massacre\\nBy topic\\nAnarchism\\nCapital\\nCigarette industry\\nConstitution\\nCopts\\nGenetic\\nHealthcare\\nJews\\nMuslim Brotherhood\\n1928‚Äì1938\\n1939‚Äì1954\\n1954‚Äìpresent\\nParliament\\nPopulation\\nPostal\\nSaladin\\nTimekeeping devicesBy city\\nAlexandria\\nCairo\\nPort Said\\n\\nGeography\\nBiota\\nBorders\\nCities\\nClimate\\nDeserts\\nEarthquakes\\nEnvironmental issues\\nFossils\\nGeology\\nHalfaya Pass\\nIslands\\nLakes\\nMountains\\nMount Sinai\\nNile Delta\\nNorthern coast\\nOases\\nQattara Depression\\nRed Sea Riviera\\nRivers\\nNile\\nSinai Peninsula\\nSuez Canal\\nTowns and villages\\nWadis\\nWildlife\\nPolitics\\nAdministrative divisions\\nGovernorates\\nCivil Code\\nCorruption\\nConscription\\nConstitution\\nElections\\nForeign relations\\nMissions\\nIslamic extremism\\nJudiciary\\nLaw enforcement\\nMassacres\\nMilitary\\nSupreme Council\\nNationality law\\nParliament\\nPassport\\nPolitical parties\\nPresident\\nlist\\nPrime Minister\\nlist\\nProposed new capital\\nRefugees of the Syrian civil war\\nTerrorism\\nTerrorism and tourism\\nTwin towns and sister cities\\nEconomy\\nAgriculture\\nBanking\\nNational Bank\\nCompanies\\nEconomic regions\\nEgyptian stock exchange\\nEgyptian pound\\nEnergy\\nEntrepreneurship policies\\nFishing\\nImpact on the environment\\nLighthouses\\nMilitary industry\\nMining\\nMines\\nNuclear program\\nPower stations\\nAswan Dam\\nRole of the Egyptian Armed Forces\\nTallest buildings\\nTelecommunications\\nInternet\\nTourism\\nCultural tourism\\nTransport\\nAirlines\\nAirports\\nRailway stations\\nWater supply and sanitation\\nWater resources management\\nSocietyGeneral\\nAbortion\\nAnimal welfare\\nBillionaires\\nCannabis\\nCapital punishment\\nCensuses\\nCorruption\\nCrime\\nHuman trafficking\\nMass sexual assault\\nRape\\nDemographics\\nDiaspora\\nEducation\\nAcademic grading\\nLaw schools\\nMedical schools\\nSchools\\nUniversities\\nFamilies\\nAbaza family\\nFeminism\\nGender inequality\\nHealth\\nHealthcare\\nHospitals\\nHousing\\nHuman rights\\nFreedom of religion\\nLGBT rights\\nInternational rankings\\nLanguages\\nEgyptian Arabic\\nSa\\xa0Ωidi Arabic\\nSign Language\\nLiberalism\\nLiterature\\nProstitution\\nReligion\\nBah√°\\xa0º√≠\\nBlasphemy law\\nChristianity\\nCatholic dioceses\\nCoptic Churches\\nHinduism\\nIdentification card controversy\\nIrreligion\\nIslam\\nAhmadiyya\\nMosques\\nNiqƒÅb\\nJudaism\\nSynagogues\\nScientology\\nSmoking\\nUnits of measurement\\nVehicle registration plates\\nWaste management\\nWomen\\nCulture\\nArchitecture\\nArt (ancient)\\nArt (contemporary)\\nBotanical gardens\\nCastles\\nCinema\\nCoat of arms\\nCuisine\\nBeer\\nWine\\nFilms\\nFlag\\nlist\\nregions\\nFootball\\nFootball clubs\\nFootball stadiums\\nEgyptians\\nMass media\\nMagazines\\nNewspapers\\nRadio\\nTV\\nMuseums\\nMusic\\nNational anthem\\nOlympics\\nPublic holidays\\nWorld Heritage Sites\\n\\n Category\\n Portal\\n WikiProject\\n Commons\\n\\nRelated articles\\nvteCountries and territories of North AfricaSovereign states\\n\\xa0Algeria\\n\\xa0Egypt\\n\\xa0Libya\\n\\xa0Morocco\\n\\xa0Sudan\\n\\xa0Tunisia\\nPartially recognized state\\n Sahrawi Arab Democratic Republic\\nTerritoriesMorocco/SADRWestern Sahara1Spain\\nCanary Islands\\nCeuta2\\nMelilla2\\nAlboran\\nAlhucemas2\\nChafarinas2\\nV√©lez de la Gomera2\\nPortugal\\nMadeira\\nSavage Islands3\\nSudan/Egypt\\nHala\\'ib Triangle4\\nWadi Halfa Salient4\\nBir Tawil5\\nSudan/South Sudan\\nAbyei6\\nKafia Kingi6\\nItaly\\nPantelleria\\nPelagie Islands\\nLibya/Chad\\nAouzou Strip7\\nMorocco/Spain\\nPerejil8\\n1Entirely claimed by both Morocco and the SADR. 2Spanish exclaves claimed by Morocco. 3Portuguese archipelago claimed by Spain. 4Disputed between Egypt and the Sudan. 5Unclaimed territory located between Egypt and the Sudan. 6Disputed between South Sudan and the Sudan. 7Part of Chad, formerly claimed by Libya. 8Disputed between Morocco and Spain\\nvteMiddle EastCountries\\nBahrain\\nCyprus\\nEgypt\\nIran\\nIraq\\nIraqi Kurdistan\\nIsrael\\nJordan\\nKuwait\\nLebanon\\nNorthern Cyprus\\nOman\\nPalestine\\nGaza\\nWest Bank\\nQatar\\nSaudi Arabia\\nSyria\\nNorth Syria Federation\\nTurkish occupation of northern Syria\\nTurkey\\nUnited Arab Emirates\\nYemen\\nSociety\\nClimate change\\nDemocracy\\nEconomy\\nEnergy\\nHistory\\nTimeline\\nModern conflicts\\nHuman rights\\nWater politics\\nWater conflict\\nDemographics\\nEthnic groups\\nGenetics\\nMetropolitan areas\\nReligion\\nIrreligion\\nCulture\\nArchaeology\\nCinema\\nCuisine\\nEtiquette\\nMusic\\nDance\\nStudies\\n\\nvteCountries and territories of the Mediterranean SeaSovereign states\\nAlbania\\nAlgeria\\nBosnia and Herzegovina\\nCroatia\\nCyprus\\nEgypt\\nFrance\\nGreece\\nIsrael\\nItaly\\nLebanon\\nLibya\\nMalta\\nMonaco\\nMontenegro\\nMorocco\\nSlovenia\\nSpain\\nSyria\\nTunisia\\nTurkey\\nStates with limited recognition\\nNorthern Cyprus\\nPalestine\\nDependencies and other territories\\nAkrotiri and Dhekelia (UK)\\nGibraltar (UK)\\nCeuta and Melilla (Spain)\\nMarginal seas\\nAdriatic Sea\\nAegean Sea\\nAlboran Sea\\nBalearic Sea\\nIonian Sea\\nLevantine Sea\\nLibyan Sea\\nLigurian Sea\\nSea of Crete\\nSea of Marmara\\nSea of Sardinia\\nThracian Sea\\nTyrrhenian Sea\\n\\nvteCountries bordering the Red Sea\\n\\xa0Djibouti\\n\\xa0Egypt\\n\\xa0Eritrea\\n\\xa0Ethiopia\\n\\xa0Jordan\\n\\xa0Saudi Arabia\\n\\xa0Somalia\\n\\xa0Sudan\\n\\xa0Yemen\\n\\nvteCountries and territories of AfricaSovereign states\\nAlgeria\\nAngola\\nBenin\\nBotswana\\nBurkina Faso\\nBurundi\\nCameroon\\nCape Verde\\nCentral African Republic\\nChad\\nComoros\\nDemocratic Republic of the Congo\\nRepublic of the Congo\\nDjibouti\\nEgypt (partly in Asia)\\nEquatorial Guinea\\nEritrea\\nEswatini\\nEthiopia\\nGabon\\nThe Gambia\\nGhana\\nGuinea\\nGuinea-Bissau\\nIvory Coast\\nKenya\\nLesotho\\nLiberia\\nLibya\\nMadagascar\\nMalawi\\nMali\\nMauritania\\nMauritius\\nMorocco\\nMozambique\\nNamibia\\nNiger\\nNigeria\\nRwanda\\nS√£o Tom√© and Pr√≠ncipe\\nSenegal\\nSeychelles\\nSierra Leone\\nSomalia\\nSouth Africa\\nSouth Sudan\\nSudan\\nTanzania\\nTogo\\nTunisia\\nUganda\\nZambia\\nZimbabwe\\nStates with limitedrecognition\\nSahrawi Arab Democratic Republic (unclear sovereignty)\\nSomaliland\\nDependentterritoriesFrance\\n√éles √âparses\\nUnited KingdomSaint Helena, Ascension and Tristan da CunhaAfrican territoriesfully part ofnon-African statesFrance\\nMayotte\\nR√©union\\nItaly\\nPantelleria\\nPelagie Islands\\nPortugal\\nMadeira\\nSavage Islands\\nSpain\\nCanary Islands\\nCeuta\\nMelilla\\nPlazas de soberan√≠a\\nYemen\\nSocotra\\n\\n Category\\n Africa portal\\n\\nvteCountries and dependencies of AsiaSovereign states\\nAfghanistan\\nArmenia2\\nAzerbaijan1\\nBahrain\\nBangladesh\\nBhutan\\nBrunei\\nCambodia\\nChina\\nCyprus2\\nEast Timor\\nEgypt1\\nGeorgia1\\nIndia\\nIndonesia1\\nIran\\nIraq\\nIsrael\\nJapan\\nJordan\\nKazakhstan1\\nNorth Korea\\nSouth Korea\\nKuwait\\nKyrgyzstan\\nLaos\\nLebanon\\nMalaysia\\nMaldives\\nMongolia\\nMyanmar\\nNepal\\nOman\\nPakistan\\nPhilippines\\nQatar\\nRussia1\\nSaudi Arabia\\nSingapore\\nSri Lanka\\nSyria\\nTajikistan\\nThailand\\nTurkey1\\nTurkmenistan\\nUnited Arab Emirates\\nUzbekistan\\nVietnam\\nYemen\\nStates with limitedrecognition\\nAbkhazia2\\nNorthern Cyprus2\\nPalestine\\nSouth Ossetia2\\nTaiwan\\nDependentterritoriesAustralia\\nChristmas Island\\nCocos (Keeling) Islands\\nGreece\\nKastellorizo\\nUnited Kingdom\\nAkrotiri and Dhekelia2 (Sovereign Base Areas)\\nBritish Indian Ocean Territory (British Overseas Territory)\\nSpecial administrativeregions of China\\nHong Kong\\nMacau\\n\\n1 Spans the conventional boundary between Asia and another continent.\\n2 Considered European for cultural, political and historical reasons but is geographically in West Asia.\\n Category\\n Asia portal\\n\\nvteArab League\\n Arab League\\n Lists\\nPolitics\\nCharter\\nCouncil\\nFlag\\nGeography\\nHeadquarters\\nHistory\\nMilitary\\nUnited States Central Command (United States military bases)\\nJoint Defence Council\\nParliament\\nArab Union\\nMembershipMembers\\nAlgeria\\nBahrain\\nComoros\\nDjibouti\\nEgypt\\nIraq\\nJordan\\nKuwait\\nLebanon\\nLibya\\nMauritania\\nMorocco\\nOman\\nPalestine\\nQatar\\nSaudi Arabia\\nSomalia\\nSudan\\nSyria\\nTunisia\\nUnited Arab Emirates\\nYemen\\nObservers\\nArmenia\\nBrazil\\nChad\\nEritrea\\nGreece\\nIndia\\nVenezuela\\nCandidates\\nSouth Sudan\\nDiplomacy\\nArab Peace Initiative\\nArab League monitors in Syria\\nArab League‚ÄìEuropean Union relations\\nForeign relations\\nLife\\nDemographics\\nEconomy\\nGDP\\nEconomic and Social Council\\nInstitutions\\nSport\\n\\nPan-Arabism\\nUnion of Arab National Olympic Committees\\nPan Arab Games\\n\\n\\n\\nvteNon-Aligned MovementMembers and the NAM\\nCyprus ‚Ä°\\nEgypt\\nGhana\\nIndia\\nMalta ‚Ä°\\nSri Lanka\\nTanzania\\nYugoslavia ‚Ä°\\nStructureBureau\\nCoordinating Bureau of the Non-Aligned Movement\\nOrganizations\\nCentre for South-South Technical Cooperation\\nCentre for Science and Technology of the Non-aligned and Other Developing Countries\\nCenter for Human Rights and Cultural Diversity\\nNAM Youth\\nNAM News Network (News Agencies Pool)\\n\"Josip Broz Tito\" Art Gallery of the Nonaligned Countries\\nPrinciples\\nFive Principles of Peaceful Coexistence\\nSummits\\nBandung Conference\\nBrioni Meeting\\n1st\\n2nd\\n3rd\\n4th\\n5th\\n6th\\n7th\\n8th\\n9th\\n10th\\n16th\\n18th\\n19th\\nFounders\\nJosip Broz Tito (Yugoslavia)\\nSukarno (Indonesia)\\nJawaharlal Nehru (India)\\nKwame Nkrumah (Ghana)\\nGamal Abdel Nasser (Egypt)\\nPeople\\nHouari Boumediene\\nFidel Castro\\nNelson Mandela\\nMohamed Morsi\\nNicol√°s Maduro\\nSirimavo Bandaranaike\\n‚Ä° denotes a former member state of the Non-Aligned Movement\\nvteNations in the Group of 15 (G-15)Summits\\n1990\\n1991\\n1992\\n1994\\n1995\\n1996\\n1997\\n1998\\n1999\\n2000\\n2001\\n2004\\n2006\\n2010\\n2012\\nMembers\\nAlgeria\\nArgentina\\nBrazil\\nChile\\nEgypt\\nIndia\\nIndonesia\\nIran\\nJamaica\\nKenya\\nMalaysia\\nMexico\\nNigeria\\nSenegal\\nSri Lanka\\nVenezuela\\nZimbabwe\\n\\nvteCommunity of Sahel‚ÄìSaharan States (CEN-SAD)\\nBenin\\nBurkina Faso\\nCape Verde\\nCentral African Republic\\nChad\\nComoros\\nDjibouti\\nEgypt\\nEritrea\\nGambia\\nGhana\\nGuinea\\nGuinea-Bissau\\nIvory Coast\\nKenya\\nLiberia\\nLibya\\nMali\\nMauritania\\nMorocco\\nNiger\\nNigeria\\nS√£o Tom√© and Pr√≠ncipe\\nSenegal\\nSierra Leone\\nSomalia\\nSudan\\nTogo\\nTunisia\\n\\nvteShanghai Cooperation Organisation (SCO)Summits\\nBeijing 2012\\nDushanbe 2014\\nAstana 2017\\nSamarkand 2022\\nAstana 2024\\nIslamabad 2024\\nMember states\\n\\xa0Belarus\\n\\xa0China\\n\\xa0India\\n\\xa0Iran\\n\\xa0Kazakhstan\\n\\xa0Kyrgyzstan\\n\\xa0Pakistan\\n\\xa0Russia\\n\\xa0Tajikistan\\n\\xa0Uzbekistan\\nObserver states\\n\\xa0Mongolia\\nDialogue partners\\n\\xa0Armenia\\n\\xa0Azerbaijan\\n\\xa0Bahrain\\n\\xa0Cambodia\\n\\xa0Egypt\\n\\xa0Kuwait\\n\\xa0Maldives\\n\\xa0Myanmar\\n\\xa0Nepal\\n\\xa0Qatar\\n\\xa0Saudi Arabia\\n\\xa0Sri Lanka\\n\\xa0Turkey\\n\\xa0United Arab Emirates\\nGuests\\nASEAN\\nCommonwealth of Independent States\\n\\xa0Turkmenistan\\nUnited Nations\\nApplicants\\n\\xa0Algeria\\n\\xa0Bangladesh\\n\\xa0Iraq\\n\\xa0Israel\\n\\xa0Laos\\n\\xa0Syria\\nSee also\\nMember states\\nThree Evils\\nSCO Interbank Consortium\\nEurasian Land Bridge\\nWorking languages\\nChinese\\nRussian\\n\\nvteOrganisation of Islamic Cooperation (OIC)\\nSecretary-General of the Organisation of Islamic Cooperation: Hissein Brahim Taha\\nMember statesMembers\\nAfghanistan\\nAlbania\\nAlgeria\\nAzerbaijan\\nBahrain\\nBangladesh\\nBenin\\nBurkina Faso\\nBrunei\\nCameroon\\nChad\\nComoros\\nDjibouti\\nEgypt\\nGabon\\nGambia\\nGuinea\\nGuinea-Bissau\\nGuyana\\nIndonesia\\nIran\\nIraq\\nIvory Coast\\nJordan\\nKazakhstan\\nKuwait\\nKyrgyzstan\\nLebanon\\nLibya\\nMalaysia\\nMaldives\\nMali\\nMauritania\\nMorocco\\nMozambique\\nNiger\\nNigeria\\nOman\\nPakistan\\nPakistan-OIC relations\\nPalestine\\nQatar\\nSaudi Arabia\\nSenegal\\nSierra Leone\\nSomalia\\nSudan\\nSuriname\\nTajikistan\\nTogo\\nTunisia\\nTurkey\\nTurkmenistan\\nUganda\\nUzbekistan\\nUnited Arab Emirates\\nYemen\\nSuspended\\nSyria\\nObserversCountriesand territories\\nBosnia and Herzegovina\\nCentral African Republic\\nNorthern Cyprus1\\nRussia\\nThailand\\nMuslimcommunities\\nMoro National Liberation Front\\nInternationalorganizations\\nEconomic Cooperation Organization\\nAfrican Union\\nArab League\\nNon-Aligned Movement\\nUnited Nations\\nHistoryDeclarations\\nAbuja Declaration (1989)\\nCairo Declaration on Human Rights in Islam (1990)\\nOIC Resolution 10/11 (2008)\\nOIC Council of Foreign Ministers Resolution 10/37 (2010)\\nSessionsExtraordinary\\nFirst\\nSecond\\nThird\\nFourth\\nFifth\\nSixth\\nSeventh\\nEighth\\nNinth\\nArab‚ÄìIslamic (2023)\\nDemographics\\nEconomy\\nGDP\\nGDP per capita\\nExports\\nImports\\nPopulation\\nLargest cities\\nEducation\\n\\n1 As the \"Turkish Cypriot State\".\\n\\nvteOrganisation internationale de la FrancophonieMembersMembers\\nAlbania\\nAndorra\\nArmenia\\nBelgium\\nBenin\\nBulgaria\\nBurkina Faso\\nBurundi\\nCambodia\\nCameroon\\nCanada\\nCape Verde\\nCentral African Republic\\nChad\\nComoros\\nDemocratic Republic of the Congo\\nRepublic of the Congo\\nDjibouti\\nDominica\\nEgypt\\nEquatorial Guinea\\nFrance\\nGabon\\nGreece\\nGuinea\\nGuinea-Bissau\\nHaiti\\nIvory Coast\\nLaos\\nLebanon\\nLuxembourg\\nNorth Macedonia\\nMadagascar\\nMali\\nMauritania\\nMauritius\\nMoldova\\nMonaco\\nMorocco\\nNiger\\nQatar\\nRomania\\nRwanda\\nSaint Lucia\\nS√£o Tom√© and Pr√≠ncipe\\nSenegal\\nSeychelles\\nSwitzerland\\nTogo\\nTunisia\\nVanuatu\\nVietnam\\nNational/regional members\\nFrench Community of Belgium\\nNew Brunswick\\nQuebec\\nAssociate members\\nGambia\\nGhana\\nCyprus\\nSerbia\\nUnited Arab Emirates\\nObservers\\nArgentina\\nAustria\\nBosnia and Herzegovina\\nCroatia\\nCzech Republic\\nDominican Republic\\nGeorgia\\nHungary\\nIreland\\nKosovo\\nLatvia\\nLithuania\\nLouisiana\\nMexico\\nMontenegro\\nMozambique\\nOntario\\nPoland\\nSlovakia\\nSlovenia\\nSouth Korea\\nUkraine\\nUruguay\\nSuspended members\\nThailand\\nOrganization\\nAssembl√©e parlementaire de la Francophonie\\nAgence de Coop√©ration Culturelle et Technique\\nAgence universitaire de la Francophonie\\nCulture\\nFrench language\\nUN French Language Day\\nInternational Francophonie Day\\nJeux de la Francophonie\\nPrix des cinq continents de la francophonie\\nAFFOI\\nTV5Monde\\nLGBT rights\\nRelated\\nFrancophone economy\\nSenghor University\\n\\n Category\\n\\nPortals: Egypt Africa Asia Middle East CountriesEgypt at Wikipedia\\'s sister projects:Media from CommonsNews from WikinewsQuotations from WikiquoteTravel guides from Wikivoyage\\nAuthority control databases InternationalISNI2VIAFFASTWorldCatNationalGermanyUnited StatesFrance23BnF data23JapanAustraliaCzech RepublicSpainPortugalNorwayIsraelGeographicMusicBrainz areaArtistsKulturNavPeopleTroveUK ParliamentOtherIdRefHistorical Dictionary of SwitzerlandNARAEncyclopedia of Modern Ukraine2ƒ∞sl√¢m Ansiklopedisi\\n26¬∞N 30¬∞E\\ufeff / \\ufeff26¬∞N 30¬∞E\\ufeff / 26; 30\\n\\n\\n\\n\\n\\nRetrieved from \"https://en.wikipedia.org/w/index.php?title=Egypt&oldid=1260467528\"\\nCategories: EgyptCountries in AfricaCountries in AsiaNorth African countriesWest Asian countriesEastern MediterraneanSaharan countriesArab republicsCountries and territories where Arabic is an official languageBRICS nationsDeveloping 8 Countries member statesG15 nationsMember states of the African UnionMember states of the Arab LeagueMember states of the Organisation internationale de la FrancophonieMember states of the Organisation of Islamic CooperationMember states of the Union for the MediterraneanMember states of the United NationsStates and territories established in 19221922 establishments in Egypt1922 establishments in Africa1922 establishments in AsiaHidden categories: Pages using the WikiHiero extensionWebarchive template wayback linksCS1 Maltese-language sources (mt)CS1 maint: numeric names: authors listCS1 maint: unfit URLWikipedia articles needing page number citations from February 2023All articles with dead external linksArticles with dead external links from December 2019Articles with permanently dead external linksCS1 maint: multiple names: authors listCS1 Arabic-language sources (ar)Pages using gadget WikiMiniAtlasArticles with short descriptionShort description matches WikidataWikipedia extended-confirmed-protected pagesUse dmy dates from October 2024Articles containing Arabic-language textArticles containing explicitly cited English-language textPages with Arabic IPAPages with Egyptian Arabic IPAArticles containing Ancient Greek (to 1453)-language textArticles containing Latin-language textTransliteration template errorsArticles containing Egyptian Arabic-language textPages with plain IPAArticles containing Coptic-language textWikipedia articles that are excessively detailed from September 2023All articles that are excessively detailedWikipedia articles with style issues from September 2023All articles with style issuesAll articles with unsourced statementsArticles with unsourced statements from November 2023Wikipedia articles needing clarification from July 2023Articles containing French-language textArticles containing potentially dated statements from August 2015All articles containing potentially dated statementsArticles containing potentially dated statements from 2010Articles containing potentially dated statements from 2017Articles with unsourced statements from October 2020Pages using Sister project links with hidden wikidataCoordinates on Wikidata\\n\\n\\n\\n\\n\\n\\n This page was last edited on 30 November 2024, at 22:49\\xa0(UTC).\\nText is available under the Creative Commons Attribution-ShareAlike 4.0 License;\\nadditional terms may apply. By using this site, you agree to the Terms of Use and Privacy Policy. Wikipedia¬Æ is a registered trademark of the Wikimedia Foundation, Inc., a non-profit organization.\\n\\n\\nPrivacy policy\\nAbout Wikipedia\\nDisclaimers\\nContact Wikipedia\\nCode of Conduct\\nDevelopers\\nStatistics\\nCookie statement\\nMobile view\\n\\n\\n\\n\\n\\n\\n\\n\\n\\n\\n\\n\\n\\n\\n'"
            ],
            "application/vnd.google.colaboratory.intrinsic+json": {
              "type": "string"
            }
          },
          "metadata": {},
          "execution_count": 66
        }
      ]
    },
    {
      "cell_type": "markdown",
      "source": [
        "### Splitting the loaded document\n",
        "I used 'RecursiveCharacterTextSplitter'. You can use any other way of splitting."
      ],
      "metadata": {
        "id": "5zMtGt8xBX0o"
      }
    },
    {
      "cell_type": "code",
      "source": [
        "# Splitting.\n",
        "from langchain.text_splitter import RecursiveCharacterTextSplitter\n",
        "text_splitter = RecursiveCharacterTextSplitter(\n",
        "    chunk_size = 3000,\n",
        "    chunk_overlap = 300\n",
        ")"
      ],
      "metadata": {
        "id": "XcpD9BU6_Aqy"
      },
      "execution_count": null,
      "outputs": []
    },
    {
      "cell_type": "code",
      "source": [
        "splits = text_splitter.split_documents(docs)"
      ],
      "metadata": {
        "id": "SIoG5yOgBmrU"
      },
      "execution_count": null,
      "outputs": []
    },
    {
      "cell_type": "code",
      "source": [
        "len(splits)"
      ],
      "metadata": {
        "colab": {
          "base_uri": "https://localhost:8080/"
        },
        "id": "peTzJ5XHBnK6",
        "outputId": "b6967119-6753-44d3-9a6d-0f7ca08367c1"
      },
      "execution_count": null,
      "outputs": [
        {
          "output_type": "execute_result",
          "data": {
            "text/plain": [
              "456"
            ]
          },
          "metadata": {},
          "execution_count": 69
        }
      ]
    },
    {
      "cell_type": "code",
      "source": [
        "display(splits[10].metadata)\n",
        "display(splits[200].metadata)\n",
        "display(splits[300].metadata)"
      ],
      "metadata": {
        "colab": {
          "base_uri": "https://localhost:8080/"
        },
        "id": "d2-Djm7ZBoR2",
        "outputId": "66041b88-73b3-476a-b5d8-7feed22c69b4"
      },
      "execution_count": null,
      "outputs": [
        {
          "output_type": "display_data",
          "data": {
            "text/plain": [
              "{'source': 'https://en.wikipedia.org/wiki/Egypt',\n",
              " 'title': 'Egypt - Wikipedia',\n",
              " 'language': 'en'}"
            ]
          },
          "metadata": {}
        },
        {
          "output_type": "display_data",
          "data": {
            "text/plain": [
              "{'source': 'https://en.wikipedia.org/wiki/United_States',\n",
              " 'title': 'United States - Wikipedia',\n",
              " 'language': 'en'}"
            ]
          },
          "metadata": {}
        },
        {
          "output_type": "display_data",
          "data": {
            "text/plain": [
              "{'source': 'https://en.wikipedia.org/wiki/Russia',\n",
              " 'title': 'Russia - Wikipedia',\n",
              " 'language': 'en'}"
            ]
          },
          "metadata": {}
        }
      ]
    },
    {
      "cell_type": "markdown",
      "source": [
        "### Vector store"
      ],
      "metadata": {
        "id": "DK_-FDgoCkRZ"
      }
    },
    {
      "cell_type": "code",
      "source": [
        "!pip install chromadb -q"
      ],
      "metadata": {
        "collapsed": true,
        "colab": {
          "base_uri": "https://localhost:8080/"
        },
        "id": "KUJ3vnc-DShC",
        "outputId": "5cf3db25-9c4a-4ac5-d418-e927529fb5b8"
      },
      "execution_count": null,
      "outputs": [
        {
          "output_type": "stream",
          "name": "stdout",
          "text": [
            "\u001b[?25l     \u001b[90m━━━━━━━━━━━━━━━━━━━━━━━━━━━━━━━━━━━━━━━━\u001b[0m \u001b[32m0.0/67.3 kB\u001b[0m \u001b[31m?\u001b[0m eta \u001b[36m-:--:--\u001b[0m\r\u001b[2K     \u001b[90m━━━━━━━━━━━━━━━━━━━━━━━━━━━━━━━━━━━━━━━━\u001b[0m \u001b[32m67.3/67.3 kB\u001b[0m \u001b[31m3.4 MB/s\u001b[0m eta \u001b[36m0:00:00\u001b[0m\n",
            "\u001b[?25h  Installing build dependencies ... \u001b[?25l\u001b[?25hdone\n",
            "  Getting requirements to build wheel ... \u001b[?25l\u001b[?25hdone\n",
            "  Preparing metadata (pyproject.toml) ... \u001b[?25l\u001b[?25hdone\n",
            "\u001b[2K   \u001b[90m━━━━━━━━━━━━━━━━━━━━━━━━━━━━━━━━━━━━━━━━\u001b[0m \u001b[32m617.9/617.9 kB\u001b[0m \u001b[31m16.0 MB/s\u001b[0m eta \u001b[36m0:00:00\u001b[0m\n",
            "\u001b[2K   \u001b[90m━━━━━━━━━━━━━━━━━━━━━━━━━━━━━━━━━━━━━━━━\u001b[0m \u001b[32m2.4/2.4 MB\u001b[0m \u001b[31m54.6 MB/s\u001b[0m eta \u001b[36m0:00:00\u001b[0m\n",
            "\u001b[2K   \u001b[90m━━━━━━━━━━━━━━━━━━━━━━━━━━━━━━━━━━━━━━━━\u001b[0m \u001b[32m278.6/278.6 kB\u001b[0m \u001b[31m15.8 MB/s\u001b[0m eta \u001b[36m0:00:00\u001b[0m\n",
            "\u001b[2K   \u001b[90m━━━━━━━━━━━━━━━━━━━━━━━━━━━━━━━━━━━━━━━━\u001b[0m \u001b[32m94.9/94.9 kB\u001b[0m \u001b[31m5.9 MB/s\u001b[0m eta \u001b[36m0:00:00\u001b[0m\n",
            "\u001b[2K   \u001b[90m━━━━━━━━━━━━━━━━━━━━━━━━━━━━━━━━━━━━━━━━\u001b[0m \u001b[32m1.9/1.9 MB\u001b[0m \u001b[31m49.9 MB/s\u001b[0m eta \u001b[36m0:00:00\u001b[0m\n",
            "\u001b[2K   \u001b[90m━━━━━━━━━━━━━━━━━━━━━━━━━━━━━━━━━━━━━━━━\u001b[0m \u001b[32m93.2/93.2 kB\u001b[0m \u001b[31m5.9 MB/s\u001b[0m eta \u001b[36m0:00:00\u001b[0m\n",
            "\u001b[2K   \u001b[90m━━━━━━━━━━━━━━━━━━━━━━━━━━━━━━━━━━━━━━━━\u001b[0m \u001b[32m13.3/13.3 MB\u001b[0m \u001b[31m52.1 MB/s\u001b[0m eta \u001b[36m0:00:00\u001b[0m\n",
            "\u001b[2K   \u001b[90m━━━━━━━━━━━━━━━━━━━━━━━━━━━━━━━━━━━━━━━━\u001b[0m \u001b[32m55.8/55.8 kB\u001b[0m \u001b[31m3.8 MB/s\u001b[0m eta \u001b[36m0:00:00\u001b[0m\n",
            "\u001b[2K   \u001b[90m━━━━━━━━━━━━━━━━━━━━━━━━━━━━━━━━━━━━━━━━\u001b[0m \u001b[32m54.8/54.8 kB\u001b[0m \u001b[31m2.6 MB/s\u001b[0m eta \u001b[36m0:00:00\u001b[0m\n",
            "\u001b[2K   \u001b[90m━━━━━━━━━━━━━━━━━━━━━━━━━━━━━━━━━━━━━━━━\u001b[0m \u001b[32m63.8/63.8 kB\u001b[0m \u001b[31m3.0 MB/s\u001b[0m eta \u001b[36m0:00:00\u001b[0m\n",
            "\u001b[2K   \u001b[90m━━━━━━━━━━━━━━━━━━━━━━━━━━━━━━━━━━━━━━━━\u001b[0m \u001b[32m442.1/442.1 kB\u001b[0m \u001b[31m20.2 MB/s\u001b[0m eta \u001b[36m0:00:00\u001b[0m\n",
            "\u001b[2K   \u001b[90m━━━━━━━━━━━━━━━━━━━━━━━━━━━━━━━━━━━━━━━━\u001b[0m \u001b[32m319.7/319.7 kB\u001b[0m \u001b[31m16.0 MB/s\u001b[0m eta \u001b[36m0:00:00\u001b[0m\n",
            "\u001b[2K   \u001b[90m━━━━━━━━━━━━━━━━━━━━━━━━━━━━━━━━━━━━━━━━\u001b[0m \u001b[32m73.2/73.2 kB\u001b[0m \u001b[31m4.4 MB/s\u001b[0m eta \u001b[36m0:00:00\u001b[0m\n",
            "\u001b[2K   \u001b[90m━━━━━━━━━━━━━━━━━━━━━━━━━━━━━━━━━━━━━━━━\u001b[0m \u001b[32m3.8/3.8 MB\u001b[0m \u001b[31m55.7 MB/s\u001b[0m eta \u001b[36m0:00:00\u001b[0m\n",
            "\u001b[2K   \u001b[90m━━━━━━━━━━━━━━━━━━━━━━━━━━━━━━━━━━━━━━━━\u001b[0m \u001b[32m442.6/442.6 kB\u001b[0m \u001b[31m22.9 MB/s\u001b[0m eta \u001b[36m0:00:00\u001b[0m\n",
            "\u001b[2K   \u001b[90m━━━━━━━━━━━━━━━━━━━━━━━━━━━━━━━━━━━━━━━━\u001b[0m \u001b[32m168.2/168.2 kB\u001b[0m \u001b[31m10.6 MB/s\u001b[0m eta \u001b[36m0:00:00\u001b[0m\n",
            "\u001b[2K   \u001b[90m━━━━━━━━━━━━━━━━━━━━━━━━━━━━━━━━━━━━━━━━\u001b[0m \u001b[32m46.0/46.0 kB\u001b[0m \u001b[31m2.8 MB/s\u001b[0m eta \u001b[36m0:00:00\u001b[0m\n",
            "\u001b[2K   \u001b[90m━━━━━━━━━━━━━━━━━━━━━━━━━━━━━━━━━━━━━━━━\u001b[0m \u001b[32m86.8/86.8 kB\u001b[0m \u001b[31m4.5 MB/s\u001b[0m eta \u001b[36m0:00:00\u001b[0m\n",
            "\u001b[?25h  Building wheel for pypika (pyproject.toml) ... \u001b[?25l\u001b[?25hdone\n",
            "\u001b[31mERROR: pip's dependency resolver does not currently take into account all the packages that are installed. This behaviour is the source of the following dependency conflicts.\n",
            "tensorflow 2.17.1 requires protobuf!=4.21.0,!=4.21.1,!=4.21.2,!=4.21.3,!=4.21.4,!=4.21.5,<5.0.0dev,>=3.20.3, but you have protobuf 5.29.0 which is incompatible.\n",
            "tensorflow-metadata 1.13.1 requires protobuf<5,>=3.20.3, but you have protobuf 5.29.0 which is incompatible.\u001b[0m\u001b[31m\n",
            "\u001b[0m"
          ]
        }
      ]
    },
    {
      "cell_type": "code",
      "source": [
        "from langchain.vectorstores import Chroma"
      ],
      "metadata": {
        "id": "oCOFGz1RBvdm"
      },
      "execution_count": null,
      "outputs": []
    },
    {
      "cell_type": "code",
      "source": [
        "persist_directory = '/content/chroma'"
      ],
      "metadata": {
        "id": "aDoo2u6ICq5s"
      },
      "execution_count": null,
      "outputs": []
    },
    {
      "cell_type": "code",
      "source": [
        "!rm -rf /content/chroma   # remove databases found if any."
      ],
      "metadata": {
        "id": "YVLG5iO7Cv4o"
      },
      "execution_count": null,
      "outputs": []
    },
    {
      "cell_type": "code",
      "source": [
        "vector_store = Chroma.from_documents(\n",
        "    documents = splits,\n",
        "    embedding = embedding_model,\n",
        "    persist_directory = persist_directory\n",
        ")\n"
      ],
      "metadata": {
        "collapsed": true,
        "id": "H-ZPchL6C65h"
      },
      "execution_count": null,
      "outputs": []
    },
    {
      "cell_type": "code",
      "source": [
        "vector_store._collection.count()  # We note that it the same number of splits we made before."
      ],
      "metadata": {
        "colab": {
          "base_uri": "https://localhost:8080/"
        },
        "id": "jppUKVpLDQHy",
        "outputId": "2e27a2bb-d77b-4b7f-d484-7357434e1fb7"
      },
      "execution_count": null,
      "outputs": [
        {
          "output_type": "execute_result",
          "data": {
            "text/plain": [
              "456"
            ]
          },
          "metadata": {},
          "execution_count": 76
        }
      ]
    },
    {
      "cell_type": "markdown",
      "source": [
        "### Similarity Search"
      ],
      "metadata": {
        "id": "fRSz9MWDEHAI"
      }
    },
    {
      "cell_type": "code",
      "source": [
        "question1 = 'What are the most famous places in US?'"
      ],
      "metadata": {
        "id": "vEC3ElJbDaoC"
      },
      "execution_count": null,
      "outputs": []
    },
    {
      "cell_type": "code",
      "source": [
        "attachments1 = vector_store.similarity_search(question1, k=4)"
      ],
      "metadata": {
        "id": "A55wKdtGEVms"
      },
      "execution_count": null,
      "outputs": []
    },
    {
      "cell_type": "code",
      "source": [
        "len(attachments1)"
      ],
      "metadata": {
        "colab": {
          "base_uri": "https://localhost:8080/"
        },
        "id": "J-a6IGRKEi5o",
        "outputId": "264c536f-7972-4a47-ad0d-4e58158045a4"
      },
      "execution_count": null,
      "outputs": [
        {
          "output_type": "execute_result",
          "data": {
            "text/plain": [
              "4"
            ]
          },
          "metadata": {},
          "execution_count": 79
        }
      ]
    },
    {
      "cell_type": "code",
      "source": [
        "for i in range(len(attachments1)):\n",
        "  display(attachments1[i].metadata)"
      ],
      "metadata": {
        "colab": {
          "base_uri": "https://localhost:8080/"
        },
        "id": "nMScB3uYElgo",
        "outputId": "5d01e3d2-396b-47f6-fa8c-6979b34e8659"
      },
      "execution_count": null,
      "outputs": [
        {
          "output_type": "display_data",
          "data": {
            "text/plain": [
              "{'language': 'en',\n",
              " 'source': 'https://en.wikipedia.org/wiki/United_States',\n",
              " 'title': 'United States - Wikipedia'}"
            ]
          },
          "metadata": {}
        },
        {
          "output_type": "display_data",
          "data": {
            "text/plain": [
              "{'language': 'en',\n",
              " 'source': 'https://en.wikipedia.org/wiki/United_States',\n",
              " 'title': 'United States - Wikipedia'}"
            ]
          },
          "metadata": {}
        },
        {
          "output_type": "display_data",
          "data": {
            "text/plain": [
              "{'language': 'en',\n",
              " 'source': 'https://en.wikipedia.org/wiki/United_States',\n",
              " 'title': 'United States - Wikipedia'}"
            ]
          },
          "metadata": {}
        },
        {
          "output_type": "display_data",
          "data": {
            "text/plain": [
              "{'language': 'en',\n",
              " 'source': 'https://en.wikipedia.org/wiki/United_States',\n",
              " 'title': 'United States - Wikipedia'}"
            ]
          },
          "metadata": {}
        }
      ]
    },
    {
      "cell_type": "code",
      "source": [
        "attachments1[0].page_content"
      ],
      "metadata": {
        "colab": {
          "base_uri": "https://localhost:8080/"
        },
        "id": "rOpRceDFEuim",
        "outputId": "d62c0659-0ae2-42c9-fc88-277790d9e5fc"
      },
      "execution_count": null,
      "outputs": [
        {
          "output_type": "execute_result",
          "data": {
            "text/plain": [
              "'Fashion\\nMain article: Fashion in the United States\\nHaute couture fashion models on the catwalk during New York Fashion Week\\nThe United States is the world\\'s largest apparel market by revenue.[553] Apart from professional business attire, American fashion is eclectic and predominantly informal. Americans\\' diverse cultural roots are reflected in their clothing; however, sneakers, jeans, T-shirts, and baseball caps are emblematic of American styles.[554] New York, with its fashion week, is considered to be one of the \"Big Four\" global fashion capitals, along with Paris, Milan, and London. A study demonstrated that general proximity to Manhattan\\'s Garment District has been synonymous with American fashion since its inception in the early 20th century.[555]\\nThe headquarters of many designer labels reside in Manhattan. Labels cater to niche markets, such as preteens. New York Fashion Week is one of the most influential fashion weeks in the world, and occurs twice a year;[556] while the annual Met Gala in Manhattan is commonly known as the fashion world\\'s \"biggest night\".[557][558]\\n\\nCinema\\nMain article: Cinema of the United States\\nThe iconic Hollywood Sign, in the Hollywood Hills, often regarded as the symbol of the American film industry\\nThe U.S. film industry has a worldwide influence and following. Hollywood, a district in northern Los Angeles, the nation\\'s second-most populous city, is also metonymous for the American filmmaking industry.[559][560][561] The major film studios of the United States are the primary source of the most commercially successful and most ticket-selling movies in the world.[562][563] Since the early 20th century, the U.S. film industry has largely been based in and around Hollywood, although in the 21st century an increasing number of films are not made there, and film companies have been subject to the forces of globalization.[564] The Academy Awards, popularly known as the Oscars, have been held annually by the Academy of Motion Picture Arts and Sciences since 1929,[565] and the Golden Globe Awards have been held annually since January 1944.[566]\\nThe industry peaked in what is commonly referred to as the \"Golden Age of Hollywood\", from the early sound period until the early 1960s,[567] with screen actors such as John Wayne and Marilyn Monroe becoming iconic figures.[568][569] In the 1970s, \"New Hollywood\", or the \"Hollywood Renaissance\",[570] was defined by grittier films influenced by French and Italian realist pictures of the post-war period.[571] The 21st century has been marked by the rise of American streaming platforms, which came to rival traditional cinema.[572][573]'"
            ],
            "application/vnd.google.colaboratory.intrinsic+json": {
              "type": "string"
            }
          },
          "metadata": {},
          "execution_count": 81
        }
      ]
    },
    {
      "cell_type": "code",
      "source": [
        "for i in range(len(attachments1)):\n",
        "  display(attachments1[i].page_content)\n",
        "  print('\\n\\n')"
      ],
      "metadata": {
        "colab": {
          "base_uri": "https://localhost:8080/"
        },
        "id": "Yr-ONPEIFtbg",
        "outputId": "214f3a21-1cf1-4966-b0f0-dc8feeb70575"
      },
      "execution_count": null,
      "outputs": [
        {
          "output_type": "display_data",
          "data": {
            "text/plain": [
              "'Fashion\\nMain article: Fashion in the United States\\nHaute couture fashion models on the catwalk during New York Fashion Week\\nThe United States is the world\\'s largest apparel market by revenue.[553] Apart from professional business attire, American fashion is eclectic and predominantly informal. Americans\\' diverse cultural roots are reflected in their clothing; however, sneakers, jeans, T-shirts, and baseball caps are emblematic of American styles.[554] New York, with its fashion week, is considered to be one of the \"Big Four\" global fashion capitals, along with Paris, Milan, and London. A study demonstrated that general proximity to Manhattan\\'s Garment District has been synonymous with American fashion since its inception in the early 20th century.[555]\\nThe headquarters of many designer labels reside in Manhattan. Labels cater to niche markets, such as preteens. New York Fashion Week is one of the most influential fashion weeks in the world, and occurs twice a year;[556] while the annual Met Gala in Manhattan is commonly known as the fashion world\\'s \"biggest night\".[557][558]\\n\\nCinema\\nMain article: Cinema of the United States\\nThe iconic Hollywood Sign, in the Hollywood Hills, often regarded as the symbol of the American film industry\\nThe U.S. film industry has a worldwide influence and following. Hollywood, a district in northern Los Angeles, the nation\\'s second-most populous city, is also metonymous for the American filmmaking industry.[559][560][561] The major film studios of the United States are the primary source of the most commercially successful and most ticket-selling movies in the world.[562][563] Since the early 20th century, the U.S. film industry has largely been based in and around Hollywood, although in the 21st century an increasing number of films are not made there, and film companies have been subject to the forces of globalization.[564] The Academy Awards, popularly known as the Oscars, have been held annually by the Academy of Motion Picture Arts and Sciences since 1929,[565] and the Golden Globe Awards have been held annually since January 1944.[566]\\nThe industry peaked in what is commonly referred to as the \"Golden Age of Hollywood\", from the early sound period until the early 1960s,[567] with screen actors such as John Wayne and Marilyn Monroe becoming iconic figures.[568][569] In the 1970s, \"New Hollywood\", or the \"Hollywood Renaissance\",[570] was defined by grittier films influenced by French and Italian realist pictures of the post-war period.[571] The 21st century has been marked by the rise of American streaming platforms, which came to rival traditional cinema.[572][573]'"
            ],
            "application/vnd.google.colaboratory.intrinsic+json": {
              "type": "string"
            }
          },
          "metadata": {}
        },
        {
          "output_type": "stream",
          "name": "stdout",
          "text": [
            "\n",
            "\n",
            "\n"
          ]
        },
        {
          "output_type": "display_data",
          "data": {
            "text/plain": [
              "\"Visual arts\\nMain articles: Visual art of the United States and Architecture of the United States\\nAmerican Gothic (1930) by Grant Wood is one of the most famous American paintings and is widely parodied.[527]\\nFolk art in colonial America grew out of artisanal craftsmanship in communities that allowed commonly trained people to individually express themselves. It was distinct from Europe's tradition of high art, which was less accessible and generally less relevant to early American settlers.[528] Cultural movements in art and craftsmanship in colonial America generally lagged behind those of Western Europe. For example, the prevailing medieval style of woodworking and primitive sculpture became integral to early American folk art, despite the emergence of Renaissance styles in England in the late 16th and early 17th centuries. The new English styles would have been early enough to make a considerable impact on American folk art, but American styles and forms had already been firmly adopted. Not only did styles change slowly in early America, but there was a tendency for rural artisans there to continue their traditional forms longer than their urban counterparts did—and far longer than those in Western Europe.[480]\\nThe Hudson River School was a mid-19th-century movement in the visual arts tradition of European naturalism. The 1913 Armory Show in New York City, an exhibition of European modernist art, shocked the public and transformed the U.S. art scene.[529]\\nGeorgia O'Keeffe, Marsden Hartley, and others experimented with new and individualistic styles, which would become known as American modernism. Major artistic movements such as the abstract expressionism of Jackson Pollock and Willem de Kooning and the pop art of Andy Warhol and Roy Lichtenstein developed largely in the United States. Major photographers include Alfred Stieglitz, Edward Steichen, Dorothea Lange, Edward Weston, James Van Der Zee, Ansel Adams, and Gordon Parks.[530]\\nThe tide of modernism and then postmodernism has brought global fame to American architects, including Frank Lloyd Wright, Philip Johnson, and Frank Gehry.[531] The Metropolitan Museum of Art in Manhattan is the largest art museum in the United States[532] and the fourth-largest in the world.\""
            ],
            "application/vnd.google.colaboratory.intrinsic+json": {
              "type": "string"
            }
          },
          "metadata": {}
        },
        {
          "output_type": "stream",
          "name": "stdout",
          "text": [
            "\n",
            "\n",
            "\n"
          ]
        },
        {
          "output_type": "display_data",
          "data": {
            "text/plain": [
              "'National Endowment for the Arts\\nNational Endowment for the Humanities\\nInstitute of Museum and Library Services\\nFederal Council on the Arts and the Humanities\\nThe United States is considered to have the strongest protections of free speech of any country under the First Amendment,[480] which protects flag desecration, hate speech, blasphemy, and lese-majesty as forms of protected expression.[481][482][483] A 2016 Pew Research Center poll found that Americans were the most supportive of free expression of any polity measured.[484] They are the \"most supportive of freedom of the press and the right to use the Internet without government censorship.\"[485] The U.S. is a socially progressive country[486] with permissive attitudes surrounding human sexuality.[487] LGBT rights in the United States are advanced by global standards.[487][488][489]'"
            ],
            "application/vnd.google.colaboratory.intrinsic+json": {
              "type": "string"
            }
          },
          "metadata": {}
        },
        {
          "output_type": "stream",
          "name": "stdout",
          "text": [
            "\n",
            "\n",
            "\n"
          ]
        },
        {
          "output_type": "display_data",
          "data": {
            "text/plain": [
              "'Etymology\\nFurther information: Names of the United States, Demonyms for the United States, and United Colonies\\nThe first documented use of the phrase \"United States of America\" is a letter from January 2, 1776. Stephen Moylan, a Continental Army aide to General George Washington, wrote to Joseph Reed, Washington\\'s aide-de-camp, seeking to go \"with full and ample powers from the United States of America to Spain\" to seek assistance in the Revolutionary War effort.[20][21] The first known public usage is an anonymous essay published in the Williamsburg newspaper, The Virginia Gazette, on April\\xa06, 1776.[20][22][23] By June 1776, the \"United States of America\" appeared in the Articles of Confederation[24][25] and the Declaration of Independence.[24] The Second Continental Congress adopted the Declaration of Independence on July 4, 1776.[26]\\nThe term \"United States\" and the initialism \"U.S.\", used as nouns or as adjectives in English, are common short names for the country. The initialism \"USA\", a noun, is also common.[27] \"United States\" and \"U.S.\" are the established terms throughout the U.S. federal government, with prescribed rules.[n] In English, the term \"America\" rarely refers to topics unrelated to the United States, despite the usage of \"the Americas\" as the totality of North and South America.[29] \"The States\" is an established colloquial shortening of the name, used particularly from abroad;[30] \"stateside\" is the corresponding adjective or adverb.[31]\\n\\nHistory\\nMain article: History of the United States\\nFor a topical guide, see Outline of the history of the United States.\\nIndigenous peoples\\nMain article: History of Native Americans in the United States\\nFurther information: Native Americans in the United States and Pre-Columbian era\\nCliff Palace, a settlement of ancestors of the Native American Pueblo peoples in present-day Montezuma County, Colorado, built between c.\\u20091200 and 1275[32]\\nThe first inhabitants of North America migrated from Siberia across the Bering land bridge about 12,000 years ago;[33][34] the Clovis culture, which appeared around 11,000 BC, is believed to be the first widespread culture in the Americas.[35][36] Over time, indigenous North American cultures grew increasingly sophisticated, and some, such as the Mississippian culture, developed agriculture, architecture, and complex societies.[37] In the post-archaic period, the Mississippian cultures were located in the midwestern, eastern, and southern regions, and the Algonquian in the Great Lakes region and along the Eastern Seaboard, while the Hohokam culture and Ancestral Puebloans inhabited the southwest.[38] Native population estimates of what is now the United States before the arrival of European immigrants range from around 500,000[39][40] to nearly 10 million.[40][41]'"
            ],
            "application/vnd.google.colaboratory.intrinsic+json": {
              "type": "string"
            }
          },
          "metadata": {}
        },
        {
          "output_type": "stream",
          "name": "stdout",
          "text": [
            "\n",
            "\n",
            "\n"
          ]
        }
      ]
    },
    {
      "cell_type": "code",
      "source": [
        "question2 = 'What is the most famous places in Egypt?'"
      ],
      "metadata": {
        "id": "gz9hI5JzE0Fw"
      },
      "execution_count": null,
      "outputs": []
    },
    {
      "cell_type": "code",
      "source": [
        "attachments2 = vector_store.similarity_search(question2, k=4)"
      ],
      "metadata": {
        "id": "1bd08z_TE-0m"
      },
      "execution_count": null,
      "outputs": []
    },
    {
      "cell_type": "code",
      "source": [
        "for i in range(len(attachments2)):\n",
        "  display(attachments2[i].metadata)"
      ],
      "metadata": {
        "colab": {
          "base_uri": "https://localhost:8080/"
        },
        "id": "7Z6qhKxdE_a7",
        "outputId": "f3f5d260-8a1b-40cf-c33a-da5a98581811"
      },
      "execution_count": null,
      "outputs": [
        {
          "output_type": "display_data",
          "data": {
            "text/plain": [
              "{'language': 'en',\n",
              " 'source': 'https://en.wikipedia.org/wiki/Egypt',\n",
              " 'title': 'Egypt - Wikipedia'}"
            ]
          },
          "metadata": {}
        },
        {
          "output_type": "display_data",
          "data": {
            "text/plain": [
              "{'language': 'en',\n",
              " 'source': 'https://en.wikipedia.org/wiki/Egypt',\n",
              " 'title': 'Egypt - Wikipedia'}"
            ]
          },
          "metadata": {}
        },
        {
          "output_type": "display_data",
          "data": {
            "text/plain": [
              "{'language': 'en',\n",
              " 'source': 'https://en.wikipedia.org/wiki/Egypt',\n",
              " 'title': 'Egypt - Wikipedia'}"
            ]
          },
          "metadata": {}
        },
        {
          "output_type": "display_data",
          "data": {
            "text/plain": [
              "{'language': 'en',\n",
              " 'source': 'https://en.wikipedia.org/wiki/Egypt',\n",
              " 'title': 'Egypt - Wikipedia'}"
            ]
          },
          "metadata": {}
        }
      ]
    },
    {
      "cell_type": "markdown",
      "source": [
        "We note that, there are duplicates in the answers which will be fixed later."
      ],
      "metadata": {
        "id": "u01PTLtsFflG"
      }
    },
    {
      "cell_type": "code",
      "source": [
        "for i in range(len(attachments2)):\n",
        "  display(attachments2[i].page_content)\n",
        "  print('\\n\\n')"
      ],
      "metadata": {
        "colab": {
          "base_uri": "https://localhost:8080/"
        },
        "id": "_szskGp4FDt1",
        "outputId": "67629b42-71a8-44cf-c0ca-28ca41e454b4"
      },
      "execution_count": null,
      "outputs": [
        {
          "output_type": "display_data",
          "data": {
            "text/plain": [
              "'Al-Azhar Park is listed as one of the world\\'s sixty great public spaces by the Project for Public Spaces.\\nEgyptian identity evolved in the span of a long period of occupation to accommodate Islam, Christianity and Judaism; and a new language, Arabic, and its spoken descendant, Egyptian Arabic which is also based on many Ancient Egyptian words.[289]\\nThe work of early 19th century scholar Rifa\\'a al-Tahtawi renewed interest in Egyptian antiquity and exposed Egyptian society to Enlightenment principles. Tahtawi co-founded with education reformer Ali Mubarak a native Egyptology school that looked for inspiration to medieval Egyptian scholars, such as Suyuti and Maqrizi, who themselves studied the history, language and antiquities of Egypt.[290]\\nEgypt\\'s renaissance peaked in the late 19th and early 20th centuries through the work of people like Muhammad Abduh, Ahmed Lutfi el-Sayed, Muhammad Loutfi Goumah, Tawfiq el-Hakim, Louis Awad, Qasim Amin, Salama Moussa, Taha Hussein and Mahmoud Mokhtar. They forged a liberal path for Egypt expressed as a commitment to personal freedom, secularism and faith in science to bring progress.[291]\\n\\nArts\\nThe \"weighing of the heart\" scene from the Book of the DeadSee also: Architecture of Egypt\\nThe Egyptians were one of the first major civilisations to codify design elements in art and architecture. Egyptian blue, also known as calcium copper silicate, is a pigment used by Egyptians for thousands of years. It is considered to be the first synthetic pigment. The wall paintings done in the service of the Pharaohs followed a rigid code of visual rules and meanings. Egyptian civilisation is renowned for its colossal pyramids, temples and monumental tombs.\\nWell-known examples are the Pyramid of Djoser designed by ancient architect and engineer Imhotep, the Sphinx, and the temple of Abu Simbel. Modern and contemporary Egyptian art can be as diverse as any works in the world art scene, from the vernacular architecture of Hassan Fathy and Ramses Wissa Wassef, to Mahmoud Mokhtar\\'s sculptures, to the distinctive Coptic iconography of Isaac Fanous. The Cairo Opera House serves as the main performing arts venue in the Egyptian capital.'"
            ],
            "application/vnd.google.colaboratory.intrinsic+json": {
              "type": "string"
            }
          },
          "metadata": {}
        },
        {
          "output_type": "stream",
          "name": "stdout",
          "text": [
            "\n",
            "\n",
            "\n"
          ]
        },
        {
          "output_type": "display_data",
          "data": {
            "text/plain": [
              "'Al-Azhar Park is listed as one of the world\\'s sixty great public spaces by the Project for Public Spaces.\\nEgyptian identity evolved in the span of a long period of occupation to accommodate Islam, Christianity and Judaism; and a new language, Arabic, and its spoken descendant, Egyptian Arabic which is also based on many Ancient Egyptian words.[289]\\nThe work of early 19th century scholar Rifa\\'a al-Tahtawi renewed interest in Egyptian antiquity and exposed Egyptian society to Enlightenment principles. Tahtawi co-founded with education reformer Ali Mubarak a native Egyptology school that looked for inspiration to medieval Egyptian scholars, such as Suyuti and Maqrizi, who themselves studied the history, language and antiquities of Egypt.[290]\\nEgypt\\'s renaissance peaked in the late 19th and early 20th centuries through the work of people like Muhammad Abduh, Ahmed Lutfi el-Sayed, Muhammad Loutfi Goumah, Tawfiq el-Hakim, Louis Awad, Qasim Amin, Salama Moussa, Taha Hussein and Mahmoud Mokhtar. They forged a liberal path for Egypt expressed as a commitment to personal freedom, secularism and faith in science to bring progress.[291]\\n\\nArts\\nThe \"weighing of the heart\" scene from the Book of the DeadSee also: Architecture of Egypt\\nThe Egyptians were one of the first major civilisations to codify design elements in art and architecture. Egyptian blue, also known as calcium copper silicate, is a pigment used by Egyptians for thousands of years. It is considered to be the first synthetic pigment. The wall paintings done in the service of the Pharaohs followed a rigid code of visual rules and meanings. Egyptian civilisation is renowned for its colossal pyramids, temples and monumental tombs.\\nWell-known examples are the Pyramid of Djoser designed by ancient architect and engineer Imhotep, the Sphinx, and the temple of Abu Simbel. Modern and contemporary Egyptian art can be as diverse as any works in the world art scene, from the vernacular architecture of Hassan Fathy and Ramses Wissa Wassef, to Mahmoud Mokhtar\\'s sculptures, to the distinctive Coptic iconography of Isaac Fanous. The Cairo Opera House serves as the main performing arts venue in the Egyptian capital.'"
            ],
            "application/vnd.google.colaboratory.intrinsic+json": {
              "type": "string"
            }
          },
          "metadata": {}
        },
        {
          "output_type": "stream",
          "name": "stdout",
          "text": [
            "\n",
            "\n",
            "\n"
          ]
        },
        {
          "output_type": "display_data",
          "data": {
            "text/plain": [
              "\"Music\\nMain article: Music of Egypt\\nAncient Egyptians playing music\\nEgyptian music is a rich mixture of indigenous, Mediterranean, African and Western elements. It has been an integral part of Egyptian culture since antiquity. The ancient Egyptians credited one of their gods Hathor with the invention of music, which Osiris in turn used as part of his effort to civilise the world. Egyptians used music instruments since then.[306]\\nContemporary Egyptian music traces its beginnings to the creative work of people such as Abdu al-Hamuli, Almaz and Mahmoud Osman, who influenced the later work of Sayed Darwish, Umm Kulthum, Mohammed Abdel Wahab and Abdel Halim Hafez. Prominent contemporary Egyptian pop singers include Amr Diab and Mohamed Mounir.\\n\\nDances\\nTanoura dancers performing in Wekalet El Ghoury, Cairo\\nToday, Egypt is often considered the home of belly dance. Egyptian belly dance has two main styles ‚Äì raqs baladi and raqs sharqi. There are also numerous folkloric and character dances that may be part of an Egyptian-style belly dancer's repertoire, as well as the modern shaabi street dance which shares some elements with raqs baladi.\\n\\nMuseums\\nMain article: List of museums in Egypt\\nThe Egyptian Museum of Cairo\\nEgypt has one of the oldest civilisations in the world. It has been in contact with many other civilisations and nations and has been through so many eras, starting from prehistoric age to the modern age, passing through so many ages such as Pharonic, Roman, Greek, Islamic and many other ages. At least 60 museums may be found in Egypt.\\n\\nTutankhamun's burial mask is one of the major attractions of the Egyptian Museum of Cairo.\\nThe three main museums in Egypt are The Egyptian Museum which has more than 120,000 items, the Egyptian National Military Museum and the 6th of October Panorama.\\nThe Grand Egyptian Museum (GEM), also known as the Giza Museum, is an under construction museum that will house the largest collection of ancient Egyptian artifacts in the world, it has been described as the world's largest archaeological museum.[307] The museum was scheduled to open in 2015 and will be sited on 50 hectares (120 acres) of land approximately two kilometres (1.2 miles) from the Giza Necropolis and is part of a new master plan for the plateau. The Minister of Antiquities Mamdouh al-Damaty announced in May 2015 that the museum will be partially opened in May 2018.[308]\\n\\nFestivals\\nEgypt celebrates many festivals and religious carnivals, also known as mulid. They are usually associated with a particular Coptic or Sufi saint, but are often celebrated by Egyptians irrespective of creed or religion.\\nThe ancient spring festival of Sham en Nisim (Coptic: œ¨‚≤±‚≤ô‚Äò‚≤õ‚≤õ‚≤ì‚≤•‚≤ì‚≤ô shom en nisim) has been celebrated by Egyptians for thousands of years, typically between the Egyptian months of Paremoude (April) and Pashons (May), following Easter Sunday.\""
            ],
            "application/vnd.google.colaboratory.intrinsic+json": {
              "type": "string"
            }
          },
          "metadata": {}
        },
        {
          "output_type": "stream",
          "name": "stdout",
          "text": [
            "\n",
            "\n",
            "\n"
          ]
        },
        {
          "output_type": "display_data",
          "data": {
            "text/plain": [
              "\"Music\\nMain article: Music of Egypt\\nAncient Egyptians playing music\\nEgyptian music is a rich mixture of indigenous, Mediterranean, African and Western elements. It has been an integral part of Egyptian culture since antiquity. The ancient Egyptians credited one of their gods Hathor with the invention of music, which Osiris in turn used as part of his effort to civilise the world. Egyptians used music instruments since then.[306]\\nContemporary Egyptian music traces its beginnings to the creative work of people such as Abdu al-Hamuli, Almaz and Mahmoud Osman, who influenced the later work of Sayed Darwish, Umm Kulthum, Mohammed Abdel Wahab and Abdel Halim Hafez. Prominent contemporary Egyptian pop singers include Amr Diab and Mohamed Mounir.\\n\\nDances\\nTanoura dancers performing in Wekalet El Ghoury, Cairo\\nToday, Egypt is often considered the home of belly dance. Egyptian belly dance has two main styles ‚Äì raqs baladi and raqs sharqi. There are also numerous folkloric and character dances that may be part of an Egyptian-style belly dancer's repertoire, as well as the modern shaabi street dance which shares some elements with raqs baladi.\\n\\nMuseums\\nMain article: List of museums in Egypt\\nThe Egyptian Museum of Cairo\\nEgypt has one of the oldest civilisations in the world. It has been in contact with many other civilisations and nations and has been through so many eras, starting from prehistoric age to the modern age, passing through so many ages such as Pharonic, Roman, Greek, Islamic and many other ages. At least 60 museums may be found in Egypt.\\n\\nTutankhamun's burial mask is one of the major attractions of the Egyptian Museum of Cairo.\\nThe three main museums in Egypt are The Egyptian Museum which has more than 120,000 items, the Egyptian National Military Museum and the 6th of October Panorama.\\nThe Grand Egyptian Museum (GEM), also known as the Giza Museum, is an under construction museum that will house the largest collection of ancient Egyptian artifacts in the world, it has been described as the world's largest archaeological museum.[307] The museum was scheduled to open in 2015 and will be sited on 50 hectares (120 acres) of land approximately two kilometres (1.2 miles) from the Giza Necropolis and is part of a new master plan for the plateau. The Minister of Antiquities Mamdouh al-Damaty announced in May 2015 that the museum will be partially opened in May 2018.[308]\\n\\nFestivals\\nEgypt celebrates many festivals and religious carnivals, also known as mulid. They are usually associated with a particular Coptic or Sufi saint, but are often celebrated by Egyptians irrespective of creed or religion.\\nThe ancient spring festival of Sham en Nisim (Coptic: œ¨‚≤±‚≤ô‚Äò‚≤õ‚≤õ‚≤ì‚≤•‚≤ì‚≤ô shom en nisim) has been celebrated by Egyptians for thousands of years, typically between the Egyptian months of Paremoude (April) and Pashons (May), following Easter Sunday.\""
            ],
            "application/vnd.google.colaboratory.intrinsic+json": {
              "type": "string"
            }
          },
          "metadata": {}
        },
        {
          "output_type": "stream",
          "name": "stdout",
          "text": [
            "\n",
            "\n",
            "\n"
          ]
        }
      ]
    },
    {
      "cell_type": "code",
      "source": [],
      "metadata": {
        "id": "b4eAoMDdFIsc"
      },
      "execution_count": null,
      "outputs": []
    },
    {
      "cell_type": "markdown",
      "source": [
        "### Techniques used in Relevance\n",
        "\n",
        "1 - Similarity Search or Maximum Marginal Relevance(MMR).\n",
        "\n",
        "2 - LLM Aided Retrieval.<br>\n",
        "    ---> This LLM extracts the most important information from my query and put it as a metadata.\n",
        "\n",
        "3 - Compression.<br>\n",
        "    ---> If I have lots of retrieved documents, I compress them using LLM before sending it to the final model with the query.\n",
        "\n",
        "<br>\n",
        "It is not obligatory to use all these techniques. I use them depending on my case."
      ],
      "metadata": {
        "id": "hAgRTqfEhfor"
      }
    },
    {
      "cell_type": "markdown",
      "source": [
        "### Differnece Between Similarity Search and Maximum Marginal Relevance(MMR).\n",
        "\n",
        "#### *Similarity Search*:\n",
        "Retrieving the most relevant documents to the query.\n",
        "<br>\n",
        "<br>\n",
        "\n",
        "#### *MMR*:\n",
        "It retrieves the most relevant documents but with diversity in the output documents.<br>\n",
        "It is done in many steps:\n",
        "\n",
        "1 - Using similarity search to find the most relevance documents to the query.\n",
        "\n",
        "2 - Iterating over the output documents and put a penalty to each one showing how it is different from the other outputs. This process continues until a predetermined number of results is achieved.\n",
        "\n",
        "3 - Then MMR promotes results which have various information."
      ],
      "metadata": {
        "id": "Oa9VoObibVNw"
      }
    },
    {
      "cell_type": "code",
      "source": [],
      "metadata": {
        "id": "XfxOYVPkbOTa"
      },
      "execution_count": null,
      "outputs": []
    },
    {
      "cell_type": "markdown",
      "source": [
        "This cell shows how I made cosine similarity, but I will not use it."
      ],
      "metadata": {
        "id": "d2ZTH33egbV1"
      }
    },
    {
      "cell_type": "code",
      "source": [
        "#### Cosine Similarity ####\n",
        "\n",
        "# import numpy as np\n",
        "\n",
        "# def consine_similarity(vec1, vec2):\n",
        "#   dot_product = np.dot(vec1, vec2)\n",
        "#   norm1 = np.linalg.norm(vec1)\n",
        "#   norm2 = np.linalg.norm(vec2)\n",
        "#   return dot_product / (norm1 * norm2)"
      ],
      "metadata": {
        "id": "JIlaj0FWci_g"
      },
      "execution_count": null,
      "outputs": []
    },
    {
      "cell_type": "code",
      "source": [],
      "metadata": {
        "id": "1zJmNU7wcrjd"
      },
      "execution_count": null,
      "outputs": []
    },
    {
      "cell_type": "code",
      "source": [
        "len(docs)"
      ],
      "metadata": {
        "colab": {
          "base_uri": "https://localhost:8080/"
        },
        "id": "bVZf6HRImdsG",
        "outputId": "c85504b9-6ac8-4c92-e6af-8e4f8593007c"
      },
      "execution_count": null,
      "outputs": [
        {
          "output_type": "execute_result",
          "data": {
            "text/plain": [
              "5"
            ]
          },
          "metadata": {},
          "execution_count": 88
        }
      ]
    },
    {
      "cell_type": "code",
      "source": [
        "len(splits)"
      ],
      "metadata": {
        "colab": {
          "base_uri": "https://localhost:8080/"
        },
        "id": "E39V3kSTme5c",
        "outputId": "e607fb14-3876-443c-9fd8-999c95d52ea9"
      },
      "execution_count": null,
      "outputs": [
        {
          "output_type": "execute_result",
          "data": {
            "text/plain": [
              "456"
            ]
          },
          "metadata": {},
          "execution_count": 89
        }
      ]
    },
    {
      "cell_type": "code",
      "source": [
        "vector_store._collection.count()"
      ],
      "metadata": {
        "colab": {
          "base_uri": "https://localhost:8080/"
        },
        "id": "c7lesWLHmgKp",
        "outputId": "e3dfdb8d-54ef-4b14-a768-99140eb8ed83"
      },
      "execution_count": null,
      "outputs": [
        {
          "output_type": "execute_result",
          "data": {
            "text/plain": [
              "456"
            ]
          },
          "metadata": {},
          "execution_count": 90
        }
      ]
    },
    {
      "cell_type": "code",
      "source": [
        "question = \"what are the most famous places in egypt\""
      ],
      "metadata": {
        "id": "c7ISHiIhmrIn"
      },
      "execution_count": null,
      "outputs": []
    },
    {
      "cell_type": "code",
      "source": [
        "ans_ss = vector_store.similarity_search(question, k = 4)"
      ],
      "metadata": {
        "id": "5VYz6Ma5p4uq"
      },
      "execution_count": null,
      "outputs": []
    },
    {
      "cell_type": "code",
      "source": [
        "for i in ans_ss:\n",
        "  print(i.metadata)\n",
        "  print(\"\\n\\n\")"
      ],
      "metadata": {
        "colab": {
          "base_uri": "https://localhost:8080/"
        },
        "id": "OSvnbT0Vq0Su",
        "outputId": "21910d25-1169-4ec4-8630-65b64dceaf14"
      },
      "execution_count": null,
      "outputs": [
        {
          "output_type": "stream",
          "name": "stdout",
          "text": [
            "{'language': 'en', 'source': 'https://en.wikipedia.org/wiki/Egypt', 'title': 'Egypt - Wikipedia'}\n",
            "\n",
            "\n",
            "\n",
            "{'language': 'en', 'source': 'https://en.wikipedia.org/wiki/Egypt', 'title': 'Egypt - Wikipedia'}\n",
            "\n",
            "\n",
            "\n",
            "{'language': 'en', 'source': 'https://en.wikipedia.org/wiki/Egypt', 'title': 'Egypt - Wikipedia'}\n",
            "\n",
            "\n",
            "\n",
            "{'language': 'en', 'source': 'https://en.wikipedia.org/wiki/Egypt', 'title': 'Egypt - Wikipedia'}\n",
            "\n",
            "\n",
            "\n"
          ]
        }
      ]
    },
    {
      "cell_type": "code",
      "source": [
        "for i in ans_ss:\n",
        "  print(i.page_content[:200])\n",
        "  print(\"\\n\\n\")"
      ],
      "metadata": {
        "colab": {
          "base_uri": "https://localhost:8080/"
        },
        "collapsed": true,
        "id": "hpuWvSytqDaN",
        "outputId": "dd6275fb-7709-448c-8dd1-85f98f132e29"
      },
      "execution_count": null,
      "outputs": [
        {
          "output_type": "stream",
          "name": "stdout",
          "text": [
            "Smart Village, a business district established in 2001 to facilitate the growth of high-tech businesses\n",
            "Although one of the main obstacles still facing the Egyptian economy is the limited trickle down\n",
            "\n",
            "\n",
            "\n",
            "Smart Village, a business district established in 2001 to facilitate the growth of high-tech businesses\n",
            "Although one of the main obstacles still facing the Egyptian economy is the limited trickle down\n",
            "\n",
            "\n",
            "\n",
            "Geography\n",
            "Biota\n",
            "Borders\n",
            "Cities\n",
            "Climate\n",
            "Deserts\n",
            "Earthquakes\n",
            "Environmental issues\n",
            "Fossils\n",
            "Geology\n",
            "Halfaya Pass\n",
            "Islands\n",
            "Lakes\n",
            "Mountains\n",
            "Mount Sinai\n",
            "Nile Delta\n",
            "Northern coast\n",
            "Oases\n",
            "Qattara Depression\n",
            "Red \n",
            "\n",
            "\n",
            "\n",
            "Geography\n",
            "Biota\n",
            "Borders\n",
            "Cities\n",
            "Climate\n",
            "Deserts\n",
            "Earthquakes\n",
            "Environmental issues\n",
            "Fossils\n",
            "Geology\n",
            "Halfaya Pass\n",
            "Islands\n",
            "Lakes\n",
            "Mountains\n",
            "Mount Sinai\n",
            "Nile Delta\n",
            "Northern coast\n",
            "Oases\n",
            "Qattara Depression\n",
            "Red \n",
            "\n",
            "\n",
            "\n"
          ]
        }
      ]
    },
    {
      "cell_type": "code",
      "source": [
        "ans_mmr = vector_store.max_marginal_relevance_search(question, k = 4)"
      ],
      "metadata": {
        "id": "Hi2_JyBvqPIf"
      },
      "execution_count": null,
      "outputs": []
    },
    {
      "cell_type": "code",
      "source": [
        "len(ans_mmr)"
      ],
      "metadata": {
        "colab": {
          "base_uri": "https://localhost:8080/"
        },
        "id": "w_N7a0bBrKHG",
        "outputId": "5d0069c8-b45a-41aa-c1c6-fca9e237cfc3"
      },
      "execution_count": null,
      "outputs": [
        {
          "output_type": "execute_result",
          "data": {
            "text/plain": [
              "4"
            ]
          },
          "metadata": {},
          "execution_count": 96
        }
      ]
    },
    {
      "cell_type": "code",
      "source": [
        "for i in ans_mmr:\n",
        "  print(i.page_content[:200])\n",
        "  print(\"\\n\\n\")"
      ],
      "metadata": {
        "colab": {
          "base_uri": "https://localhost:8080/"
        },
        "collapsed": true,
        "id": "lFxg03-bqxAA",
        "outputId": "f85c61f7-5acf-4ec1-f0cd-e0621c5217b1"
      },
      "execution_count": null,
      "outputs": [
        {
          "output_type": "stream",
          "name": "stdout",
          "text": [
            "Smart Village, a business district established in 2001 to facilitate the growth of high-tech businesses\n",
            "Although one of the main obstacles still facing the Egyptian economy is the limited trickle down\n",
            "\n",
            "\n",
            "\n",
            "Geography\n",
            "Biota\n",
            "Borders\n",
            "Cities\n",
            "Climate\n",
            "Deserts\n",
            "Earthquakes\n",
            "Environmental issues\n",
            "Fossils\n",
            "Geology\n",
            "Halfaya Pass\n",
            "Islands\n",
            "Lakes\n",
            "Mountains\n",
            "Mount Sinai\n",
            "Nile Delta\n",
            "Northern coast\n",
            "Oases\n",
            "Qattara Depression\n",
            "Red \n",
            "\n",
            "\n",
            "\n",
            "Al-Azhar Park is listed as one of the world's sixty great public spaces by the Project for Public Spaces.\n",
            "Egyptian identity evolved in the span of a long period of occupation to accommodate Islam, Chr\n",
            "\n",
            "\n",
            "\n",
            "^ Shafik, Viola (2007). Popular Egyptian Cinema: Gender, Class, and Nation. Oxford University Press. ISBN 978-977-416-053-0.\n",
            "\n",
            "^ Music of Ancient Egypt Archived 13 October 2015 at the Wayback Machine, \n",
            "\n",
            "\n",
            "\n"
          ]
        }
      ]
    },
    {
      "cell_type": "code",
      "source": [
        "for i in ans_mmr:\n",
        "  print(i.metadata)\n",
        "  print(\"\\n\\n\")"
      ],
      "metadata": {
        "colab": {
          "base_uri": "https://localhost:8080/"
        },
        "id": "TW_idkX_rE48",
        "outputId": "8a747c6a-4cec-4eab-fcba-bb343a6aaba4"
      },
      "execution_count": null,
      "outputs": [
        {
          "output_type": "stream",
          "name": "stdout",
          "text": [
            "{'language': 'en', 'source': 'https://en.wikipedia.org/wiki/Egypt', 'title': 'Egypt - Wikipedia'}\n",
            "\n",
            "\n",
            "\n",
            "{'language': 'en', 'source': 'https://en.wikipedia.org/wiki/Egypt', 'title': 'Egypt - Wikipedia'}\n",
            "\n",
            "\n",
            "\n",
            "{'language': 'en', 'source': 'https://en.wikipedia.org/wiki/Egypt', 'title': 'Egypt - Wikipedia'}\n",
            "\n",
            "\n",
            "\n",
            "{'language': 'en', 'source': 'https://en.wikipedia.org/wiki/Egypt', 'title': 'Egypt - Wikipedia'}\n",
            "\n",
            "\n",
            "\n"
          ]
        }
      ]
    },
    {
      "cell_type": "markdown",
      "source": [
        "# Retrieving."
      ],
      "metadata": {
        "id": "AtFekTYGbMIw"
      }
    },
    {
      "cell_type": "markdown",
      "source": [
        "### Self Query Retriever with MetaData."
      ],
      "metadata": {
        "id": "nlNctB33sX4h"
      }
    },
    {
      "cell_type": "markdown",
      "source": [
        "We often want to infer the metadata from the query itself.\n",
        "\n",
        "To address this, we can use SelfQueryRetriever, which uses an LLM to extract:\n",
        "\n",
        "1 - The query string to use for vector search\n",
        "\n",
        "2 - A metadata filter to pass in as well\n",
        "\n",
        "Most vector databases support metadata filters, so this doesn't require any new databases or indexes."
      ],
      "metadata": {
        "id": "Fz8CeV_useSx"
      }
    },
    {
      "cell_type": "code",
      "source": [
        "!pip install lark"
      ],
      "metadata": {
        "colab": {
          "base_uri": "https://localhost:8080/"
        },
        "id": "GKpf_a_guhCj",
        "outputId": "592c9522-cd9f-4c7c-f17f-bd1fdccd4254"
      },
      "execution_count": null,
      "outputs": [
        {
          "output_type": "stream",
          "name": "stdout",
          "text": [
            "Collecting lark\n",
            "  Downloading lark-1.2.2-py3-none-any.whl.metadata (1.8 kB)\n",
            "Downloading lark-1.2.2-py3-none-any.whl (111 kB)\n",
            "\u001b[?25l   \u001b[90m━━━━━━━━━━━━━━━━━━━━━━━━━━━━━━━━━━━━━━━━\u001b[0m \u001b[32m0.0/111.0 kB\u001b[0m \u001b[31m?\u001b[0m eta \u001b[36m-:--:--\u001b[0m\r\u001b[2K   \u001b[90m━━━━━━━━━━━━━━━━━━━━━━━━━━━━━━━━━━━━━━━━\u001b[0m \u001b[32m111.0/111.0 kB\u001b[0m \u001b[31m3.0 MB/s\u001b[0m eta \u001b[36m0:00:00\u001b[0m\n",
            "\u001b[?25hInstalling collected packages: lark\n",
            "Successfully installed lark-1.2.2\n"
          ]
        }
      ]
    },
    {
      "cell_type": "code",
      "source": [
        "from langchain_google_genai import ChatGoogleGenerativeAI  # You can use openai models --> 'from langchain.llms import OpenAI'\n",
        "from langchain.retrievers.self_query.base import SelfQueryRetriever\n",
        "from langchain.chains.query_constructor.base import AttributeInfo"
      ],
      "metadata": {
        "id": "X8jRCNu2rPAq"
      },
      "execution_count": null,
      "outputs": []
    },
    {
      "cell_type": "code",
      "source": [
        "llm = ChatGoogleGenerativeAI(model=\"gemini-pro\")"
      ],
      "metadata": {
        "id": "uZnuzPeutJwp"
      },
      "execution_count": null,
      "outputs": []
    },
    {
      "cell_type": "code",
      "source": [
        "for doc in docs:\n",
        "  print(doc.metadata)"
      ],
      "metadata": {
        "colab": {
          "base_uri": "https://localhost:8080/"
        },
        "id": "VYw6S9vathK4",
        "outputId": "277e46da-7a5a-4e58-cfc8-2fa80ea81e17"
      },
      "execution_count": null,
      "outputs": [
        {
          "output_type": "stream",
          "name": "stdout",
          "text": [
            "{'source': 'https://en.wikipedia.org/wiki/Egypt', 'title': 'Egypt - Wikipedia', 'language': 'en'}\n",
            "{'source': 'https://en.wikipedia.org/wiki/Egypt', 'title': 'Egypt - Wikipedia', 'language': 'en'}\n",
            "{'source': 'https://en.wikipedia.org/wiki/United_States', 'title': 'United States - Wikipedia', 'language': 'en'}\n",
            "{'source': 'https://en.wikipedia.org/wiki/Russia', 'title': 'Russia - Wikipedia', 'language': 'en'}\n",
            "{'source': 'https://en.wikipedia.org/wiki/Saudi_Arabia', 'title': 'Saudi Arabia - Wikipedia', 'language': 'en'}\n"
          ]
        }
      ]
    },
    {
      "cell_type": "code",
      "source": [
        "metadata_field_info = [\n",
        "    AttributeInfo(\n",
        "        name=\"source\",\n",
        "        description=\"The result should be from the webpage 'https://en.wikipedia.org/wiki/Egypt'\",\n",
        "        type=\"string\",\n",
        "    )\n",
        "]"
      ],
      "metadata": {
        "id": "lEzmbF3ctM9J"
      },
      "execution_count": null,
      "outputs": []
    },
    {
      "cell_type": "code",
      "source": [],
      "metadata": {
        "id": "Jtw3kDAruNei"
      },
      "execution_count": null,
      "outputs": []
    },
    {
      "cell_type": "code",
      "source": [
        "# document_content_description = \"information about a country.\"\n",
        "# retriever = SelfQueryRetriever.from_llm(\n",
        "#     llm,\n",
        "#     vector_store,\n",
        "#     document_content_description,\n",
        "#     metadata_field_info,\n",
        "#     verbose=True\n",
        "# )\n",
        "\n",
        "# # I don't know why it is not working although I installed 'lark', he tells me 'can't import lark'."
      ],
      "metadata": {
        "id": "3POe186ruBa4"
      },
      "execution_count": null,
      "outputs": []
    },
    {
      "cell_type": "code",
      "source": [
        "# SQ_retrievals = retriever.get_relevant_documents(question)"
      ],
      "metadata": {
        "id": "_TADLgGPuJWj"
      },
      "execution_count": null,
      "outputs": []
    },
    {
      "cell_type": "code",
      "source": [
        "# for d in SQ_retrievals:\n",
        "#     print(d.metadata)"
      ],
      "metadata": {
        "id": "9r8dR4XhvGRR"
      },
      "execution_count": null,
      "outputs": []
    },
    {
      "cell_type": "markdown",
      "source": [
        "### Retrieving with Compression."
      ],
      "metadata": {
        "id": "-4lGrMsAvbmR"
      }
    },
    {
      "cell_type": "code",
      "source": [
        "from langchain.retrievers import ContextualCompressionRetriever\n",
        "from langchain.retrievers.document_compressors import LLMChainExtractor"
      ],
      "metadata": {
        "id": "gV2enhdVveDp"
      },
      "execution_count": null,
      "outputs": []
    },
    {
      "cell_type": "code",
      "source": [
        "# Pretty output taken from Deeplearning.ai course.\n",
        "\n",
        "def pretty_print_docs(docs):\n",
        "    print(f\"\\n{'-' * 100}\\n\".join([f\"Document {i+1}:\\n\\n\" + d.page_content for i, d in enumerate(docs)]))"
      ],
      "metadata": {
        "id": "_Wa8Nrlyvk5S"
      },
      "execution_count": null,
      "outputs": []
    },
    {
      "cell_type": "code",
      "source": [
        "vector_store._collection.count()"
      ],
      "metadata": {
        "colab": {
          "base_uri": "https://localhost:8080/"
        },
        "id": "Ku-HjONTyPE9",
        "outputId": "442eb112-1f96-413d-e07b-4407638ba51d"
      },
      "execution_count": null,
      "outputs": [
        {
          "output_type": "execute_result",
          "data": {
            "text/plain": [
              "456"
            ]
          },
          "metadata": {},
          "execution_count": 109
        }
      ]
    },
    {
      "cell_type": "code",
      "source": [
        "llm = ChatGoogleGenerativeAI(model=\"gemini-pro\")\n",
        "compressor = LLMChainExtractor.from_llm(llm)"
      ],
      "metadata": {
        "id": "hCKH3un4vzEo"
      },
      "execution_count": null,
      "outputs": []
    },
    {
      "cell_type": "code",
      "source": [
        "compression_retriever_ss = ContextualCompressionRetriever(\n",
        "    base_compressor=compressor,\n",
        "    base_retriever=vector_store.as_retriever()\n",
        ")"
      ],
      "metadata": {
        "id": "og02S-0Rv8Ts"
      },
      "execution_count": null,
      "outputs": []
    },
    {
      "cell_type": "code",
      "source": [
        "question = 'where is egypt'"
      ],
      "metadata": {
        "id": "8SPPR6rtwRmf"
      },
      "execution_count": null,
      "outputs": []
    },
    {
      "cell_type": "code",
      "source": [
        "compressed_docs = compression_retriever_ss.get_relevant_documents(question)"
      ],
      "metadata": {
        "colab": {
          "base_uri": "https://localhost:8080/"
        },
        "id": "FnGuY256wFdC",
        "outputId": "29a473e3-f355-4251-c4b3-69bc74e2ad97"
      },
      "execution_count": null,
      "outputs": [
        {
          "output_type": "stream",
          "name": "stderr",
          "text": [
            "<ipython-input-113-8ea20ce44087>:1: LangChainDeprecationWarning: The method `BaseRetriever.get_relevant_documents` was deprecated in langchain-core 0.1.46 and will be removed in 1.0. Use :meth:`~invoke` instead.\n",
            "  compressed_docs = compression_retriever_ss.get_relevant_documents(question)\n"
          ]
        }
      ]
    },
    {
      "cell_type": "code",
      "source": [
        "len(compressed_docs)"
      ],
      "metadata": {
        "colab": {
          "base_uri": "https://localhost:8080/"
        },
        "id": "yBhgmVcax5D6",
        "outputId": "7d3018d1-8c26-49ae-c536-5ee3d4b42570"
      },
      "execution_count": null,
      "outputs": [
        {
          "output_type": "execute_result",
          "data": {
            "text/plain": [
              "0"
            ]
          },
          "metadata": {},
          "execution_count": 114
        }
      ]
    },
    {
      "cell_type": "code",
      "source": [
        "pretty_print_docs(compressed_docs)"
      ],
      "metadata": {
        "colab": {
          "base_uri": "https://localhost:8080/"
        },
        "id": "ZhUk_ui0wXC6",
        "outputId": "e3547479-bb29-4ebe-eccb-0e9051796bac"
      },
      "execution_count": null,
      "outputs": [
        {
          "output_type": "stream",
          "name": "stdout",
          "text": [
            "\n"
          ]
        }
      ]
    },
    {
      "cell_type": "markdown",
      "source": [
        "using mmr retrieving."
      ],
      "metadata": {
        "id": "NAWwpdXoyZjU"
      }
    },
    {
      "cell_type": "code",
      "source": [
        "compression_retriever_mmr = ContextualCompressionRetriever(\n",
        "    base_compressor=compressor,\n",
        "    base_retriever=vector_store.as_retriever(search_type = \"mmr\")\n",
        ")"
      ],
      "metadata": {
        "id": "cAjxW-O5xPRH"
      },
      "execution_count": null,
      "outputs": []
    },
    {
      "cell_type": "code",
      "source": [
        "question = 'where is egypt'"
      ],
      "metadata": {
        "id": "xXDbBl6Nyg3C"
      },
      "execution_count": null,
      "outputs": []
    },
    {
      "cell_type": "code",
      "source": [
        "compressed_docs = compression_retriever_mmr.get_relevant_documents(question)"
      ],
      "metadata": {
        "id": "3z73UgnbykDF"
      },
      "execution_count": null,
      "outputs": []
    },
    {
      "cell_type": "code",
      "source": [
        "len(compressed_docs)"
      ],
      "metadata": {
        "colab": {
          "base_uri": "https://localhost:8080/"
        },
        "id": "XgjMUJNwyrVc",
        "outputId": "11fe7904-1a31-4dbb-b44e-3c9f74786c2d"
      },
      "execution_count": null,
      "outputs": [
        {
          "output_type": "execute_result",
          "data": {
            "text/plain": [
              "1"
            ]
          },
          "metadata": {},
          "execution_count": 119
        }
      ]
    },
    {
      "cell_type": "code",
      "source": [
        "pretty_print_docs(compressed_docs)"
      ],
      "metadata": {
        "colab": {
          "base_uri": "https://localhost:8080/"
        },
        "id": "mU8mMP0rylLP",
        "outputId": "9e84223a-debe-4bbc-d9ac-86e77fad1f64"
      },
      "execution_count": null,
      "outputs": [
        {
          "output_type": "stream",
          "name": "stdout",
          "text": [
            "Document 1:\n",
            "\n",
            "Egypt is a transcontinental country spanning the northeast corner of Africa and the Sinai Peninsula in the southwest corner of Asia. It is bordered by the Mediterranean Sea to the north, the Gaza Strip of Palestine and Israel to the northeast, the Red Sea to the east, Sudan to the south, and Libya to the west.\n"
          ]
        }
      ]
    },
    {
      "cell_type": "code",
      "source": [],
      "metadata": {
        "id": "F1RLzvoryl9d"
      },
      "execution_count": null,
      "outputs": []
    },
    {
      "cell_type": "markdown",
      "source": [
        "### Other types of Retrievals."
      ],
      "metadata": {
        "id": "AJg3hCofyxOV"
      }
    },
    {
      "cell_type": "code",
      "source": [
        "from langchain.retrievers import SVMRetriever\n",
        "from langchain.retrievers import TFIDFRetriever\n",
        "from langchain.document_loaders import WebBaseLoader\n",
        "from langchain.text_splitter import RecursiveCharacterTextSplitter"
      ],
      "metadata": {
        "id": "LaWQE4xiyzyk"
      },
      "execution_count": null,
      "outputs": []
    },
    {
      "cell_type": "code",
      "source": [
        "loaders = [\n",
        "    WebBaseLoader('https://en.wikipedia.org/wiki/Egypt'),\n",
        "    WebBaseLoader('https://en.wikipedia.org/wiki/Egypt'),\n",
        "    WebBaseLoader('https://en.wikipedia.org/wiki/United_States'),\n",
        "    WebBaseLoader('https://en.wikipedia.org/wiki/Russia'),\n",
        "    WebBaseLoader('https://en.wikipedia.org/wiki/Saudi_Arabia')\n",
        "]\n",
        "\n",
        "docs = []\n",
        "for loader in loaders:\n",
        "  out = loader.load()\n",
        "  docs.extend(out[0].page_content)\n",
        "\n",
        "joined_docs = ' '.join(docs)"
      ],
      "metadata": {
        "id": "0E3__vGWy5RM"
      },
      "execution_count": null,
      "outputs": []
    },
    {
      "cell_type": "code",
      "source": [
        "# Splitting.\n",
        "from langchain.text_splitter import RecursiveCharacterTextSplitter\n",
        "text_splitter = RecursiveCharacterTextSplitter(\n",
        "    chunk_size = 3000,\n",
        "    chunk_overlap = 300\n",
        ")"
      ],
      "metadata": {
        "id": "rXWegBpFzguS"
      },
      "execution_count": null,
      "outputs": []
    },
    {
      "cell_type": "code",
      "source": [
        "splits = text_splitter.split_text(joined_docs)"
      ],
      "metadata": {
        "id": "h-mQLZ7izguT"
      },
      "execution_count": null,
      "outputs": []
    },
    {
      "cell_type": "code",
      "source": [
        "from langchain_google_genai import GoogleGenerativeAIEmbeddings\n",
        "\n",
        "embedding_model = GoogleGenerativeAIEmbeddings(model=\"models/embedding-001\")"
      ],
      "metadata": {
        "id": "Wp769wo40NHt"
      },
      "execution_count": null,
      "outputs": []
    },
    {
      "cell_type": "code",
      "source": [
        "# Retrieve\n",
        "svm_retriever = SVMRetriever.from_texts(splits,embedding_model)\n",
        "tfidf_retriever = TFIDFRetriever.from_texts(splits)"
      ],
      "metadata": {
        "colab": {
          "base_uri": "https://localhost:8080/",
          "height": 1000
        },
        "id": "LYepqn_qzBx7",
        "outputId": "5f5a71f2-0fc1-4c13-d5e3-ea653660b6d0"
      },
      "execution_count": null,
      "outputs": [
        {
          "output_type": "error",
          "ename": "GoogleGenerativeAIError",
          "evalue": "Error embedding content: 429 Quota exceeded for quota metric 'Batch Embed Content API requests' and limit 'Batch embed contents request limit per minute for a region' of service 'generativelanguage.googleapis.com' for consumer 'project_number:885756490991'. [reason: \"RATE_LIMIT_EXCEEDED\"\ndomain: \"googleapis.com\"\nmetadata {\n  key: \"service\"\n  value: \"generativelanguage.googleapis.com\"\n}\nmetadata {\n  key: \"quota_metric\"\n  value: \"generativelanguage.googleapis.com/batch_embed_contents_requests\"\n}\nmetadata {\n  key: \"quota_location\"\n  value: \"us-central2\"\n}\nmetadata {\n  key: \"quota_limit\"\n  value: \"BatchEmbedContentsRequestsPerMinutePerProjectPerRegion\"\n}\nmetadata {\n  key: \"quota_limit_value\"\n  value: \"150\"\n}\nmetadata {\n  key: \"consumer\"\n  value: \"projects/885756490991\"\n}\n, links {\n  description: \"Request a higher quota limit.\"\n  url: \"https://cloud.google.com/docs/quotas/help/request_increase\"\n}\n]",
          "traceback": [
            "\u001b[0;31m---------------------------------------------------------------------------\u001b[0m",
            "\u001b[0;31mResourceExhausted\u001b[0m                         Traceback (most recent call last)",
            "\u001b[0;32m/usr/local/lib/python3.10/dist-packages/langchain_google_genai/embeddings.py\u001b[0m in \u001b[0;36membed_documents\u001b[0;34m(self, texts, batch_size, task_type, titles, output_dimensionality)\u001b[0m\n\u001b[1;32m    226\u001b[0m             \u001b[0;32mtry\u001b[0m\u001b[0;34m:\u001b[0m\u001b[0;34m\u001b[0m\u001b[0;34m\u001b[0m\u001b[0m\n\u001b[0;32m--> 227\u001b[0;31m                 result = self.client.batch_embed_contents(\n\u001b[0m\u001b[1;32m    228\u001b[0m                     \u001b[0mBatchEmbedContentsRequest\u001b[0m\u001b[0;34m(\u001b[0m\u001b[0mrequests\u001b[0m\u001b[0;34m=\u001b[0m\u001b[0mrequests\u001b[0m\u001b[0;34m,\u001b[0m \u001b[0mmodel\u001b[0m\u001b[0;34m=\u001b[0m\u001b[0mself\u001b[0m\u001b[0;34m.\u001b[0m\u001b[0mmodel\u001b[0m\u001b[0;34m)\u001b[0m\u001b[0;34m\u001b[0m\u001b[0;34m\u001b[0m\u001b[0m\n",
            "\u001b[0;32m/usr/local/lib/python3.10/dist-packages/google/ai/generativelanguage_v1beta/services/generative_service/client.py\u001b[0m in \u001b[0;36mbatch_embed_contents\u001b[0;34m(self, request, model, requests, retry, timeout, metadata)\u001b[0m\n\u001b[1;32m   1378\u001b[0m         \u001b[0;31m# Send the request.\u001b[0m\u001b[0;34m\u001b[0m\u001b[0;34m\u001b[0m\u001b[0m\n\u001b[0;32m-> 1379\u001b[0;31m         response = rpc(\n\u001b[0m\u001b[1;32m   1380\u001b[0m             \u001b[0mrequest\u001b[0m\u001b[0;34m,\u001b[0m\u001b[0;34m\u001b[0m\u001b[0;34m\u001b[0m\u001b[0m\n",
            "\u001b[0;32m/usr/local/lib/python3.10/dist-packages/google/api_core/gapic_v1/method.py\u001b[0m in \u001b[0;36m__call__\u001b[0;34m(self, timeout, retry, compression, *args, **kwargs)\u001b[0m\n\u001b[1;32m    130\u001b[0m \u001b[0;34m\u001b[0m\u001b[0m\n\u001b[0;32m--> 131\u001b[0;31m         \u001b[0;32mreturn\u001b[0m \u001b[0mwrapped_func\u001b[0m\u001b[0;34m(\u001b[0m\u001b[0;34m*\u001b[0m\u001b[0margs\u001b[0m\u001b[0;34m,\u001b[0m \u001b[0;34m**\u001b[0m\u001b[0mkwargs\u001b[0m\u001b[0;34m)\u001b[0m\u001b[0;34m\u001b[0m\u001b[0;34m\u001b[0m\u001b[0m\n\u001b[0m\u001b[1;32m    132\u001b[0m \u001b[0;34m\u001b[0m\u001b[0m\n",
            "\u001b[0;32m/usr/local/lib/python3.10/dist-packages/google/api_core/retry/retry_unary.py\u001b[0m in \u001b[0;36mretry_wrapped_func\u001b[0;34m(*args, **kwargs)\u001b[0m\n\u001b[1;32m    292\u001b[0m             )\n\u001b[0;32m--> 293\u001b[0;31m             return retry_target(\n\u001b[0m\u001b[1;32m    294\u001b[0m                 \u001b[0mtarget\u001b[0m\u001b[0;34m,\u001b[0m\u001b[0;34m\u001b[0m\u001b[0;34m\u001b[0m\u001b[0m\n",
            "\u001b[0;32m/usr/local/lib/python3.10/dist-packages/google/api_core/retry/retry_unary.py\u001b[0m in \u001b[0;36mretry_target\u001b[0;34m(target, predicate, sleep_generator, timeout, on_error, exception_factory, **kwargs)\u001b[0m\n\u001b[1;32m    152\u001b[0m             \u001b[0;31m# defer to shared logic for handling errors\u001b[0m\u001b[0;34m\u001b[0m\u001b[0;34m\u001b[0m\u001b[0m\n\u001b[0;32m--> 153\u001b[0;31m             _retry_error_helper(\n\u001b[0m\u001b[1;32m    154\u001b[0m                 \u001b[0mexc\u001b[0m\u001b[0;34m,\u001b[0m\u001b[0;34m\u001b[0m\u001b[0;34m\u001b[0m\u001b[0m\n",
            "\u001b[0;32m/usr/local/lib/python3.10/dist-packages/google/api_core/retry/retry_base.py\u001b[0m in \u001b[0;36m_retry_error_helper\u001b[0;34m(exc, deadline, next_sleep, error_list, predicate_fn, on_error_fn, exc_factory_fn, original_timeout)\u001b[0m\n\u001b[1;32m    211\u001b[0m         )\n\u001b[0;32m--> 212\u001b[0;31m         \u001b[0;32mraise\u001b[0m \u001b[0mfinal_exc\u001b[0m \u001b[0;32mfrom\u001b[0m \u001b[0msource_exc\u001b[0m\u001b[0;34m\u001b[0m\u001b[0;34m\u001b[0m\u001b[0m\n\u001b[0m\u001b[1;32m    213\u001b[0m     \u001b[0;32mif\u001b[0m \u001b[0mon_error_fn\u001b[0m \u001b[0;32mis\u001b[0m \u001b[0;32mnot\u001b[0m \u001b[0;32mNone\u001b[0m\u001b[0;34m:\u001b[0m\u001b[0;34m\u001b[0m\u001b[0;34m\u001b[0m\u001b[0m\n",
            "\u001b[0;32m/usr/local/lib/python3.10/dist-packages/google/api_core/retry/retry_unary.py\u001b[0m in \u001b[0;36mretry_target\u001b[0;34m(target, predicate, sleep_generator, timeout, on_error, exception_factory, **kwargs)\u001b[0m\n\u001b[1;32m    143\u001b[0m         \u001b[0;32mtry\u001b[0m\u001b[0;34m:\u001b[0m\u001b[0;34m\u001b[0m\u001b[0;34m\u001b[0m\u001b[0m\n\u001b[0;32m--> 144\u001b[0;31m             \u001b[0mresult\u001b[0m \u001b[0;34m=\u001b[0m \u001b[0mtarget\u001b[0m\u001b[0;34m(\u001b[0m\u001b[0;34m)\u001b[0m\u001b[0;34m\u001b[0m\u001b[0;34m\u001b[0m\u001b[0m\n\u001b[0m\u001b[1;32m    145\u001b[0m             \u001b[0;32mif\u001b[0m \u001b[0minspect\u001b[0m\u001b[0;34m.\u001b[0m\u001b[0misawaitable\u001b[0m\u001b[0;34m(\u001b[0m\u001b[0mresult\u001b[0m\u001b[0;34m)\u001b[0m\u001b[0;34m:\u001b[0m\u001b[0;34m\u001b[0m\u001b[0;34m\u001b[0m\u001b[0m\n",
            "\u001b[0;32m/usr/local/lib/python3.10/dist-packages/google/api_core/timeout.py\u001b[0m in \u001b[0;36mfunc_with_timeout\u001b[0;34m(*args, **kwargs)\u001b[0m\n\u001b[1;32m    119\u001b[0m \u001b[0;34m\u001b[0m\u001b[0m\n\u001b[0;32m--> 120\u001b[0;31m             \u001b[0;32mreturn\u001b[0m \u001b[0mfunc\u001b[0m\u001b[0;34m(\u001b[0m\u001b[0;34m*\u001b[0m\u001b[0margs\u001b[0m\u001b[0;34m,\u001b[0m \u001b[0;34m**\u001b[0m\u001b[0mkwargs\u001b[0m\u001b[0;34m)\u001b[0m\u001b[0;34m\u001b[0m\u001b[0;34m\u001b[0m\u001b[0m\n\u001b[0m\u001b[1;32m    121\u001b[0m \u001b[0;34m\u001b[0m\u001b[0m\n",
            "\u001b[0;32m/usr/local/lib/python3.10/dist-packages/google/api_core/grpc_helpers.py\u001b[0m in \u001b[0;36merror_remapped_callable\u001b[0;34m(*args, **kwargs)\u001b[0m\n\u001b[1;32m     77\u001b[0m         \u001b[0;32mexcept\u001b[0m \u001b[0mgrpc\u001b[0m\u001b[0;34m.\u001b[0m\u001b[0mRpcError\u001b[0m \u001b[0;32mas\u001b[0m \u001b[0mexc\u001b[0m\u001b[0;34m:\u001b[0m\u001b[0;34m\u001b[0m\u001b[0;34m\u001b[0m\u001b[0m\n\u001b[0;32m---> 78\u001b[0;31m             \u001b[0;32mraise\u001b[0m \u001b[0mexceptions\u001b[0m\u001b[0;34m.\u001b[0m\u001b[0mfrom_grpc_error\u001b[0m\u001b[0;34m(\u001b[0m\u001b[0mexc\u001b[0m\u001b[0;34m)\u001b[0m \u001b[0;32mfrom\u001b[0m \u001b[0mexc\u001b[0m\u001b[0;34m\u001b[0m\u001b[0;34m\u001b[0m\u001b[0m\n\u001b[0m\u001b[1;32m     79\u001b[0m \u001b[0;34m\u001b[0m\u001b[0m\n",
            "\u001b[0;31mResourceExhausted\u001b[0m: 429 Quota exceeded for quota metric 'Batch Embed Content API requests' and limit 'Batch embed contents request limit per minute for a region' of service 'generativelanguage.googleapis.com' for consumer 'project_number:885756490991'. [reason: \"RATE_LIMIT_EXCEEDED\"\ndomain: \"googleapis.com\"\nmetadata {\n  key: \"service\"\n  value: \"generativelanguage.googleapis.com\"\n}\nmetadata {\n  key: \"quota_metric\"\n  value: \"generativelanguage.googleapis.com/batch_embed_contents_requests\"\n}\nmetadata {\n  key: \"quota_location\"\n  value: \"us-central2\"\n}\nmetadata {\n  key: \"quota_limit\"\n  value: \"BatchEmbedContentsRequestsPerMinutePerProjectPerRegion\"\n}\nmetadata {\n  key: \"quota_limit_value\"\n  value: \"150\"\n}\nmetadata {\n  key: \"consumer\"\n  value: \"projects/885756490991\"\n}\n, links {\n  description: \"Request a higher quota limit.\"\n  url: \"https://cloud.google.com/docs/quotas/help/request_increase\"\n}\n]",
            "\nThe above exception was the direct cause of the following exception:\n",
            "\u001b[0;31mGoogleGenerativeAIError\u001b[0m                   Traceback (most recent call last)",
            "\u001b[0;32m<ipython-input-126-923fe9133f94>\u001b[0m in \u001b[0;36m<cell line: 2>\u001b[0;34m()\u001b[0m\n\u001b[1;32m      1\u001b[0m \u001b[0;31m# Retrieve\u001b[0m\u001b[0;34m\u001b[0m\u001b[0;34m\u001b[0m\u001b[0m\n\u001b[0;32m----> 2\u001b[0;31m \u001b[0msvm_retriever\u001b[0m \u001b[0;34m=\u001b[0m \u001b[0mSVMRetriever\u001b[0m\u001b[0;34m.\u001b[0m\u001b[0mfrom_texts\u001b[0m\u001b[0;34m(\u001b[0m\u001b[0msplits\u001b[0m\u001b[0;34m,\u001b[0m\u001b[0membedding_model\u001b[0m\u001b[0;34m)\u001b[0m\u001b[0;34m\u001b[0m\u001b[0;34m\u001b[0m\u001b[0m\n\u001b[0m\u001b[1;32m      3\u001b[0m \u001b[0mtfidf_retriever\u001b[0m \u001b[0;34m=\u001b[0m \u001b[0mTFIDFRetriever\u001b[0m\u001b[0;34m.\u001b[0m\u001b[0mfrom_texts\u001b[0m\u001b[0;34m(\u001b[0m\u001b[0msplits\u001b[0m\u001b[0;34m)\u001b[0m\u001b[0;34m\u001b[0m\u001b[0;34m\u001b[0m\u001b[0m\n",
            "\u001b[0;32m/usr/local/lib/python3.10/dist-packages/langchain_community/retrievers/svm.py\u001b[0m in \u001b[0;36mfrom_texts\u001b[0;34m(cls, texts, embeddings, metadatas, **kwargs)\u001b[0m\n\u001b[1;32m     59\u001b[0m         \u001b[0;34m**\u001b[0m\u001b[0mkwargs\u001b[0m\u001b[0;34m:\u001b[0m \u001b[0mAny\u001b[0m\u001b[0;34m,\u001b[0m\u001b[0;34m\u001b[0m\u001b[0;34m\u001b[0m\u001b[0m\n\u001b[1;32m     60\u001b[0m     ) -> SVMRetriever:\n\u001b[0;32m---> 61\u001b[0;31m         \u001b[0mindex\u001b[0m \u001b[0;34m=\u001b[0m \u001b[0mcreate_index\u001b[0m\u001b[0;34m(\u001b[0m\u001b[0mtexts\u001b[0m\u001b[0;34m,\u001b[0m \u001b[0membeddings\u001b[0m\u001b[0;34m)\u001b[0m\u001b[0;34m\u001b[0m\u001b[0;34m\u001b[0m\u001b[0m\n\u001b[0m\u001b[1;32m     62\u001b[0m         return cls(\n\u001b[1;32m     63\u001b[0m             \u001b[0membeddings\u001b[0m\u001b[0;34m=\u001b[0m\u001b[0membeddings\u001b[0m\u001b[0;34m,\u001b[0m\u001b[0;34m\u001b[0m\u001b[0;34m\u001b[0m\u001b[0m\n",
            "\u001b[0;32m/usr/local/lib/python3.10/dist-packages/langchain_community/retrievers/svm.py\u001b[0m in \u001b[0;36mcreate_index\u001b[0;34m(contexts, embeddings)\u001b[0m\n\u001b[1;32m     24\u001b[0m     \"\"\"\n\u001b[1;32m     25\u001b[0m     \u001b[0;32mwith\u001b[0m \u001b[0mconcurrent\u001b[0m\u001b[0;34m.\u001b[0m\u001b[0mfutures\u001b[0m\u001b[0;34m.\u001b[0m\u001b[0mThreadPoolExecutor\u001b[0m\u001b[0;34m(\u001b[0m\u001b[0;34m)\u001b[0m \u001b[0;32mas\u001b[0m \u001b[0mexecutor\u001b[0m\u001b[0;34m:\u001b[0m\u001b[0;34m\u001b[0m\u001b[0;34m\u001b[0m\u001b[0m\n\u001b[0;32m---> 26\u001b[0;31m         \u001b[0;32mreturn\u001b[0m \u001b[0mnp\u001b[0m\u001b[0;34m.\u001b[0m\u001b[0marray\u001b[0m\u001b[0;34m(\u001b[0m\u001b[0mlist\u001b[0m\u001b[0;34m(\u001b[0m\u001b[0mexecutor\u001b[0m\u001b[0;34m.\u001b[0m\u001b[0mmap\u001b[0m\u001b[0;34m(\u001b[0m\u001b[0membeddings\u001b[0m\u001b[0;34m.\u001b[0m\u001b[0membed_query\u001b[0m\u001b[0;34m,\u001b[0m \u001b[0mcontexts\u001b[0m\u001b[0;34m)\u001b[0m\u001b[0;34m)\u001b[0m\u001b[0;34m)\u001b[0m\u001b[0;34m\u001b[0m\u001b[0;34m\u001b[0m\u001b[0m\n\u001b[0m\u001b[1;32m     27\u001b[0m \u001b[0;34m\u001b[0m\u001b[0m\n\u001b[1;32m     28\u001b[0m \u001b[0;34m\u001b[0m\u001b[0m\n",
            "\u001b[0;32m/usr/lib/python3.10/concurrent/futures/_base.py\u001b[0m in \u001b[0;36mresult_iterator\u001b[0;34m()\u001b[0m\n\u001b[1;32m    619\u001b[0m                     \u001b[0;31m# Careful not to keep a reference to the popped future\u001b[0m\u001b[0;34m\u001b[0m\u001b[0;34m\u001b[0m\u001b[0m\n\u001b[1;32m    620\u001b[0m                     \u001b[0;32mif\u001b[0m \u001b[0mtimeout\u001b[0m \u001b[0;32mis\u001b[0m \u001b[0;32mNone\u001b[0m\u001b[0;34m:\u001b[0m\u001b[0;34m\u001b[0m\u001b[0;34m\u001b[0m\u001b[0m\n\u001b[0;32m--> 621\u001b[0;31m                         \u001b[0;32myield\u001b[0m \u001b[0m_result_or_cancel\u001b[0m\u001b[0;34m(\u001b[0m\u001b[0mfs\u001b[0m\u001b[0;34m.\u001b[0m\u001b[0mpop\u001b[0m\u001b[0;34m(\u001b[0m\u001b[0;34m)\u001b[0m\u001b[0;34m)\u001b[0m\u001b[0;34m\u001b[0m\u001b[0;34m\u001b[0m\u001b[0m\n\u001b[0m\u001b[1;32m    622\u001b[0m                     \u001b[0;32melse\u001b[0m\u001b[0;34m:\u001b[0m\u001b[0;34m\u001b[0m\u001b[0;34m\u001b[0m\u001b[0m\n\u001b[1;32m    623\u001b[0m                         \u001b[0;32myield\u001b[0m \u001b[0m_result_or_cancel\u001b[0m\u001b[0;34m(\u001b[0m\u001b[0mfs\u001b[0m\u001b[0;34m.\u001b[0m\u001b[0mpop\u001b[0m\u001b[0;34m(\u001b[0m\u001b[0;34m)\u001b[0m\u001b[0;34m,\u001b[0m \u001b[0mend_time\u001b[0m \u001b[0;34m-\u001b[0m \u001b[0mtime\u001b[0m\u001b[0;34m.\u001b[0m\u001b[0mmonotonic\u001b[0m\u001b[0;34m(\u001b[0m\u001b[0;34m)\u001b[0m\u001b[0;34m)\u001b[0m\u001b[0;34m\u001b[0m\u001b[0;34m\u001b[0m\u001b[0m\n",
            "\u001b[0;32m/usr/lib/python3.10/concurrent/futures/_base.py\u001b[0m in \u001b[0;36m_result_or_cancel\u001b[0;34m(***failed resolving arguments***)\u001b[0m\n\u001b[1;32m    317\u001b[0m     \u001b[0;32mtry\u001b[0m\u001b[0;34m:\u001b[0m\u001b[0;34m\u001b[0m\u001b[0;34m\u001b[0m\u001b[0m\n\u001b[1;32m    318\u001b[0m         \u001b[0;32mtry\u001b[0m\u001b[0;34m:\u001b[0m\u001b[0;34m\u001b[0m\u001b[0;34m\u001b[0m\u001b[0m\n\u001b[0;32m--> 319\u001b[0;31m             \u001b[0;32mreturn\u001b[0m \u001b[0mfut\u001b[0m\u001b[0;34m.\u001b[0m\u001b[0mresult\u001b[0m\u001b[0;34m(\u001b[0m\u001b[0mtimeout\u001b[0m\u001b[0;34m)\u001b[0m\u001b[0;34m\u001b[0m\u001b[0;34m\u001b[0m\u001b[0m\n\u001b[0m\u001b[1;32m    320\u001b[0m         \u001b[0;32mfinally\u001b[0m\u001b[0;34m:\u001b[0m\u001b[0;34m\u001b[0m\u001b[0;34m\u001b[0m\u001b[0m\n\u001b[1;32m    321\u001b[0m             \u001b[0mfut\u001b[0m\u001b[0;34m.\u001b[0m\u001b[0mcancel\u001b[0m\u001b[0;34m(\u001b[0m\u001b[0;34m)\u001b[0m\u001b[0;34m\u001b[0m\u001b[0;34m\u001b[0m\u001b[0m\n",
            "\u001b[0;32m/usr/lib/python3.10/concurrent/futures/_base.py\u001b[0m in \u001b[0;36mresult\u001b[0;34m(self, timeout)\u001b[0m\n\u001b[1;32m    449\u001b[0m                     \u001b[0;32mraise\u001b[0m \u001b[0mCancelledError\u001b[0m\u001b[0;34m(\u001b[0m\u001b[0;34m)\u001b[0m\u001b[0;34m\u001b[0m\u001b[0;34m\u001b[0m\u001b[0m\n\u001b[1;32m    450\u001b[0m                 \u001b[0;32melif\u001b[0m \u001b[0mself\u001b[0m\u001b[0;34m.\u001b[0m\u001b[0m_state\u001b[0m \u001b[0;34m==\u001b[0m \u001b[0mFINISHED\u001b[0m\u001b[0;34m:\u001b[0m\u001b[0;34m\u001b[0m\u001b[0;34m\u001b[0m\u001b[0m\n\u001b[0;32m--> 451\u001b[0;31m                     \u001b[0;32mreturn\u001b[0m \u001b[0mself\u001b[0m\u001b[0;34m.\u001b[0m\u001b[0m__get_result\u001b[0m\u001b[0;34m(\u001b[0m\u001b[0;34m)\u001b[0m\u001b[0;34m\u001b[0m\u001b[0;34m\u001b[0m\u001b[0m\n\u001b[0m\u001b[1;32m    452\u001b[0m \u001b[0;34m\u001b[0m\u001b[0m\n\u001b[1;32m    453\u001b[0m                 \u001b[0mself\u001b[0m\u001b[0;34m.\u001b[0m\u001b[0m_condition\u001b[0m\u001b[0;34m.\u001b[0m\u001b[0mwait\u001b[0m\u001b[0;34m(\u001b[0m\u001b[0mtimeout\u001b[0m\u001b[0;34m)\u001b[0m\u001b[0;34m\u001b[0m\u001b[0;34m\u001b[0m\u001b[0m\n",
            "\u001b[0;32m/usr/lib/python3.10/concurrent/futures/_base.py\u001b[0m in \u001b[0;36m__get_result\u001b[0;34m(self)\u001b[0m\n\u001b[1;32m    401\u001b[0m         \u001b[0;32mif\u001b[0m \u001b[0mself\u001b[0m\u001b[0;34m.\u001b[0m\u001b[0m_exception\u001b[0m\u001b[0;34m:\u001b[0m\u001b[0;34m\u001b[0m\u001b[0;34m\u001b[0m\u001b[0m\n\u001b[1;32m    402\u001b[0m             \u001b[0;32mtry\u001b[0m\u001b[0;34m:\u001b[0m\u001b[0;34m\u001b[0m\u001b[0;34m\u001b[0m\u001b[0m\n\u001b[0;32m--> 403\u001b[0;31m                 \u001b[0;32mraise\u001b[0m \u001b[0mself\u001b[0m\u001b[0;34m.\u001b[0m\u001b[0m_exception\u001b[0m\u001b[0;34m\u001b[0m\u001b[0;34m\u001b[0m\u001b[0m\n\u001b[0m\u001b[1;32m    404\u001b[0m             \u001b[0;32mfinally\u001b[0m\u001b[0;34m:\u001b[0m\u001b[0;34m\u001b[0m\u001b[0;34m\u001b[0m\u001b[0m\n\u001b[1;32m    405\u001b[0m                 \u001b[0;31m# Break a reference cycle with the exception in self._exception\u001b[0m\u001b[0;34m\u001b[0m\u001b[0;34m\u001b[0m\u001b[0m\n",
            "\u001b[0;32m/usr/lib/python3.10/concurrent/futures/thread.py\u001b[0m in \u001b[0;36mrun\u001b[0;34m(self)\u001b[0m\n\u001b[1;32m     56\u001b[0m \u001b[0;34m\u001b[0m\u001b[0m\n\u001b[1;32m     57\u001b[0m         \u001b[0;32mtry\u001b[0m\u001b[0;34m:\u001b[0m\u001b[0;34m\u001b[0m\u001b[0;34m\u001b[0m\u001b[0m\n\u001b[0;32m---> 58\u001b[0;31m             \u001b[0mresult\u001b[0m \u001b[0;34m=\u001b[0m \u001b[0mself\u001b[0m\u001b[0;34m.\u001b[0m\u001b[0mfn\u001b[0m\u001b[0;34m(\u001b[0m\u001b[0;34m*\u001b[0m\u001b[0mself\u001b[0m\u001b[0;34m.\u001b[0m\u001b[0margs\u001b[0m\u001b[0;34m,\u001b[0m \u001b[0;34m**\u001b[0m\u001b[0mself\u001b[0m\u001b[0;34m.\u001b[0m\u001b[0mkwargs\u001b[0m\u001b[0;34m)\u001b[0m\u001b[0;34m\u001b[0m\u001b[0;34m\u001b[0m\u001b[0m\n\u001b[0m\u001b[1;32m     59\u001b[0m         \u001b[0;32mexcept\u001b[0m \u001b[0mBaseException\u001b[0m \u001b[0;32mas\u001b[0m \u001b[0mexc\u001b[0m\u001b[0;34m:\u001b[0m\u001b[0;34m\u001b[0m\u001b[0;34m\u001b[0m\u001b[0m\n\u001b[1;32m     60\u001b[0m             \u001b[0mself\u001b[0m\u001b[0;34m.\u001b[0m\u001b[0mfuture\u001b[0m\u001b[0;34m.\u001b[0m\u001b[0mset_exception\u001b[0m\u001b[0;34m(\u001b[0m\u001b[0mexc\u001b[0m\u001b[0;34m)\u001b[0m\u001b[0;34m\u001b[0m\u001b[0;34m\u001b[0m\u001b[0m\n",
            "\u001b[0;32m/usr/local/lib/python3.10/dist-packages/langchain_google_genai/embeddings.py\u001b[0m in \u001b[0;36membed_query\u001b[0;34m(self, text, task_type, title, output_dimensionality)\u001b[0m\n\u001b[1;32m    254\u001b[0m         \"\"\"\n\u001b[1;32m    255\u001b[0m         \u001b[0mtask_type\u001b[0m \u001b[0;34m=\u001b[0m \u001b[0mself\u001b[0m\u001b[0;34m.\u001b[0m\u001b[0mtask_type\u001b[0m \u001b[0;32mor\u001b[0m \u001b[0;34m\"RETRIEVAL_QUERY\"\u001b[0m\u001b[0;34m\u001b[0m\u001b[0;34m\u001b[0m\u001b[0m\n\u001b[0;32m--> 256\u001b[0;31m         return self.embed_documents(\n\u001b[0m\u001b[1;32m    257\u001b[0m             \u001b[0;34m[\u001b[0m\u001b[0mtext\u001b[0m\u001b[0;34m]\u001b[0m\u001b[0;34m,\u001b[0m\u001b[0;34m\u001b[0m\u001b[0;34m\u001b[0m\u001b[0m\n\u001b[1;32m    258\u001b[0m             \u001b[0mtask_type\u001b[0m\u001b[0;34m=\u001b[0m\u001b[0mtask_type\u001b[0m\u001b[0;34m,\u001b[0m\u001b[0;34m\u001b[0m\u001b[0;34m\u001b[0m\u001b[0m\n",
            "\u001b[0;32m/usr/local/lib/python3.10/dist-packages/langchain_google_genai/embeddings.py\u001b[0m in \u001b[0;36membed_documents\u001b[0;34m(self, texts, batch_size, task_type, titles, output_dimensionality)\u001b[0m\n\u001b[1;32m    229\u001b[0m                 )\n\u001b[1;32m    230\u001b[0m             \u001b[0;32mexcept\u001b[0m \u001b[0mException\u001b[0m \u001b[0;32mas\u001b[0m \u001b[0me\u001b[0m\u001b[0;34m:\u001b[0m\u001b[0;34m\u001b[0m\u001b[0;34m\u001b[0m\u001b[0m\n\u001b[0;32m--> 231\u001b[0;31m                 \u001b[0;32mraise\u001b[0m \u001b[0mGoogleGenerativeAIError\u001b[0m\u001b[0;34m(\u001b[0m\u001b[0;34mf\"Error embedding content: {e}\"\u001b[0m\u001b[0;34m)\u001b[0m \u001b[0;32mfrom\u001b[0m \u001b[0me\u001b[0m\u001b[0;34m\u001b[0m\u001b[0;34m\u001b[0m\u001b[0m\n\u001b[0m\u001b[1;32m    232\u001b[0m             \u001b[0membeddings\u001b[0m\u001b[0;34m.\u001b[0m\u001b[0mextend\u001b[0m\u001b[0;34m(\u001b[0m\u001b[0;34m[\u001b[0m\u001b[0mlist\u001b[0m\u001b[0;34m(\u001b[0m\u001b[0me\u001b[0m\u001b[0;34m.\u001b[0m\u001b[0mvalues\u001b[0m\u001b[0;34m)\u001b[0m \u001b[0;32mfor\u001b[0m \u001b[0me\u001b[0m \u001b[0;32min\u001b[0m \u001b[0mresult\u001b[0m\u001b[0;34m.\u001b[0m\u001b[0membeddings\u001b[0m\u001b[0;34m]\u001b[0m\u001b[0;34m)\u001b[0m\u001b[0;34m\u001b[0m\u001b[0;34m\u001b[0m\u001b[0m\n\u001b[1;32m    233\u001b[0m         \u001b[0;32mreturn\u001b[0m \u001b[0membeddings\u001b[0m\u001b[0;34m\u001b[0m\u001b[0;34m\u001b[0m\u001b[0m\n",
            "\u001b[0;31mGoogleGenerativeAIError\u001b[0m: Error embedding content: 429 Quota exceeded for quota metric 'Batch Embed Content API requests' and limit 'Batch embed contents request limit per minute for a region' of service 'generativelanguage.googleapis.com' for consumer 'project_number:885756490991'. [reason: \"RATE_LIMIT_EXCEEDED\"\ndomain: \"googleapis.com\"\nmetadata {\n  key: \"service\"\n  value: \"generativelanguage.googleapis.com\"\n}\nmetadata {\n  key: \"quota_metric\"\n  value: \"generativelanguage.googleapis.com/batch_embed_contents_requests\"\n}\nmetadata {\n  key: \"quota_location\"\n  value: \"us-central2\"\n}\nmetadata {\n  key: \"quota_limit\"\n  value: \"BatchEmbedContentsRequestsPerMinutePerProjectPerRegion\"\n}\nmetadata {\n  key: \"quota_limit_value\"\n  value: \"150\"\n}\nmetadata {\n  key: \"consumer\"\n  value: \"projects/885756490991\"\n}\n, links {\n  description: \"Request a higher quota limit.\"\n  url: \"https://cloud.google.com/docs/quotas/help/request_increase\"\n}\n]"
          ]
        }
      ]
    },
    {
      "cell_type": "code",
      "source": [
        "question = \"Where does Egypt located?\"\n",
        "docs_svm=svm_retriever.get_relevant_documents(question)\n",
        "docs_svm[0]"
      ],
      "metadata": {
        "id": "OIwsiucXzIIL"
      },
      "execution_count": null,
      "outputs": []
    },
    {
      "cell_type": "code",
      "source": [
        "question = \"Where does Egypt located?\"\n",
        "docs_tfidf=tfidf_retriever.get_relevant_documents(question)\n",
        "docs_tfidf[0]"
      ],
      "metadata": {
        "id": "xHMMgirizJ97"
      },
      "execution_count": null,
      "outputs": []
    },
    {
      "cell_type": "markdown",
      "source": [
        "# Question Answering.\n",
        "\n",
        "Here, my question and the retrieved documents will be send to a model to answer my question with the help of these retrieved docs."
      ],
      "metadata": {
        "id": "nKvUttpOkXxt"
      }
    },
    {
      "cell_type": "code",
      "source": [
        "embedding_model"
      ],
      "metadata": {
        "colab": {
          "base_uri": "https://localhost:8080/"
        },
        "id": "X9wbpgZTkaRD",
        "outputId": "a82f5f5f-5857-4175-931b-1f7db04a4973"
      },
      "execution_count": null,
      "outputs": [
        {
          "output_type": "execute_result",
          "data": {
            "text/plain": [
              "GoogleGenerativeAIEmbeddings(client=<google.ai.generativelanguage_v1beta.services.generative_service.client.GenerativeServiceClient object at 0x79796b473880>, model='models/embedding-001', task_type=None, google_api_key=SecretStr('**********'), credentials=None, client_options=None, transport=None, request_options=None)"
            ]
          },
          "metadata": {},
          "execution_count": 127
        }
      ]
    },
    {
      "cell_type": "code",
      "source": [
        "vector_store._collection.count()"
      ],
      "metadata": {
        "colab": {
          "base_uri": "https://localhost:8080/"
        },
        "id": "bLGpnc57odL-",
        "outputId": "f95569b6-ff98-4821-a584-af38a93d26b5"
      },
      "execution_count": null,
      "outputs": [
        {
          "output_type": "execute_result",
          "data": {
            "text/plain": [
              "456"
            ]
          },
          "metadata": {},
          "execution_count": 128
        }
      ]
    },
    {
      "cell_type": "code",
      "source": [
        "question = \"What is the climate in Egypt.\""
      ],
      "metadata": {
        "id": "R5RSPrkVogox"
      },
      "execution_count": null,
      "outputs": []
    },
    {
      "cell_type": "code",
      "source": [
        "os.environ['GOOGLE_API_KEY'] = userdata.get('GEMINI-API-KEY2')"
      ],
      "metadata": {
        "id": "VBvzexiOp8_0"
      },
      "execution_count": null,
      "outputs": []
    },
    {
      "cell_type": "code",
      "source": [
        "retrieved_docs = vector_store.similarity_search(question, k = 3)"
      ],
      "metadata": {
        "id": "CluatDScoxEg"
      },
      "execution_count": null,
      "outputs": []
    },
    {
      "cell_type": "code",
      "source": [
        "len(retrieved_docs)"
      ],
      "metadata": {
        "colab": {
          "base_uri": "https://localhost:8080/"
        },
        "id": "K8IwpWO9o2gw",
        "outputId": "67c715ac-08ed-4be4-ef23-c57ac8419bbd"
      },
      "execution_count": null,
      "outputs": [
        {
          "output_type": "execute_result",
          "data": {
            "text/plain": [
              "3"
            ]
          },
          "metadata": {},
          "execution_count": 145
        }
      ]
    },
    {
      "cell_type": "code",
      "source": [
        "from langchain_google_genai import ChatGoogleGenerativeAI\n",
        "llm = ChatGoogleGenerativeAI(model=\"gemini-1.5-pro-latest\")"
      ],
      "metadata": {
        "id": "dND9cYILqp46"
      },
      "execution_count": null,
      "outputs": []
    },
    {
      "cell_type": "code",
      "source": [
        "from langchain.chains import RetrievalQA"
      ],
      "metadata": {
        "id": "mW5_qFATrJKI"
      },
      "execution_count": null,
      "outputs": []
    },
    {
      "cell_type": "code",
      "source": [
        "qa_chain = RetrievalQA.from_chain_type(\n",
        "    llm,\n",
        "    retriever=vector_store.as_retriever()\n",
        ")"
      ],
      "metadata": {
        "id": "sR3rRYI1rOP4"
      },
      "execution_count": null,
      "outputs": []
    },
    {
      "cell_type": "code",
      "source": [
        "result = qa_chain({\"query\": question})"
      ],
      "metadata": {
        "id": "oMG6vWp2rSPM"
      },
      "execution_count": null,
      "outputs": []
    },
    {
      "cell_type": "code",
      "source": [
        "result['result']"
      ],
      "metadata": {
        "colab": {
          "base_uri": "https://localhost:8080/",
          "height": 87
        },
        "id": "GVw9CKT0rTwQ",
        "outputId": "9de9c4cc-29d0-481d-a646-a2df8fd45718"
      },
      "execution_count": null,
      "outputs": [
        {
          "output_type": "execute_result",
          "data": {
            "text/plain": [
              "'Egypt has a hot, sunny, and dry climate.  Summers are hot to extremely hot throughout most of the country, with slightly more moderate temperatures along the northern coast due to Mediterranean winds.  Most rain falls in the winter months.  South of Cairo, rainfall is minimal, averaging only 2-5 mm per year.  The northern coast can receive as much as 410 mm of rain annually, mostly between October and March.  Snow is rare, occurring in the Sinai mountains and some northern coastal cities.  A hot, dry wind called the Khamaseen blows from the southern deserts in the spring or early summer, bringing sand, dust, and temperatures exceeding 40°C (104°F), sometimes even reaching 50°C (122°F), with humidity dropping to 5% or less.\\n'"
            ],
            "application/vnd.google.colaboratory.intrinsic+json": {
              "type": "string"
            }
          },
          "metadata": {},
          "execution_count": 148
        }
      ]
    },
    {
      "cell_type": "markdown",
      "source": [
        "## Using Prompt."
      ],
      "metadata": {
        "id": "8ATvdG8EsfL5"
      }
    },
    {
      "cell_type": "code",
      "source": [
        "from langchain.prompts import PromptTemplate\n",
        "\n",
        "# Build prompt\n",
        "template = \"\"\"Use the following pieces of context to answer the question at the end. If you don't know the answer, just say that you don't know, don't try to make up an answer. Use three sentences maximum. Keep the answer as concise as possible. Always say \"thanks for asking!\" at the end of the answer.\n",
        "{context}\n",
        "Question: {question}\n",
        "Helpful Answer:\"\"\"\n",
        "QA_CHAIN_PROMPT = PromptTemplate.from_template(template)\n"
      ],
      "metadata": {
        "id": "DI1P_tI4rs3j"
      },
      "execution_count": null,
      "outputs": []
    },
    {
      "cell_type": "code",
      "source": [
        "# Run chain\n",
        "qa_chain = RetrievalQA.from_chain_type(\n",
        "    llm,\n",
        "    retriever=vector_store.as_retriever(),\n",
        "    return_source_documents=True,\n",
        "    chain_type_kwargs={\"prompt\": QA_CHAIN_PROMPT}\n",
        ")"
      ],
      "metadata": {
        "id": "Ub9DZngcsnFc"
      },
      "execution_count": null,
      "outputs": []
    },
    {
      "cell_type": "code",
      "source": [
        "result = qa_chain({\"query\": question})"
      ],
      "metadata": {
        "id": "OL6KI0grssMN"
      },
      "execution_count": null,
      "outputs": []
    },
    {
      "cell_type": "code",
      "source": [
        "result[\"result\"]"
      ],
      "metadata": {
        "colab": {
          "base_uri": "https://localhost:8080/",
          "height": 70
        },
        "id": "PDDnhXH_su9D",
        "outputId": "12f35cbe-3a58-4272-a80b-f0f13df1c6b7"
      },
      "execution_count": null,
      "outputs": [
        {
          "output_type": "execute_result",
          "data": {
            "text/plain": [
              "'Egypt has a hot, sunny, and dry climate with high temperatures, especially in the interior.  Rainfall is scarce, mostly falling in the winter months, with higher amounts along the northern coast.  The Khamaseen, a hot, dry wind, brings scorching sand and dust, raising temperatures significantly. Thanks for asking!\\n'"
            ],
            "application/vnd.google.colaboratory.intrinsic+json": {
              "type": "string"
            }
          },
          "metadata": {},
          "execution_count": 152
        }
      ]
    },
    {
      "cell_type": "code",
      "source": [
        "result[\"source_documents\"][0]"
      ],
      "metadata": {
        "colab": {
          "base_uri": "https://localhost:8080/"
        },
        "id": "NobJUB5vs6sU",
        "outputId": "88c04409-b10d-4500-c8e6-f434ebf9fae1"
      },
      "execution_count": null,
      "outputs": [
        {
          "output_type": "execute_result",
          "data": {
            "text/plain": [
              "Document(metadata={'language': 'en', 'source': 'https://en.wikipedia.org/wiki/Egypt', 'title': 'Egypt - Wikipedia'}, page_content=\"Egypt is the eighth most water stressed country in the world.\\nApart from the Nile Valley, the majority of Egypt's landscape is desert, with a few oases scattered about. Winds create prolific sand dunes that peak at more than 30 metres (100\\xa0ft) high. Egypt includes parts of the Sahara desert and of the Libyan Desert.\\nSinai peninsula hosts the highest mountain in Egypt, Mount Catherine at 2,642 metres. The Red Sea Riviera, on the east of the peninsula, is renowned for its wealth of coral reefs and marine life.\\nTowns and cities include Alexandria, the second largest city; Aswan; Asyut; Cairo, the modern Egyptian capital and largest city; El Mahalla El Kubra; Giza, the site of the Pyramid of Khufu; Hurghada; Luxor; Kom Ombo; Port Safaga; Port Said; Sharm El Sheikh; Suez, where the south end of the Suez Canal is located; Zagazig; and Minya. Oases include Bahariya, Dakhla, Farafra, Kharga and Siwa. Protectorates include Ras Mohamed National Park, Zaranik Protectorate and Siwa.\\nOn 13 March 2015, plans for a proposed new capital of Egypt were announced.[131]\\n\\nClimate\\nMain article: Climate of Egypt\\nThe Qattara Depression in Egypt's north west\\nMost of Egypt's rain falls in the winter months.[132] South of Cairo, rainfall averages only around 2 to 5\\xa0mm (0.1 to 0.2\\xa0in) per year and at intervals of many years. On a very thin strip of the northern coast the rainfall can be as high as 410\\xa0mm (16.1\\xa0in),[133] mostly between October and March. Snow falls on Sinai's mountains and some of the north coastal cities such as Damietta, Baltim and Sidi Barrani, and rarely in Alexandria. A very small amount of snow fell on Cairo on 13 December 2013, the first time in many decades.[134] Frost is also known in mid-Sinai and mid-Egypt.\\nEgypt has an unusually hot, sunny and dry climate. Average high temperatures are high in the north but very to extremely high in the rest of the country during summer. The cooler Mediterranean winds consistently blow over the northern sea coast, which helps to get more moderated temperatures, especially at the height of the summertime. The Khamaseen is a hot, dry wind that originates from the vast deserts in the south and blows in the spring or in the early summer. It brings scorching sand and dust particles, and usually brings daytime temperatures over 40\\xa0¬∞C (104\\xa0¬∞F) and sometimes over 50\\xa0¬∞C (122\\xa0¬∞F) in the interior, while the relative humidity can drop to 5% or even less.\\nPrior to the construction of the Aswan Dam, the Nile flooded annually, replenishing Egypt's soil. This gave Egypt a consistent harvest throughout the years.\\nThe potential rise in sea levels due to global warming could threaten Egypt's densely populated coastal strip and have grave consequences for the country's economy, agriculture and industry. Combined with growing demographic pressures, a significant rise in sea levels could turn millions of Egyptians into environmental refugees by the end of the 21st century, according to some climate experts.[135][136]\")"
            ]
          },
          "metadata": {},
          "execution_count": 153
        }
      ]
    },
    {
      "cell_type": "code",
      "source": [
        "unrelated_question = \"What is the capital of Japan.\""
      ],
      "metadata": {
        "id": "ZluG2YCjsxbu"
      },
      "execution_count": null,
      "outputs": []
    },
    {
      "cell_type": "code",
      "source": [
        "result = qa_chain({\"query\": unrelated_question})"
      ],
      "metadata": {
        "id": "vLGKtP-Os5KF"
      },
      "execution_count": null,
      "outputs": []
    },
    {
      "cell_type": "code",
      "source": [
        "result[\"result\"]"
      ],
      "metadata": {
        "colab": {
          "base_uri": "https://localhost:8080/",
          "height": 35
        },
        "id": "xCjVAK9Vs9f0",
        "outputId": "b1eaee53-02a7-4193-e6d8-febaf0bb2b81"
      },
      "execution_count": null,
      "outputs": [
        {
          "output_type": "execute_result",
          "data": {
            "text/plain": [
              "'This question cannot be answered from the given source. Thanks for asking!\\n'"
            ],
            "application/vnd.google.colaboratory.intrinsic+json": {
              "type": "string"
            }
          },
          "metadata": {},
          "execution_count": 158
        }
      ]
    },
    {
      "cell_type": "markdown",
      "source": [
        "## RetrievalQA chain types.\n",
        "\n",
        "As the documents retrieved from the vector store may be large such that it is bigger than the context window of the model. So there are some techniques to moderate these documents before entering to the model.\n",
        "\n",
        "Some of the techniques are: (map reduce, refine, map rerank)\n",
        "\n",
        "![Picture](https://miro.medium.com/v2/resize:fit:1400/1*ATLDF3UAPoMy3UOvzS2g5g.png)\n",
        "\n"
      ],
      "metadata": {
        "id": "bmLiZzn-tPQk"
      }
    },
    {
      "cell_type": "markdown",
      "source": [
        "#### map reduce"
      ],
      "metadata": {
        "id": "9CmZA8IswbNK"
      }
    },
    {
      "cell_type": "code",
      "source": [
        "qa_chain_mr = RetrievalQA.from_chain_type(\n",
        "    llm,\n",
        "    retriever=vector_store.as_retriever(),\n",
        "    chain_type=\"map_reduce\"\n",
        ")\n",
        "\n",
        "# result = qa_chain_mr({\"query\": question})  # It takes more time.\n",
        "\n",
        "# result[\"result\"]\n",
        "\n",
        "# If you use gemini with no pricing plan, it will tell you \"Resource has been exausted\" becaues the\n",
        "# 'map reduce' technique induces the model many consequet times and this is not allowed in the free version\n",
        "# of the gemini models."
      ],
      "metadata": {
        "id": "HPCnFI1aviCl"
      },
      "execution_count": null,
      "outputs": []
    },
    {
      "cell_type": "markdown",
      "source": [
        "#### refine reduce"
      ],
      "metadata": {
        "id": "XXh1qTfTwdka"
      }
    },
    {
      "cell_type": "code",
      "source": [
        "qa_chain_mr = RetrievalQA.from_chain_type(\n",
        "    llm,\n",
        "    retriever=vector_store.as_retriever(),\n",
        "    chain_type=\"refine\"\n",
        ")\n",
        "\n",
        "\n",
        "# result = qa_chain_mr({\"query\": question})\n",
        "# result[\"result\"]\n",
        "\n",
        "# If you use gemini with no pricing plan, it will tell you \"Resource has been exausted\" becaues the\n",
        "# 'refine' technique induces the model many consequet times and this is not allowed in the free version\n",
        "# of the gemini models."
      ],
      "metadata": {
        "id": "YoRR9unUvnY3"
      },
      "execution_count": null,
      "outputs": []
    },
    {
      "cell_type": "code",
      "source": [],
      "metadata": {
        "id": "dlErS0rBwruW"
      },
      "execution_count": null,
      "outputs": []
    },
    {
      "cell_type": "markdown",
      "source": [
        "#### RetrievalQA limitations.\n",
        "\n",
        "It doesn't have memory."
      ],
      "metadata": {
        "id": "Lrrvw0avw3G9"
      }
    },
    {
      "cell_type": "code",
      "source": [
        "qa_chain = RetrievalQA.from_chain_type(\n",
        "    llm,\n",
        "    retriever=vector_store.as_retriever()\n",
        ")"
      ],
      "metadata": {
        "id": "0zYiHt1Mw9AA"
      },
      "execution_count": null,
      "outputs": []
    },
    {
      "cell_type": "code",
      "source": [
        "question = \"What is the weather in Egypt\"\n",
        "result = qa_chain({\"query\": question})\n",
        "result[\"result\"]"
      ],
      "metadata": {
        "colab": {
          "base_uri": "https://localhost:8080/",
          "height": 105
        },
        "id": "5UBIm62nxBos",
        "outputId": "5781080d-56ac-4673-d62c-740b7815174a"
      },
      "execution_count": null,
      "outputs": [
        {
          "output_type": "execute_result",
          "data": {
            "text/plain": [
              "'Egypt has a hot, sunny, and dry climate.  Summers are very hot to extremely hot throughout the country, with slightly more moderate temperatures along the northern coast due to Mediterranean winds.  Most rain falls in the winter months, with the northern coast receiving significantly more rain than the rest of the country.  The south, in particular, receives very little rainfall.  Snow is rare, mostly occurring in the Sinai mountains and some northern coastal cities.\\n'"
            ],
            "application/vnd.google.colaboratory.intrinsic+json": {
              "type": "string"
            }
          },
          "metadata": {},
          "execution_count": 168
        }
      ]
    },
    {
      "cell_type": "code",
      "source": [
        "question = \"Can you summarize the answer you answered before.\"\n",
        "result = qa_chain({\"query\": question})\n",
        "result[\"result\"]\n",
        "\n",
        "# It doesn't remember the last question because it doesn't have memory."
      ],
      "metadata": {
        "colab": {
          "base_uri": "https://localhost:8080/",
          "height": 70
        },
        "id": "9Lir_7aRxGCT",
        "outputId": "dfc227b1-72b6-46a9-ab4d-21ff3f6c49ff"
      },
      "execution_count": null,
      "outputs": [
        {
          "output_type": "execute_result",
          "data": {
            "text/plain": [
              "\"My previous responses discussed the economic and political climate in Saudi Arabia under King Fahd, including limited reforms and the rise of civil unrest, and noted Egypt's economic improvements due to liberal economic policies.  I also mentioned the global expansion of American fast-food chains.\\n\""
            ],
            "application/vnd.google.colaboratory.intrinsic+json": {
              "type": "string"
            }
          },
          "metadata": {},
          "execution_count": 169
        }
      ]
    },
    {
      "cell_type": "code",
      "source": [],
      "metadata": {
        "id": "e4RofOxCxNF0"
      },
      "execution_count": null,
      "outputs": []
    },
    {
      "cell_type": "markdown",
      "source": [
        "# Chat\n",
        "Have a chatting with the model."
      ],
      "metadata": {
        "id": "sI7C7yGV7a_I"
      }
    },
    {
      "cell_type": "code",
      "source": [
        "import os\n",
        "os.environ[\"LANGCHAIN_TRACING_V2\"] = \"true\"\n",
        "os.environ[\"LANGCHAIN_ENDPOINT\"] = \"https://api.langchain.plus\"\n",
        "os.environ[\"LANGCHAIN_API_KEY\"] = \"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\""
      ],
      "metadata": {
        "id": "YDC6QlZc7hOZ"
      },
      "execution_count": null,
      "outputs": []
    },
    {
      "cell_type": "code",
      "source": [
        "question = \"What is the climate in Egypt\"\n",
        "retrieved_docs = vector_store.similarity_search(question,k=3)\n",
        "len(retrieved_docs)"
      ],
      "metadata": {
        "colab": {
          "base_uri": "https://localhost:8080/"
        },
        "id": "O9cFBamZ8QIm",
        "outputId": "97b4d173-8e66-47e1-8db3-ae3d8a916cc2"
      },
      "execution_count": null,
      "outputs": [
        {
          "output_type": "execute_result",
          "data": {
            "text/plain": [
              "3"
            ]
          },
          "metadata": {},
          "execution_count": 172
        }
      ]
    },
    {
      "cell_type": "code",
      "source": [
        "from langchain_google_genai import ChatGoogleGenerativeAI\n",
        "llm = ChatGoogleGenerativeAI(model=\"gemini-1.5-pro-latest\")\n",
        "llm.predict(\"Hello world!\")"
      ],
      "metadata": {
        "colab": {
          "base_uri": "https://localhost:8080/",
          "height": 35
        },
        "id": "XsL7Hgip8bLl",
        "outputId": "cce2376e-462f-4348-9930-346c0edb5d87"
      },
      "execution_count": null,
      "outputs": [
        {
          "output_type": "execute_result",
          "data": {
            "text/plain": [
              "'Hello back! How can I help you today?\\n'"
            ],
            "application/vnd.google.colaboratory.intrinsic+json": {
              "type": "string"
            }
          },
          "metadata": {},
          "execution_count": 180
        }
      ]
    },
    {
      "cell_type": "code",
      "source": [
        "# Build prompt\n",
        "from langchain.prompts import PromptTemplate\n",
        "template = \"\"\"Use the following pieces of context to answer the question at the end. If you don't know the answer, just say that you don't know, don't try to make up an answer. Use three sentences maximum. Keep the answer as concise as possible. Always say \"thanks for asking!\" at the end of the answer.\n",
        "{context}\n",
        "Question: {question}\n",
        "Helpful Answer:\"\"\"\n",
        "QA_CHAIN_PROMPT = PromptTemplate(input_variables=[\"context\", \"question\"],template=template,)\n",
        "\n",
        "# Run chain\n",
        "from langchain.chains import RetrievalQA\n",
        "question = \"What is the climate in Egypt?\"\n",
        "qa_chain = RetrievalQA.from_chain_type(llm,\n",
        "    retriever=vector_store.as_retriever(),\n",
        "    return_source_documents=True,\n",
        "    chain_type_kwargs={\"prompt\": QA_CHAIN_PROMPT})\n",
        "\n",
        "\n",
        "result = qa_chain({\"query\": question})\n",
        "result[\"result\"]"
      ],
      "metadata": {
        "colab": {
          "base_uri": "https://localhost:8080/",
          "height": 53
        },
        "id": "KzFTERoS8jvx",
        "outputId": "cf858c94-9576-419b-de2b-e10f3455e0bf"
      },
      "execution_count": null,
      "outputs": [
        {
          "output_type": "execute_result",
          "data": {
            "text/plain": [
              "'Egypt has a hot, sunny, and dry climate.  Rainfall is scarce, especially in the south, but can reach higher levels on the northern coast.  The Khamaseen, a hot, dry wind, brings scorching temperatures and low humidity in spring and early summer. Thanks for asking!\\n'"
            ],
            "application/vnd.google.colaboratory.intrinsic+json": {
              "type": "string"
            }
          },
          "metadata": {},
          "execution_count": 181
        }
      ]
    },
    {
      "cell_type": "code",
      "source": [
        "vector_store._collection.count()"
      ],
      "metadata": {
        "colab": {
          "base_uri": "https://localhost:8080/"
        },
        "id": "5mTIRWEk8sbM",
        "outputId": "557687a4-1137-42e2-bf76-a12dadd58b0d"
      },
      "execution_count": null,
      "outputs": [
        {
          "output_type": "execute_result",
          "data": {
            "text/plain": [
              "456"
            ]
          },
          "metadata": {},
          "execution_count": 182
        }
      ]
    },
    {
      "cell_type": "code",
      "source": [
        "from langchain.memory import ConversationBufferMemory\n",
        "memory = ConversationBufferMemory(\n",
        "    memory_key=\"chat_history\",\n",
        "    return_messages=True\n",
        ")"
      ],
      "metadata": {
        "id": "GU6R1TAy9IBW"
      },
      "execution_count": null,
      "outputs": []
    },
    {
      "cell_type": "code",
      "source": [
        "from langchain.chains import ConversationalRetrievalChain\n",
        "retriever=vector_store.as_retriever()\n",
        "qa = ConversationalRetrievalChain.from_llm(\n",
        "    llm,\n",
        "    retriever=retriever,\n",
        "    memory=memory\n",
        ")"
      ],
      "metadata": {
        "id": "xK1196tb9Rrp"
      },
      "execution_count": null,
      "outputs": []
    },
    {
      "cell_type": "code",
      "source": [
        "result = qa({\"question\": question})"
      ],
      "metadata": {
        "id": "1NZ8-hrz9VyL"
      },
      "execution_count": null,
      "outputs": []
    },
    {
      "cell_type": "code",
      "source": [
        "result['answer']"
      ],
      "metadata": {
        "colab": {
          "base_uri": "https://localhost:8080/",
          "height": 87
        },
        "id": "5-b5nri-9X2W",
        "outputId": "d9fe1900-470a-4e5b-851a-f484cd580b49"
      },
      "execution_count": null,
      "outputs": [
        {
          "output_type": "execute_result",
          "data": {
            "text/plain": [
              "\"Egypt has an unusually hot, sunny, and dry climate.  Average high temperatures are high in the north but very to extremely high in the rest of the country during summer. Cooler Mediterranean winds moderate temperatures along the northern coast, especially in summer.  The Khamaseen, a hot, dry wind from the southern deserts, blows in spring or early summer, bringing scorching sand and dust, and temperatures sometimes exceeding 50°C (122°F) in the interior, with humidity dropping to 5% or less.  Most rain falls in the winter months. South of Cairo, rainfall averages a mere 2 to 5 mm (0.1 to 0.2 in) per year, and at intervals of many years.  On a thin strip of the northern coast, rainfall can reach as high as 410 mm (16.1 in). Snow falls on Sinai's mountains and some north coastal cities.\\n\""
            ],
            "application/vnd.google.colaboratory.intrinsic+json": {
              "type": "string"
            }
          },
          "metadata": {},
          "execution_count": 186
        }
      ]
    },
    {
      "cell_type": "code",
      "source": [
        "question = \"I want to summarize the above answer in only two sentments.\"\n",
        "result = qa({\"question\": question})"
      ],
      "metadata": {
        "id": "kJY_7Ynn9jdi"
      },
      "execution_count": null,
      "outputs": []
    },
    {
      "cell_type": "code",
      "source": [
        "result['answer']"
      ],
      "metadata": {
        "colab": {
          "base_uri": "https://localhost:8080/",
          "height": 53
        },
        "id": "RYFGPpIm9pxA",
        "outputId": "a026ed99-fa37-4637-fa97-c52de6a43b3f"
      },
      "execution_count": null,
      "outputs": [
        {
          "output_type": "execute_result",
          "data": {
            "text/plain": [
              "'Egypt has a hot, sunny, and dry climate with high temperatures, especially in the interior.  Cooler Mediterranean winds moderate temperatures along the northern coast, but the Khamaseen wind can bring scorching heat and sandstorms in spring and early summer.\\n'"
            ],
            "application/vnd.google.colaboratory.intrinsic+json": {
              "type": "string"
            }
          },
          "metadata": {},
          "execution_count": 192
        }
      ]
    },
    {
      "cell_type": "markdown",
      "source": [
        "# Creating a final chatbot that works on pdf."
      ],
      "metadata": {
        "id": "MOuCg2es90Em"
      }
    },
    {
      "cell_type": "code",
      "source": [
        "!pip install docarray -q"
      ],
      "metadata": {
        "colab": {
          "base_uri": "https://localhost:8080/"
        },
        "id": "nfK2pvLv_5_O",
        "outputId": "d5d84cb6-2757-4ff6-9df2-68a87f7aaef8"
      },
      "execution_count": null,
      "outputs": [
        {
          "output_type": "stream",
          "name": "stdout",
          "text": [
            "\u001b[?25l   \u001b[90m━━━━━━━━━━━━━━━━━━━━━━━━━━━━━━━━━━━━━━━━\u001b[0m \u001b[32m0.0/270.2 kB\u001b[0m \u001b[31m?\u001b[0m eta \u001b[36m-:--:--\u001b[0m\r\u001b[2K   \u001b[91m━━━━━━━━━━━━━━━━━━━━━━━━━━━━━━━━━━━━━━━\u001b[0m\u001b[90m╺\u001b[0m \u001b[32m266.2/270.2 kB\u001b[0m \u001b[31m11.6 MB/s\u001b[0m eta \u001b[36m0:00:01\u001b[0m\r\u001b[2K   \u001b[90m━━━━━━━━━━━━━━━━━━━━━━━━━━━━━━━━━━━━━━━━\u001b[0m \u001b[32m270.2/270.2 kB\u001b[0m \u001b[31m6.9 MB/s\u001b[0m eta \u001b[36m0:00:00\u001b[0m\n",
            "\u001b[?25h"
          ]
        }
      ]
    },
    {
      "cell_type": "code",
      "source": [
        "!pip install jupyter_bokeh -q"
      ],
      "metadata": {
        "colab": {
          "base_uri": "https://localhost:8080/",
          "height": 1000
        },
        "collapsed": true,
        "id": "wJc4I3UJArsf",
        "outputId": "2fdfacc1-960f-4efc-acd8-fab688344b10"
      },
      "execution_count": null,
      "outputs": [
        {
          "output_type": "stream",
          "name": "stdout",
          "text": [
            "Collecting jupyter_bokeh\n",
            "  Downloading jupyter_bokeh-4.0.5-py3-none-any.whl.metadata (7.1 kB)\n",
            "Requirement already satisfied: bokeh==3.* in /usr/local/lib/python3.10/dist-packages (from jupyter_bokeh) (3.6.1)\n",
            "Collecting ipywidgets==8.* (from jupyter_bokeh)\n",
            "  Downloading ipywidgets-8.1.5-py3-none-any.whl.metadata (2.3 kB)\n",
            "Requirement already satisfied: Jinja2>=2.9 in /usr/local/lib/python3.10/dist-packages (from bokeh==3.*->jupyter_bokeh) (3.1.4)\n",
            "Requirement already satisfied: contourpy>=1.2 in /usr/local/lib/python3.10/dist-packages (from bokeh==3.*->jupyter_bokeh) (1.3.1)\n",
            "Requirement already satisfied: numpy>=1.16 in /usr/local/lib/python3.10/dist-packages (from bokeh==3.*->jupyter_bokeh) (1.26.4)\n",
            "Requirement already satisfied: packaging>=16.8 in /usr/local/lib/python3.10/dist-packages (from bokeh==3.*->jupyter_bokeh) (24.2)\n",
            "Requirement already satisfied: pandas>=1.2 in /usr/local/lib/python3.10/dist-packages (from bokeh==3.*->jupyter_bokeh) (2.2.2)\n",
            "Requirement already satisfied: pillow>=7.1.0 in /usr/local/lib/python3.10/dist-packages (from bokeh==3.*->jupyter_bokeh) (11.0.0)\n",
            "Requirement already satisfied: PyYAML>=3.10 in /usr/local/lib/python3.10/dist-packages (from bokeh==3.*->jupyter_bokeh) (6.0.2)\n",
            "Requirement already satisfied: tornado>=6.2 in /usr/local/lib/python3.10/dist-packages (from bokeh==3.*->jupyter_bokeh) (6.3.3)\n",
            "Requirement already satisfied: xyzservices>=2021.09.1 in /usr/local/lib/python3.10/dist-packages (from bokeh==3.*->jupyter_bokeh) (2024.9.0)\n",
            "Collecting comm>=0.1.3 (from ipywidgets==8.*->jupyter_bokeh)\n",
            "  Downloading comm-0.2.2-py3-none-any.whl.metadata (3.7 kB)\n",
            "Requirement already satisfied: ipython>=6.1.0 in /usr/local/lib/python3.10/dist-packages (from ipywidgets==8.*->jupyter_bokeh) (7.34.0)\n",
            "Requirement already satisfied: traitlets>=4.3.1 in /usr/local/lib/python3.10/dist-packages (from ipywidgets==8.*->jupyter_bokeh) (5.7.1)\n",
            "Collecting widgetsnbextension~=4.0.12 (from ipywidgets==8.*->jupyter_bokeh)\n",
            "  Downloading widgetsnbextension-4.0.13-py3-none-any.whl.metadata (1.6 kB)\n",
            "Requirement already satisfied: jupyterlab-widgets~=3.0.12 in /usr/local/lib/python3.10/dist-packages (from ipywidgets==8.*->jupyter_bokeh) (3.0.13)\n",
            "Requirement already satisfied: setuptools>=18.5 in /usr/local/lib/python3.10/dist-packages (from ipython>=6.1.0->ipywidgets==8.*->jupyter_bokeh) (75.1.0)\n",
            "Collecting jedi>=0.16 (from ipython>=6.1.0->ipywidgets==8.*->jupyter_bokeh)\n",
            "  Downloading jedi-0.19.2-py2.py3-none-any.whl.metadata (22 kB)\n",
            "Requirement already satisfied: decorator in /usr/local/lib/python3.10/dist-packages (from ipython>=6.1.0->ipywidgets==8.*->jupyter_bokeh) (4.4.2)\n",
            "Requirement already satisfied: pickleshare in /usr/local/lib/python3.10/dist-packages (from ipython>=6.1.0->ipywidgets==8.*->jupyter_bokeh) (0.7.5)\n",
            "Requirement already satisfied: prompt-toolkit!=3.0.0,!=3.0.1,<3.1.0,>=2.0.0 in /usr/local/lib/python3.10/dist-packages (from ipython>=6.1.0->ipywidgets==8.*->jupyter_bokeh) (3.0.48)\n",
            "Requirement already satisfied: pygments in /usr/local/lib/python3.10/dist-packages (from ipython>=6.1.0->ipywidgets==8.*->jupyter_bokeh) (2.18.0)\n",
            "Requirement already satisfied: backcall in /usr/local/lib/python3.10/dist-packages (from ipython>=6.1.0->ipywidgets==8.*->jupyter_bokeh) (0.2.0)\n",
            "Requirement already satisfied: matplotlib-inline in /usr/local/lib/python3.10/dist-packages (from ipython>=6.1.0->ipywidgets==8.*->jupyter_bokeh) (0.1.7)\n",
            "Requirement already satisfied: pexpect>4.3 in /usr/local/lib/python3.10/dist-packages (from ipython>=6.1.0->ipywidgets==8.*->jupyter_bokeh) (4.9.0)\n",
            "Requirement already satisfied: MarkupSafe>=2.0 in /usr/local/lib/python3.10/dist-packages (from Jinja2>=2.9->bokeh==3.*->jupyter_bokeh) (3.0.2)\n",
            "Requirement already satisfied: python-dateutil>=2.8.2 in /usr/local/lib/python3.10/dist-packages (from pandas>=1.2->bokeh==3.*->jupyter_bokeh) (2.8.2)\n",
            "Requirement already satisfied: pytz>=2020.1 in /usr/local/lib/python3.10/dist-packages (from pandas>=1.2->bokeh==3.*->jupyter_bokeh) (2024.2)\n",
            "Requirement already satisfied: tzdata>=2022.7 in /usr/local/lib/python3.10/dist-packages (from pandas>=1.2->bokeh==3.*->jupyter_bokeh) (2024.2)\n",
            "Requirement already satisfied: parso<0.9.0,>=0.8.4 in /usr/local/lib/python3.10/dist-packages (from jedi>=0.16->ipython>=6.1.0->ipywidgets==8.*->jupyter_bokeh) (0.8.4)\n",
            "Requirement already satisfied: ptyprocess>=0.5 in /usr/local/lib/python3.10/dist-packages (from pexpect>4.3->ipython>=6.1.0->ipywidgets==8.*->jupyter_bokeh) (0.7.0)\n",
            "Requirement already satisfied: wcwidth in /usr/local/lib/python3.10/dist-packages (from prompt-toolkit!=3.0.0,!=3.0.1,<3.1.0,>=2.0.0->ipython>=6.1.0->ipywidgets==8.*->jupyter_bokeh) (0.2.13)\n",
            "Requirement already satisfied: six>=1.5 in /usr/local/lib/python3.10/dist-packages (from python-dateutil>=2.8.2->pandas>=1.2->bokeh==3.*->jupyter_bokeh) (1.16.0)\n",
            "Downloading jupyter_bokeh-4.0.5-py3-none-any.whl (148 kB)\n",
            "\u001b[2K   \u001b[90m━━━━━━━━━━━━━━━━━━━━━━━━━━━━━━━━━━━━━━━━\u001b[0m \u001b[32m148.6/148.6 kB\u001b[0m \u001b[31m4.5 MB/s\u001b[0m eta \u001b[36m0:00:00\u001b[0m\n",
            "\u001b[?25hDownloading ipywidgets-8.1.5-py3-none-any.whl (139 kB)\n",
            "\u001b[2K   \u001b[90m━━━━━━━━━━━━━━━━━━━━━━━━━━━━━━━━━━━━━━━━\u001b[0m \u001b[32m139.8/139.8 kB\u001b[0m \u001b[31m8.9 MB/s\u001b[0m eta \u001b[36m0:00:00\u001b[0m\n",
            "\u001b[?25hDownloading comm-0.2.2-py3-none-any.whl (7.2 kB)\n",
            "Downloading widgetsnbextension-4.0.13-py3-none-any.whl (2.3 MB)\n",
            "\u001b[2K   \u001b[90m━━━━━━━━━━━━━━━━━━━━━━━━━━━━━━━━━━━━━━━━\u001b[0m \u001b[32m2.3/2.3 MB\u001b[0m \u001b[31m38.4 MB/s\u001b[0m eta \u001b[36m0:00:00\u001b[0m\n",
            "\u001b[?25hDownloading jedi-0.19.2-py2.py3-none-any.whl (1.6 MB)\n",
            "\u001b[2K   \u001b[90m━━━━━━━━━━━━━━━━━━━━━━━━━━━━━━━━━━━━━━━━\u001b[0m \u001b[32m1.6/1.6 MB\u001b[0m \u001b[31m54.5 MB/s\u001b[0m eta \u001b[36m0:00:00\u001b[0m\n",
            "\u001b[?25hInstalling collected packages: widgetsnbextension, jedi, comm, ipywidgets, jupyter_bokeh\n",
            "  Attempting uninstall: widgetsnbextension\n",
            "    Found existing installation: widgetsnbextension 3.6.10\n",
            "    Uninstalling widgetsnbextension-3.6.10:\n",
            "      Successfully uninstalled widgetsnbextension-3.6.10\n",
            "  Attempting uninstall: ipywidgets\n",
            "    Found existing installation: ipywidgets 7.7.1\n",
            "    Uninstalling ipywidgets-7.7.1:\n",
            "      Successfully uninstalled ipywidgets-7.7.1\n",
            "Successfully installed comm-0.2.2 ipywidgets-8.1.5 jedi-0.19.2 jupyter_bokeh-4.0.5 widgetsnbextension-4.0.13\n"
          ]
        },
        {
          "output_type": "display_data",
          "data": {
            "application/vnd.colab-display-data+json": {
              "pip_warning": {
                "packages": [
                  "ipywidgets"
                ]
              },
              "id": "fe186e5261f24ad499d79e034a4dfa0e"
            }
          },
          "metadata": {}
        }
      ]
    },
    {
      "cell_type": "code",
      "source": [
        "from langchain_google_genai import GoogleGenerativeAIEmbeddings\n",
        "from langchain.text_splitter import CharacterTextSplitter, RecursiveCharacterTextSplitter\n",
        "from langchain.vectorstores import DocArrayInMemorySearch\n",
        "from langchain.document_loaders import TextLoader\n",
        "from langchain.chains import RetrievalQA,  ConversationalRetrievalChain\n",
        "from langchain.memory import ConversationBufferMemory\n",
        "from langchain_google_genai import ChatGoogleGenerativeAI\n",
        "from langchain.document_loaders import TextLoader\n",
        "from langchain.document_loaders import PyPDFLoader"
      ],
      "metadata": {
        "id": "s66cyjWa94sF"
      },
      "execution_count": null,
      "outputs": []
    },
    {
      "cell_type": "code",
      "source": [
        "def load_db(file, chain_type, k):\n",
        "    # load documents\n",
        "    loader = PyPDFLoader(file)\n",
        "    documents = loader.load()\n",
        "    # split documents\n",
        "    text_splitter = RecursiveCharacterTextSplitter(chunk_size=1000, chunk_overlap=150)\n",
        "    docs = text_splitter.split_documents(documents)\n",
        "    # define embedding\n",
        "    embeddings = GoogleGenerativeAIEmbeddings(model=\"models/embedding-001\")\n",
        "    # create vector database from data\n",
        "    db = DocArrayInMemorySearch.from_documents(docs, embeddings)\n",
        "    # define retriever\n",
        "    retriever = db.as_retriever(search_type=\"similarity\", search_kwargs={\"k\": k})\n",
        "    # create a chatbot chain. Memory is managed externally.\n",
        "    qa = ConversationalRetrievalChain.from_llm(\n",
        "        llm=ChatGoogleGenerativeAI(model = \"gemini-1.5-pro-latest\", temperature=0),\n",
        "        chain_type=chain_type,\n",
        "        retriever=retriever,\n",
        "        return_source_documents=True,\n",
        "        return_generated_question=True,\n",
        "    )\n",
        "    return qa\n"
      ],
      "metadata": {
        "id": "oAFGSKiA-JOe"
      },
      "execution_count": null,
      "outputs": []
    },
    {
      "cell_type": "code",
      "source": [
        "import panel as pn\n",
        "import param\n",
        "\n",
        "class cbfs(param.Parameterized):\n",
        "    chat_history = param.List([])\n",
        "    answer = param.String(\"\")\n",
        "    db_query  = param.String(\"\")\n",
        "    db_response = param.List([])\n",
        "\n",
        "    def __init__(self,  **params):\n",
        "        super(cbfs, self).__init__( **params)\n",
        "        self.panels = []\n",
        "        self.loaded_file = \"/content/Our_Research (4).pdf\"\n",
        "        self.qa = load_db(self.loaded_file,\"stuff\", 4)\n",
        "\n",
        "    def call_load_db(self, count):\n",
        "        if count == 0 or file_input.value is None:  # init or no file specified :\n",
        "            return pn.pane.Markdown(f\"Loaded File: {self.loaded_file}\")\n",
        "        else:\n",
        "            file_input.save(\"temp.pdf\")  # local copy\n",
        "            self.loaded_file = file_input.filename\n",
        "            button_load.button_style=\"outline\"\n",
        "            self.qa = load_db(\"temp.pdf\", \"stuff\", 4)\n",
        "            button_load.button_style=\"solid\"\n",
        "        self.clr_history()\n",
        "        return pn.pane.Markdown(f\"Loaded File: {self.loaded_file}\")\n",
        "\n",
        "    def convchain(self, query):\n",
        "        if not query:\n",
        "            return pn.WidgetBox(pn.Row('User:', pn.pane.Markdown(\"\", width=600)), scroll=True)\n",
        "        result = self.qa({\"question\": query, \"chat_history\": self.chat_history})\n",
        "        self.chat_history.extend([(query, result[\"answer\"])])\n",
        "        self.db_query = result[\"generated_question\"]\n",
        "        self.db_response = result[\"source_documents\"]\n",
        "        self.answer = result['answer']\n",
        "        self.panels.extend([\n",
        "            pn.Row('User:', pn.pane.Markdown(query, width=600)),\n",
        "            pn.Row('ChatBot:', pn.pane.Markdown(self.answer, width=600, style={'background-color': '#F6F6F6'}))\n",
        "        ])\n",
        "        inp.value = ''  #clears loading indicator when cleared\n",
        "        return pn.WidgetBox(*self.panels,scroll=True)\n",
        "\n",
        "    @param.depends('db_query ', )\n",
        "    def get_lquest(self):\n",
        "        if not self.db_query :\n",
        "            return pn.Column(\n",
        "                pn.Row(pn.pane.Markdown(f\"Last question to DB:\", styles={'background-color': '#F6F6F6'})),\n",
        "                pn.Row(pn.pane.Str(\"no DB accesses so far\"))\n",
        "            )\n",
        "        return pn.Column(\n",
        "            pn.Row(pn.pane.Markdown(f\"DB query:\", styles={'background-color': '#F6F6F6'})),\n",
        "            pn.pane.Str(self.db_query )\n",
        "        )\n",
        "\n",
        "    @param.depends('db_response', )\n",
        "    def get_sources(self):\n",
        "        if not self.db_response:\n",
        "            return\n",
        "        rlist=[pn.Row(pn.pane.Markdown(f\"Result of DB lookup:\", styles={'background-color': '#F6F6F6'}))]\n",
        "        for doc in self.db_response:\n",
        "            rlist.append(pn.Row(pn.pane.Str(doc)))\n",
        "        return pn.WidgetBox(*rlist, width=600, scroll=True)\n",
        "\n",
        "    @param.depends('convchain', 'clr_history')\n",
        "    def get_chats(self):\n",
        "        if not self.chat_history:\n",
        "            return pn.WidgetBox(pn.Row(pn.pane.Str(\"No History Yet\")), width=600, scroll=True)\n",
        "        rlist=[pn.Row(pn.pane.Markdown(f\"Current Chat History variable\", styles={'background-color': '#F6F6F6'}))]\n",
        "        for exchange in self.chat_history:\n",
        "            rlist.append(pn.Row(pn.pane.Str(exchange)))\n",
        "        return pn.WidgetBox(*rlist, width=600, scroll=True)\n",
        "\n",
        "    def clr_history(self,count=0):\n",
        "        self.chat_history = []\n",
        "        return\n"
      ],
      "metadata": {
        "id": "kX5SXyQp-vjF"
      },
      "execution_count": null,
      "outputs": []
    },
    {
      "cell_type": "code",
      "source": [
        "import panel as pn\n",
        "pn.extension()"
      ],
      "metadata": {
        "colab": {
          "base_uri": "https://localhost:8080/",
          "height": 17
        },
        "id": "5820gXobAOnq",
        "outputId": "88188eb7-9d5d-463f-c044-4ab9917dd2b8"
      },
      "execution_count": null,
      "outputs": [
        {
          "output_type": "display_data",
          "data": {
            "text/html": [
              "<script type=\"esms-options\">{\"shimMode\": true}</script><style>*[data-root-id],\n",
              "*[data-root-id] > * {\n",
              "  box-sizing: border-box;\n",
              "  font-family: var(--jp-ui-font-family);\n",
              "  font-size: var(--jp-ui-font-size1);\n",
              "  color: var(--vscode-editor-foreground, var(--jp-ui-font-color1));\n",
              "}\n",
              "\n",
              "/* Override VSCode background color */\n",
              ".cell-output-ipywidget-background:has(\n",
              "    > .cell-output-ipywidget-background > .lm-Widget > *[data-root-id]\n",
              "  ),\n",
              ".cell-output-ipywidget-background:has(> .lm-Widget > *[data-root-id]) {\n",
              "  background-color: transparent !important;\n",
              "}\n",
              "</style>"
            ]
          },
          "metadata": {}
        },
        {
          "output_type": "display_data",
          "data": {
            "application/javascript": [
              "(function(root) {\n",
              "  function now() {\n",
              "    return new Date();\n",
              "  }\n",
              "\n",
              "  const force = true;\n",
              "  const py_version = '3.6.1'.replace('rc', '-rc.').replace('.dev', '-dev.');\n",
              "  const reloading = false;\n",
              "  const Bokeh = root.Bokeh;\n",
              "\n",
              "  // Set a timeout for this load but only if we are not already initializing\n",
              "  if (typeof (root._bokeh_timeout) === \"undefined\" || (force || !root._bokeh_is_initializing)) {\n",
              "    root._bokeh_timeout = Date.now() + 5000;\n",
              "    root._bokeh_failed_load = false;\n",
              "  }\n",
              "\n",
              "  function run_callbacks() {\n",
              "    try {\n",
              "      root._bokeh_onload_callbacks.forEach(function(callback) {\n",
              "        if (callback != null)\n",
              "          callback();\n",
              "      });\n",
              "    } finally {\n",
              "      delete root._bokeh_onload_callbacks;\n",
              "    }\n",
              "    console.debug(\"Bokeh: all callbacks have finished\");\n",
              "  }\n",
              "\n",
              "  function load_libs(css_urls, js_urls, js_modules, js_exports, callback) {\n",
              "    if (css_urls == null) css_urls = [];\n",
              "    if (js_urls == null) js_urls = [];\n",
              "    if (js_modules == null) js_modules = [];\n",
              "    if (js_exports == null) js_exports = {};\n",
              "\n",
              "    root._bokeh_onload_callbacks.push(callback);\n",
              "\n",
              "    if (root._bokeh_is_loading > 0) {\n",
              "      // Don't load bokeh if it is still initializing\n",
              "      console.debug(\"Bokeh: BokehJS is being loaded, scheduling callback at\", now());\n",
              "      return null;\n",
              "    } else if (js_urls.length === 0 && js_modules.length === 0 && Object.keys(js_exports).length === 0) {\n",
              "      // There is nothing to load\n",
              "      run_callbacks();\n",
              "      return null;\n",
              "    }\n",
              "\n",
              "    function on_load() {\n",
              "      root._bokeh_is_loading--;\n",
              "      if (root._bokeh_is_loading === 0) {\n",
              "        console.debug(\"Bokeh: all BokehJS libraries/stylesheets loaded\");\n",
              "        run_callbacks()\n",
              "      }\n",
              "    }\n",
              "    window._bokeh_on_load = on_load\n",
              "\n",
              "    function on_error(e) {\n",
              "      const src_el = e.srcElement\n",
              "      console.error(\"failed to load \" + (src_el.href || src_el.src));\n",
              "    }\n",
              "\n",
              "    const skip = [];\n",
              "    if (window.requirejs) {\n",
              "      window.requirejs.config({'packages': {}, 'paths': {}, 'shim': {}});\n",
              "      root._bokeh_is_loading = css_urls.length + 0;\n",
              "    } else {\n",
              "      root._bokeh_is_loading = css_urls.length + js_urls.length + js_modules.length + Object.keys(js_exports).length;\n",
              "    }\n",
              "\n",
              "    const existing_stylesheets = []\n",
              "    const links = document.getElementsByTagName('link')\n",
              "    for (let i = 0; i < links.length; i++) {\n",
              "      const link = links[i]\n",
              "      if (link.href != null) {\n",
              "        existing_stylesheets.push(link.href)\n",
              "      }\n",
              "    }\n",
              "    for (let i = 0; i < css_urls.length; i++) {\n",
              "      const url = css_urls[i];\n",
              "      const escaped = encodeURI(url)\n",
              "      if (existing_stylesheets.indexOf(escaped) !== -1) {\n",
              "        on_load()\n",
              "        continue;\n",
              "      }\n",
              "      const element = document.createElement(\"link\");\n",
              "      element.onload = on_load;\n",
              "      element.onerror = on_error;\n",
              "      element.rel = \"stylesheet\";\n",
              "      element.type = \"text/css\";\n",
              "      element.href = url;\n",
              "      console.debug(\"Bokeh: injecting link tag for BokehJS stylesheet: \", url);\n",
              "      document.body.appendChild(element);\n",
              "    }    var existing_scripts = []\n",
              "    const scripts = document.getElementsByTagName('script')\n",
              "    for (let i = 0; i < scripts.length; i++) {\n",
              "      var script = scripts[i]\n",
              "      if (script.src != null) {\n",
              "        existing_scripts.push(script.src)\n",
              "      }\n",
              "    }\n",
              "    for (let i = 0; i < js_urls.length; i++) {\n",
              "      const url = js_urls[i];\n",
              "      const escaped = encodeURI(url)\n",
              "      if (skip.indexOf(escaped) !== -1 || existing_scripts.indexOf(escaped) !== -1) {\n",
              "        if (!window.requirejs) {\n",
              "          on_load();\n",
              "        }\n",
              "        continue;\n",
              "      }\n",
              "      const element = document.createElement('script');\n",
              "      element.onload = on_load;\n",
              "      element.onerror = on_error;\n",
              "      element.async = false;\n",
              "      element.src = url;\n",
              "      console.debug(\"Bokeh: injecting script tag for BokehJS library: \", url);\n",
              "      document.head.appendChild(element);\n",
              "    }\n",
              "    for (let i = 0; i < js_modules.length; i++) {\n",
              "      const url = js_modules[i];\n",
              "      const escaped = encodeURI(url)\n",
              "      if (skip.indexOf(escaped) !== -1 || existing_scripts.indexOf(escaped) !== -1) {\n",
              "        if (!window.requirejs) {\n",
              "          on_load();\n",
              "        }\n",
              "        continue;\n",
              "      }\n",
              "      var element = document.createElement('script');\n",
              "      element.onload = on_load;\n",
              "      element.onerror = on_error;\n",
              "      element.async = false;\n",
              "      element.src = url;\n",
              "      element.type = \"module\";\n",
              "      console.debug(\"Bokeh: injecting script tag for BokehJS library: \", url);\n",
              "      document.head.appendChild(element);\n",
              "    }\n",
              "    for (const name in js_exports) {\n",
              "      const url = js_exports[name];\n",
              "      const escaped = encodeURI(url)\n",
              "      if (skip.indexOf(escaped) >= 0 || root[name] != null) {\n",
              "        if (!window.requirejs) {\n",
              "          on_load();\n",
              "        }\n",
              "        continue;\n",
              "      }\n",
              "      var element = document.createElement('script');\n",
              "      element.onerror = on_error;\n",
              "      element.async = false;\n",
              "      element.type = \"module\";\n",
              "      console.debug(\"Bokeh: injecting script tag for BokehJS library: \", url);\n",
              "      element.textContent = `\n",
              "      import ${name} from \"${url}\"\n",
              "      window.${name} = ${name}\n",
              "      window._bokeh_on_load()\n",
              "      `\n",
              "      document.head.appendChild(element);\n",
              "    }\n",
              "    if (!js_urls.length && !js_modules.length) {\n",
              "      on_load()\n",
              "    }\n",
              "  };\n",
              "\n",
              "  function inject_raw_css(css) {\n",
              "    const element = document.createElement(\"style\");\n",
              "    element.appendChild(document.createTextNode(css));\n",
              "    document.body.appendChild(element);\n",
              "  }\n",
              "\n",
              "  const js_urls = [\"https://cdn.holoviz.org/panel/1.5.4/dist/bundled/reactiveesm/es-module-shims@^1.10.0/dist/es-module-shims.min.js\", \"https://cdn.bokeh.org/bokeh/release/bokeh-3.6.1.min.js\", \"https://cdn.bokeh.org/bokeh/release/bokeh-gl-3.6.1.min.js\", \"https://cdn.bokeh.org/bokeh/release/bokeh-widgets-3.6.1.min.js\", \"https://cdn.bokeh.org/bokeh/release/bokeh-tables-3.6.1.min.js\", \"https://cdn.holoviz.org/panel/1.5.4/dist/panel.min.js\"];\n",
              "  const js_modules = [];\n",
              "  const js_exports = {};\n",
              "  const css_urls = [];\n",
              "  const inline_js = [    function(Bokeh) {\n",
              "      Bokeh.set_log_level(\"info\");\n",
              "    },\n",
              "function(Bokeh) {} // ensure no trailing comma for IE\n",
              "  ];\n",
              "\n",
              "  function run_inline_js() {\n",
              "    if ((root.Bokeh !== undefined) || (force === true)) {\n",
              "      for (let i = 0; i < inline_js.length; i++) {\n",
              "        try {\n",
              "          inline_js[i].call(root, root.Bokeh);\n",
              "        } catch(e) {\n",
              "          if (!reloading) {\n",
              "            throw e;\n",
              "          }\n",
              "        }\n",
              "      }\n",
              "      // Cache old bokeh versions\n",
              "      if (Bokeh != undefined && !reloading) {\n",
              "        var NewBokeh = root.Bokeh;\n",
              "        if (Bokeh.versions === undefined) {\n",
              "          Bokeh.versions = new Map();\n",
              "        }\n",
              "        if (NewBokeh.version !== Bokeh.version) {\n",
              "          Bokeh.versions.set(NewBokeh.version, NewBokeh)\n",
              "        }\n",
              "        root.Bokeh = Bokeh;\n",
              "      }\n",
              "    } else if (Date.now() < root._bokeh_timeout) {\n",
              "      setTimeout(run_inline_js, 100);\n",
              "    } else if (!root._bokeh_failed_load) {\n",
              "      console.log(\"Bokeh: BokehJS failed to load within specified timeout.\");\n",
              "      root._bokeh_failed_load = true;\n",
              "    }\n",
              "    root._bokeh_is_initializing = false\n",
              "  }\n",
              "\n",
              "  function load_or_wait() {\n",
              "    // Implement a backoff loop that tries to ensure we do not load multiple\n",
              "    // versions of Bokeh and its dependencies at the same time.\n",
              "    // In recent versions we use the root._bokeh_is_initializing flag\n",
              "    // to determine whether there is an ongoing attempt to initialize\n",
              "    // bokeh, however for backward compatibility we also try to ensure\n",
              "    // that we do not start loading a newer (Panel>=1.0 and Bokeh>3) version\n",
              "    // before older versions are fully initialized.\n",
              "    if (root._bokeh_is_initializing && Date.now() > root._bokeh_timeout) {\n",
              "      // If the timeout and bokeh was not successfully loaded we reset\n",
              "      // everything and try loading again\n",
              "      root._bokeh_timeout = Date.now() + 5000;\n",
              "      root._bokeh_is_initializing = false;\n",
              "      root._bokeh_onload_callbacks = undefined;\n",
              "      root._bokeh_is_loading = 0\n",
              "      console.log(\"Bokeh: BokehJS was loaded multiple times but one version failed to initialize.\");\n",
              "      load_or_wait();\n",
              "    } else if (root._bokeh_is_initializing || (typeof root._bokeh_is_initializing === \"undefined\" && root._bokeh_onload_callbacks !== undefined)) {\n",
              "      setTimeout(load_or_wait, 100);\n",
              "    } else {\n",
              "      root._bokeh_is_initializing = true\n",
              "      root._bokeh_onload_callbacks = []\n",
              "      const bokeh_loaded = root.Bokeh != null && (root.Bokeh.version === py_version || (root.Bokeh.versions !== undefined && root.Bokeh.versions.has(py_version)));\n",
              "      if (!reloading && !bokeh_loaded) {\n",
              "        if (root.Bokeh) {\n",
              "          root.Bokeh = undefined;\n",
              "        }\n",
              "        console.debug(\"Bokeh: BokehJS not loaded, scheduling load and callback at\", now());\n",
              "      }\n",
              "      load_libs(css_urls, js_urls, js_modules, js_exports, function() {\n",
              "        console.debug(\"Bokeh: BokehJS plotting callback run at\", now());\n",
              "        run_inline_js();\n",
              "      });\n",
              "    }\n",
              "  }\n",
              "  // Give older versions of the autoload script a head-start to ensure\n",
              "  // they initialize before we start loading newer version.\n",
              "  setTimeout(load_or_wait, 100)\n",
              "}(window));"
            ],
            "application/vnd.holoviews_load.v0+json": "(function(root) {\n  function now() {\n    return new Date();\n  }\n\n  const force = true;\n  const py_version = '3.6.1'.replace('rc', '-rc.').replace('.dev', '-dev.');\n  const reloading = false;\n  const Bokeh = root.Bokeh;\n\n  // Set a timeout for this load but only if we are not already initializing\n  if (typeof (root._bokeh_timeout) === \"undefined\" || (force || !root._bokeh_is_initializing)) {\n    root._bokeh_timeout = Date.now() + 5000;\n    root._bokeh_failed_load = false;\n  }\n\n  function run_callbacks() {\n    try {\n      root._bokeh_onload_callbacks.forEach(function(callback) {\n        if (callback != null)\n          callback();\n      });\n    } finally {\n      delete root._bokeh_onload_callbacks;\n    }\n    console.debug(\"Bokeh: all callbacks have finished\");\n  }\n\n  function load_libs(css_urls, js_urls, js_modules, js_exports, callback) {\n    if (css_urls == null) css_urls = [];\n    if (js_urls == null) js_urls = [];\n    if (js_modules == null) js_modules = [];\n    if (js_exports == null) js_exports = {};\n\n    root._bokeh_onload_callbacks.push(callback);\n\n    if (root._bokeh_is_loading > 0) {\n      // Don't load bokeh if it is still initializing\n      console.debug(\"Bokeh: BokehJS is being loaded, scheduling callback at\", now());\n      return null;\n    } else if (js_urls.length === 0 && js_modules.length === 0 && Object.keys(js_exports).length === 0) {\n      // There is nothing to load\n      run_callbacks();\n      return null;\n    }\n\n    function on_load() {\n      root._bokeh_is_loading--;\n      if (root._bokeh_is_loading === 0) {\n        console.debug(\"Bokeh: all BokehJS libraries/stylesheets loaded\");\n        run_callbacks()\n      }\n    }\n    window._bokeh_on_load = on_load\n\n    function on_error(e) {\n      const src_el = e.srcElement\n      console.error(\"failed to load \" + (src_el.href || src_el.src));\n    }\n\n    const skip = [];\n    if (window.requirejs) {\n      window.requirejs.config({'packages': {}, 'paths': {}, 'shim': {}});\n      root._bokeh_is_loading = css_urls.length + 0;\n    } else {\n      root._bokeh_is_loading = css_urls.length + js_urls.length + js_modules.length + Object.keys(js_exports).length;\n    }\n\n    const existing_stylesheets = []\n    const links = document.getElementsByTagName('link')\n    for (let i = 0; i < links.length; i++) {\n      const link = links[i]\n      if (link.href != null) {\n        existing_stylesheets.push(link.href)\n      }\n    }\n    for (let i = 0; i < css_urls.length; i++) {\n      const url = css_urls[i];\n      const escaped = encodeURI(url)\n      if (existing_stylesheets.indexOf(escaped) !== -1) {\n        on_load()\n        continue;\n      }\n      const element = document.createElement(\"link\");\n      element.onload = on_load;\n      element.onerror = on_error;\n      element.rel = \"stylesheet\";\n      element.type = \"text/css\";\n      element.href = url;\n      console.debug(\"Bokeh: injecting link tag for BokehJS stylesheet: \", url);\n      document.body.appendChild(element);\n    }    var existing_scripts = []\n    const scripts = document.getElementsByTagName('script')\n    for (let i = 0; i < scripts.length; i++) {\n      var script = scripts[i]\n      if (script.src != null) {\n        existing_scripts.push(script.src)\n      }\n    }\n    for (let i = 0; i < js_urls.length; i++) {\n      const url = js_urls[i];\n      const escaped = encodeURI(url)\n      if (skip.indexOf(escaped) !== -1 || existing_scripts.indexOf(escaped) !== -1) {\n        if (!window.requirejs) {\n          on_load();\n        }\n        continue;\n      }\n      const element = document.createElement('script');\n      element.onload = on_load;\n      element.onerror = on_error;\n      element.async = false;\n      element.src = url;\n      console.debug(\"Bokeh: injecting script tag for BokehJS library: \", url);\n      document.head.appendChild(element);\n    }\n    for (let i = 0; i < js_modules.length; i++) {\n      const url = js_modules[i];\n      const escaped = encodeURI(url)\n      if (skip.indexOf(escaped) !== -1 || existing_scripts.indexOf(escaped) !== -1) {\n        if (!window.requirejs) {\n          on_load();\n        }\n        continue;\n      }\n      var element = document.createElement('script');\n      element.onload = on_load;\n      element.onerror = on_error;\n      element.async = false;\n      element.src = url;\n      element.type = \"module\";\n      console.debug(\"Bokeh: injecting script tag for BokehJS library: \", url);\n      document.head.appendChild(element);\n    }\n    for (const name in js_exports) {\n      const url = js_exports[name];\n      const escaped = encodeURI(url)\n      if (skip.indexOf(escaped) >= 0 || root[name] != null) {\n        if (!window.requirejs) {\n          on_load();\n        }\n        continue;\n      }\n      var element = document.createElement('script');\n      element.onerror = on_error;\n      element.async = false;\n      element.type = \"module\";\n      console.debug(\"Bokeh: injecting script tag for BokehJS library: \", url);\n      element.textContent = `\n      import ${name} from \"${url}\"\n      window.${name} = ${name}\n      window._bokeh_on_load()\n      `\n      document.head.appendChild(element);\n    }\n    if (!js_urls.length && !js_modules.length) {\n      on_load()\n    }\n  };\n\n  function inject_raw_css(css) {\n    const element = document.createElement(\"style\");\n    element.appendChild(document.createTextNode(css));\n    document.body.appendChild(element);\n  }\n\n  const js_urls = [\"https://cdn.holoviz.org/panel/1.5.4/dist/bundled/reactiveesm/es-module-shims@^1.10.0/dist/es-module-shims.min.js\", \"https://cdn.bokeh.org/bokeh/release/bokeh-3.6.1.min.js\", \"https://cdn.bokeh.org/bokeh/release/bokeh-gl-3.6.1.min.js\", \"https://cdn.bokeh.org/bokeh/release/bokeh-widgets-3.6.1.min.js\", \"https://cdn.bokeh.org/bokeh/release/bokeh-tables-3.6.1.min.js\", \"https://cdn.holoviz.org/panel/1.5.4/dist/panel.min.js\"];\n  const js_modules = [];\n  const js_exports = {};\n  const css_urls = [];\n  const inline_js = [    function(Bokeh) {\n      Bokeh.set_log_level(\"info\");\n    },\nfunction(Bokeh) {} // ensure no trailing comma for IE\n  ];\n\n  function run_inline_js() {\n    if ((root.Bokeh !== undefined) || (force === true)) {\n      for (let i = 0; i < inline_js.length; i++) {\n        try {\n          inline_js[i].call(root, root.Bokeh);\n        } catch(e) {\n          if (!reloading) {\n            throw e;\n          }\n        }\n      }\n      // Cache old bokeh versions\n      if (Bokeh != undefined && !reloading) {\n        var NewBokeh = root.Bokeh;\n        if (Bokeh.versions === undefined) {\n          Bokeh.versions = new Map();\n        }\n        if (NewBokeh.version !== Bokeh.version) {\n          Bokeh.versions.set(NewBokeh.version, NewBokeh)\n        }\n        root.Bokeh = Bokeh;\n      }\n    } else if (Date.now() < root._bokeh_timeout) {\n      setTimeout(run_inline_js, 100);\n    } else if (!root._bokeh_failed_load) {\n      console.log(\"Bokeh: BokehJS failed to load within specified timeout.\");\n      root._bokeh_failed_load = true;\n    }\n    root._bokeh_is_initializing = false\n  }\n\n  function load_or_wait() {\n    // Implement a backoff loop that tries to ensure we do not load multiple\n    // versions of Bokeh and its dependencies at the same time.\n    // In recent versions we use the root._bokeh_is_initializing flag\n    // to determine whether there is an ongoing attempt to initialize\n    // bokeh, however for backward compatibility we also try to ensure\n    // that we do not start loading a newer (Panel>=1.0 and Bokeh>3) version\n    // before older versions are fully initialized.\n    if (root._bokeh_is_initializing && Date.now() > root._bokeh_timeout) {\n      // If the timeout and bokeh was not successfully loaded we reset\n      // everything and try loading again\n      root._bokeh_timeout = Date.now() + 5000;\n      root._bokeh_is_initializing = false;\n      root._bokeh_onload_callbacks = undefined;\n      root._bokeh_is_loading = 0\n      console.log(\"Bokeh: BokehJS was loaded multiple times but one version failed to initialize.\");\n      load_or_wait();\n    } else if (root._bokeh_is_initializing || (typeof root._bokeh_is_initializing === \"undefined\" && root._bokeh_onload_callbacks !== undefined)) {\n      setTimeout(load_or_wait, 100);\n    } else {\n      root._bokeh_is_initializing = true\n      root._bokeh_onload_callbacks = []\n      const bokeh_loaded = root.Bokeh != null && (root.Bokeh.version === py_version || (root.Bokeh.versions !== undefined && root.Bokeh.versions.has(py_version)));\n      if (!reloading && !bokeh_loaded) {\n        if (root.Bokeh) {\n          root.Bokeh = undefined;\n        }\n        console.debug(\"Bokeh: BokehJS not loaded, scheduling load and callback at\", now());\n      }\n      load_libs(css_urls, js_urls, js_modules, js_exports, function() {\n        console.debug(\"Bokeh: BokehJS plotting callback run at\", now());\n        run_inline_js();\n      });\n    }\n  }\n  // Give older versions of the autoload script a head-start to ensure\n  // they initialize before we start loading newer version.\n  setTimeout(load_or_wait, 100)\n}(window));"
          },
          "metadata": {}
        },
        {
          "output_type": "display_data",
          "data": {
            "application/vnd.holoviews_load.v0+json": "\nif ((window.PyViz === undefined) || (window.PyViz instanceof HTMLElement)) {\n  window.PyViz = {comms: {}, comm_status:{}, kernels:{}, receivers: {}, plot_index: []}\n}\n\n\n    function JupyterCommManager() {\n    }\n\n    JupyterCommManager.prototype.register_target = function(plot_id, comm_id, msg_handler) {\n      if (window.comm_manager || ((window.Jupyter !== undefined) && (Jupyter.notebook.kernel != null))) {\n        var comm_manager = window.comm_manager || Jupyter.notebook.kernel.comm_manager;\n        comm_manager.register_target(comm_id, function(comm) {\n          comm.on_msg(msg_handler);\n        });\n      } else if ((plot_id in window.PyViz.kernels) && (window.PyViz.kernels[plot_id])) {\n        window.PyViz.kernels[plot_id].registerCommTarget(comm_id, function(comm) {\n          comm.onMsg = msg_handler;\n        });\n      } else if (typeof google != 'undefined' && google.colab.kernel != null) {\n        google.colab.kernel.comms.registerTarget(comm_id, (comm) => {\n          var messages = comm.messages[Symbol.asyncIterator]();\n          function processIteratorResult(result) {\n            var message = result.value;\n            console.log(message)\n            var content = {data: message.data, comm_id};\n            var buffers = []\n            for (var buffer of message.buffers || []) {\n              buffers.push(new DataView(buffer))\n            }\n            var metadata = message.metadata || {};\n            var msg = {content, buffers, metadata}\n            msg_handler(msg);\n            return messages.next().then(processIteratorResult);\n          }\n          return messages.next().then(processIteratorResult);\n        })\n      }\n    }\n\n    JupyterCommManager.prototype.get_client_comm = function(plot_id, comm_id, msg_handler) {\n      if (comm_id in window.PyViz.comms) {\n        return window.PyViz.comms[comm_id];\n      } else if (window.comm_manager || ((window.Jupyter !== undefined) && (Jupyter.notebook.kernel != null))) {\n        var comm_manager = window.comm_manager || Jupyter.notebook.kernel.comm_manager;\n        var comm = comm_manager.new_comm(comm_id, {}, {}, {}, comm_id);\n        if (msg_handler) {\n          comm.on_msg(msg_handler);\n        }\n      } else if ((plot_id in window.PyViz.kernels) && (window.PyViz.kernels[plot_id])) {\n        var comm = window.PyViz.kernels[plot_id].connectToComm(comm_id);\n        comm.open();\n        if (msg_handler) {\n          comm.onMsg = msg_handler;\n        }\n      } else if (typeof google != 'undefined' && google.colab.kernel != null) {\n        var comm_promise = google.colab.kernel.comms.open(comm_id)\n        comm_promise.then((comm) => {\n          window.PyViz.comms[comm_id] = comm;\n          if (msg_handler) {\n            var messages = comm.messages[Symbol.asyncIterator]();\n            function processIteratorResult(result) {\n              var message = result.value;\n              var content = {data: message.data};\n              var metadata = message.metadata || {comm_id};\n              var msg = {content, metadata}\n              msg_handler(msg);\n              return messages.next().then(processIteratorResult);\n            }\n            return messages.next().then(processIteratorResult);\n          }\n        }) \n        var sendClosure = (data, metadata, buffers, disposeOnDone) => {\n          return comm_promise.then((comm) => {\n            comm.send(data, metadata, buffers, disposeOnDone);\n          });\n        };\n        var comm = {\n          send: sendClosure\n        };\n      }\n      window.PyViz.comms[comm_id] = comm;\n      return comm;\n    }\n    window.PyViz.comm_manager = new JupyterCommManager();\n    \n\n\nvar JS_MIME_TYPE = 'application/javascript';\nvar HTML_MIME_TYPE = 'text/html';\nvar EXEC_MIME_TYPE = 'application/vnd.holoviews_exec.v0+json';\nvar CLASS_NAME = 'output';\n\n/**\n * Render data to the DOM node\n */\nfunction render(props, node) {\n  var div = document.createElement(\"div\");\n  var script = document.createElement(\"script\");\n  node.appendChild(div);\n  node.appendChild(script);\n}\n\n/**\n * Handle when a new output is added\n */\nfunction handle_add_output(event, handle) {\n  var output_area = handle.output_area;\n  var output = handle.output;\n  if ((output.data == undefined) || (!output.data.hasOwnProperty(EXEC_MIME_TYPE))) {\n    return\n  }\n  var id = output.metadata[EXEC_MIME_TYPE][\"id\"];\n  var toinsert = output_area.element.find(\".\" + CLASS_NAME.split(' ')[0]);\n  if (id !== undefined) {\n    var nchildren = toinsert.length;\n    var html_node = toinsert[nchildren-1].children[0];\n    html_node.innerHTML = output.data[HTML_MIME_TYPE];\n    var scripts = [];\n    var nodelist = html_node.querySelectorAll(\"script\");\n    for (var i in nodelist) {\n      if (nodelist.hasOwnProperty(i)) {\n        scripts.push(nodelist[i])\n      }\n    }\n\n    scripts.forEach( function (oldScript) {\n      var newScript = document.createElement(\"script\");\n      var attrs = [];\n      var nodemap = oldScript.attributes;\n      for (var j in nodemap) {\n        if (nodemap.hasOwnProperty(j)) {\n          attrs.push(nodemap[j])\n        }\n      }\n      attrs.forEach(function(attr) { newScript.setAttribute(attr.name, attr.value) });\n      newScript.appendChild(document.createTextNode(oldScript.innerHTML));\n      oldScript.parentNode.replaceChild(newScript, oldScript);\n    });\n    if (JS_MIME_TYPE in output.data) {\n      toinsert[nchildren-1].children[1].textContent = output.data[JS_MIME_TYPE];\n    }\n    output_area._hv_plot_id = id;\n    if ((window.Bokeh !== undefined) && (id in Bokeh.index)) {\n      window.PyViz.plot_index[id] = Bokeh.index[id];\n    } else {\n      window.PyViz.plot_index[id] = null;\n    }\n  } else if (output.metadata[EXEC_MIME_TYPE][\"server_id\"] !== undefined) {\n    var bk_div = document.createElement(\"div\");\n    bk_div.innerHTML = output.data[HTML_MIME_TYPE];\n    var script_attrs = bk_div.children[0].attributes;\n    for (var i = 0; i < script_attrs.length; i++) {\n      toinsert[toinsert.length - 1].childNodes[1].setAttribute(script_attrs[i].name, script_attrs[i].value);\n    }\n    // store reference to server id on output_area\n    output_area._bokeh_server_id = output.metadata[EXEC_MIME_TYPE][\"server_id\"];\n  }\n}\n\n/**\n * Handle when an output is cleared or removed\n */\nfunction handle_clear_output(event, handle) {\n  var id = handle.cell.output_area._hv_plot_id;\n  var server_id = handle.cell.output_area._bokeh_server_id;\n  if (((id === undefined) || !(id in PyViz.plot_index)) && (server_id !== undefined)) { return; }\n  var comm = window.PyViz.comm_manager.get_client_comm(\"hv-extension-comm\", \"hv-extension-comm\", function () {});\n  if (server_id !== null) {\n    comm.send({event_type: 'server_delete', 'id': server_id});\n    return;\n  } else if (comm !== null) {\n    comm.send({event_type: 'delete', 'id': id});\n  }\n  delete PyViz.plot_index[id];\n  if ((window.Bokeh !== undefined) & (id in window.Bokeh.index)) {\n    var doc = window.Bokeh.index[id].model.document\n    doc.clear();\n    const i = window.Bokeh.documents.indexOf(doc);\n    if (i > -1) {\n      window.Bokeh.documents.splice(i, 1);\n    }\n  }\n}\n\n/**\n * Handle kernel restart event\n */\nfunction handle_kernel_cleanup(event, handle) {\n  delete PyViz.comms[\"hv-extension-comm\"];\n  window.PyViz.plot_index = {}\n}\n\n/**\n * Handle update_display_data messages\n */\nfunction handle_update_output(event, handle) {\n  handle_clear_output(event, {cell: {output_area: handle.output_area}})\n  handle_add_output(event, handle)\n}\n\nfunction register_renderer(events, OutputArea) {\n  function append_mime(data, metadata, element) {\n    // create a DOM node to render to\n    var toinsert = this.create_output_subarea(\n    metadata,\n    CLASS_NAME,\n    EXEC_MIME_TYPE\n    );\n    this.keyboard_manager.register_events(toinsert);\n    // Render to node\n    var props = {data: data, metadata: metadata[EXEC_MIME_TYPE]};\n    render(props, toinsert[0]);\n    element.append(toinsert);\n    return toinsert\n  }\n\n  events.on('output_added.OutputArea', handle_add_output);\n  events.on('output_updated.OutputArea', handle_update_output);\n  events.on('clear_output.CodeCell', handle_clear_output);\n  events.on('delete.Cell', handle_clear_output);\n  events.on('kernel_ready.Kernel', handle_kernel_cleanup);\n\n  OutputArea.prototype.register_mime_type(EXEC_MIME_TYPE, append_mime, {\n    safe: true,\n    index: 0\n  });\n}\n\nif (window.Jupyter !== undefined) {\n  try {\n    var events = require('base/js/events');\n    var OutputArea = require('notebook/js/outputarea').OutputArea;\n    if (OutputArea.prototype.mime_types().indexOf(EXEC_MIME_TYPE) == -1) {\n      register_renderer(events, OutputArea);\n    }\n  } catch(err) {\n  }\n}\n",
            "application/javascript": [
              "\n",
              "if ((window.PyViz === undefined) || (window.PyViz instanceof HTMLElement)) {\n",
              "  window.PyViz = {comms: {}, comm_status:{}, kernels:{}, receivers: {}, plot_index: []}\n",
              "}\n",
              "\n",
              "\n",
              "    function JupyterCommManager() {\n",
              "    }\n",
              "\n",
              "    JupyterCommManager.prototype.register_target = function(plot_id, comm_id, msg_handler) {\n",
              "      if (window.comm_manager || ((window.Jupyter !== undefined) && (Jupyter.notebook.kernel != null))) {\n",
              "        var comm_manager = window.comm_manager || Jupyter.notebook.kernel.comm_manager;\n",
              "        comm_manager.register_target(comm_id, function(comm) {\n",
              "          comm.on_msg(msg_handler);\n",
              "        });\n",
              "      } else if ((plot_id in window.PyViz.kernels) && (window.PyViz.kernels[plot_id])) {\n",
              "        window.PyViz.kernels[plot_id].registerCommTarget(comm_id, function(comm) {\n",
              "          comm.onMsg = msg_handler;\n",
              "        });\n",
              "      } else if (typeof google != 'undefined' && google.colab.kernel != null) {\n",
              "        google.colab.kernel.comms.registerTarget(comm_id, (comm) => {\n",
              "          var messages = comm.messages[Symbol.asyncIterator]();\n",
              "          function processIteratorResult(result) {\n",
              "            var message = result.value;\n",
              "            console.log(message)\n",
              "            var content = {data: message.data, comm_id};\n",
              "            var buffers = []\n",
              "            for (var buffer of message.buffers || []) {\n",
              "              buffers.push(new DataView(buffer))\n",
              "            }\n",
              "            var metadata = message.metadata || {};\n",
              "            var msg = {content, buffers, metadata}\n",
              "            msg_handler(msg);\n",
              "            return messages.next().then(processIteratorResult);\n",
              "          }\n",
              "          return messages.next().then(processIteratorResult);\n",
              "        })\n",
              "      }\n",
              "    }\n",
              "\n",
              "    JupyterCommManager.prototype.get_client_comm = function(plot_id, comm_id, msg_handler) {\n",
              "      if (comm_id in window.PyViz.comms) {\n",
              "        return window.PyViz.comms[comm_id];\n",
              "      } else if (window.comm_manager || ((window.Jupyter !== undefined) && (Jupyter.notebook.kernel != null))) {\n",
              "        var comm_manager = window.comm_manager || Jupyter.notebook.kernel.comm_manager;\n",
              "        var comm = comm_manager.new_comm(comm_id, {}, {}, {}, comm_id);\n",
              "        if (msg_handler) {\n",
              "          comm.on_msg(msg_handler);\n",
              "        }\n",
              "      } else if ((plot_id in window.PyViz.kernels) && (window.PyViz.kernels[plot_id])) {\n",
              "        var comm = window.PyViz.kernels[plot_id].connectToComm(comm_id);\n",
              "        comm.open();\n",
              "        if (msg_handler) {\n",
              "          comm.onMsg = msg_handler;\n",
              "        }\n",
              "      } else if (typeof google != 'undefined' && google.colab.kernel != null) {\n",
              "        var comm_promise = google.colab.kernel.comms.open(comm_id)\n",
              "        comm_promise.then((comm) => {\n",
              "          window.PyViz.comms[comm_id] = comm;\n",
              "          if (msg_handler) {\n",
              "            var messages = comm.messages[Symbol.asyncIterator]();\n",
              "            function processIteratorResult(result) {\n",
              "              var message = result.value;\n",
              "              var content = {data: message.data};\n",
              "              var metadata = message.metadata || {comm_id};\n",
              "              var msg = {content, metadata}\n",
              "              msg_handler(msg);\n",
              "              return messages.next().then(processIteratorResult);\n",
              "            }\n",
              "            return messages.next().then(processIteratorResult);\n",
              "          }\n",
              "        }) \n",
              "        var sendClosure = (data, metadata, buffers, disposeOnDone) => {\n",
              "          return comm_promise.then((comm) => {\n",
              "            comm.send(data, metadata, buffers, disposeOnDone);\n",
              "          });\n",
              "        };\n",
              "        var comm = {\n",
              "          send: sendClosure\n",
              "        };\n",
              "      }\n",
              "      window.PyViz.comms[comm_id] = comm;\n",
              "      return comm;\n",
              "    }\n",
              "    window.PyViz.comm_manager = new JupyterCommManager();\n",
              "    \n",
              "\n",
              "\n",
              "var JS_MIME_TYPE = 'application/javascript';\n",
              "var HTML_MIME_TYPE = 'text/html';\n",
              "var EXEC_MIME_TYPE = 'application/vnd.holoviews_exec.v0+json';\n",
              "var CLASS_NAME = 'output';\n",
              "\n",
              "/**\n",
              " * Render data to the DOM node\n",
              " */\n",
              "function render(props, node) {\n",
              "  var div = document.createElement(\"div\");\n",
              "  var script = document.createElement(\"script\");\n",
              "  node.appendChild(div);\n",
              "  node.appendChild(script);\n",
              "}\n",
              "\n",
              "/**\n",
              " * Handle when a new output is added\n",
              " */\n",
              "function handle_add_output(event, handle) {\n",
              "  var output_area = handle.output_area;\n",
              "  var output = handle.output;\n",
              "  if ((output.data == undefined) || (!output.data.hasOwnProperty(EXEC_MIME_TYPE))) {\n",
              "    return\n",
              "  }\n",
              "  var id = output.metadata[EXEC_MIME_TYPE][\"id\"];\n",
              "  var toinsert = output_area.element.find(\".\" + CLASS_NAME.split(' ')[0]);\n",
              "  if (id !== undefined) {\n",
              "    var nchildren = toinsert.length;\n",
              "    var html_node = toinsert[nchildren-1].children[0];\n",
              "    html_node.innerHTML = output.data[HTML_MIME_TYPE];\n",
              "    var scripts = [];\n",
              "    var nodelist = html_node.querySelectorAll(\"script\");\n",
              "    for (var i in nodelist) {\n",
              "      if (nodelist.hasOwnProperty(i)) {\n",
              "        scripts.push(nodelist[i])\n",
              "      }\n",
              "    }\n",
              "\n",
              "    scripts.forEach( function (oldScript) {\n",
              "      var newScript = document.createElement(\"script\");\n",
              "      var attrs = [];\n",
              "      var nodemap = oldScript.attributes;\n",
              "      for (var j in nodemap) {\n",
              "        if (nodemap.hasOwnProperty(j)) {\n",
              "          attrs.push(nodemap[j])\n",
              "        }\n",
              "      }\n",
              "      attrs.forEach(function(attr) { newScript.setAttribute(attr.name, attr.value) });\n",
              "      newScript.appendChild(document.createTextNode(oldScript.innerHTML));\n",
              "      oldScript.parentNode.replaceChild(newScript, oldScript);\n",
              "    });\n",
              "    if (JS_MIME_TYPE in output.data) {\n",
              "      toinsert[nchildren-1].children[1].textContent = output.data[JS_MIME_TYPE];\n",
              "    }\n",
              "    output_area._hv_plot_id = id;\n",
              "    if ((window.Bokeh !== undefined) && (id in Bokeh.index)) {\n",
              "      window.PyViz.plot_index[id] = Bokeh.index[id];\n",
              "    } else {\n",
              "      window.PyViz.plot_index[id] = null;\n",
              "    }\n",
              "  } else if (output.metadata[EXEC_MIME_TYPE][\"server_id\"] !== undefined) {\n",
              "    var bk_div = document.createElement(\"div\");\n",
              "    bk_div.innerHTML = output.data[HTML_MIME_TYPE];\n",
              "    var script_attrs = bk_div.children[0].attributes;\n",
              "    for (var i = 0; i < script_attrs.length; i++) {\n",
              "      toinsert[toinsert.length - 1].childNodes[1].setAttribute(script_attrs[i].name, script_attrs[i].value);\n",
              "    }\n",
              "    // store reference to server id on output_area\n",
              "    output_area._bokeh_server_id = output.metadata[EXEC_MIME_TYPE][\"server_id\"];\n",
              "  }\n",
              "}\n",
              "\n",
              "/**\n",
              " * Handle when an output is cleared or removed\n",
              " */\n",
              "function handle_clear_output(event, handle) {\n",
              "  var id = handle.cell.output_area._hv_plot_id;\n",
              "  var server_id = handle.cell.output_area._bokeh_server_id;\n",
              "  if (((id === undefined) || !(id in PyViz.plot_index)) && (server_id !== undefined)) { return; }\n",
              "  var comm = window.PyViz.comm_manager.get_client_comm(\"hv-extension-comm\", \"hv-extension-comm\", function () {});\n",
              "  if (server_id !== null) {\n",
              "    comm.send({event_type: 'server_delete', 'id': server_id});\n",
              "    return;\n",
              "  } else if (comm !== null) {\n",
              "    comm.send({event_type: 'delete', 'id': id});\n",
              "  }\n",
              "  delete PyViz.plot_index[id];\n",
              "  if ((window.Bokeh !== undefined) & (id in window.Bokeh.index)) {\n",
              "    var doc = window.Bokeh.index[id].model.document\n",
              "    doc.clear();\n",
              "    const i = window.Bokeh.documents.indexOf(doc);\n",
              "    if (i > -1) {\n",
              "      window.Bokeh.documents.splice(i, 1);\n",
              "    }\n",
              "  }\n",
              "}\n",
              "\n",
              "/**\n",
              " * Handle kernel restart event\n",
              " */\n",
              "function handle_kernel_cleanup(event, handle) {\n",
              "  delete PyViz.comms[\"hv-extension-comm\"];\n",
              "  window.PyViz.plot_index = {}\n",
              "}\n",
              "\n",
              "/**\n",
              " * Handle update_display_data messages\n",
              " */\n",
              "function handle_update_output(event, handle) {\n",
              "  handle_clear_output(event, {cell: {output_area: handle.output_area}})\n",
              "  handle_add_output(event, handle)\n",
              "}\n",
              "\n",
              "function register_renderer(events, OutputArea) {\n",
              "  function append_mime(data, metadata, element) {\n",
              "    // create a DOM node to render to\n",
              "    var toinsert = this.create_output_subarea(\n",
              "    metadata,\n",
              "    CLASS_NAME,\n",
              "    EXEC_MIME_TYPE\n",
              "    );\n",
              "    this.keyboard_manager.register_events(toinsert);\n",
              "    // Render to node\n",
              "    var props = {data: data, metadata: metadata[EXEC_MIME_TYPE]};\n",
              "    render(props, toinsert[0]);\n",
              "    element.append(toinsert);\n",
              "    return toinsert\n",
              "  }\n",
              "\n",
              "  events.on('output_added.OutputArea', handle_add_output);\n",
              "  events.on('output_updated.OutputArea', handle_update_output);\n",
              "  events.on('clear_output.CodeCell', handle_clear_output);\n",
              "  events.on('delete.Cell', handle_clear_output);\n",
              "  events.on('kernel_ready.Kernel', handle_kernel_cleanup);\n",
              "\n",
              "  OutputArea.prototype.register_mime_type(EXEC_MIME_TYPE, append_mime, {\n",
              "    safe: true,\n",
              "    index: 0\n",
              "  });\n",
              "}\n",
              "\n",
              "if (window.Jupyter !== undefined) {\n",
              "  try {\n",
              "    var events = require('base/js/events');\n",
              "    var OutputArea = require('notebook/js/outputarea').OutputArea;\n",
              "    if (OutputArea.prototype.mime_types().indexOf(EXEC_MIME_TYPE) == -1) {\n",
              "      register_renderer(events, OutputArea);\n",
              "    }\n",
              "  } catch(err) {\n",
              "  }\n",
              "}\n"
            ]
          },
          "metadata": {}
        },
        {
          "output_type": "display_data",
          "data": {
            "text/html": [
              "<div id='969fd536-06bd-46e6-9b8d-3d9ae34f70ce'>\n",
              "  <div id=\"a425d71a-4959-4156-81af-9bb176b873d1\" data-root-id=\"969fd536-06bd-46e6-9b8d-3d9ae34f70ce\" style=\"display: contents;\"></div>\n",
              "</div>\n",
              "<script type=\"application/javascript\">(function(root) {\n",
              "  var docs_json = {\"cedceaaa-4ffe-4caf-9244-ad7ba1a6d701\":{\"version\":\"3.6.1\",\"title\":\"Bokeh Application\",\"roots\":[{\"type\":\"object\",\"name\":\"panel.models.browser.BrowserInfo\",\"id\":\"969fd536-06bd-46e6-9b8d-3d9ae34f70ce\"},{\"type\":\"object\",\"name\":\"panel.models.comm_manager.CommManager\",\"id\":\"6acd3722-20b1-4051-b589-1424c5786d29\",\"attributes\":{\"plot_id\":\"969fd536-06bd-46e6-9b8d-3d9ae34f70ce\",\"comm_id\":\"86f91deeda224cc09f2366b67debf476\",\"client_comm_id\":\"cbbf5e36a3ef4e7abadc21cf3add0b5b\"}}],\"defs\":[{\"type\":\"model\",\"name\":\"ReactiveHTML1\"},{\"type\":\"model\",\"name\":\"FlexBox1\",\"properties\":[{\"name\":\"align_content\",\"kind\":\"Any\",\"default\":\"flex-start\"},{\"name\":\"align_items\",\"kind\":\"Any\",\"default\":\"flex-start\"},{\"name\":\"flex_direction\",\"kind\":\"Any\",\"default\":\"row\"},{\"name\":\"flex_wrap\",\"kind\":\"Any\",\"default\":\"wrap\"},{\"name\":\"gap\",\"kind\":\"Any\",\"default\":\"\"},{\"name\":\"justify_content\",\"kind\":\"Any\",\"default\":\"flex-start\"}]},{\"type\":\"model\",\"name\":\"FloatPanel1\",\"properties\":[{\"name\":\"config\",\"kind\":\"Any\",\"default\":{\"type\":\"map\"}},{\"name\":\"contained\",\"kind\":\"Any\",\"default\":true},{\"name\":\"position\",\"kind\":\"Any\",\"default\":\"right-top\"},{\"name\":\"offsetx\",\"kind\":\"Any\",\"default\":null},{\"name\":\"offsety\",\"kind\":\"Any\",\"default\":null},{\"name\":\"theme\",\"kind\":\"Any\",\"default\":\"primary\"},{\"name\":\"status\",\"kind\":\"Any\",\"default\":\"normalized\"}]},{\"type\":\"model\",\"name\":\"GridStack1\",\"properties\":[{\"name\":\"mode\",\"kind\":\"Any\",\"default\":\"warn\"},{\"name\":\"ncols\",\"kind\":\"Any\",\"default\":null},{\"name\":\"nrows\",\"kind\":\"Any\",\"default\":null},{\"name\":\"allow_resize\",\"kind\":\"Any\",\"default\":true},{\"name\":\"allow_drag\",\"kind\":\"Any\",\"default\":true},{\"name\":\"state\",\"kind\":\"Any\",\"default\":[]}]},{\"type\":\"model\",\"name\":\"drag1\",\"properties\":[{\"name\":\"slider_width\",\"kind\":\"Any\",\"default\":5},{\"name\":\"slider_color\",\"kind\":\"Any\",\"default\":\"black\"},{\"name\":\"value\",\"kind\":\"Any\",\"default\":50}]},{\"type\":\"model\",\"name\":\"click1\",\"properties\":[{\"name\":\"terminal_output\",\"kind\":\"Any\",\"default\":\"\"},{\"name\":\"debug_name\",\"kind\":\"Any\",\"default\":\"\"},{\"name\":\"clears\",\"kind\":\"Any\",\"default\":0}]},{\"type\":\"model\",\"name\":\"FastWrapper1\",\"properties\":[{\"name\":\"object\",\"kind\":\"Any\",\"default\":null},{\"name\":\"style\",\"kind\":\"Any\",\"default\":null}]},{\"type\":\"model\",\"name\":\"NotificationAreaBase1\",\"properties\":[{\"name\":\"js_events\",\"kind\":\"Any\",\"default\":{\"type\":\"map\"}},{\"name\":\"position\",\"kind\":\"Any\",\"default\":\"bottom-right\"},{\"name\":\"_clear\",\"kind\":\"Any\",\"default\":0}]},{\"type\":\"model\",\"name\":\"NotificationArea1\",\"properties\":[{\"name\":\"js_events\",\"kind\":\"Any\",\"default\":{\"type\":\"map\"}},{\"name\":\"notifications\",\"kind\":\"Any\",\"default\":[]},{\"name\":\"position\",\"kind\":\"Any\",\"default\":\"bottom-right\"},{\"name\":\"_clear\",\"kind\":\"Any\",\"default\":0},{\"name\":\"types\",\"kind\":\"Any\",\"default\":[{\"type\":\"map\",\"entries\":[[\"type\",\"warning\"],[\"background\",\"#ffc107\"],[\"icon\",{\"type\":\"map\",\"entries\":[[\"className\",\"fas fa-exclamation-triangle\"],[\"tagName\",\"i\"],[\"color\",\"white\"]]}]]},{\"type\":\"map\",\"entries\":[[\"type\",\"info\"],[\"background\",\"#007bff\"],[\"icon\",{\"type\":\"map\",\"entries\":[[\"className\",\"fas fa-info-circle\"],[\"tagName\",\"i\"],[\"color\",\"white\"]]}]]}]}]},{\"type\":\"model\",\"name\":\"Notification\",\"properties\":[{\"name\":\"background\",\"kind\":\"Any\",\"default\":null},{\"name\":\"duration\",\"kind\":\"Any\",\"default\":3000},{\"name\":\"icon\",\"kind\":\"Any\",\"default\":null},{\"name\":\"message\",\"kind\":\"Any\",\"default\":\"\"},{\"name\":\"notification_type\",\"kind\":\"Any\",\"default\":null},{\"name\":\"_destroyed\",\"kind\":\"Any\",\"default\":false}]},{\"type\":\"model\",\"name\":\"TemplateActions1\",\"properties\":[{\"name\":\"open_modal\",\"kind\":\"Any\",\"default\":0},{\"name\":\"close_modal\",\"kind\":\"Any\",\"default\":0}]},{\"type\":\"model\",\"name\":\"BootstrapTemplateActions1\",\"properties\":[{\"name\":\"open_modal\",\"kind\":\"Any\",\"default\":0},{\"name\":\"close_modal\",\"kind\":\"Any\",\"default\":0}]},{\"type\":\"model\",\"name\":\"TemplateEditor1\",\"properties\":[{\"name\":\"layout\",\"kind\":\"Any\",\"default\":[]}]},{\"type\":\"model\",\"name\":\"MaterialTemplateActions1\",\"properties\":[{\"name\":\"open_modal\",\"kind\":\"Any\",\"default\":0},{\"name\":\"close_modal\",\"kind\":\"Any\",\"default\":0}]},{\"type\":\"model\",\"name\":\"ReactiveESM1\",\"properties\":[{\"name\":\"esm_constants\",\"kind\":\"Any\",\"default\":{\"type\":\"map\"}}]},{\"type\":\"model\",\"name\":\"JSComponent1\",\"properties\":[{\"name\":\"esm_constants\",\"kind\":\"Any\",\"default\":{\"type\":\"map\"}}]},{\"type\":\"model\",\"name\":\"ReactComponent1\",\"properties\":[{\"name\":\"esm_constants\",\"kind\":\"Any\",\"default\":{\"type\":\"map\"}}]},{\"type\":\"model\",\"name\":\"AnyWidgetComponent1\",\"properties\":[{\"name\":\"esm_constants\",\"kind\":\"Any\",\"default\":{\"type\":\"map\"}}]},{\"type\":\"model\",\"name\":\"request_value1\",\"properties\":[{\"name\":\"fill\",\"kind\":\"Any\",\"default\":\"none\"},{\"name\":\"_synced\",\"kind\":\"Any\",\"default\":null},{\"name\":\"_request_sync\",\"kind\":\"Any\",\"default\":0}]}]}};\n",
              "  var render_items = [{\"docid\":\"cedceaaa-4ffe-4caf-9244-ad7ba1a6d701\",\"roots\":{\"969fd536-06bd-46e6-9b8d-3d9ae34f70ce\":\"a425d71a-4959-4156-81af-9bb176b873d1\"},\"root_ids\":[\"969fd536-06bd-46e6-9b8d-3d9ae34f70ce\"]}];\n",
              "  var docs = Object.values(docs_json)\n",
              "  if (!docs) {\n",
              "    return\n",
              "  }\n",
              "  const py_version = docs[0].version.replace('rc', '-rc.').replace('.dev', '-dev.')\n",
              "  async function embed_document(root) {\n",
              "    var Bokeh = get_bokeh(root)\n",
              "    await Bokeh.embed.embed_items_notebook(docs_json, render_items);\n",
              "    for (const render_item of render_items) {\n",
              "      for (const root_id of render_item.root_ids) {\n",
              "\tconst id_el = document.getElementById(root_id)\n",
              "\tif (id_el.children.length && id_el.children[0].hasAttribute('data-root-id')) {\n",
              "\t  const root_el = id_el.children[0]\n",
              "\t  root_el.id = root_el.id + '-rendered'\n",
              "\t  for (const child of root_el.children) {\n",
              "            // Ensure JupyterLab does not capture keyboard shortcuts\n",
              "            // see: https://jupyterlab.readthedocs.io/en/4.1.x/extension/notebook.html#keyboard-interaction-model\n",
              "\t    child.setAttribute('data-lm-suppress-shortcuts', 'true')\n",
              "\t  }\n",
              "\t}\n",
              "      }\n",
              "    }\n",
              "  }\n",
              "  function get_bokeh(root) {\n",
              "    if (root.Bokeh === undefined) {\n",
              "      return null\n",
              "    } else if (root.Bokeh.version !== py_version) {\n",
              "      if (root.Bokeh.versions === undefined || !root.Bokeh.versions.has(py_version)) {\n",
              "\treturn null\n",
              "      }\n",
              "      return root.Bokeh.versions.get(py_version);\n",
              "    } else if (root.Bokeh.version === py_version) {\n",
              "      return root.Bokeh\n",
              "    }\n",
              "    return null\n",
              "  }\n",
              "  function is_loaded(root) {\n",
              "    var Bokeh = get_bokeh(root)\n",
              "    return (Bokeh != null && Bokeh.Panel !== undefined)\n",
              "  }\n",
              "  if (is_loaded(root)) {\n",
              "    embed_document(root);\n",
              "  } else {\n",
              "    var attempts = 0;\n",
              "    var timer = setInterval(function(root) {\n",
              "      if (is_loaded(root)) {\n",
              "        clearInterval(timer);\n",
              "        embed_document(root);\n",
              "      } else if (document.readyState == \"complete\") {\n",
              "        attempts++;\n",
              "        if (attempts > 200) {\n",
              "          clearInterval(timer);\n",
              "\t  var Bokeh = get_bokeh(root)\n",
              "\t  if (Bokeh == null || Bokeh.Panel == null) {\n",
              "            console.warn(\"Panel: ERROR: Unable to run Panel code because Bokeh or Panel library is missing\");\n",
              "\t  } else {\n",
              "\t    console.warn(\"Panel: WARNING: Attempting to render but not all required libraries could be resolved.\")\n",
              "\t    embed_document(root)\n",
              "\t  }\n",
              "        }\n",
              "      }\n",
              "    }, 25, root)\n",
              "  }\n",
              "})(window);</script>"
            ],
            "application/vnd.holoviews_exec.v0+json": ""
          },
          "metadata": {
            "application/vnd.holoviews_exec.v0+json": {
              "id": "969fd536-06bd-46e6-9b8d-3d9ae34f70ce"
            }
          }
        }
      ]
    },
    {
      "cell_type": "code",
      "source": [
        "cb = cbfs()\n",
        "\n",
        "file_input = pn.widgets.FileInput(accept='.pdf')\n",
        "button_load = pn.widgets.Button(name=\"Load DB\", button_type='primary')\n",
        "button_clearhistory = pn.widgets.Button(name=\"Clear History\", button_type='warning')\n",
        "button_clearhistory.on_click(cb.clr_history)\n",
        "inp = pn.widgets.TextInput( placeholder='Enter text here…')\n",
        "\n",
        "bound_button_load = pn.bind(cb.call_load_db, button_load.param.clicks)\n",
        "conversation = pn.bind(cb.convchain, inp)\n",
        "\n",
        "jpg_pane = pn.pane.Image( './img/convchain.jpg')\n",
        "\n",
        "tab1 = pn.Column(\n",
        "    pn.Row(inp),\n",
        "    pn.layout.Divider(),\n",
        "    pn.panel(conversation,  loading_indicator=True, height=300),\n",
        "    pn.layout.Divider(),\n",
        ")\n",
        "tab2= pn.Column(\n",
        "    pn.panel(cb.get_lquest),\n",
        "    pn.layout.Divider(),\n",
        "    pn.panel(cb.get_sources ),\n",
        ")\n",
        "tab3= pn.Column(\n",
        "    pn.panel(cb.get_chats),\n",
        "    pn.layout.Divider(),\n",
        ")\n",
        "tab4=pn.Column(\n",
        "    pn.Row( file_input, button_load, bound_button_load),\n",
        "    pn.Row( button_clearhistory, pn.pane.Markdown(\"Clears chat history. Can use to start a new topic\" )),\n",
        "    pn.layout.Divider(),\n",
        "    pn.Row(jpg_pane.clone(width=400))\n",
        ")\n",
        "dashboard = pn.Column(\n",
        "    pn.Row(pn.pane.Markdown('# ChatWithYourData_Bot')),\n",
        "    pn.Tabs(('Conversation', tab1), ('Database', tab2), ('Chat History', tab3),('Configure', tab4))\n",
        ")\n",
        "dashboard"
      ],
      "metadata": {
        "colab": {
          "resources": {
            "http://localhost:8080/img/convchain.jpg": {
              "data": "",
              "ok": false,
              "headers": [
                [
                  "content-length",
                  "0"
                ]
              ],
              "status": 404,
              "status_text": ""
            }
          },
          "base_uri": "https://localhost:8080/",
          "height": 1000
        },
        "id": "vM5G5aE2-1IB",
        "outputId": "194b435d-cb43-4c11-d689-eee41108a17a"
      },
      "execution_count": null,
      "outputs": [
        {
          "output_type": "display_data",
          "data": {
            "text/html": [
              "<script type=\"esms-options\">{\"shimMode\": true}</script><style>*[data-root-id],\n",
              "*[data-root-id] > * {\n",
              "  box-sizing: border-box;\n",
              "  font-family: var(--jp-ui-font-family);\n",
              "  font-size: var(--jp-ui-font-size1);\n",
              "  color: var(--vscode-editor-foreground, var(--jp-ui-font-color1));\n",
              "}\n",
              "\n",
              "/* Override VSCode background color */\n",
              ".cell-output-ipywidget-background:has(\n",
              "    > .cell-output-ipywidget-background > .lm-Widget > *[data-root-id]\n",
              "  ),\n",
              ".cell-output-ipywidget-background:has(> .lm-Widget > *[data-root-id]) {\n",
              "  background-color: transparent !important;\n",
              "}\n",
              "</style>"
            ]
          },
          "metadata": {}
        },
        {
          "output_type": "display_data",
          "data": {
            "application/javascript": [
              "(function(root) {\n",
              "  function now() {\n",
              "    return new Date();\n",
              "  }\n",
              "\n",
              "  const force = true;\n",
              "  const py_version = '3.6.1'.replace('rc', '-rc.').replace('.dev', '-dev.');\n",
              "  const reloading = false;\n",
              "  const Bokeh = root.Bokeh;\n",
              "\n",
              "  // Set a timeout for this load but only if we are not already initializing\n",
              "  if (typeof (root._bokeh_timeout) === \"undefined\" || (force || !root._bokeh_is_initializing)) {\n",
              "    root._bokeh_timeout = Date.now() + 5000;\n",
              "    root._bokeh_failed_load = false;\n",
              "  }\n",
              "\n",
              "  function run_callbacks() {\n",
              "    try {\n",
              "      root._bokeh_onload_callbacks.forEach(function(callback) {\n",
              "        if (callback != null)\n",
              "          callback();\n",
              "      });\n",
              "    } finally {\n",
              "      delete root._bokeh_onload_callbacks;\n",
              "    }\n",
              "    console.debug(\"Bokeh: all callbacks have finished\");\n",
              "  }\n",
              "\n",
              "  function load_libs(css_urls, js_urls, js_modules, js_exports, callback) {\n",
              "    if (css_urls == null) css_urls = [];\n",
              "    if (js_urls == null) js_urls = [];\n",
              "    if (js_modules == null) js_modules = [];\n",
              "    if (js_exports == null) js_exports = {};\n",
              "\n",
              "    root._bokeh_onload_callbacks.push(callback);\n",
              "\n",
              "    if (root._bokeh_is_loading > 0) {\n",
              "      // Don't load bokeh if it is still initializing\n",
              "      console.debug(\"Bokeh: BokehJS is being loaded, scheduling callback at\", now());\n",
              "      return null;\n",
              "    } else if (js_urls.length === 0 && js_modules.length === 0 && Object.keys(js_exports).length === 0) {\n",
              "      // There is nothing to load\n",
              "      run_callbacks();\n",
              "      return null;\n",
              "    }\n",
              "\n",
              "    function on_load() {\n",
              "      root._bokeh_is_loading--;\n",
              "      if (root._bokeh_is_loading === 0) {\n",
              "        console.debug(\"Bokeh: all BokehJS libraries/stylesheets loaded\");\n",
              "        run_callbacks()\n",
              "      }\n",
              "    }\n",
              "    window._bokeh_on_load = on_load\n",
              "\n",
              "    function on_error(e) {\n",
              "      const src_el = e.srcElement\n",
              "      console.error(\"failed to load \" + (src_el.href || src_el.src));\n",
              "    }\n",
              "\n",
              "    const skip = [];\n",
              "    if (window.requirejs) {\n",
              "      window.requirejs.config({'packages': {}, 'paths': {}, 'shim': {}});\n",
              "      root._bokeh_is_loading = css_urls.length + 0;\n",
              "    } else {\n",
              "      root._bokeh_is_loading = css_urls.length + js_urls.length + js_modules.length + Object.keys(js_exports).length;\n",
              "    }\n",
              "\n",
              "    const existing_stylesheets = []\n",
              "    const links = document.getElementsByTagName('link')\n",
              "    for (let i = 0; i < links.length; i++) {\n",
              "      const link = links[i]\n",
              "      if (link.href != null) {\n",
              "        existing_stylesheets.push(link.href)\n",
              "      }\n",
              "    }\n",
              "    for (let i = 0; i < css_urls.length; i++) {\n",
              "      const url = css_urls[i];\n",
              "      const escaped = encodeURI(url)\n",
              "      if (existing_stylesheets.indexOf(escaped) !== -1) {\n",
              "        on_load()\n",
              "        continue;\n",
              "      }\n",
              "      const element = document.createElement(\"link\");\n",
              "      element.onload = on_load;\n",
              "      element.onerror = on_error;\n",
              "      element.rel = \"stylesheet\";\n",
              "      element.type = \"text/css\";\n",
              "      element.href = url;\n",
              "      console.debug(\"Bokeh: injecting link tag for BokehJS stylesheet: \", url);\n",
              "      document.body.appendChild(element);\n",
              "    }    var existing_scripts = []\n",
              "    const scripts = document.getElementsByTagName('script')\n",
              "    for (let i = 0; i < scripts.length; i++) {\n",
              "      var script = scripts[i]\n",
              "      if (script.src != null) {\n",
              "        existing_scripts.push(script.src)\n",
              "      }\n",
              "    }\n",
              "    for (let i = 0; i < js_urls.length; i++) {\n",
              "      const url = js_urls[i];\n",
              "      const escaped = encodeURI(url)\n",
              "      if (skip.indexOf(escaped) !== -1 || existing_scripts.indexOf(escaped) !== -1) {\n",
              "        if (!window.requirejs) {\n",
              "          on_load();\n",
              "        }\n",
              "        continue;\n",
              "      }\n",
              "      const element = document.createElement('script');\n",
              "      element.onload = on_load;\n",
              "      element.onerror = on_error;\n",
              "      element.async = false;\n",
              "      element.src = url;\n",
              "      console.debug(\"Bokeh: injecting script tag for BokehJS library: \", url);\n",
              "      document.head.appendChild(element);\n",
              "    }\n",
              "    for (let i = 0; i < js_modules.length; i++) {\n",
              "      const url = js_modules[i];\n",
              "      const escaped = encodeURI(url)\n",
              "      if (skip.indexOf(escaped) !== -1 || existing_scripts.indexOf(escaped) !== -1) {\n",
              "        if (!window.requirejs) {\n",
              "          on_load();\n",
              "        }\n",
              "        continue;\n",
              "      }\n",
              "      var element = document.createElement('script');\n",
              "      element.onload = on_load;\n",
              "      element.onerror = on_error;\n",
              "      element.async = false;\n",
              "      element.src = url;\n",
              "      element.type = \"module\";\n",
              "      console.debug(\"Bokeh: injecting script tag for BokehJS library: \", url);\n",
              "      document.head.appendChild(element);\n",
              "    }\n",
              "    for (const name in js_exports) {\n",
              "      const url = js_exports[name];\n",
              "      const escaped = encodeURI(url)\n",
              "      if (skip.indexOf(escaped) >= 0 || root[name] != null) {\n",
              "        if (!window.requirejs) {\n",
              "          on_load();\n",
              "        }\n",
              "        continue;\n",
              "      }\n",
              "      var element = document.createElement('script');\n",
              "      element.onerror = on_error;\n",
              "      element.async = false;\n",
              "      element.type = \"module\";\n",
              "      console.debug(\"Bokeh: injecting script tag for BokehJS library: \", url);\n",
              "      element.textContent = `\n",
              "      import ${name} from \"${url}\"\n",
              "      window.${name} = ${name}\n",
              "      window._bokeh_on_load()\n",
              "      `\n",
              "      document.head.appendChild(element);\n",
              "    }\n",
              "    if (!js_urls.length && !js_modules.length) {\n",
              "      on_load()\n",
              "    }\n",
              "  };\n",
              "\n",
              "  function inject_raw_css(css) {\n",
              "    const element = document.createElement(\"style\");\n",
              "    element.appendChild(document.createTextNode(css));\n",
              "    document.body.appendChild(element);\n",
              "  }\n",
              "\n",
              "  const js_urls = [\"https://cdn.holoviz.org/panel/1.5.4/dist/bundled/reactiveesm/es-module-shims@^1.10.0/dist/es-module-shims.min.js\", \"https://cdn.bokeh.org/bokeh/release/bokeh-3.6.1.min.js\", \"https://cdn.bokeh.org/bokeh/release/bokeh-gl-3.6.1.min.js\", \"https://cdn.bokeh.org/bokeh/release/bokeh-widgets-3.6.1.min.js\", \"https://cdn.bokeh.org/bokeh/release/bokeh-tables-3.6.1.min.js\", \"https://cdn.holoviz.org/panel/1.5.4/dist/panel.min.js\"];\n",
              "  const js_modules = [];\n",
              "  const js_exports = {};\n",
              "  const css_urls = [];\n",
              "  const inline_js = [    function(Bokeh) {\n",
              "      Bokeh.set_log_level(\"info\");\n",
              "    },\n",
              "function(Bokeh) {} // ensure no trailing comma for IE\n",
              "  ];\n",
              "\n",
              "  function run_inline_js() {\n",
              "    if ((root.Bokeh !== undefined) || (force === true)) {\n",
              "      for (let i = 0; i < inline_js.length; i++) {\n",
              "        try {\n",
              "          inline_js[i].call(root, root.Bokeh);\n",
              "        } catch(e) {\n",
              "          if (!reloading) {\n",
              "            throw e;\n",
              "          }\n",
              "        }\n",
              "      }\n",
              "      // Cache old bokeh versions\n",
              "      if (Bokeh != undefined && !reloading) {\n",
              "        var NewBokeh = root.Bokeh;\n",
              "        if (Bokeh.versions === undefined) {\n",
              "          Bokeh.versions = new Map();\n",
              "        }\n",
              "        if (NewBokeh.version !== Bokeh.version) {\n",
              "          Bokeh.versions.set(NewBokeh.version, NewBokeh)\n",
              "        }\n",
              "        root.Bokeh = Bokeh;\n",
              "      }\n",
              "    } else if (Date.now() < root._bokeh_timeout) {\n",
              "      setTimeout(run_inline_js, 100);\n",
              "    } else if (!root._bokeh_failed_load) {\n",
              "      console.log(\"Bokeh: BokehJS failed to load within specified timeout.\");\n",
              "      root._bokeh_failed_load = true;\n",
              "    }\n",
              "    root._bokeh_is_initializing = false\n",
              "  }\n",
              "\n",
              "  function load_or_wait() {\n",
              "    // Implement a backoff loop that tries to ensure we do not load multiple\n",
              "    // versions of Bokeh and its dependencies at the same time.\n",
              "    // In recent versions we use the root._bokeh_is_initializing flag\n",
              "    // to determine whether there is an ongoing attempt to initialize\n",
              "    // bokeh, however for backward compatibility we also try to ensure\n",
              "    // that we do not start loading a newer (Panel>=1.0 and Bokeh>3) version\n",
              "    // before older versions are fully initialized.\n",
              "    if (root._bokeh_is_initializing && Date.now() > root._bokeh_timeout) {\n",
              "      // If the timeout and bokeh was not successfully loaded we reset\n",
              "      // everything and try loading again\n",
              "      root._bokeh_timeout = Date.now() + 5000;\n",
              "      root._bokeh_is_initializing = false;\n",
              "      root._bokeh_onload_callbacks = undefined;\n",
              "      root._bokeh_is_loading = 0\n",
              "      console.log(\"Bokeh: BokehJS was loaded multiple times but one version failed to initialize.\");\n",
              "      load_or_wait();\n",
              "    } else if (root._bokeh_is_initializing || (typeof root._bokeh_is_initializing === \"undefined\" && root._bokeh_onload_callbacks !== undefined)) {\n",
              "      setTimeout(load_or_wait, 100);\n",
              "    } else {\n",
              "      root._bokeh_is_initializing = true\n",
              "      root._bokeh_onload_callbacks = []\n",
              "      const bokeh_loaded = root.Bokeh != null && (root.Bokeh.version === py_version || (root.Bokeh.versions !== undefined && root.Bokeh.versions.has(py_version)));\n",
              "      if (!reloading && !bokeh_loaded) {\n",
              "        if (root.Bokeh) {\n",
              "          root.Bokeh = undefined;\n",
              "        }\n",
              "        console.debug(\"Bokeh: BokehJS not loaded, scheduling load and callback at\", now());\n",
              "      }\n",
              "      load_libs(css_urls, js_urls, js_modules, js_exports, function() {\n",
              "        console.debug(\"Bokeh: BokehJS plotting callback run at\", now());\n",
              "        run_inline_js();\n",
              "      });\n",
              "    }\n",
              "  }\n",
              "  // Give older versions of the autoload script a head-start to ensure\n",
              "  // they initialize before we start loading newer version.\n",
              "  setTimeout(load_or_wait, 100)\n",
              "}(window));"
            ],
            "application/vnd.holoviews_load.v0+json": "(function(root) {\n  function now() {\n    return new Date();\n  }\n\n  const force = true;\n  const py_version = '3.6.1'.replace('rc', '-rc.').replace('.dev', '-dev.');\n  const reloading = false;\n  const Bokeh = root.Bokeh;\n\n  // Set a timeout for this load but only if we are not already initializing\n  if (typeof (root._bokeh_timeout) === \"undefined\" || (force || !root._bokeh_is_initializing)) {\n    root._bokeh_timeout = Date.now() + 5000;\n    root._bokeh_failed_load = false;\n  }\n\n  function run_callbacks() {\n    try {\n      root._bokeh_onload_callbacks.forEach(function(callback) {\n        if (callback != null)\n          callback();\n      });\n    } finally {\n      delete root._bokeh_onload_callbacks;\n    }\n    console.debug(\"Bokeh: all callbacks have finished\");\n  }\n\n  function load_libs(css_urls, js_urls, js_modules, js_exports, callback) {\n    if (css_urls == null) css_urls = [];\n    if (js_urls == null) js_urls = [];\n    if (js_modules == null) js_modules = [];\n    if (js_exports == null) js_exports = {};\n\n    root._bokeh_onload_callbacks.push(callback);\n\n    if (root._bokeh_is_loading > 0) {\n      // Don't load bokeh if it is still initializing\n      console.debug(\"Bokeh: BokehJS is being loaded, scheduling callback at\", now());\n      return null;\n    } else if (js_urls.length === 0 && js_modules.length === 0 && Object.keys(js_exports).length === 0) {\n      // There is nothing to load\n      run_callbacks();\n      return null;\n    }\n\n    function on_load() {\n      root._bokeh_is_loading--;\n      if (root._bokeh_is_loading === 0) {\n        console.debug(\"Bokeh: all BokehJS libraries/stylesheets loaded\");\n        run_callbacks()\n      }\n    }\n    window._bokeh_on_load = on_load\n\n    function on_error(e) {\n      const src_el = e.srcElement\n      console.error(\"failed to load \" + (src_el.href || src_el.src));\n    }\n\n    const skip = [];\n    if (window.requirejs) {\n      window.requirejs.config({'packages': {}, 'paths': {}, 'shim': {}});\n      root._bokeh_is_loading = css_urls.length + 0;\n    } else {\n      root._bokeh_is_loading = css_urls.length + js_urls.length + js_modules.length + Object.keys(js_exports).length;\n    }\n\n    const existing_stylesheets = []\n    const links = document.getElementsByTagName('link')\n    for (let i = 0; i < links.length; i++) {\n      const link = links[i]\n      if (link.href != null) {\n        existing_stylesheets.push(link.href)\n      }\n    }\n    for (let i = 0; i < css_urls.length; i++) {\n      const url = css_urls[i];\n      const escaped = encodeURI(url)\n      if (existing_stylesheets.indexOf(escaped) !== -1) {\n        on_load()\n        continue;\n      }\n      const element = document.createElement(\"link\");\n      element.onload = on_load;\n      element.onerror = on_error;\n      element.rel = \"stylesheet\";\n      element.type = \"text/css\";\n      element.href = url;\n      console.debug(\"Bokeh: injecting link tag for BokehJS stylesheet: \", url);\n      document.body.appendChild(element);\n    }    var existing_scripts = []\n    const scripts = document.getElementsByTagName('script')\n    for (let i = 0; i < scripts.length; i++) {\n      var script = scripts[i]\n      if (script.src != null) {\n        existing_scripts.push(script.src)\n      }\n    }\n    for (let i = 0; i < js_urls.length; i++) {\n      const url = js_urls[i];\n      const escaped = encodeURI(url)\n      if (skip.indexOf(escaped) !== -1 || existing_scripts.indexOf(escaped) !== -1) {\n        if (!window.requirejs) {\n          on_load();\n        }\n        continue;\n      }\n      const element = document.createElement('script');\n      element.onload = on_load;\n      element.onerror = on_error;\n      element.async = false;\n      element.src = url;\n      console.debug(\"Bokeh: injecting script tag for BokehJS library: \", url);\n      document.head.appendChild(element);\n    }\n    for (let i = 0; i < js_modules.length; i++) {\n      const url = js_modules[i];\n      const escaped = encodeURI(url)\n      if (skip.indexOf(escaped) !== -1 || existing_scripts.indexOf(escaped) !== -1) {\n        if (!window.requirejs) {\n          on_load();\n        }\n        continue;\n      }\n      var element = document.createElement('script');\n      element.onload = on_load;\n      element.onerror = on_error;\n      element.async = false;\n      element.src = url;\n      element.type = \"module\";\n      console.debug(\"Bokeh: injecting script tag for BokehJS library: \", url);\n      document.head.appendChild(element);\n    }\n    for (const name in js_exports) {\n      const url = js_exports[name];\n      const escaped = encodeURI(url)\n      if (skip.indexOf(escaped) >= 0 || root[name] != null) {\n        if (!window.requirejs) {\n          on_load();\n        }\n        continue;\n      }\n      var element = document.createElement('script');\n      element.onerror = on_error;\n      element.async = false;\n      element.type = \"module\";\n      console.debug(\"Bokeh: injecting script tag for BokehJS library: \", url);\n      element.textContent = `\n      import ${name} from \"${url}\"\n      window.${name} = ${name}\n      window._bokeh_on_load()\n      `\n      document.head.appendChild(element);\n    }\n    if (!js_urls.length && !js_modules.length) {\n      on_load()\n    }\n  };\n\n  function inject_raw_css(css) {\n    const element = document.createElement(\"style\");\n    element.appendChild(document.createTextNode(css));\n    document.body.appendChild(element);\n  }\n\n  const js_urls = [\"https://cdn.holoviz.org/panel/1.5.4/dist/bundled/reactiveesm/es-module-shims@^1.10.0/dist/es-module-shims.min.js\", \"https://cdn.bokeh.org/bokeh/release/bokeh-3.6.1.min.js\", \"https://cdn.bokeh.org/bokeh/release/bokeh-gl-3.6.1.min.js\", \"https://cdn.bokeh.org/bokeh/release/bokeh-widgets-3.6.1.min.js\", \"https://cdn.bokeh.org/bokeh/release/bokeh-tables-3.6.1.min.js\", \"https://cdn.holoviz.org/panel/1.5.4/dist/panel.min.js\"];\n  const js_modules = [];\n  const js_exports = {};\n  const css_urls = [];\n  const inline_js = [    function(Bokeh) {\n      Bokeh.set_log_level(\"info\");\n    },\nfunction(Bokeh) {} // ensure no trailing comma for IE\n  ];\n\n  function run_inline_js() {\n    if ((root.Bokeh !== undefined) || (force === true)) {\n      for (let i = 0; i < inline_js.length; i++) {\n        try {\n          inline_js[i].call(root, root.Bokeh);\n        } catch(e) {\n          if (!reloading) {\n            throw e;\n          }\n        }\n      }\n      // Cache old bokeh versions\n      if (Bokeh != undefined && !reloading) {\n        var NewBokeh = root.Bokeh;\n        if (Bokeh.versions === undefined) {\n          Bokeh.versions = new Map();\n        }\n        if (NewBokeh.version !== Bokeh.version) {\n          Bokeh.versions.set(NewBokeh.version, NewBokeh)\n        }\n        root.Bokeh = Bokeh;\n      }\n    } else if (Date.now() < root._bokeh_timeout) {\n      setTimeout(run_inline_js, 100);\n    } else if (!root._bokeh_failed_load) {\n      console.log(\"Bokeh: BokehJS failed to load within specified timeout.\");\n      root._bokeh_failed_load = true;\n    }\n    root._bokeh_is_initializing = false\n  }\n\n  function load_or_wait() {\n    // Implement a backoff loop that tries to ensure we do not load multiple\n    // versions of Bokeh and its dependencies at the same time.\n    // In recent versions we use the root._bokeh_is_initializing flag\n    // to determine whether there is an ongoing attempt to initialize\n    // bokeh, however for backward compatibility we also try to ensure\n    // that we do not start loading a newer (Panel>=1.0 and Bokeh>3) version\n    // before older versions are fully initialized.\n    if (root._bokeh_is_initializing && Date.now() > root._bokeh_timeout) {\n      // If the timeout and bokeh was not successfully loaded we reset\n      // everything and try loading again\n      root._bokeh_timeout = Date.now() + 5000;\n      root._bokeh_is_initializing = false;\n      root._bokeh_onload_callbacks = undefined;\n      root._bokeh_is_loading = 0\n      console.log(\"Bokeh: BokehJS was loaded multiple times but one version failed to initialize.\");\n      load_or_wait();\n    } else if (root._bokeh_is_initializing || (typeof root._bokeh_is_initializing === \"undefined\" && root._bokeh_onload_callbacks !== undefined)) {\n      setTimeout(load_or_wait, 100);\n    } else {\n      root._bokeh_is_initializing = true\n      root._bokeh_onload_callbacks = []\n      const bokeh_loaded = root.Bokeh != null && (root.Bokeh.version === py_version || (root.Bokeh.versions !== undefined && root.Bokeh.versions.has(py_version)));\n      if (!reloading && !bokeh_loaded) {\n        if (root.Bokeh) {\n          root.Bokeh = undefined;\n        }\n        console.debug(\"Bokeh: BokehJS not loaded, scheduling load and callback at\", now());\n      }\n      load_libs(css_urls, js_urls, js_modules, js_exports, function() {\n        console.debug(\"Bokeh: BokehJS plotting callback run at\", now());\n        run_inline_js();\n      });\n    }\n  }\n  // Give older versions of the autoload script a head-start to ensure\n  // they initialize before we start loading newer version.\n  setTimeout(load_or_wait, 100)\n}(window));"
          },
          "metadata": {}
        },
        {
          "output_type": "display_data",
          "data": {
            "application/vnd.holoviews_load.v0+json": "\nif ((window.PyViz === undefined) || (window.PyViz instanceof HTMLElement)) {\n  window.PyViz = {comms: {}, comm_status:{}, kernels:{}, receivers: {}, plot_index: []}\n}\n\n\n    function JupyterCommManager() {\n    }\n\n    JupyterCommManager.prototype.register_target = function(plot_id, comm_id, msg_handler) {\n      if (window.comm_manager || ((window.Jupyter !== undefined) && (Jupyter.notebook.kernel != null))) {\n        var comm_manager = window.comm_manager || Jupyter.notebook.kernel.comm_manager;\n        comm_manager.register_target(comm_id, function(comm) {\n          comm.on_msg(msg_handler);\n        });\n      } else if ((plot_id in window.PyViz.kernels) && (window.PyViz.kernels[plot_id])) {\n        window.PyViz.kernels[plot_id].registerCommTarget(comm_id, function(comm) {\n          comm.onMsg = msg_handler;\n        });\n      } else if (typeof google != 'undefined' && google.colab.kernel != null) {\n        google.colab.kernel.comms.registerTarget(comm_id, (comm) => {\n          var messages = comm.messages[Symbol.asyncIterator]();\n          function processIteratorResult(result) {\n            var message = result.value;\n            console.log(message)\n            var content = {data: message.data, comm_id};\n            var buffers = []\n            for (var buffer of message.buffers || []) {\n              buffers.push(new DataView(buffer))\n            }\n            var metadata = message.metadata || {};\n            var msg = {content, buffers, metadata}\n            msg_handler(msg);\n            return messages.next().then(processIteratorResult);\n          }\n          return messages.next().then(processIteratorResult);\n        })\n      }\n    }\n\n    JupyterCommManager.prototype.get_client_comm = function(plot_id, comm_id, msg_handler) {\n      if (comm_id in window.PyViz.comms) {\n        return window.PyViz.comms[comm_id];\n      } else if (window.comm_manager || ((window.Jupyter !== undefined) && (Jupyter.notebook.kernel != null))) {\n        var comm_manager = window.comm_manager || Jupyter.notebook.kernel.comm_manager;\n        var comm = comm_manager.new_comm(comm_id, {}, {}, {}, comm_id);\n        if (msg_handler) {\n          comm.on_msg(msg_handler);\n        }\n      } else if ((plot_id in window.PyViz.kernels) && (window.PyViz.kernels[plot_id])) {\n        var comm = window.PyViz.kernels[plot_id].connectToComm(comm_id);\n        comm.open();\n        if (msg_handler) {\n          comm.onMsg = msg_handler;\n        }\n      } else if (typeof google != 'undefined' && google.colab.kernel != null) {\n        var comm_promise = google.colab.kernel.comms.open(comm_id)\n        comm_promise.then((comm) => {\n          window.PyViz.comms[comm_id] = comm;\n          if (msg_handler) {\n            var messages = comm.messages[Symbol.asyncIterator]();\n            function processIteratorResult(result) {\n              var message = result.value;\n              var content = {data: message.data};\n              var metadata = message.metadata || {comm_id};\n              var msg = {content, metadata}\n              msg_handler(msg);\n              return messages.next().then(processIteratorResult);\n            }\n            return messages.next().then(processIteratorResult);\n          }\n        }) \n        var sendClosure = (data, metadata, buffers, disposeOnDone) => {\n          return comm_promise.then((comm) => {\n            comm.send(data, metadata, buffers, disposeOnDone);\n          });\n        };\n        var comm = {\n          send: sendClosure\n        };\n      }\n      window.PyViz.comms[comm_id] = comm;\n      return comm;\n    }\n    window.PyViz.comm_manager = new JupyterCommManager();\n    \n\n\nvar JS_MIME_TYPE = 'application/javascript';\nvar HTML_MIME_TYPE = 'text/html';\nvar EXEC_MIME_TYPE = 'application/vnd.holoviews_exec.v0+json';\nvar CLASS_NAME = 'output';\n\n/**\n * Render data to the DOM node\n */\nfunction render(props, node) {\n  var div = document.createElement(\"div\");\n  var script = document.createElement(\"script\");\n  node.appendChild(div);\n  node.appendChild(script);\n}\n\n/**\n * Handle when a new output is added\n */\nfunction handle_add_output(event, handle) {\n  var output_area = handle.output_area;\n  var output = handle.output;\n  if ((output.data == undefined) || (!output.data.hasOwnProperty(EXEC_MIME_TYPE))) {\n    return\n  }\n  var id = output.metadata[EXEC_MIME_TYPE][\"id\"];\n  var toinsert = output_area.element.find(\".\" + CLASS_NAME.split(' ')[0]);\n  if (id !== undefined) {\n    var nchildren = toinsert.length;\n    var html_node = toinsert[nchildren-1].children[0];\n    html_node.innerHTML = output.data[HTML_MIME_TYPE];\n    var scripts = [];\n    var nodelist = html_node.querySelectorAll(\"script\");\n    for (var i in nodelist) {\n      if (nodelist.hasOwnProperty(i)) {\n        scripts.push(nodelist[i])\n      }\n    }\n\n    scripts.forEach( function (oldScript) {\n      var newScript = document.createElement(\"script\");\n      var attrs = [];\n      var nodemap = oldScript.attributes;\n      for (var j in nodemap) {\n        if (nodemap.hasOwnProperty(j)) {\n          attrs.push(nodemap[j])\n        }\n      }\n      attrs.forEach(function(attr) { newScript.setAttribute(attr.name, attr.value) });\n      newScript.appendChild(document.createTextNode(oldScript.innerHTML));\n      oldScript.parentNode.replaceChild(newScript, oldScript);\n    });\n    if (JS_MIME_TYPE in output.data) {\n      toinsert[nchildren-1].children[1].textContent = output.data[JS_MIME_TYPE];\n    }\n    output_area._hv_plot_id = id;\n    if ((window.Bokeh !== undefined) && (id in Bokeh.index)) {\n      window.PyViz.plot_index[id] = Bokeh.index[id];\n    } else {\n      window.PyViz.plot_index[id] = null;\n    }\n  } else if (output.metadata[EXEC_MIME_TYPE][\"server_id\"] !== undefined) {\n    var bk_div = document.createElement(\"div\");\n    bk_div.innerHTML = output.data[HTML_MIME_TYPE];\n    var script_attrs = bk_div.children[0].attributes;\n    for (var i = 0; i < script_attrs.length; i++) {\n      toinsert[toinsert.length - 1].childNodes[1].setAttribute(script_attrs[i].name, script_attrs[i].value);\n    }\n    // store reference to server id on output_area\n    output_area._bokeh_server_id = output.metadata[EXEC_MIME_TYPE][\"server_id\"];\n  }\n}\n\n/**\n * Handle when an output is cleared or removed\n */\nfunction handle_clear_output(event, handle) {\n  var id = handle.cell.output_area._hv_plot_id;\n  var server_id = handle.cell.output_area._bokeh_server_id;\n  if (((id === undefined) || !(id in PyViz.plot_index)) && (server_id !== undefined)) { return; }\n  var comm = window.PyViz.comm_manager.get_client_comm(\"hv-extension-comm\", \"hv-extension-comm\", function () {});\n  if (server_id !== null) {\n    comm.send({event_type: 'server_delete', 'id': server_id});\n    return;\n  } else if (comm !== null) {\n    comm.send({event_type: 'delete', 'id': id});\n  }\n  delete PyViz.plot_index[id];\n  if ((window.Bokeh !== undefined) & (id in window.Bokeh.index)) {\n    var doc = window.Bokeh.index[id].model.document\n    doc.clear();\n    const i = window.Bokeh.documents.indexOf(doc);\n    if (i > -1) {\n      window.Bokeh.documents.splice(i, 1);\n    }\n  }\n}\n\n/**\n * Handle kernel restart event\n */\nfunction handle_kernel_cleanup(event, handle) {\n  delete PyViz.comms[\"hv-extension-comm\"];\n  window.PyViz.plot_index = {}\n}\n\n/**\n * Handle update_display_data messages\n */\nfunction handle_update_output(event, handle) {\n  handle_clear_output(event, {cell: {output_area: handle.output_area}})\n  handle_add_output(event, handle)\n}\n\nfunction register_renderer(events, OutputArea) {\n  function append_mime(data, metadata, element) {\n    // create a DOM node to render to\n    var toinsert = this.create_output_subarea(\n    metadata,\n    CLASS_NAME,\n    EXEC_MIME_TYPE\n    );\n    this.keyboard_manager.register_events(toinsert);\n    // Render to node\n    var props = {data: data, metadata: metadata[EXEC_MIME_TYPE]};\n    render(props, toinsert[0]);\n    element.append(toinsert);\n    return toinsert\n  }\n\n  events.on('output_added.OutputArea', handle_add_output);\n  events.on('output_updated.OutputArea', handle_update_output);\n  events.on('clear_output.CodeCell', handle_clear_output);\n  events.on('delete.Cell', handle_clear_output);\n  events.on('kernel_ready.Kernel', handle_kernel_cleanup);\n\n  OutputArea.prototype.register_mime_type(EXEC_MIME_TYPE, append_mime, {\n    safe: true,\n    index: 0\n  });\n}\n\nif (window.Jupyter !== undefined) {\n  try {\n    var events = require('base/js/events');\n    var OutputArea = require('notebook/js/outputarea').OutputArea;\n    if (OutputArea.prototype.mime_types().indexOf(EXEC_MIME_TYPE) == -1) {\n      register_renderer(events, OutputArea);\n    }\n  } catch(err) {\n  }\n}\n",
            "application/javascript": [
              "\n",
              "if ((window.PyViz === undefined) || (window.PyViz instanceof HTMLElement)) {\n",
              "  window.PyViz = {comms: {}, comm_status:{}, kernels:{}, receivers: {}, plot_index: []}\n",
              "}\n",
              "\n",
              "\n",
              "    function JupyterCommManager() {\n",
              "    }\n",
              "\n",
              "    JupyterCommManager.prototype.register_target = function(plot_id, comm_id, msg_handler) {\n",
              "      if (window.comm_manager || ((window.Jupyter !== undefined) && (Jupyter.notebook.kernel != null))) {\n",
              "        var comm_manager = window.comm_manager || Jupyter.notebook.kernel.comm_manager;\n",
              "        comm_manager.register_target(comm_id, function(comm) {\n",
              "          comm.on_msg(msg_handler);\n",
              "        });\n",
              "      } else if ((plot_id in window.PyViz.kernels) && (window.PyViz.kernels[plot_id])) {\n",
              "        window.PyViz.kernels[plot_id].registerCommTarget(comm_id, function(comm) {\n",
              "          comm.onMsg = msg_handler;\n",
              "        });\n",
              "      } else if (typeof google != 'undefined' && google.colab.kernel != null) {\n",
              "        google.colab.kernel.comms.registerTarget(comm_id, (comm) => {\n",
              "          var messages = comm.messages[Symbol.asyncIterator]();\n",
              "          function processIteratorResult(result) {\n",
              "            var message = result.value;\n",
              "            console.log(message)\n",
              "            var content = {data: message.data, comm_id};\n",
              "            var buffers = []\n",
              "            for (var buffer of message.buffers || []) {\n",
              "              buffers.push(new DataView(buffer))\n",
              "            }\n",
              "            var metadata = message.metadata || {};\n",
              "            var msg = {content, buffers, metadata}\n",
              "            msg_handler(msg);\n",
              "            return messages.next().then(processIteratorResult);\n",
              "          }\n",
              "          return messages.next().then(processIteratorResult);\n",
              "        })\n",
              "      }\n",
              "    }\n",
              "\n",
              "    JupyterCommManager.prototype.get_client_comm = function(plot_id, comm_id, msg_handler) {\n",
              "      if (comm_id in window.PyViz.comms) {\n",
              "        return window.PyViz.comms[comm_id];\n",
              "      } else if (window.comm_manager || ((window.Jupyter !== undefined) && (Jupyter.notebook.kernel != null))) {\n",
              "        var comm_manager = window.comm_manager || Jupyter.notebook.kernel.comm_manager;\n",
              "        var comm = comm_manager.new_comm(comm_id, {}, {}, {}, comm_id);\n",
              "        if (msg_handler) {\n",
              "          comm.on_msg(msg_handler);\n",
              "        }\n",
              "      } else if ((plot_id in window.PyViz.kernels) && (window.PyViz.kernels[plot_id])) {\n",
              "        var comm = window.PyViz.kernels[plot_id].connectToComm(comm_id);\n",
              "        comm.open();\n",
              "        if (msg_handler) {\n",
              "          comm.onMsg = msg_handler;\n",
              "        }\n",
              "      } else if (typeof google != 'undefined' && google.colab.kernel != null) {\n",
              "        var comm_promise = google.colab.kernel.comms.open(comm_id)\n",
              "        comm_promise.then((comm) => {\n",
              "          window.PyViz.comms[comm_id] = comm;\n",
              "          if (msg_handler) {\n",
              "            var messages = comm.messages[Symbol.asyncIterator]();\n",
              "            function processIteratorResult(result) {\n",
              "              var message = result.value;\n",
              "              var content = {data: message.data};\n",
              "              var metadata = message.metadata || {comm_id};\n",
              "              var msg = {content, metadata}\n",
              "              msg_handler(msg);\n",
              "              return messages.next().then(processIteratorResult);\n",
              "            }\n",
              "            return messages.next().then(processIteratorResult);\n",
              "          }\n",
              "        }) \n",
              "        var sendClosure = (data, metadata, buffers, disposeOnDone) => {\n",
              "          return comm_promise.then((comm) => {\n",
              "            comm.send(data, metadata, buffers, disposeOnDone);\n",
              "          });\n",
              "        };\n",
              "        var comm = {\n",
              "          send: sendClosure\n",
              "        };\n",
              "      }\n",
              "      window.PyViz.comms[comm_id] = comm;\n",
              "      return comm;\n",
              "    }\n",
              "    window.PyViz.comm_manager = new JupyterCommManager();\n",
              "    \n",
              "\n",
              "\n",
              "var JS_MIME_TYPE = 'application/javascript';\n",
              "var HTML_MIME_TYPE = 'text/html';\n",
              "var EXEC_MIME_TYPE = 'application/vnd.holoviews_exec.v0+json';\n",
              "var CLASS_NAME = 'output';\n",
              "\n",
              "/**\n",
              " * Render data to the DOM node\n",
              " */\n",
              "function render(props, node) {\n",
              "  var div = document.createElement(\"div\");\n",
              "  var script = document.createElement(\"script\");\n",
              "  node.appendChild(div);\n",
              "  node.appendChild(script);\n",
              "}\n",
              "\n",
              "/**\n",
              " * Handle when a new output is added\n",
              " */\n",
              "function handle_add_output(event, handle) {\n",
              "  var output_area = handle.output_area;\n",
              "  var output = handle.output;\n",
              "  if ((output.data == undefined) || (!output.data.hasOwnProperty(EXEC_MIME_TYPE))) {\n",
              "    return\n",
              "  }\n",
              "  var id = output.metadata[EXEC_MIME_TYPE][\"id\"];\n",
              "  var toinsert = output_area.element.find(\".\" + CLASS_NAME.split(' ')[0]);\n",
              "  if (id !== undefined) {\n",
              "    var nchildren = toinsert.length;\n",
              "    var html_node = toinsert[nchildren-1].children[0];\n",
              "    html_node.innerHTML = output.data[HTML_MIME_TYPE];\n",
              "    var scripts = [];\n",
              "    var nodelist = html_node.querySelectorAll(\"script\");\n",
              "    for (var i in nodelist) {\n",
              "      if (nodelist.hasOwnProperty(i)) {\n",
              "        scripts.push(nodelist[i])\n",
              "      }\n",
              "    }\n",
              "\n",
              "    scripts.forEach( function (oldScript) {\n",
              "      var newScript = document.createElement(\"script\");\n",
              "      var attrs = [];\n",
              "      var nodemap = oldScript.attributes;\n",
              "      for (var j in nodemap) {\n",
              "        if (nodemap.hasOwnProperty(j)) {\n",
              "          attrs.push(nodemap[j])\n",
              "        }\n",
              "      }\n",
              "      attrs.forEach(function(attr) { newScript.setAttribute(attr.name, attr.value) });\n",
              "      newScript.appendChild(document.createTextNode(oldScript.innerHTML));\n",
              "      oldScript.parentNode.replaceChild(newScript, oldScript);\n",
              "    });\n",
              "    if (JS_MIME_TYPE in output.data) {\n",
              "      toinsert[nchildren-1].children[1].textContent = output.data[JS_MIME_TYPE];\n",
              "    }\n",
              "    output_area._hv_plot_id = id;\n",
              "    if ((window.Bokeh !== undefined) && (id in Bokeh.index)) {\n",
              "      window.PyViz.plot_index[id] = Bokeh.index[id];\n",
              "    } else {\n",
              "      window.PyViz.plot_index[id] = null;\n",
              "    }\n",
              "  } else if (output.metadata[EXEC_MIME_TYPE][\"server_id\"] !== undefined) {\n",
              "    var bk_div = document.createElement(\"div\");\n",
              "    bk_div.innerHTML = output.data[HTML_MIME_TYPE];\n",
              "    var script_attrs = bk_div.children[0].attributes;\n",
              "    for (var i = 0; i < script_attrs.length; i++) {\n",
              "      toinsert[toinsert.length - 1].childNodes[1].setAttribute(script_attrs[i].name, script_attrs[i].value);\n",
              "    }\n",
              "    // store reference to server id on output_area\n",
              "    output_area._bokeh_server_id = output.metadata[EXEC_MIME_TYPE][\"server_id\"];\n",
              "  }\n",
              "}\n",
              "\n",
              "/**\n",
              " * Handle when an output is cleared or removed\n",
              " */\n",
              "function handle_clear_output(event, handle) {\n",
              "  var id = handle.cell.output_area._hv_plot_id;\n",
              "  var server_id = handle.cell.output_area._bokeh_server_id;\n",
              "  if (((id === undefined) || !(id in PyViz.plot_index)) && (server_id !== undefined)) { return; }\n",
              "  var comm = window.PyViz.comm_manager.get_client_comm(\"hv-extension-comm\", \"hv-extension-comm\", function () {});\n",
              "  if (server_id !== null) {\n",
              "    comm.send({event_type: 'server_delete', 'id': server_id});\n",
              "    return;\n",
              "  } else if (comm !== null) {\n",
              "    comm.send({event_type: 'delete', 'id': id});\n",
              "  }\n",
              "  delete PyViz.plot_index[id];\n",
              "  if ((window.Bokeh !== undefined) & (id in window.Bokeh.index)) {\n",
              "    var doc = window.Bokeh.index[id].model.document\n",
              "    doc.clear();\n",
              "    const i = window.Bokeh.documents.indexOf(doc);\n",
              "    if (i > -1) {\n",
              "      window.Bokeh.documents.splice(i, 1);\n",
              "    }\n",
              "  }\n",
              "}\n",
              "\n",
              "/**\n",
              " * Handle kernel restart event\n",
              " */\n",
              "function handle_kernel_cleanup(event, handle) {\n",
              "  delete PyViz.comms[\"hv-extension-comm\"];\n",
              "  window.PyViz.plot_index = {}\n",
              "}\n",
              "\n",
              "/**\n",
              " * Handle update_display_data messages\n",
              " */\n",
              "function handle_update_output(event, handle) {\n",
              "  handle_clear_output(event, {cell: {output_area: handle.output_area}})\n",
              "  handle_add_output(event, handle)\n",
              "}\n",
              "\n",
              "function register_renderer(events, OutputArea) {\n",
              "  function append_mime(data, metadata, element) {\n",
              "    // create a DOM node to render to\n",
              "    var toinsert = this.create_output_subarea(\n",
              "    metadata,\n",
              "    CLASS_NAME,\n",
              "    EXEC_MIME_TYPE\n",
              "    );\n",
              "    this.keyboard_manager.register_events(toinsert);\n",
              "    // Render to node\n",
              "    var props = {data: data, metadata: metadata[EXEC_MIME_TYPE]};\n",
              "    render(props, toinsert[0]);\n",
              "    element.append(toinsert);\n",
              "    return toinsert\n",
              "  }\n",
              "\n",
              "  events.on('output_added.OutputArea', handle_add_output);\n",
              "  events.on('output_updated.OutputArea', handle_update_output);\n",
              "  events.on('clear_output.CodeCell', handle_clear_output);\n",
              "  events.on('delete.Cell', handle_clear_output);\n",
              "  events.on('kernel_ready.Kernel', handle_kernel_cleanup);\n",
              "\n",
              "  OutputArea.prototype.register_mime_type(EXEC_MIME_TYPE, append_mime, {\n",
              "    safe: true,\n",
              "    index: 0\n",
              "  });\n",
              "}\n",
              "\n",
              "if (window.Jupyter !== undefined) {\n",
              "  try {\n",
              "    var events = require('base/js/events');\n",
              "    var OutputArea = require('notebook/js/outputarea').OutputArea;\n",
              "    if (OutputArea.prototype.mime_types().indexOf(EXEC_MIME_TYPE) == -1) {\n",
              "      register_renderer(events, OutputArea);\n",
              "    }\n",
              "  } catch(err) {\n",
              "  }\n",
              "}\n"
            ]
          },
          "metadata": {}
        },
        {
          "output_type": "display_data",
          "data": {},
          "metadata": {}
        },
        {
          "output_type": "execute_result",
          "data": {
            "text/html": [
              "<div id='6de146e5-8c0a-47fe-9423-5acfd40fe77b'>\n",
              "  <div id=\"f992d342-cccd-4fa1-90f4-9b3fdf0b2e72\" data-root-id=\"6de146e5-8c0a-47fe-9423-5acfd40fe77b\" style=\"display: contents;\"></div>\n",
              "</div>\n",
              "<script type=\"application/javascript\">(function(root) {\n",
              "  var docs_json = {\"086020a5-a287-4ff1-8c2a-d2995b39d527\":{\"version\":\"3.6.1\",\"title\":\"Bokeh Application\",\"roots\":[{\"type\":\"object\",\"name\":\"panel.models.layout.Column\",\"id\":\"6de146e5-8c0a-47fe-9423-5acfd40fe77b\",\"attributes\":{\"name\":\"Column00651\",\"stylesheets\":[\"\\n:host(.pn-loading):before, .pn-loading:before {\\n  background-color: #c3c3c3;\\n  mask-size: auto calc(min(50%, 400px));\\n  -webkit-mask-size: auto calc(min(50%, 400px));\\n}\",{\"type\":\"object\",\"name\":\"ImportedStyleSheet\",\"id\":\"83ab6563-1881-4782-af4f-e39acc54b633\",\"attributes\":{\"url\":\"https://cdn.holoviz.org/panel/1.5.4/dist/css/loading.css\"}},{\"type\":\"object\",\"name\":\"ImportedStyleSheet\",\"id\":\"e0174037-62bc-480f-9de8-c4f41c02d48b\",\"attributes\":{\"url\":\"https://cdn.holoviz.org/panel/1.5.4/dist/css/listpanel.css\"}},{\"type\":\"object\",\"name\":\"ImportedStyleSheet\",\"id\":\"c8d311da-6bd2-49d8-b403-e5d1ceb61080\",\"attributes\":{\"url\":\"https://cdn.holoviz.org/panel/1.5.4/dist/bundled/theme/default.css\"}},{\"type\":\"object\",\"name\":\"ImportedStyleSheet\",\"id\":\"b61afd18-bea1-480a-b225-ea2c7592c36b\",\"attributes\":{\"url\":\"https://cdn.holoviz.org/panel/1.5.4/dist/bundled/theme/native.css\"}}],\"margin\":0,\"align\":\"start\",\"children\":[{\"type\":\"object\",\"name\":\"Row\",\"id\":\"15151602-c494-4f97-a5da-6f7b70177b2c\",\"attributes\":{\"name\":\"Row00649\",\"stylesheets\":[\"\\n:host(.pn-loading):before, .pn-loading:before {\\n  background-color: #c3c3c3;\\n  mask-size: auto calc(min(50%, 400px));\\n  -webkit-mask-size: auto calc(min(50%, 400px));\\n}\",{\"id\":\"83ab6563-1881-4782-af4f-e39acc54b633\"},{\"id\":\"e0174037-62bc-480f-9de8-c4f41c02d48b\"},{\"id\":\"c8d311da-6bd2-49d8-b403-e5d1ceb61080\"},{\"id\":\"b61afd18-bea1-480a-b225-ea2c7592c36b\"}],\"margin\":0,\"align\":\"start\",\"children\":[{\"type\":\"object\",\"name\":\"panel.models.markup.HTML\",\"id\":\"12999d3c-a5b8-45c4-96d7-ffca903a4a57\",\"attributes\":{\"css_classes\":[\"markdown\"],\"stylesheets\":[\"\\n:host(.pn-loading):before, .pn-loading:before {\\n  background-color: #c3c3c3;\\n  mask-size: auto calc(min(50%, 400px));\\n  -webkit-mask-size: auto calc(min(50%, 400px));\\n}\",{\"id\":\"83ab6563-1881-4782-af4f-e39acc54b633\"},{\"type\":\"object\",\"name\":\"ImportedStyleSheet\",\"id\":\"f6a528ca-8a42-43c5-b265-7e06fcaf4fdc\",\"attributes\":{\"url\":\"https://cdn.holoviz.org/panel/1.5.4/dist/css/markdown.css\"}},{\"id\":\"c8d311da-6bd2-49d8-b403-e5d1ceb61080\"},{\"id\":\"b61afd18-bea1-480a-b225-ea2c7592c36b\"}],\"margin\":[5,10],\"align\":\"start\",\"text\":\"&lt;h1 id=&quot;chatwithyourdata_bot&quot;&gt;ChatWithYourData_Bot &lt;a class=&quot;header-anchor&quot; href=&quot;#chatwithyourdata_bot&quot;&gt;\\u00b6&lt;/a&gt;&lt;/h1&gt;\\n\"}}]}},{\"type\":\"object\",\"name\":\"panel.models.tabs.Tabs\",\"id\":\"fb7f9b24-b0eb-48e5-9174-4e811f625146\",\"attributes\":{\"stylesheets\":[\"\\n:host(.pn-loading):before, .pn-loading:before {\\n  background-color: #c3c3c3;\\n  mask-size: auto calc(min(50%, 400px));\\n  -webkit-mask-size: auto calc(min(50%, 400px));\\n}\",{\"id\":\"83ab6563-1881-4782-af4f-e39acc54b633\"},{\"id\":\"c8d311da-6bd2-49d8-b403-e5d1ceb61080\"},{\"id\":\"b61afd18-bea1-480a-b225-ea2c7592c36b\"}],\"margin\":0,\"align\":\"start\",\"tabs\":[{\"type\":\"object\",\"name\":\"TabPanel\",\"id\":\"8fcfe4cf-640f-4f36-a0cb-2964d79f5279\",\"attributes\":{\"name\":\"Column00600\",\"title\":\"Conversation\",\"child\":{\"type\":\"object\",\"name\":\"panel.models.layout.Column\",\"id\":\"1785eece-645e-4391-a221-3dfa78f40b50\",\"attributes\":{\"name\":\"Column00600\",\"stylesheets\":[\"\\n:host(.pn-loading):before, .pn-loading:before {\\n  background-color: #c3c3c3;\\n  mask-size: auto calc(min(50%, 400px));\\n  -webkit-mask-size: auto calc(min(50%, 400px));\\n}\",{\"id\":\"83ab6563-1881-4782-af4f-e39acc54b633\"},{\"id\":\"e0174037-62bc-480f-9de8-c4f41c02d48b\"},{\"id\":\"c8d311da-6bd2-49d8-b403-e5d1ceb61080\"},{\"id\":\"b61afd18-bea1-480a-b225-ea2c7592c36b\"}],\"margin\":0,\"align\":\"start\",\"children\":[{\"type\":\"object\",\"name\":\"Row\",\"id\":\"0ffa2322-800a-4e81-84b6-601d18b24ebf\",\"attributes\":{\"name\":\"Row00585\",\"stylesheets\":[\"\\n:host(.pn-loading):before, .pn-loading:before {\\n  background-color: #c3c3c3;\\n  mask-size: auto calc(min(50%, 400px));\\n  -webkit-mask-size: auto calc(min(50%, 400px));\\n}\",{\"id\":\"83ab6563-1881-4782-af4f-e39acc54b633\"},{\"id\":\"e0174037-62bc-480f-9de8-c4f41c02d48b\"},{\"id\":\"c8d311da-6bd2-49d8-b403-e5d1ceb61080\"},{\"id\":\"b61afd18-bea1-480a-b225-ea2c7592c36b\"}],\"margin\":0,\"align\":\"start\",\"children\":[{\"type\":\"object\",\"name\":\"panel.models.widgets.TextInput\",\"id\":\"057d73bc-5c25-414e-97e9-d1cd60c2c34f\",\"attributes\":{\"js_property_callbacks\":{\"type\":\"map\",\"entries\":[[\"change:value\",[{\"type\":\"object\",\"name\":\"CustomJS\",\"id\":\"c2e750aa-c56b-4d9b-8cba-65bea0afbd56\",\"attributes\":{\"tags\":[[133558357542464,[null,\"value\"],[null,\"loading\"]]],\"args\":{\"type\":\"map\",\"entries\":[[\"bidirectional\",false],[\"properties\",{\"type\":\"map\",\"entries\":[[\"value\",\"loading\"]]}],[\"source\",{\"id\":\"057d73bc-5c25-414e-97e9-d1cd60c2c34f\"}],[\"target\",{\"type\":\"object\",\"name\":\"panel.models.layout.Column\",\"id\":\"1e4085a8-cc72-41d3-a910-d6d6ce49bd0c\",\"attributes\":{\"name\":\"Column00591\",\"stylesheets\":[\"\\n:host(.pn-loading):before, .pn-loading:before {\\n  background-color: #c3c3c3;\\n  mask-size: auto calc(min(50%, 400px));\\n  -webkit-mask-size: auto calc(min(50%, 400px));\\n}\",{\"id\":\"83ab6563-1881-4782-af4f-e39acc54b633\"},{\"id\":\"e0174037-62bc-480f-9de8-c4f41c02d48b\"},{\"id\":\"c8d311da-6bd2-49d8-b403-e5d1ceb61080\"},{\"id\":\"b61afd18-bea1-480a-b225-ea2c7592c36b\"}],\"height\":300,\"min_height\":300,\"margin\":0,\"align\":\"start\",\"children\":[{\"type\":\"object\",\"name\":\"panel.models.layout.Column\",\"id\":\"f21d86cf-6d70-4e01-93e1-d4b8a4074d5a\",\"attributes\":{\"name\":\"WidgetBox00598\",\"css_classes\":[\"panel-widget-box\",\"scrollable-vertical\"],\"stylesheets\":[\"\\n:host(.pn-loading):before, .pn-loading:before {\\n  background-color: #c3c3c3;\\n  mask-size: auto calc(min(50%, 400px));\\n  -webkit-mask-size: auto calc(min(50%, 400px));\\n}\",{\"id\":\"83ab6563-1881-4782-af4f-e39acc54b633\"},{\"type\":\"object\",\"name\":\"ImportedStyleSheet\",\"id\":\"5e4a5427-383a-4037-833d-f8dc4c831d0b\",\"attributes\":{\"url\":\"https://cdn.holoviz.org/panel/1.5.4/dist/css/widgetbox.css\"}},{\"id\":\"e0174037-62bc-480f-9de8-c4f41c02d48b\"},{\"id\":\"c8d311da-6bd2-49d8-b403-e5d1ceb61080\"},{\"id\":\"b61afd18-bea1-480a-b225-ea2c7592c36b\"}],\"margin\":0,\"align\":\"start\",\"children\":[{\"type\":\"object\",\"name\":\"Row\",\"id\":\"f9ee3c37-59d1-4c2e-9f32-e8d1b56f78c6\",\"attributes\":{\"name\":\"Row00595\",\"stylesheets\":[\"\\n:host(.pn-loading):before, .pn-loading:before {\\n  background-color: #c3c3c3;\\n  mask-size: auto calc(min(50%, 400px));\\n  -webkit-mask-size: auto calc(min(50%, 400px));\\n}\",{\"id\":\"83ab6563-1881-4782-af4f-e39acc54b633\"},{\"id\":\"e0174037-62bc-480f-9de8-c4f41c02d48b\"},{\"id\":\"c8d311da-6bd2-49d8-b403-e5d1ceb61080\"},{\"id\":\"b61afd18-bea1-480a-b225-ea2c7592c36b\"}],\"margin\":0,\"align\":\"start\",\"children\":[{\"type\":\"object\",\"name\":\"panel.models.markup.HTML\",\"id\":\"20006f23-177f-4b54-b740-b4b6ed0435c5\",\"attributes\":{\"css_classes\":[\"markdown\"],\"stylesheets\":[\"\\n:host(.pn-loading):before, .pn-loading:before {\\n  background-color: #c3c3c3;\\n  mask-size: auto calc(min(50%, 400px));\\n  -webkit-mask-size: auto calc(min(50%, 400px));\\n}\",{\"id\":\"83ab6563-1881-4782-af4f-e39acc54b633\"},{\"id\":\"f6a528ca-8a42-43c5-b265-7e06fcaf4fdc\"},{\"id\":\"c8d311da-6bd2-49d8-b403-e5d1ceb61080\"},{\"id\":\"b61afd18-bea1-480a-b225-ea2c7592c36b\"}],\"margin\":[5,10],\"align\":\"start\",\"text\":\"&lt;p&gt;User:&lt;/p&gt;\\n\"}},{\"type\":\"object\",\"name\":\"panel.models.markup.HTML\",\"id\":\"a12ffd55-bfcc-4d27-862e-20298d424f48\",\"attributes\":{\"css_classes\":[\"markdown\"],\"stylesheets\":[\"\\n:host(.pn-loading):before, .pn-loading:before {\\n  background-color: #c3c3c3;\\n  mask-size: auto calc(min(50%, 400px));\\n  -webkit-mask-size: auto calc(min(50%, 400px));\\n}\",{\"id\":\"83ab6563-1881-4782-af4f-e39acc54b633\"},{\"id\":\"f6a528ca-8a42-43c5-b265-7e06fcaf4fdc\"},{\"id\":\"c8d311da-6bd2-49d8-b403-e5d1ceb61080\"},{\"id\":\"b61afd18-bea1-480a-b225-ea2c7592c36b\"}],\"width\":600,\"min_width\":600,\"margin\":[5,10],\"align\":\"start\"}}]}}]}}]}}]]},\"code\":\"\\n    if ('value'.startsWith('event:')) {\\n      var value = true\\n    } else {\\n      var value = source['value'];\\n      value = value;\\n    }\\n    if (typeof value !== 'boolean' || source.labels !== ['Loading']) {\\n      value = true\\n    }\\n    var css_classes = target.css_classes.slice()\\n    var loading_css = ['pn-loading', 'pn-arc']\\n    if (value) {\\n      for (var css of loading_css) {\\n        if (!(css in css_classes)) {\\n          css_classes.push(css)\\n        }\\n      }\\n    } else {\\n     for (var css of loading_css) {\\n        var index = css_classes.indexOf(css)\\n        if (index > -1) {\\n          css_classes.splice(index, 1)\\n        }\\n      }\\n    }\\n    target['css_classes'] = css_classes\\n    \"}}]]]},\"subscribed_events\":{\"type\":\"set\",\"entries\":[\"enter-pressed\"]},\"stylesheets\":[\"\\n:host(.pn-loading):before, .pn-loading:before {\\n  background-color: #c3c3c3;\\n  mask-size: auto calc(min(50%, 400px));\\n  -webkit-mask-size: auto calc(min(50%, 400px));\\n}\",{\"id\":\"83ab6563-1881-4782-af4f-e39acc54b633\"},{\"id\":\"c8d311da-6bd2-49d8-b403-e5d1ceb61080\"},{\"id\":\"b61afd18-bea1-480a-b225-ea2c7592c36b\"}],\"width\":300,\"min_width\":300,\"margin\":[5,10],\"align\":\"start\",\"placeholder\":\"Enter text here\\u2026\",\"max_length\":5000}}]}},{\"type\":\"object\",\"name\":\"Div\",\"id\":\"a18db878-7160-458a-8593-2b7bdbf64ac6\",\"attributes\":{\"name\":\"Divider00586\",\"stylesheets\":[\"\\n:host(.pn-loading):before, .pn-loading:before {\\n  background-color: #c3c3c3;\\n  mask-size: auto calc(min(50%, 400px));\\n  -webkit-mask-size: auto calc(min(50%, 400px));\\n}\",{\"type\":\"object\",\"name\":\"ImportedStyleSheet\",\"id\":\"9c1c68bf-676c-4d26-a506-5d60fec4a90d\",\"attributes\":{\"url\":\"https://cdn.holoviz.org/panel/1.5.4/dist/css/loading.css\"}},{\"type\":\"object\",\"name\":\"ImportedStyleSheet\",\"id\":\"feb8410d-107a-4b33-8ddd-ec28ccf0195b\",\"attributes\":{\"url\":\"https://cdn.holoviz.org/panel/1.5.4/dist/css/divider.css\"}}],\"margin\":0,\"width_policy\":\"fit\",\"align\":\"start\",\"text\":\"<hr>\"}},{\"id\":\"1e4085a8-cc72-41d3-a910-d6d6ce49bd0c\"},{\"type\":\"object\",\"name\":\"Div\",\"id\":\"f43e7b88-3e0d-42e6-bdea-6a86f3ad50c0\",\"attributes\":{\"name\":\"Divider00599\",\"stylesheets\":[\"\\n:host(.pn-loading):before, .pn-loading:before {\\n  background-color: #c3c3c3;\\n  mask-size: auto calc(min(50%, 400px));\\n  -webkit-mask-size: auto calc(min(50%, 400px));\\n}\",{\"type\":\"object\",\"name\":\"ImportedStyleSheet\",\"id\":\"cdbb1a6b-c215-4153-8e08-d5ad896785b1\",\"attributes\":{\"url\":\"https://cdn.holoviz.org/panel/1.5.4/dist/css/loading.css\"}},{\"type\":\"object\",\"name\":\"ImportedStyleSheet\",\"id\":\"494e81a3-a3aa-4095-9406-c9113614e00f\",\"attributes\":{\"url\":\"https://cdn.holoviz.org/panel/1.5.4/dist/css/divider.css\"}}],\"margin\":0,\"width_policy\":\"fit\",\"align\":\"start\",\"text\":\"<hr>\"}}]}}}},{\"type\":\"object\",\"name\":\"TabPanel\",\"id\":\"9b424b87-8868-4e3a-b698-3afd86b5b9fa\",\"attributes\":{\"name\":\"Column00619\",\"title\":\"Database\",\"child\":{\"type\":\"object\",\"name\":\"panel.models.layout.Column\",\"id\":\"03b4f237-d2b1-4397-bc72-240fc3e7154c\",\"attributes\":{\"name\":\"Column00619\",\"stylesheets\":[\"\\n:host(.pn-loading):before, .pn-loading:before {\\n  background-color: #c3c3c3;\\n  mask-size: auto calc(min(50%, 400px));\\n  -webkit-mask-size: auto calc(min(50%, 400px));\\n}\",{\"id\":\"83ab6563-1881-4782-af4f-e39acc54b633\"},{\"id\":\"e0174037-62bc-480f-9de8-c4f41c02d48b\"},{\"id\":\"c8d311da-6bd2-49d8-b403-e5d1ceb61080\"},{\"id\":\"b61afd18-bea1-480a-b225-ea2c7592c36b\"}],\"margin\":0,\"align\":\"start\",\"children\":[{\"type\":\"object\",\"name\":\"panel.models.layout.Column\",\"id\":\"1cdf9b7a-9b67-408d-ab1a-7b86d0ea8a9a\",\"attributes\":{\"name\":\"Column00605\",\"stylesheets\":[\"\\n:host(.pn-loading):before, .pn-loading:before {\\n  background-color: #c3c3c3;\\n  mask-size: auto calc(min(50%, 400px));\\n  -webkit-mask-size: auto calc(min(50%, 400px));\\n}\",{\"id\":\"83ab6563-1881-4782-af4f-e39acc54b633\"},{\"id\":\"e0174037-62bc-480f-9de8-c4f41c02d48b\"},{\"id\":\"c8d311da-6bd2-49d8-b403-e5d1ceb61080\"},{\"id\":\"b61afd18-bea1-480a-b225-ea2c7592c36b\"}],\"margin\":0,\"align\":\"start\",\"children\":[{\"type\":\"object\",\"name\":\"panel.models.layout.Column\",\"id\":\"ac6b4e3a-0109-4a4e-848d-2d31a29010b4\",\"attributes\":{\"name\":\"Column00612\",\"stylesheets\":[\"\\n:host(.pn-loading):before, .pn-loading:before {\\n  background-color: #c3c3c3;\\n  mask-size: auto calc(min(50%, 400px));\\n  -webkit-mask-size: auto calc(min(50%, 400px));\\n}\",{\"id\":\"83ab6563-1881-4782-af4f-e39acc54b633\"},{\"id\":\"e0174037-62bc-480f-9de8-c4f41c02d48b\"},{\"id\":\"c8d311da-6bd2-49d8-b403-e5d1ceb61080\"},{\"id\":\"b61afd18-bea1-480a-b225-ea2c7592c36b\"}],\"margin\":0,\"align\":\"start\",\"children\":[{\"type\":\"object\",\"name\":\"Row\",\"id\":\"51a371aa-b49b-47b2-8fe8-a513a455fcf8\",\"attributes\":{\"name\":\"Row00608\",\"stylesheets\":[\"\\n:host(.pn-loading):before, .pn-loading:before {\\n  background-color: #c3c3c3;\\n  mask-size: auto calc(min(50%, 400px));\\n  -webkit-mask-size: auto calc(min(50%, 400px));\\n}\",{\"id\":\"83ab6563-1881-4782-af4f-e39acc54b633\"},{\"id\":\"e0174037-62bc-480f-9de8-c4f41c02d48b\"},{\"id\":\"c8d311da-6bd2-49d8-b403-e5d1ceb61080\"},{\"id\":\"b61afd18-bea1-480a-b225-ea2c7592c36b\"}],\"margin\":0,\"align\":\"start\",\"children\":[{\"type\":\"object\",\"name\":\"panel.models.markup.HTML\",\"id\":\"1826c462-2a33-456a-a035-52fa53282dcd\",\"attributes\":{\"css_classes\":[\"markdown\"],\"styles\":{\"type\":\"map\",\"entries\":[[\"background-color\",\"#F6F6F6\"]]},\"stylesheets\":[\"\\n:host(.pn-loading):before, .pn-loading:before {\\n  background-color: #c3c3c3;\\n  mask-size: auto calc(min(50%, 400px));\\n  -webkit-mask-size: auto calc(min(50%, 400px));\\n}\",{\"id\":\"83ab6563-1881-4782-af4f-e39acc54b633\"},{\"id\":\"f6a528ca-8a42-43c5-b265-7e06fcaf4fdc\"},{\"id\":\"c8d311da-6bd2-49d8-b403-e5d1ceb61080\"},{\"id\":\"b61afd18-bea1-480a-b225-ea2c7592c36b\"}],\"margin\":[5,10],\"align\":\"start\",\"text\":\"&lt;p&gt;Last question to DB:&lt;/p&gt;\\n\"}}]}},{\"type\":\"object\",\"name\":\"Row\",\"id\":\"1688d56e-be67-4d51-9900-2e0cd8313f73\",\"attributes\":{\"name\":\"Row00611\",\"stylesheets\":[\"\\n:host(.pn-loading):before, .pn-loading:before {\\n  background-color: #c3c3c3;\\n  mask-size: auto calc(min(50%, 400px));\\n  -webkit-mask-size: auto calc(min(50%, 400px));\\n}\",{\"id\":\"83ab6563-1881-4782-af4f-e39acc54b633\"},{\"id\":\"e0174037-62bc-480f-9de8-c4f41c02d48b\"},{\"id\":\"c8d311da-6bd2-49d8-b403-e5d1ceb61080\"},{\"id\":\"b61afd18-bea1-480a-b225-ea2c7592c36b\"}],\"margin\":0,\"align\":\"start\",\"children\":[{\"type\":\"object\",\"name\":\"panel.models.markup.HTML\",\"id\":\"c9ad01df-cb41-4ed8-8e68-536f2dc10bf6\",\"attributes\":{\"stylesheets\":[\"\\n:host(.pn-loading):before, .pn-loading:before {\\n  background-color: #c3c3c3;\\n  mask-size: auto calc(min(50%, 400px));\\n  -webkit-mask-size: auto calc(min(50%, 400px));\\n}\",{\"id\":\"83ab6563-1881-4782-af4f-e39acc54b633\"},{\"id\":\"c8d311da-6bd2-49d8-b403-e5d1ceb61080\"},{\"id\":\"b61afd18-bea1-480a-b225-ea2c7592c36b\"}],\"margin\":[5,10],\"align\":\"start\",\"text\":\"&lt;pre&gt;no DB accesses so far&lt;/pre&gt;\"}}]}}]}}]}},{\"type\":\"object\",\"name\":\"Div\",\"id\":\"fe46bb9a-34b5-4ccb-9303-839767e04d44\",\"attributes\":{\"name\":\"Divider00613\",\"stylesheets\":[\"\\n:host(.pn-loading):before, .pn-loading:before {\\n  background-color: #c3c3c3;\\n  mask-size: auto calc(min(50%, 400px));\\n  -webkit-mask-size: auto calc(min(50%, 400px));\\n}\",{\"type\":\"object\",\"name\":\"ImportedStyleSheet\",\"id\":\"ef15b1d1-72c4-4f77-9e94-0b3681d10a10\",\"attributes\":{\"url\":\"https://cdn.holoviz.org/panel/1.5.4/dist/css/loading.css\"}},{\"type\":\"object\",\"name\":\"ImportedStyleSheet\",\"id\":\"013d1a91-ba7d-42bc-9f95-3d5748116fc1\",\"attributes\":{\"url\":\"https://cdn.holoviz.org/panel/1.5.4/dist/css/divider.css\"}}],\"margin\":0,\"width_policy\":\"fit\",\"align\":\"start\",\"text\":\"<hr>\"}},{\"type\":\"object\",\"name\":\"panel.models.layout.Column\",\"id\":\"cf56d56a-e0fa-4d31-ad7c-ed2deff1ad27\",\"attributes\":{\"name\":\"Column00618\",\"stylesheets\":[\"\\n:host(.pn-loading):before, .pn-loading:before {\\n  background-color: #c3c3c3;\\n  mask-size: auto calc(min(50%, 400px));\\n  -webkit-mask-size: auto calc(min(50%, 400px));\\n}\",{\"id\":\"83ab6563-1881-4782-af4f-e39acc54b633\"},{\"id\":\"e0174037-62bc-480f-9de8-c4f41c02d48b\"},{\"id\":\"c8d311da-6bd2-49d8-b403-e5d1ceb61080\"},{\"id\":\"b61afd18-bea1-480a-b225-ea2c7592c36b\"}],\"margin\":0,\"align\":\"start\",\"children\":[{\"type\":\"object\",\"name\":\"panel.models.markup.HTML\",\"id\":\"570f298c-6bcc-4220-bcfa-e1fbc316af16\",\"attributes\":{\"stylesheets\":[\"\\n:host(.pn-loading):before, .pn-loading:before {\\n  background-color: #c3c3c3;\\n  mask-size: auto calc(min(50%, 400px));\\n  -webkit-mask-size: auto calc(min(50%, 400px));\\n}\",{\"id\":\"83ab6563-1881-4782-af4f-e39acc54b633\"},{\"id\":\"c8d311da-6bd2-49d8-b403-e5d1ceb61080\"},{\"id\":\"b61afd18-bea1-480a-b225-ea2c7592c36b\"}],\"margin\":[5,10],\"align\":\"start\",\"text\":\"&lt;pre&gt; &lt;/pre&gt;\"}}]}}]}}}},{\"type\":\"object\",\"name\":\"TabPanel\",\"id\":\"9ac4d059-86ba-4800-ac4a-71e7972fe09a\",\"attributes\":{\"name\":\"Column00630\",\"title\":\"Chat History\",\"child\":{\"type\":\"object\",\"name\":\"panel.models.layout.Column\",\"id\":\"8605f6b8-3105-41a0-8006-5dcdef009fa1\",\"attributes\":{\"name\":\"Column00630\",\"stylesheets\":[\"\\n:host(.pn-loading):before, .pn-loading:before {\\n  background-color: #c3c3c3;\\n  mask-size: auto calc(min(50%, 400px));\\n  -webkit-mask-size: auto calc(min(50%, 400px));\\n}\",{\"id\":\"83ab6563-1881-4782-af4f-e39acc54b633\"},{\"id\":\"e0174037-62bc-480f-9de8-c4f41c02d48b\"},{\"id\":\"c8d311da-6bd2-49d8-b403-e5d1ceb61080\"},{\"id\":\"b61afd18-bea1-480a-b225-ea2c7592c36b\"}],\"margin\":0,\"align\":\"start\",\"children\":[{\"type\":\"object\",\"name\":\"panel.models.layout.Column\",\"id\":\"7a8de166-fd27-44ad-8469-fd2d6523298c\",\"attributes\":{\"name\":\"Column00624\",\"stylesheets\":[\"\\n:host(.pn-loading):before, .pn-loading:before {\\n  background-color: #c3c3c3;\\n  mask-size: auto calc(min(50%, 400px));\\n  -webkit-mask-size: auto calc(min(50%, 400px));\\n}\",{\"id\":\"83ab6563-1881-4782-af4f-e39acc54b633\"},{\"id\":\"e0174037-62bc-480f-9de8-c4f41c02d48b\"},{\"id\":\"c8d311da-6bd2-49d8-b403-e5d1ceb61080\"},{\"id\":\"b61afd18-bea1-480a-b225-ea2c7592c36b\"}],\"margin\":0,\"align\":\"start\",\"children\":[{\"type\":\"object\",\"name\":\"panel.models.layout.Column\",\"id\":\"042a8ef2-495a-45ff-8e08-10cdcb676aa4\",\"attributes\":{\"name\":\"WidgetBox00628\",\"css_classes\":[\"panel-widget-box\",\"scrollable-vertical\"],\"stylesheets\":[\"\\n:host(.pn-loading):before, .pn-loading:before {\\n  background-color: #c3c3c3;\\n  mask-size: auto calc(min(50%, 400px));\\n  -webkit-mask-size: auto calc(min(50%, 400px));\\n}\",{\"id\":\"83ab6563-1881-4782-af4f-e39acc54b633\"},{\"id\":\"5e4a5427-383a-4037-833d-f8dc4c831d0b\"},{\"id\":\"e0174037-62bc-480f-9de8-c4f41c02d48b\"},{\"id\":\"c8d311da-6bd2-49d8-b403-e5d1ceb61080\"},{\"id\":\"b61afd18-bea1-480a-b225-ea2c7592c36b\"}],\"width\":600,\"min_width\":600,\"margin\":0,\"align\":\"start\",\"children\":[{\"type\":\"object\",\"name\":\"Row\",\"id\":\"806cb728-2494-4930-b58a-4d157b73e359\",\"attributes\":{\"name\":\"Row00627\",\"stylesheets\":[\"\\n:host(.pn-loading):before, .pn-loading:before {\\n  background-color: #c3c3c3;\\n  mask-size: auto calc(min(50%, 400px));\\n  -webkit-mask-size: auto calc(min(50%, 400px));\\n}\",{\"id\":\"83ab6563-1881-4782-af4f-e39acc54b633\"},{\"id\":\"e0174037-62bc-480f-9de8-c4f41c02d48b\"},{\"id\":\"c8d311da-6bd2-49d8-b403-e5d1ceb61080\"},{\"id\":\"b61afd18-bea1-480a-b225-ea2c7592c36b\"}],\"margin\":0,\"align\":\"start\",\"children\":[{\"type\":\"object\",\"name\":\"panel.models.markup.HTML\",\"id\":\"fc10877f-9002-403c-adf0-18cf8222ac77\",\"attributes\":{\"stylesheets\":[\"\\n:host(.pn-loading):before, .pn-loading:before {\\n  background-color: #c3c3c3;\\n  mask-size: auto calc(min(50%, 400px));\\n  -webkit-mask-size: auto calc(min(50%, 400px));\\n}\",{\"id\":\"83ab6563-1881-4782-af4f-e39acc54b633\"},{\"id\":\"c8d311da-6bd2-49d8-b403-e5d1ceb61080\"},{\"id\":\"b61afd18-bea1-480a-b225-ea2c7592c36b\"}],\"margin\":[5,10],\"align\":\"start\",\"text\":\"&lt;pre&gt;No History Yet&lt;/pre&gt;\"}}]}}]}}]}},{\"type\":\"object\",\"name\":\"Div\",\"id\":\"7477a590-9fed-4773-b116-8f42d44d1d66\",\"attributes\":{\"name\":\"Divider00629\",\"stylesheets\":[\"\\n:host(.pn-loading):before, .pn-loading:before {\\n  background-color: #c3c3c3;\\n  mask-size: auto calc(min(50%, 400px));\\n  -webkit-mask-size: auto calc(min(50%, 400px));\\n}\",{\"type\":\"object\",\"name\":\"ImportedStyleSheet\",\"id\":\"5e929a57-6b3e-4e8a-bf34-9815e1ddc638\",\"attributes\":{\"url\":\"https://cdn.holoviz.org/panel/1.5.4/dist/css/loading.css\"}},{\"type\":\"object\",\"name\":\"ImportedStyleSheet\",\"id\":\"063239a7-c922-4a4d-b1c3-29f7f9c1b651\",\"attributes\":{\"url\":\"https://cdn.holoviz.org/panel/1.5.4/dist/css/divider.css\"}}],\"margin\":0,\"width_policy\":\"fit\",\"align\":\"start\",\"text\":\"<hr>\"}}]}}}},{\"type\":\"object\",\"name\":\"TabPanel\",\"id\":\"020341c9-5f8c-4c22-8af3-13d393168eb9\",\"attributes\":{\"name\":\"Column00646\",\"title\":\"Configure\",\"child\":{\"type\":\"object\",\"name\":\"panel.models.layout.Column\",\"id\":\"cc7d9dd6-3092-43e3-ba1f-6269026f201e\",\"attributes\":{\"name\":\"Column00646\",\"stylesheets\":[\"\\n:host(.pn-loading):before, .pn-loading:before {\\n  background-color: #c3c3c3;\\n  mask-size: auto calc(min(50%, 400px));\\n  -webkit-mask-size: auto calc(min(50%, 400px));\\n}\",{\"id\":\"83ab6563-1881-4782-af4f-e39acc54b633\"},{\"id\":\"e0174037-62bc-480f-9de8-c4f41c02d48b\"},{\"id\":\"c8d311da-6bd2-49d8-b403-e5d1ceb61080\"},{\"id\":\"b61afd18-bea1-480a-b225-ea2c7592c36b\"}],\"margin\":0,\"align\":\"start\",\"children\":[{\"type\":\"object\",\"name\":\"Row\",\"id\":\"994ca731-eff0-4951-9917-9989d600cf57\",\"attributes\":{\"name\":\"Row00631\",\"stylesheets\":[\"\\n:host(.pn-loading):before, .pn-loading:before {\\n  background-color: #c3c3c3;\\n  mask-size: auto calc(min(50%, 400px));\\n  -webkit-mask-size: auto calc(min(50%, 400px));\\n}\",{\"id\":\"83ab6563-1881-4782-af4f-e39acc54b633\"},{\"id\":\"e0174037-62bc-480f-9de8-c4f41c02d48b\"},{\"id\":\"c8d311da-6bd2-49d8-b403-e5d1ceb61080\"},{\"id\":\"b61afd18-bea1-480a-b225-ea2c7592c36b\"}],\"margin\":0,\"align\":\"start\",\"children\":[{\"type\":\"object\",\"name\":\"FileInput\",\"id\":\"c9d66dea-8bf2-4444-9b40-9a5fa016ea03\",\"attributes\":{\"stylesheets\":[\"\\n:host(.pn-loading):before, .pn-loading:before {\\n  background-color: #c3c3c3;\\n  mask-size: auto calc(min(50%, 400px));\\n  -webkit-mask-size: auto calc(min(50%, 400px));\\n}\",{\"id\":\"83ab6563-1881-4782-af4f-e39acc54b633\"},{\"id\":\"c8d311da-6bd2-49d8-b403-e5d1ceb61080\"},{\"id\":\"b61afd18-bea1-480a-b225-ea2c7592c36b\"}],\"margin\":[5,10],\"align\":\"start\",\"accept\":\".pdf\"}},{\"type\":\"object\",\"name\":\"panel.models.widgets.Button\",\"id\":\"e4a6bbe7-f49d-4bc4-9ed7-5c31a3f1723a\",\"attributes\":{\"button_type\":\"primary\",\"subscribed_events\":{\"type\":\"set\",\"entries\":[\"button_click\"]},\"css_classes\":[\"solid\"],\"stylesheets\":[\"\\n:host(.pn-loading):before, .pn-loading:before {\\n  background-color: #c3c3c3;\\n  mask-size: auto calc(min(50%, 400px));\\n  -webkit-mask-size: auto calc(min(50%, 400px));\\n}\",{\"id\":\"83ab6563-1881-4782-af4f-e39acc54b633\"},{\"type\":\"object\",\"name\":\"ImportedStyleSheet\",\"id\":\"0c24a1ae-1b8a-4396-9307-91fa532761b5\",\"attributes\":{\"url\":\"https://cdn.holoviz.org/panel/1.5.4/dist/css/button.css\"}},{\"id\":\"c8d311da-6bd2-49d8-b403-e5d1ceb61080\"},{\"id\":\"b61afd18-bea1-480a-b225-ea2c7592c36b\"}],\"margin\":[5,10],\"align\":\"start\",\"label\":\"Load DB\"}},{\"type\":\"object\",\"name\":\"panel.models.layout.Column\",\"id\":\"ea23e689-1172-44eb-90f4-987ddb1d55ea\",\"attributes\":{\"name\":\"Column00635\",\"stylesheets\":[\"\\n:host(.pn-loading):before, .pn-loading:before {\\n  background-color: #c3c3c3;\\n  mask-size: auto calc(min(50%, 400px));\\n  -webkit-mask-size: auto calc(min(50%, 400px));\\n}\",{\"id\":\"83ab6563-1881-4782-af4f-e39acc54b633\"},{\"id\":\"e0174037-62bc-480f-9de8-c4f41c02d48b\"},{\"id\":\"c8d311da-6bd2-49d8-b403-e5d1ceb61080\"},{\"id\":\"b61afd18-bea1-480a-b225-ea2c7592c36b\"}],\"margin\":0,\"align\":\"start\",\"children\":[{\"type\":\"object\",\"name\":\"panel.models.markup.HTML\",\"id\":\"97150a4c-d72c-4ee1-94db-703125e1cbb7\",\"attributes\":{\"css_classes\":[\"markdown\"],\"stylesheets\":[\"\\n:host(.pn-loading):before, .pn-loading:before {\\n  background-color: #c3c3c3;\\n  mask-size: auto calc(min(50%, 400px));\\n  -webkit-mask-size: auto calc(min(50%, 400px));\\n}\",{\"id\":\"83ab6563-1881-4782-af4f-e39acc54b633\"},{\"id\":\"f6a528ca-8a42-43c5-b265-7e06fcaf4fdc\"},{\"id\":\"c8d311da-6bd2-49d8-b403-e5d1ceb61080\"},{\"id\":\"b61afd18-bea1-480a-b225-ea2c7592c36b\"}],\"margin\":[5,10],\"align\":\"start\",\"text\":\"&lt;p&gt;Loaded File: /content/Our_Research (4).pdf&lt;/p&gt;\\n\"}}]}}]}},{\"type\":\"object\",\"name\":\"Row\",\"id\":\"1824d9e9-8a7d-4379-a5db-62e392667fc4\",\"attributes\":{\"name\":\"Row00641\",\"stylesheets\":[\"\\n:host(.pn-loading):before, .pn-loading:before {\\n  background-color: #c3c3c3;\\n  mask-size: auto calc(min(50%, 400px));\\n  -webkit-mask-size: auto calc(min(50%, 400px));\\n}\",{\"id\":\"83ab6563-1881-4782-af4f-e39acc54b633\"},{\"id\":\"e0174037-62bc-480f-9de8-c4f41c02d48b\"},{\"id\":\"c8d311da-6bd2-49d8-b403-e5d1ceb61080\"},{\"id\":\"b61afd18-bea1-480a-b225-ea2c7592c36b\"}],\"margin\":0,\"align\":\"start\",\"children\":[{\"type\":\"object\",\"name\":\"panel.models.widgets.Button\",\"id\":\"cb2802f4-20f2-446f-b444-164f36da1ac3\",\"attributes\":{\"button_type\":\"warning\",\"subscribed_events\":{\"type\":\"set\",\"entries\":[\"button_click\"]},\"css_classes\":[\"solid\"],\"stylesheets\":[\"\\n:host(.pn-loading):before, .pn-loading:before {\\n  background-color: #c3c3c3;\\n  mask-size: auto calc(min(50%, 400px));\\n  -webkit-mask-size: auto calc(min(50%, 400px));\\n}\",{\"id\":\"83ab6563-1881-4782-af4f-e39acc54b633\"},{\"id\":\"0c24a1ae-1b8a-4396-9307-91fa532761b5\"},{\"id\":\"c8d311da-6bd2-49d8-b403-e5d1ceb61080\"},{\"id\":\"b61afd18-bea1-480a-b225-ea2c7592c36b\"}],\"margin\":[5,10],\"align\":\"start\",\"label\":\"Clear History\"}},{\"type\":\"object\",\"name\":\"panel.models.markup.HTML\",\"id\":\"e4e23cdb-8453-41fd-993b-1409e33c2558\",\"attributes\":{\"css_classes\":[\"markdown\"],\"stylesheets\":[\"\\n:host(.pn-loading):before, .pn-loading:before {\\n  background-color: #c3c3c3;\\n  mask-size: auto calc(min(50%, 400px));\\n  -webkit-mask-size: auto calc(min(50%, 400px));\\n}\",{\"id\":\"83ab6563-1881-4782-af4f-e39acc54b633\"},{\"id\":\"f6a528ca-8a42-43c5-b265-7e06fcaf4fdc\"},{\"id\":\"c8d311da-6bd2-49d8-b403-e5d1ceb61080\"},{\"id\":\"b61afd18-bea1-480a-b225-ea2c7592c36b\"}],\"margin\":[5,10],\"align\":\"start\",\"text\":\"&lt;p&gt;Clears chat history. Can use to start a new topic&lt;/p&gt;\\n\"}}]}},{\"type\":\"object\",\"name\":\"Div\",\"id\":\"cbad9b87-69b3-4c05-a50c-4b4dd50ea82c\",\"attributes\":{\"name\":\"Divider00642\",\"stylesheets\":[\"\\n:host(.pn-loading):before, .pn-loading:before {\\n  background-color: #c3c3c3;\\n  mask-size: auto calc(min(50%, 400px));\\n  -webkit-mask-size: auto calc(min(50%, 400px));\\n}\",{\"type\":\"object\",\"name\":\"ImportedStyleSheet\",\"id\":\"4ca36368-591b-43e2-b159-1c3916d64e1e\",\"attributes\":{\"url\":\"https://cdn.holoviz.org/panel/1.5.4/dist/css/loading.css\"}},{\"type\":\"object\",\"name\":\"ImportedStyleSheet\",\"id\":\"73084006-0dc8-4be3-88f5-6fdcd898654d\",\"attributes\":{\"url\":\"https://cdn.holoviz.org/panel/1.5.4/dist/css/divider.css\"}}],\"margin\":0,\"width_policy\":\"fit\",\"align\":\"start\",\"text\":\"<hr>\"}},{\"type\":\"object\",\"name\":\"Row\",\"id\":\"52cb961b-4ab9-429c-b82c-9abfceb588db\",\"attributes\":{\"name\":\"Row00645\",\"stylesheets\":[\"\\n:host(.pn-loading):before, .pn-loading:before {\\n  background-color: #c3c3c3;\\n  mask-size: auto calc(min(50%, 400px));\\n  -webkit-mask-size: auto calc(min(50%, 400px));\\n}\",{\"id\":\"83ab6563-1881-4782-af4f-e39acc54b633\"},{\"id\":\"e0174037-62bc-480f-9de8-c4f41c02d48b\"},{\"id\":\"c8d311da-6bd2-49d8-b403-e5d1ceb61080\"},{\"id\":\"b61afd18-bea1-480a-b225-ea2c7592c36b\"}],\"margin\":0,\"align\":\"start\",\"children\":[{\"type\":\"object\",\"name\":\"panel.models.markup.HTML\",\"id\":\"2e3cb6d0-20de-42b9-ae6c-653ab1cb317c\",\"attributes\":{\"stylesheets\":[\"\\n:host(.pn-loading):before, .pn-loading:before {\\n  background-color: #c3c3c3;\\n  mask-size: auto calc(min(50%, 400px));\\n  -webkit-mask-size: auto calc(min(50%, 400px));\\n}\",{\"id\":\"83ab6563-1881-4782-af4f-e39acc54b633\"},{\"id\":\"c8d311da-6bd2-49d8-b403-e5d1ceb61080\"},{\"id\":\"b61afd18-bea1-480a-b225-ea2c7592c36b\"}],\"width\":400,\"min_width\":400,\"margin\":[5,10],\"align\":\"start\",\"text\":\"&lt;img src=&quot;./img/convchain.jpg&quot;  style=&quot;max-width: 100%; max-height: 100%; object-fit: contain; width: 400px; height: auto;&quot;&gt;&lt;/img&gt;\"}}]}}]}}}}]}}]}},{\"type\":\"object\",\"name\":\"panel.models.comm_manager.CommManager\",\"id\":\"f8df0961-6752-4460-8c38-8330a4bd9b2d\",\"attributes\":{\"plot_id\":\"6de146e5-8c0a-47fe-9423-5acfd40fe77b\",\"comm_id\":\"ba1c934294064e3db65b062e234a7b42\",\"client_comm_id\":\"0d3b7bcbe10241a38777b99e19552107\"}}],\"defs\":[{\"type\":\"model\",\"name\":\"ReactiveHTML1\"},{\"type\":\"model\",\"name\":\"FlexBox1\",\"properties\":[{\"name\":\"align_content\",\"kind\":\"Any\",\"default\":\"flex-start\"},{\"name\":\"align_items\",\"kind\":\"Any\",\"default\":\"flex-start\"},{\"name\":\"flex_direction\",\"kind\":\"Any\",\"default\":\"row\"},{\"name\":\"flex_wrap\",\"kind\":\"Any\",\"default\":\"wrap\"},{\"name\":\"gap\",\"kind\":\"Any\",\"default\":\"\"},{\"name\":\"justify_content\",\"kind\":\"Any\",\"default\":\"flex-start\"}]},{\"type\":\"model\",\"name\":\"FloatPanel1\",\"properties\":[{\"name\":\"config\",\"kind\":\"Any\",\"default\":{\"type\":\"map\"}},{\"name\":\"contained\",\"kind\":\"Any\",\"default\":true},{\"name\":\"position\",\"kind\":\"Any\",\"default\":\"right-top\"},{\"name\":\"offsetx\",\"kind\":\"Any\",\"default\":null},{\"name\":\"offsety\",\"kind\":\"Any\",\"default\":null},{\"name\":\"theme\",\"kind\":\"Any\",\"default\":\"primary\"},{\"name\":\"status\",\"kind\":\"Any\",\"default\":\"normalized\"}]},{\"type\":\"model\",\"name\":\"GridStack1\",\"properties\":[{\"name\":\"mode\",\"kind\":\"Any\",\"default\":\"warn\"},{\"name\":\"ncols\",\"kind\":\"Any\",\"default\":null},{\"name\":\"nrows\",\"kind\":\"Any\",\"default\":null},{\"name\":\"allow_resize\",\"kind\":\"Any\",\"default\":true},{\"name\":\"allow_drag\",\"kind\":\"Any\",\"default\":true},{\"name\":\"state\",\"kind\":\"Any\",\"default\":[]}]},{\"type\":\"model\",\"name\":\"drag1\",\"properties\":[{\"name\":\"slider_width\",\"kind\":\"Any\",\"default\":5},{\"name\":\"slider_color\",\"kind\":\"Any\",\"default\":\"black\"},{\"name\":\"value\",\"kind\":\"Any\",\"default\":50}]},{\"type\":\"model\",\"name\":\"click1\",\"properties\":[{\"name\":\"terminal_output\",\"kind\":\"Any\",\"default\":\"\"},{\"name\":\"debug_name\",\"kind\":\"Any\",\"default\":\"\"},{\"name\":\"clears\",\"kind\":\"Any\",\"default\":0}]},{\"type\":\"model\",\"name\":\"FastWrapper1\",\"properties\":[{\"name\":\"object\",\"kind\":\"Any\",\"default\":null},{\"name\":\"style\",\"kind\":\"Any\",\"default\":null}]},{\"type\":\"model\",\"name\":\"NotificationAreaBase1\",\"properties\":[{\"name\":\"js_events\",\"kind\":\"Any\",\"default\":{\"type\":\"map\"}},{\"name\":\"position\",\"kind\":\"Any\",\"default\":\"bottom-right\"},{\"name\":\"_clear\",\"kind\":\"Any\",\"default\":0}]},{\"type\":\"model\",\"name\":\"NotificationArea1\",\"properties\":[{\"name\":\"js_events\",\"kind\":\"Any\",\"default\":{\"type\":\"map\"}},{\"name\":\"notifications\",\"kind\":\"Any\",\"default\":[]},{\"name\":\"position\",\"kind\":\"Any\",\"default\":\"bottom-right\"},{\"name\":\"_clear\",\"kind\":\"Any\",\"default\":0},{\"name\":\"types\",\"kind\":\"Any\",\"default\":[{\"type\":\"map\",\"entries\":[[\"type\",\"warning\"],[\"background\",\"#ffc107\"],[\"icon\",{\"type\":\"map\",\"entries\":[[\"className\",\"fas fa-exclamation-triangle\"],[\"tagName\",\"i\"],[\"color\",\"white\"]]}]]},{\"type\":\"map\",\"entries\":[[\"type\",\"info\"],[\"background\",\"#007bff\"],[\"icon\",{\"type\":\"map\",\"entries\":[[\"className\",\"fas fa-info-circle\"],[\"tagName\",\"i\"],[\"color\",\"white\"]]}]]}]}]},{\"type\":\"model\",\"name\":\"Notification\",\"properties\":[{\"name\":\"background\",\"kind\":\"Any\",\"default\":null},{\"name\":\"duration\",\"kind\":\"Any\",\"default\":3000},{\"name\":\"icon\",\"kind\":\"Any\",\"default\":null},{\"name\":\"message\",\"kind\":\"Any\",\"default\":\"\"},{\"name\":\"notification_type\",\"kind\":\"Any\",\"default\":null},{\"name\":\"_destroyed\",\"kind\":\"Any\",\"default\":false}]},{\"type\":\"model\",\"name\":\"TemplateActions1\",\"properties\":[{\"name\":\"open_modal\",\"kind\":\"Any\",\"default\":0},{\"name\":\"close_modal\",\"kind\":\"Any\",\"default\":0}]},{\"type\":\"model\",\"name\":\"BootstrapTemplateActions1\",\"properties\":[{\"name\":\"open_modal\",\"kind\":\"Any\",\"default\":0},{\"name\":\"close_modal\",\"kind\":\"Any\",\"default\":0}]},{\"type\":\"model\",\"name\":\"TemplateEditor1\",\"properties\":[{\"name\":\"layout\",\"kind\":\"Any\",\"default\":[]}]},{\"type\":\"model\",\"name\":\"MaterialTemplateActions1\",\"properties\":[{\"name\":\"open_modal\",\"kind\":\"Any\",\"default\":0},{\"name\":\"close_modal\",\"kind\":\"Any\",\"default\":0}]},{\"type\":\"model\",\"name\":\"ReactiveESM1\",\"properties\":[{\"name\":\"esm_constants\",\"kind\":\"Any\",\"default\":{\"type\":\"map\"}}]},{\"type\":\"model\",\"name\":\"JSComponent1\",\"properties\":[{\"name\":\"esm_constants\",\"kind\":\"Any\",\"default\":{\"type\":\"map\"}}]},{\"type\":\"model\",\"name\":\"ReactComponent1\",\"properties\":[{\"name\":\"esm_constants\",\"kind\":\"Any\",\"default\":{\"type\":\"map\"}}]},{\"type\":\"model\",\"name\":\"AnyWidgetComponent1\",\"properties\":[{\"name\":\"esm_constants\",\"kind\":\"Any\",\"default\":{\"type\":\"map\"}}]},{\"type\":\"model\",\"name\":\"request_value1\",\"properties\":[{\"name\":\"fill\",\"kind\":\"Any\",\"default\":\"none\"},{\"name\":\"_synced\",\"kind\":\"Any\",\"default\":null},{\"name\":\"_request_sync\",\"kind\":\"Any\",\"default\":0}]}]}};\n",
              "  var render_items = [{\"docid\":\"086020a5-a287-4ff1-8c2a-d2995b39d527\",\"roots\":{\"6de146e5-8c0a-47fe-9423-5acfd40fe77b\":\"f992d342-cccd-4fa1-90f4-9b3fdf0b2e72\"},\"root_ids\":[\"6de146e5-8c0a-47fe-9423-5acfd40fe77b\"]}];\n",
              "  var docs = Object.values(docs_json)\n",
              "  if (!docs) {\n",
              "    return\n",
              "  }\n",
              "  const py_version = docs[0].version.replace('rc', '-rc.').replace('.dev', '-dev.')\n",
              "  async function embed_document(root) {\n",
              "    var Bokeh = get_bokeh(root)\n",
              "    await Bokeh.embed.embed_items_notebook(docs_json, render_items);\n",
              "    for (const render_item of render_items) {\n",
              "      for (const root_id of render_item.root_ids) {\n",
              "\tconst id_el = document.getElementById(root_id)\n",
              "\tif (id_el.children.length && id_el.children[0].hasAttribute('data-root-id')) {\n",
              "\t  const root_el = id_el.children[0]\n",
              "\t  root_el.id = root_el.id + '-rendered'\n",
              "\t  for (const child of root_el.children) {\n",
              "            // Ensure JupyterLab does not capture keyboard shortcuts\n",
              "            // see: https://jupyterlab.readthedocs.io/en/4.1.x/extension/notebook.html#keyboard-interaction-model\n",
              "\t    child.setAttribute('data-lm-suppress-shortcuts', 'true')\n",
              "\t  }\n",
              "\t}\n",
              "      }\n",
              "    }\n",
              "  }\n",
              "  function get_bokeh(root) {\n",
              "    if (root.Bokeh === undefined) {\n",
              "      return null\n",
              "    } else if (root.Bokeh.version !== py_version) {\n",
              "      if (root.Bokeh.versions === undefined || !root.Bokeh.versions.has(py_version)) {\n",
              "\treturn null\n",
              "      }\n",
              "      return root.Bokeh.versions.get(py_version);\n",
              "    } else if (root.Bokeh.version === py_version) {\n",
              "      return root.Bokeh\n",
              "    }\n",
              "    return null\n",
              "  }\n",
              "  function is_loaded(root) {\n",
              "    var Bokeh = get_bokeh(root)\n",
              "    return (Bokeh != null && Bokeh.Panel !== undefined)\n",
              "  }\n",
              "  if (is_loaded(root)) {\n",
              "    embed_document(root);\n",
              "  } else {\n",
              "    var attempts = 0;\n",
              "    var timer = setInterval(function(root) {\n",
              "      if (is_loaded(root)) {\n",
              "        clearInterval(timer);\n",
              "        embed_document(root);\n",
              "      } else if (document.readyState == \"complete\") {\n",
              "        attempts++;\n",
              "        if (attempts > 200) {\n",
              "          clearInterval(timer);\n",
              "\t  var Bokeh = get_bokeh(root)\n",
              "\t  if (Bokeh == null || Bokeh.Panel == null) {\n",
              "            console.warn(\"Panel: ERROR: Unable to run Panel code because Bokeh or Panel library is missing\");\n",
              "\t  } else {\n",
              "\t    console.warn(\"Panel: WARNING: Attempting to render but not all required libraries could be resolved.\")\n",
              "\t    embed_document(root)\n",
              "\t  }\n",
              "        }\n",
              "      }\n",
              "    }, 25, root)\n",
              "  }\n",
              "})(window);</script>"
            ],
            "application/vnd.holoviews_exec.v0+json": "",
            "text/plain": [
              "Column\n",
              "    [0] Row\n",
              "        [0] Markdown(str)\n",
              "    [1] Tabs\n",
              "        [0] Column\n",
              "            [0] Row\n",
              "                [0] TextInput(placeholder='Enter text here…')\n",
              "            [1] Divider()\n",
              "            [2] ParamFunction(function, _pane=WidgetBox, defer_load=False, height=300, loading_indicator=True)\n",
              "            [3] Divider()\n",
              "        [1] Column\n",
              "            [0] ParamMethod(method, _pane=Column, defer_load=False)\n",
              "            [1] Divider()\n",
              "            [2] ParamMethod(method, _pane=Str, defer_load=False)\n",
              "        [2] Column\n",
              "            [0] ParamMethod(method, _pane=WidgetBox, defer_load=False)\n",
              "            [1] Divider()\n",
              "        [3] Column\n",
              "            [0] Row\n",
              "                [0] FileInput(accept='.pdf')\n",
              "                [1] Button(button_type='primary', name='Load DB')\n",
              "                [2] ParamFunction(function, _pane=Markdown, defer_load=False)\n",
              "            [1] Row\n",
              "                [0] Button(button_type='warning', name='Clear History')\n",
              "                [1] Markdown(str)\n",
              "            [2] Divider()\n",
              "            [3] Row\n",
              "                [0] Image(str, width=400)"
            ]
          },
          "metadata": {
            "application/vnd.holoviews_exec.v0+json": {
              "id": "6de146e5-8c0a-47fe-9423-5acfd40fe77b"
            }
          },
          "execution_count": 216
        },
        {
          "output_type": "stream",
          "name": "stdout",
          "text": [
            "2024-12-01 20:59:05,440 ERROR: panel.reactive - Callback failed for object named '' changing property {'value': 'what is the search about'} \n",
            "Traceback (most recent call last):\n",
            "  File \"/usr/local/lib/python3.10/dist-packages/panel/reactive.py\", line 461, in _process_events\n",
            "    self.param.update(**self_params)\n",
            "  File \"/usr/local/lib/python3.10/dist-packages/param/parameterized.py\", line 2319, in update\n",
            "    restore = dict(self_._update(arg, **kwargs))\n",
            "  File \"/usr/local/lib/python3.10/dist-packages/param/parameterized.py\", line 2352, in _update\n",
            "    self_._batch_call_watchers()\n",
            "  File \"/usr/local/lib/python3.10/dist-packages/param/parameterized.py\", line 2546, in _batch_call_watchers\n",
            "    self_._execute_watcher(watcher, events)\n",
            "  File \"/usr/local/lib/python3.10/dist-packages/param/parameterized.py\", line 2506, in _execute_watcher\n",
            "    watcher.fn(*args, **kwargs)\n",
            "  File \"/usr/local/lib/python3.10/dist-packages/panel/param.py\", line 891, in _replace_pane\n",
            "    new_object = self.eval(self.object)\n",
            "  File \"/usr/local/lib/python3.10/dist-packages/panel/param.py\", line 1106, in eval\n",
            "    return eval_function_with_deps(ref)\n",
            "  File \"/usr/local/lib/python3.10/dist-packages/param/parameterized.py\", line 165, in eval_function_with_deps\n",
            "    return function(*args, **kwargs)\n",
            "  File \"/usr/local/lib/python3.10/dist-packages/param/depends.py\", line 53, in _depends\n",
            "    return func(*args, **kw)\n",
            "  File \"/usr/local/lib/python3.10/dist-packages/param/reactive.py\", line 594, in wrapped\n",
            "    return eval_fn()(*combined_args, **combined_kwargs)\n",
            "  File \"<ipython-input-215-d4028d5aab2c>\", line 38, in convchain\n",
            "    pn.Row('ChatBot:', pn.pane.Markdown(self.answer, width=600, style={'background-color': '#F6F6F6'}))\n",
            "  File \"/usr/local/lib/python3.10/dist-packages/panel/pane/base.py\", line 310, in __init__\n",
            "    super().__init__(object=object, **params)\n",
            "  File \"/usr/local/lib/python3.10/dist-packages/panel/pane/base.py\", line 154, in __init__\n",
            "    super().__init__(object=object, **params)\n",
            "  File \"/usr/local/lib/python3.10/dist-packages/panel/reactive.py\", line 634, in __init__\n",
            "    super().__init__(**params)\n",
            "  File \"/usr/local/lib/python3.10/dist-packages/panel/reactive.py\", line 124, in __init__\n",
            "    super().__init__(**params)\n",
            "  File \"/usr/local/lib/python3.10/dist-packages/panel/viewable.py\", line 704, in __init__\n",
            "    super().__init__(**params)\n",
            "  File \"/usr/local/lib/python3.10/dist-packages/panel/viewable.py\", line 543, in __init__\n",
            "    super().__init__(**params)\n",
            "  File \"/usr/local/lib/python3.10/dist-packages/panel/viewable.py\", line 302, in __init__\n",
            "    super().__init__(**params)\n",
            "  File \"/usr/local/lib/python3.10/dist-packages/param/parameterized.py\", line 4188, in __init__\n",
            "    refs, deps = self.param._setup_params(**params)\n",
            "  File \"/usr/local/lib/python3.10/dist-packages/param/parameterized.py\", line 1686, in override_initialization\n",
            "    ret = fn(self_, *args, **kw)\n",
            "  File \"/usr/local/lib/python3.10/dist-packages/param/parameterized.py\", line 1939, in _setup_params\n",
            "    raise TypeError(\n",
            "TypeError: Markdown.__init__() got an unexpected keyword argument 'style'\n"
          ]
        }
      ]
    },
    {
      "cell_type": "code",
      "source": [],
      "metadata": {
        "id": "vuvnNuU7-4Mu"
      },
      "execution_count": null,
      "outputs": []
    }
  ]
}